{
 "cells": [
  {
   "cell_type": "code",
   "execution_count": 1,
   "metadata": {},
   "outputs": [
    {
     "name": "stdout",
     "output_type": "stream",
     "text": [
      "Jupyter environment detected. Enabling Open3D WebVisualizer.\n",
      "[Open3D INFO] WebRTC GUI backend enabled.\n",
      "[Open3D INFO] WebRTCWindowSystem: HTTP handshake server disabled.\n"
     ]
    }
   ],
   "source": [
    "import carla\n",
    "import random\n",
    "import cv2\n",
    "import numpy as np\n",
    "import open3d as o3d\n",
    "import matplotlib as plt\n",
    "from matplotlib import cm\n",
    "import math\n",
    "import time\n",
    "from ultralytics import YOLO\n",
    "import torch\n",
    "import tensorflow as tf\n",
    "import tensorflow_hub as hub\n",
    "import seaborn as sns"
   ]
  },
  {
   "cell_type": "code",
   "execution_count": 2,
   "metadata": {},
   "outputs": [],
   "source": [
    "#Connect to client\n",
    "client = carla.Client('localhost', 2000)\n",
    "client.set_timeout(10.0)"
   ]
  },
  {
   "cell_type": "code",
   "execution_count": 3,
   "metadata": {},
   "outputs": [],
   "source": [
    "#load world\n",
    "world = client.load_world('Town05')"
   ]
  },
  {
   "cell_type": "code",
   "execution_count": 4,
   "metadata": {},
   "outputs": [
    {
     "name": "stderr",
     "output_type": "stream",
     "text": [
      "Using cache found in C:\\Users\\Oz/.cache\\torch\\hub\\ultralytics_yolov5_master\n",
      "YOLOv5  2024-11-17 Python-3.8.10 torch-2.4.1+cpu CPU\n",
      "\n",
      "Fusing layers... \n",
      "YOLOv5s summary: 213 layers, 7225885 parameters, 0 gradients, 16.4 GFLOPs\n",
      "Adding AutoShape... \n"
     ]
    }
   ],
   "source": [
    "# Initialize YOLO model\n",
    "model = torch.hub.load('ultralytics/yolov5', 'yolov5s', pretrained=True)"
   ]
  },
  {
   "cell_type": "code",
   "execution_count": 5,
   "metadata": {},
   "outputs": [],
   "source": [
    "#Spawn vehicles\n",
    "def spawn_vehicles(world, num_vehicles):\n",
    "    vehicles = []\n",
    "    blueprints = world.get_blueprint_library().filter('vehicle.*')\n",
    "    spawn_points = world.get_map().get_spawn_points()\n",
    "    for _ in range(num_vehicles):\n",
    "        spawn_point = random.choice(spawn_points)\n",
    "        vehicle_bp = random.choice(blueprints)\n",
    "        vehicle = world.try_spawn_actor(vehicle_bp, spawn_point)\n",
    "        if vehicle is not None:\n",
    "            vehicle.set_autopilot(True)\n",
    "            vehicles.append(vehicle)\n",
    "    return vehicles\n",
    "\n",
    "\n",
    "#Spawn pedestrians\n",
    "def spawn_pedestrians(world, client, num_pedestrians):\n",
    "    pedestrians = []\n",
    "    blueprint_library = world.get_blueprint_library()\n",
    "    pedestrian_bps = blueprint_library.filter('walker.pedestrian.*')\n",
    "    spawn_points = []\n",
    "    for i in range(num_pedestrians):\n",
    "        spawn_point = carla.Transform()\n",
    "        loc = world.get_random_location_from_navigation()\n",
    "        if loc is not None:\n",
    "            spawn_point.location = loc\n",
    "            spawn_points.append(spawn_point)\n",
    "    batch = []\n",
    "    for spawn_point in spawn_points:\n",
    "        walker_bp = random.choice(pedestrian_bps)\n",
    "        batch.append(carla.command.SpawnActor(walker_bp, spawn_point))\n",
    "    pedestrians = client.apply_batch_sync(batch, True)\n",
    "    pedestrians = [x.actor_id for x in pedestrians if not x.error]\n",
    "    return pedestrians\n",
    "\n",
    "\n",
    "#Lidar callback\n",
    "def lidar_callback(point_cloud, point_list):\n",
    "    global all_route_points\n",
    "    data = np.copy(np.frombuffer(point_cloud.raw_data, dtype=np.dtype('f4')))\n",
    "    data = np.reshape(data, (int(data.shape[0] / 4), 4))\n",
    "    intensity = data[:, -1]\n",
    "    intensity_col = 1.0 - np.log(intensity) / np.log(np.exp(-0.004 * 100))\n",
    "    int_color = np.c_[\n",
    "        np.interp(intensity_col, VID_RANGE, VIRIDIS[:, 0]),\n",
    "        np.interp(intensity_col, VID_RANGE, VIRIDIS[:, 1]),\n",
    "        np.interp(intensity_col, VID_RANGE, VIRIDIS[:, 2])\n",
    "    ]\n",
    "    points = data[:, :-1]\n",
    "    points[:, :1] = -points[:, :1]\n",
    "    all_route_points.append(points)\n",
    "    point_list.points = o3d.utility.Vector3dVector(points)\n",
    "    point_list.colors = o3d.utility.Vector3dVector(int_color)\n",
    "\n",
    "\n",
    "#Calculate velocity\n",
    "def calculate_velocity(d_p):\n",
    "    v_max = 15\n",
    "    theta_2 = 0.3\n",
    "    theta_3 = 3\n",
    "    v = v_max * (1 - math.exp(-theta_2 * (d_p - theta_3)))\n",
    "    return v\n",
    "\n",
    "\n",
    "#Radar callback\n",
    "def radar_callback(data):\n",
    "    flag = 0\n",
    "    closest_distance = float('inf')\n",
    "    for detection in data:\n",
    "        distance = detection.depth\n",
    "        if distance < closest_distance:\n",
    "            closest_distance = distance\n",
    "    velocity = calculate_velocity(closest_distance)\n",
    "    velocity_speed = max(0, velocity)\n",
    "    if flag % 40 == 0:\n",
    "        print(f\"Closest object distance: {closest_distance:.1f} meters\")\n",
    "        print(f\"Calculated velocity: {velocity_speed:.1f} m/s\")\n",
    "    flag += 1\n",
    "\n",
    "\n",
    "#Add a small 3D axis on Open3D Visualizer\n",
    "def add_open3d_axis(vis):\n",
    "    axis = o3d.geometry.LineSet()\n",
    "    axis.points = o3d.utility.Vector3dVector(np.array([\n",
    "        [0.0, 0.0, 0.0],\n",
    "        [1.0, 0.0, 0.0],\n",
    "        [0.0, 1.0, 0.0],\n",
    "        [0.0, 0.0, 1.0]\n",
    "    ]))\n",
    "    axis.lines = o3d.utility.Vector2iVector(np.array([\n",
    "        [0, 1],\n",
    "        [0, 2],\n",
    "        [0, 3]\n",
    "    ]))\n",
    "    axis.colors = o3d.utility.Vector3dVector(np.array([\n",
    "        [1.0, 0.0, 0.0],\n",
    "        [0.0, 1.0, 0.0],\n",
    "        [0.0, 0.0, 1.0]\n",
    "    ]))\n",
    "    vis.add_geometry(axis)\n",
    "\n",
    "\n",
    "#Image process for traffic object classification\n",
    "def image_process(frame):\n",
    "    traffic_classes = [0, 1, 2, 3, 5, 7, 9, 10, 13, 14, 16]  # [person, bicycle, car, motorbike, bus, train, truck, traffic light, fire hydrant, stop sign, parking meter]\n",
    "    results = model(frame)\n",
    "    detections = results.xyxy[0].cpu().numpy()\n",
    "    if len(detections) == 0:\n",
    "        return frame\n",
    "    for *box, conf, cls in detections:\n",
    "        cls = int(cls)\n",
    "        if cls in traffic_classes:\n",
    "            x1, y1, x2, y2 = map(int, box)\n",
    "            conf = round(float(conf), 2)\n",
    "            color = (0, 255, 0)\n",
    "            cv2.rectangle(frame, (x1, y1), (x2, y2), color, 2)\n",
    "            label = f'{model.names[cls]}'\n",
    "            font = cv2.FONT_HERSHEY_SIMPLEX\n",
    "            cv2.putText(frame, label, (x1, y1 - 10), font, 0.5, color, 2)\n",
    "    return frame\n",
    "\n",
    "\n",
    "#Create main vehicle\n",
    "def create_hero_vehicle():\n",
    "    vehicle_bp = world.get_blueprint_library().filter('*mini*')\n",
    "    spawn_points = world.get_map().get_spawn_points()\n",
    "    spawn_point = random.choice(spawn_points)\n",
    "    hero_vehicle = world.try_spawn_actor(vehicle_bp[0], spawn_point)\n",
    "    hero_vehicle.set_autopilot(True)\n",
    "    return hero_vehicle\n",
    "\n",
    "\n",
    "#Camera callback\n",
    "def camera_callback(image,data_dict):\n",
    "    data_dict['image'] = np.reshape(np.copy(image.raw_data),(image.height,image.width,4))\n",
    "\n",
    "\n",
    "#Remove all vehicles\n",
    "def remove_all_vehicles(world):\n",
    "    actors = world.get_actors()\n",
    "    for actor in actors:\n",
    "        if actor.type_id.startswith('vehicle.'):\n",
    "            actor.destroy()  \n",
    "\n",
    "\n",
    "#Remove all pedestrians\n",
    "def remove_all_pedestrians(world):\n",
    "    actors = world.get_actors()\n",
    "    for actor in actors:\n",
    "        if actor.type_id.startswith('walker.pedestrian.'):\n",
    "            actor.destroy()"
   ]
  },
  {
   "cell_type": "code",
   "execution_count": 6,
   "metadata": {},
   "outputs": [],
   "source": [
    "#Call functions\n",
    "pedestrians = spawn_pedestrians(world, client, 100)\n",
    "vehicles = spawn_vehicles(world, 99)\n",
    "hero_vehicle = create_hero_vehicle()"
   ]
  },
  {
   "cell_type": "code",
   "execution_count": 7,
   "metadata": {},
   "outputs": [],
   "source": [
    "#Create and attach sensors to main vehicle\n",
    "all_route_points = []\n",
    "VIRIDIS = np.array(plt.colormaps['plasma'].colors)\n",
    "VID_RANGE = np.linspace(0.0, 1.0, VIRIDIS.shape[0])\n",
    "COOL_RANGE = np.linspace(0.0, 1.0, VIRIDIS.shape[0])\n",
    "COOL = np.array(plt.colormaps['winter'](COOL_RANGE))\n",
    "COOL = COOL[:, :3]\n",
    "\n",
    "CAMERA_POS_Z = 1.6\n",
    "CAMERA_POS_X = 0.9\n",
    "\n",
    "camera_bp = world.get_blueprint_library().find('sensor.camera.rgb')\n",
    "camera_bp.set_attribute('image_size_x', '1152')\n",
    "camera_bp.set_attribute('image_size_y', '648')\n",
    "\n",
    "camera_init_trans = carla.Transform(carla.Location(z=CAMERA_POS_Z,x=CAMERA_POS_X))\n",
    "camera = world.spawn_actor(camera_bp,camera_init_trans,attach_to=hero_vehicle)\n",
    "\n",
    "image_w = camera_bp.get_attribute('image_size_x').as_int()\n",
    "image_h = camera_bp.get_attribute('image_size_y').as_int()\n",
    "\n",
    "camera_data = {'image': np.zeros((image_h,image_w,4))}\n",
    "\n",
    "lidar_bp = world.get_blueprint_library().find('sensor.lidar.ray_cast')\n",
    "lidar_bp.set_attribute('range', '50.0')\n",
    "lidar_bp.set_attribute('noise_stddev', '0.1')\n",
    "lidar_bp.set_attribute('upper_fov', '10.0')\n",
    "lidar_bp.set_attribute('lower_fov', '-3.0')\n",
    "lidar_bp.set_attribute('channels', '32')\n",
    "lidar_bp.set_attribute('rotation_frequency', '60.0')\n",
    "lidar_bp.set_attribute('points_per_second', '200000')\n",
    "lidar_init_trans = carla.Transform(carla.Location(z=2))\n",
    "lidar = world.spawn_actor(lidar_bp, lidar_init_trans, attach_to=hero_vehicle)\n",
    "\n",
    "radar_bp = world.get_blueprint_library().find('sensor.other.radar')\n",
    "radar_bp.set_attribute('horizontal_fov', '30.0')\n",
    "radar_bp.set_attribute('vertical_fov', '30.0')\n",
    "radar_bp.set_attribute('points_per_second', '10000')\n",
    "radar_init_trans = carla.Transform(carla.Location(z=2))\n",
    "radar = world.spawn_actor(radar_bp, radar_init_trans, attach_to=hero_vehicle)\n",
    "\n",
    "point_list = o3d.geometry.PointCloud()\n",
    "\n",
    "camera.listen(lambda image: camera_callback(image,camera_data))\n",
    "lidar.listen(lambda data: lidar_callback(data, point_list))"
   ]
  },
  {
   "cell_type": "code",
   "execution_count": 8,
   "metadata": {},
   "outputs": [
    {
     "name": "stdout",
     "output_type": "stream",
     "text": [
      "Closest object distance: 8.0 meters\n",
      "Calculated velocity: 11.6 m/s\n",
      "Closest object distance: 8.2 meters\n",
      "Calculated velocity: 11.8 m/s\n",
      "Closest object distance: 8.2 meters\n",
      "Calculated velocity: 11.9 m/s\n",
      "Closest object distance: 8.2 meters\n",
      "Calculated velocity: 11.9 m/s\n",
      "Closest object distance: 8.3 meters\n",
      "Calculated velocity: 11.9 m/s\n",
      "Closest object distance: 8.5 meters\n",
      "Calculated velocity: 12.1 m/s\n",
      "Closest object distance: 7.9 meters\n",
      "Calculated velocity: 11.5 m/s\n"
     ]
    },
    {
     "name": "stderr",
     "output_type": "stream",
     "text": [
      "C:\\Users\\Oz/.cache\\torch\\hub\\ultralytics_yolov5_master\\models\\common.py:892: FutureWarning: `torch.cuda.amp.autocast(args...)` is deprecated. Please use `torch.amp.autocast('cuda', args...)` instead.\n",
      "  with amp.autocast(autocast):\n",
      "C:\\Users\\Oz/.cache\\torch\\hub\\ultralytics_yolov5_master\\models\\common.py:892: FutureWarning: `torch.cuda.amp.autocast(args...)` is deprecated. Please use `torch.amp.autocast('cuda', args...)` instead.\n",
      "  with amp.autocast(autocast):\n",
      "C:\\Users\\Oz/.cache\\torch\\hub\\ultralytics_yolov5_master\\models\\common.py:892: FutureWarning: `torch.cuda.amp.autocast(args...)` is deprecated. Please use `torch.amp.autocast('cuda', args...)` instead.\n",
      "  with amp.autocast(autocast):\n"
     ]
    },
    {
     "name": "stdout",
     "output_type": "stream",
     "text": [
      "Closest object distance: 8.1 meters\n",
      "Calculated velocity: 11.7 m/s\n",
      "Closest object distance: 8.0 meters\n",
      "Calculated velocity: 11.6 m/s\n",
      "Closest object distance: 7.9 meters\n",
      "Calculated velocity: 11.6 m/s\n",
      "Closest object distance: 8.0 meters\n",
      "Calculated velocity: 11.6 m/s\n",
      "Closest object distance: 8.4 meters\n",
      "Calculated velocity: 12.1 m/s\n",
      "Closest object distance: 8.7 meters\n",
      "Calculated velocity: 12.3 m/s\n",
      "Closest object distance: 8.2 meters\n",
      "Calculated velocity: 11.9 m/s\n",
      "Closest object distance: 8.5 meters\n",
      "Calculated velocity: 12.1 m/s\n",
      "Closest object distance: 8.5 meters\n",
      "Calculated velocity: 12.1 m/s\n",
      "Closest object distance: 8.3 meters\n",
      "Calculated velocity: 12.0 m/s\n",
      "Closest object distance: 8.2 meters\n",
      "Calculated velocity: 11.9 m/s\n",
      "Closest object distance: 8.3 meters\n",
      "Calculated velocity: 12.0 m/s\n",
      "Closest object distance: 8.1 meters\n",
      "Calculated velocity: 11.8 m/s\n"
     ]
    },
    {
     "name": "stderr",
     "output_type": "stream",
     "text": [
      "C:\\Users\\Oz/.cache\\torch\\hub\\ultralytics_yolov5_master\\models\\common.py:892: FutureWarning: `torch.cuda.amp.autocast(args...)` is deprecated. Please use `torch.amp.autocast('cuda', args...)` instead.\n",
      "  with amp.autocast(autocast):\n"
     ]
    },
    {
     "name": "stdout",
     "output_type": "stream",
     "text": [
      "Closest object distance: 8.1 meters\n",
      "Calculated velocity: 11.7 m/s\n",
      "Closest object distance: 8.4 meters\n",
      "Calculated velocity: 12.0 m/s\n",
      "Closest object distance: 8.1 meters\n",
      "Calculated velocity: 11.8 m/s\n",
      "Closest object distance: 8.2 meters\n",
      "Calculated velocity: 11.8 m/s\n",
      "Closest object distance: 8.4 meters\n",
      "Calculated velocity: 12.1 m/s\n",
      "Closest object distance: 8.5 meters\n",
      "Calculated velocity: 12.1 m/s\n"
     ]
    },
    {
     "name": "stderr",
     "output_type": "stream",
     "text": [
      "C:\\Users\\Oz/.cache\\torch\\hub\\ultralytics_yolov5_master\\models\\common.py:892: FutureWarning: `torch.cuda.amp.autocast(args...)` is deprecated. Please use `torch.amp.autocast('cuda', args...)` instead.\n",
      "  with amp.autocast(autocast):\n",
      "C:\\Users\\Oz/.cache\\torch\\hub\\ultralytics_yolov5_master\\models\\common.py:892: FutureWarning: `torch.cuda.amp.autocast(args...)` is deprecated. Please use `torch.amp.autocast('cuda', args...)` instead.\n",
      "  with amp.autocast(autocast):\n"
     ]
    },
    {
     "name": "stdout",
     "output_type": "stream",
     "text": [
      "Closest object distance: 8.0 meters\n",
      "Calculated velocity: 11.7 m/s\n",
      "Closest object distance: 8.1 meters\n",
      "Calculated velocity: 11.7 m/s\n",
      "Closest object distance: 8.1 meters\n",
      "Calculated velocity: 11.7 m/s\n",
      "Closest object distance: 7.9 meters\n",
      "Calculated velocity: 11.6 m/s\n",
      "Closest object distance: 8.0 meters\n",
      "Calculated velocity: 11.7 m/s\n",
      "Closest object distance: 8.2 meters\n",
      "Calculated velocity: 11.9 m/s\n",
      "Closest object distance: 8.1 meters\n",
      "Calculated velocity: 11.7 m/s\n",
      "Closest object distance: 8.0 meters\n",
      "Calculated velocity: 11.6 m/s\n",
      "Closest object distance: 7.9 meters\n",
      "Calculated velocity: 11.5 m/s\n",
      "Closest object distance: 7.7 meters\n",
      "Calculated velocity: 11.4 m/s\n",
      "Closest object distance: 7.6 meters\n",
      "Calculated velocity: 11.2 m/s\n",
      "Closest object distance: 7.5 meters\n",
      "Calculated velocity: 11.1 m/s\n",
      "Closest object distance: 7.3 meters\n",
      "Calculated velocity: 10.9 m/s\n"
     ]
    },
    {
     "name": "stderr",
     "output_type": "stream",
     "text": [
      "C:\\Users\\Oz/.cache\\torch\\hub\\ultralytics_yolov5_master\\models\\common.py:892: FutureWarning: `torch.cuda.amp.autocast(args...)` is deprecated. Please use `torch.amp.autocast('cuda', args...)` instead.\n",
      "  with amp.autocast(autocast):\n",
      "C:\\Users\\Oz/.cache\\torch\\hub\\ultralytics_yolov5_master\\models\\common.py:892: FutureWarning: `torch.cuda.amp.autocast(args...)` is deprecated. Please use `torch.amp.autocast('cuda', args...)` instead.\n",
      "  with amp.autocast(autocast):\n"
     ]
    },
    {
     "name": "stdout",
     "output_type": "stream",
     "text": [
      "Closest object distance: 7.2 meters\n",
      "Calculated velocity: 10.7 m/s\n",
      "Closest object distance: 7.1 meters\n",
      "Calculated velocity: 10.6 m/s\n",
      "Closest object distance: 6.9 meters\n",
      "Calculated velocity: 10.4 m/s\n",
      "Closest object distance: 6.8 meters\n",
      "Calculated velocity: 10.2 m/s\n",
      "Closest object distance: 6.7 meters\n",
      "Calculated velocity: 10.1 m/s\n",
      "Closest object distance: 6.6 meters\n",
      "Calculated velocity: 9.9 m/s\n",
      "Closest object distance: 6.5 meters\n",
      "Calculated velocity: 9.8 m/s\n",
      "Closest object distance: 6.4 meters\n",
      "Calculated velocity: 9.6 m/s\n",
      "Closest object distance: 6.3 meters\n",
      "Calculated velocity: 9.4 m/s\n",
      "Closest object distance: 6.2 meters\n",
      "Calculated velocity: 9.3 m/s\n",
      "Closest object distance: 6.1 meters\n",
      "Calculated velocity: 9.1 m/s\n",
      "Closest object distance: 6.1 meters\n",
      "Calculated velocity: 9.0 m/s\n",
      "Closest object distance: 6.0 meters\n",
      "Calculated velocity: 8.9 m/s\n",
      "Closest object distance: 5.9 meters\n",
      "Calculated velocity: 8.7 m/s\n"
     ]
    },
    {
     "name": "stderr",
     "output_type": "stream",
     "text": [
      "C:\\Users\\Oz/.cache\\torch\\hub\\ultralytics_yolov5_master\\models\\common.py:892: FutureWarning: `torch.cuda.amp.autocast(args...)` is deprecated. Please use `torch.amp.autocast('cuda', args...)` instead.\n",
      "  with amp.autocast(autocast):\n"
     ]
    },
    {
     "name": "stdout",
     "output_type": "stream",
     "text": [
      "Closest object distance: 5.8 meters\n",
      "Calculated velocity: 8.5 m/s\n",
      "Closest object distance: 5.7 meters\n",
      "Calculated velocity: 8.4 m/s\n",
      "Closest object distance: 5.7 meters\n",
      "Calculated velocity: 8.2 m/s\n",
      "Closest object distance: 5.6 meters\n",
      "Calculated velocity: 8.1 m/s\n",
      "Closest object distance: 5.5 meters\n",
      "Calculated velocity: 7.9 m/s\n",
      "Closest object distance: 5.4 meters\n",
      "Calculated velocity: 7.7 m/s\n",
      "Closest object distance: 5.3 meters\n",
      "Calculated velocity: 7.5 m/s\n",
      "Closest object distance: 5.3 meters\n",
      "Calculated velocity: 7.4 m/s\n",
      "Closest object distance: 5.2 meters\n",
      "Calculated velocity: 7.2 m/s\n",
      "Closest object distance: 5.1 meters\n",
      "Calculated velocity: 7.0 m/s\n",
      "Closest object distance: 5.0 meters\n",
      "Calculated velocity: 6.8 m/s\n",
      "Closest object distance: 4.9 meters\n",
      "Calculated velocity: 6.6 m/s\n",
      "Closest object distance: 4.8 meters\n",
      "Calculated velocity: 6.3 m/s\n",
      "Closest object distance: 4.7 meters\n",
      "Calculated velocity: 6.1 m/s\n",
      "Closest object distance: 4.6 meters\n",
      "Calculated velocity: 5.8 m/s\n",
      "Closest object distance: 4.5 meters\n",
      "Calculated velocity: 5.5 m/s\n",
      "Closest object distance: 4.5 meters\n",
      "Calculated velocity: 5.3 m/s\n",
      "Closest object distance: 4.3 meters\n",
      "Calculated velocity: 5.0 m/s\n",
      "Closest object distance: 4.2 meters\n",
      "Calculated velocity: 4.5 m/s\n",
      "Closest object distance: 4.1 meters\n",
      "Calculated velocity: 4.3 m/s\n",
      "Closest object distance: 4.0 meters\n",
      "Calculated velocity: 3.7 m/s\n",
      "Closest object distance: 4.0 meters\n",
      "Calculated velocity: 4.0 m/s\n",
      "Closest object distance: 3.8 meters\n",
      "Calculated velocity: 3.1 m/s\n",
      "Closest object distance: 3.7 meters\n",
      "Calculated velocity: 3.0 m/s\n",
      "Closest object distance: 3.8 meters\n",
      "Calculated velocity: 3.1 m/s\n",
      "Closest object distance: 3.8 meters\n",
      "Calculated velocity: 3.2 m/s\n",
      "Closest object distance: 3.7 meters\n",
      "Calculated velocity: 2.7 m/s\n",
      "Closest object distance: 3.5 meters\n",
      "Calculated velocity: 2.1 m/s\n",
      "Closest object distance: 3.5 meters\n",
      "Calculated velocity: 2.0 m/s\n",
      "Closest object distance: 3.4 meters\n",
      "Calculated velocity: 1.9 m/s\n",
      "Closest object distance: 3.5 meters\n",
      "Calculated velocity: 1.9 m/s\n",
      "Closest object distance: 3.5 meters\n",
      "Calculated velocity: 2.0 m/s\n",
      "Closest object distance: 3.3 meters\n",
      "Calculated velocity: 1.3 m/s\n",
      "Closest object distance: 3.3 meters\n",
      "Calculated velocity: 1.4 m/s\n",
      "Closest object distance: 3.3 meters\n",
      "Calculated velocity: 1.1 m/s\n",
      "Closest object distance: 3.2 meters\n",
      "Calculated velocity: 1.0 m/s\n",
      "Closest object distance: 3.2 meters\n",
      "Calculated velocity: 1.0 m/s\n",
      "Closest object distance: 3.2 meters\n",
      "Calculated velocity: 0.8 m/s\n",
      "Closest object distance: 3.1 meters\n",
      "Calculated velocity: 0.3 m/s\n",
      "Closest object distance: 3.0 meters\n",
      "Calculated velocity: 0.1 m/s\n",
      "Closest object distance: 3.1 meters\n",
      "Calculated velocity: 0.3 m/s\n",
      "Closest object distance: 3.1 meters\n",
      "Calculated velocity: 0.3 m/s\n",
      "Closest object distance: 3.1 meters\n",
      "Calculated velocity: 0.3 m/s\n",
      "Closest object distance: 3.1 meters\n",
      "Calculated velocity: 0.6 m/s\n",
      "Closest object distance: 3.0 meters\n",
      "Calculated velocity: 0.1 m/s\n",
      "Closest object distance: 3.0 meters\n",
      "Calculated velocity: 0.0 m/s\n",
      "Closest object distance: 3.0 meters\n",
      "Calculated velocity: 0.0 m/s\n",
      "Closest object distance: 3.0 meters\n",
      "Calculated velocity: 0.0 m/s\n",
      "Closest object distance: 3.0 meters\n",
      "Calculated velocity: 0.0 m/s\n",
      "Closest object distance: 3.0 meters\n",
      "Calculated velocity: 0.0 m/s\n",
      "Closest object distance: 3.3 meters\n",
      "Calculated velocity: 1.2 m/s\n",
      "Closest object distance: 3.1 meters\n",
      "Calculated velocity: 0.4 m/s\n",
      "Closest object distance: 3.0 meters\n",
      "Calculated velocity: 0.0 m/s\n",
      "Closest object distance: 3.1 meters\n",
      "Calculated velocity: 0.3 m/s\n",
      "Closest object distance: 3.0 meters\n",
      "Calculated velocity: 0.2 m/s\n",
      "Closest object distance: 3.0 meters\n",
      "Calculated velocity: 0.0 m/s\n",
      "Closest object distance: 3.0 meters\n",
      "Calculated velocity: 0.1 m/s\n",
      "Closest object distance: 3.0 meters\n",
      "Calculated velocity: 0.0 m/s\n",
      "Closest object distance: 3.0 meters\n",
      "Calculated velocity: 0.0 m/s\n",
      "Closest object distance: 3.0 meters\n",
      "Calculated velocity: 0.0 m/s\n",
      "Closest object distance: 3.0 meters\n",
      "Calculated velocity: 0.1 m/s\n",
      "Closest object distance: 3.0 meters\n",
      "Calculated velocity: 0.0 m/s\n",
      "Closest object distance: 3.1 meters\n",
      "Calculated velocity: 0.3 m/s\n",
      "Closest object distance: 3.0 meters\n",
      "Calculated velocity: 0.0 m/s\n",
      "Closest object distance: 3.0 meters\n",
      "Calculated velocity: 0.1 m/s\n",
      "Closest object distance: 3.0 meters\n",
      "Calculated velocity: 0.0 m/s\n",
      "Closest object distance: 3.0 meters\n",
      "Calculated velocity: 0.1 m/s\n",
      "Closest object distance: 3.0 meters\n",
      "Calculated velocity: 0.2 m/s\n",
      "Closest object distance: 3.0 meters\n",
      "Calculated velocity: 0.0 m/s\n",
      "Closest object distance: 3.0 meters\n",
      "Calculated velocity: 0.0 m/s\n",
      "Closest object distance: 3.0 meters\n",
      "Calculated velocity: 0.0 m/s\n",
      "Closest object distance: 3.0 meters\n",
      "Calculated velocity: 0.1 m/s\n",
      "Closest object distance: 3.0 meters\n",
      "Calculated velocity: 0.0 m/s\n",
      "Closest object distance: 3.0 meters\n",
      "Calculated velocity: 0.1 m/s\n",
      "Closest object distance: 3.0 meters\n",
      "Calculated velocity: 0.1 m/s\n",
      "Closest object distance: 3.0 meters\n",
      "Calculated velocity: 0.1 m/s\n",
      "Closest object distance: 3.1 meters\n",
      "Calculated velocity: 0.4 m/s\n",
      "Closest object distance: 3.0 meters\n",
      "Calculated velocity: 0.0 m/s\n",
      "Closest object distance: 3.1 meters\n",
      "Calculated velocity: 0.3 m/s\n",
      "Closest object distance: 3.2 meters\n",
      "Calculated velocity: 0.8 m/s\n",
      "Closest object distance: 3.0 meters\n",
      "Calculated velocity: 0.0 m/s\n",
      "Closest object distance: 3.0 meters\n",
      "Calculated velocity: 0.1 m/s\n"
     ]
    },
    {
     "name": "stderr",
     "output_type": "stream",
     "text": [
      "C:\\Users\\Oz/.cache\\torch\\hub\\ultralytics_yolov5_master\\models\\common.py:892: FutureWarning: `torch.cuda.amp.autocast(args...)` is deprecated. Please use `torch.amp.autocast('cuda', args...)` instead.\n",
      "  with amp.autocast(autocast):\n"
     ]
    },
    {
     "name": "stdout",
     "output_type": "stream",
     "text": [
      "Closest object distance: 3.0 meters\n",
      "Calculated velocity: 0.0 m/s\n",
      "Closest object distance: 3.0 meters\n",
      "Calculated velocity: 0.0 m/s\n",
      "Closest object distance: 3.0 meters\n",
      "Calculated velocity: 0.1 m/s\n",
      "Closest object distance: 3.0 meters\n",
      "Calculated velocity: 0.0 m/s\n",
      "Closest object distance: 3.0 meters\n",
      "Calculated velocity: 0.0 m/s\n",
      "Closest object distance: 3.0 meters\n",
      "Calculated velocity: 0.1 m/s\n",
      "Closest object distance: 3.0 meters\n",
      "Calculated velocity: 0.0 m/s\n"
     ]
    },
    {
     "name": "stderr",
     "output_type": "stream",
     "text": [
      "C:\\Users\\Oz/.cache\\torch\\hub\\ultralytics_yolov5_master\\models\\common.py:892: FutureWarning: `torch.cuda.amp.autocast(args...)` is deprecated. Please use `torch.amp.autocast('cuda', args...)` instead.\n",
      "  with amp.autocast(autocast):\n",
      "C:\\Users\\Oz/.cache\\torch\\hub\\ultralytics_yolov5_master\\models\\common.py:892: FutureWarning: `torch.cuda.amp.autocast(args...)` is deprecated. Please use `torch.amp.autocast('cuda', args...)` instead.\n",
      "  with amp.autocast(autocast):\n"
     ]
    },
    {
     "name": "stdout",
     "output_type": "stream",
     "text": [
      "Closest object distance: 3.0 meters\n",
      "Calculated velocity: 0.1 m/s\n",
      "Closest object distance: 3.0 meters\n",
      "Calculated velocity: 0.0 m/s\n",
      "Closest object distance: 3.1 meters\n",
      "Calculated velocity: 0.2 m/s\n",
      "Closest object distance: 3.0 meters\n",
      "Calculated velocity: 0.1 m/s\n",
      "Closest object distance: 3.0 meters\n",
      "Calculated velocity: 0.2 m/s\n",
      "Closest object distance: 3.1 meters\n",
      "Calculated velocity: 0.2 m/s\n",
      "Closest object distance: 3.0 meters\n",
      "Calculated velocity: 0.0 m/s\n"
     ]
    },
    {
     "name": "stderr",
     "output_type": "stream",
     "text": [
      "C:\\Users\\Oz/.cache\\torch\\hub\\ultralytics_yolov5_master\\models\\common.py:892: FutureWarning: `torch.cuda.amp.autocast(args...)` is deprecated. Please use `torch.amp.autocast('cuda', args...)` instead.\n",
      "  with amp.autocast(autocast):\n",
      "C:\\Users\\Oz/.cache\\torch\\hub\\ultralytics_yolov5_master\\models\\common.py:892: FutureWarning: `torch.cuda.amp.autocast(args...)` is deprecated. Please use `torch.amp.autocast('cuda', args...)` instead.\n",
      "  with amp.autocast(autocast):\n"
     ]
    },
    {
     "name": "stdout",
     "output_type": "stream",
     "text": [
      "Closest object distance: 3.0 meters\n",
      "Calculated velocity: 0.2 m/s\n",
      "Closest object distance: 3.0 meters\n",
      "Calculated velocity: 0.0 m/s\n",
      "Closest object distance: 3.0 meters\n",
      "Calculated velocity: 0.0 m/s\n",
      "Closest object distance: 3.1 meters\n",
      "Calculated velocity: 0.4 m/s\n",
      "Closest object distance: 3.0 meters\n",
      "Calculated velocity: 0.1 m/s\n",
      "Closest object distance: 3.1 meters\n",
      "Calculated velocity: 0.3 m/s\n",
      "Closest object distance: 3.0 meters\n",
      "Calculated velocity: 0.1 m/s\n",
      "Closest object distance: 3.0 meters\n",
      "Calculated velocity: 0.2 m/s\n",
      "Closest object distance: 3.0 meters\n",
      "Calculated velocity: 0.2 m/s\n",
      "Closest object distance: 3.0 meters\n",
      "Calculated velocity: 0.0 m/s\n",
      "Closest object distance: 3.1 meters\n",
      "Calculated velocity: 0.6 m/s\n",
      "Closest object distance: 3.0 meters\n",
      "Calculated velocity: 0.1 m/s\n",
      "Closest object distance: 3.0 meters\n",
      "Calculated velocity: 0.0 m/s\n",
      "Closest object distance: 3.0 meters\n",
      "Calculated velocity: 0.0 m/s\n"
     ]
    },
    {
     "name": "stderr",
     "output_type": "stream",
     "text": [
      "C:\\Users\\Oz/.cache\\torch\\hub\\ultralytics_yolov5_master\\models\\common.py:892: FutureWarning: `torch.cuda.amp.autocast(args...)` is deprecated. Please use `torch.amp.autocast('cuda', args...)` instead.\n",
      "  with amp.autocast(autocast):\n",
      "C:\\Users\\Oz/.cache\\torch\\hub\\ultralytics_yolov5_master\\models\\common.py:892: FutureWarning: `torch.cuda.amp.autocast(args...)` is deprecated. Please use `torch.amp.autocast('cuda', args...)` instead.\n",
      "  with amp.autocast(autocast):\n"
     ]
    },
    {
     "name": "stdout",
     "output_type": "stream",
     "text": [
      "Closest object distance: 3.0 meters\n",
      "Calculated velocity: 0.1 m/s\n",
      "Closest object distance: 3.1 meters\n",
      "Calculated velocity: 0.6 m/s\n",
      "Closest object distance: 3.0 meters\n",
      "Calculated velocity: 0.1 m/s\n",
      "Closest object distance: 3.1 meters\n",
      "Calculated velocity: 0.4 m/s\n",
      "Closest object distance: 3.0 meters\n",
      "Calculated velocity: 0.1 m/s\n",
      "Closest object distance: 3.0 meters\n",
      "Calculated velocity: 0.2 m/s\n",
      "Closest object distance: 3.0 meters\n",
      "Calculated velocity: 0.2 m/s\n",
      "Closest object distance: 3.0 meters\n",
      "Calculated velocity: 0.2 m/s\n",
      "Closest object distance: 3.0 meters\n",
      "Calculated velocity: 0.0 m/s\n",
      "Closest object distance: 3.0 meters\n",
      "Calculated velocity: 0.1 m/s\n",
      "Closest object distance: 3.0 meters\n",
      "Calculated velocity: 0.0 m/s\n",
      "Closest object distance: 3.0 meters\n",
      "Calculated velocity: 0.1 m/s\n",
      "Closest object distance: 3.0 meters\n",
      "Calculated velocity: 0.2 m/s\n",
      "Closest object distance: 3.0 meters\n",
      "Calculated velocity: 0.0 m/s\n"
     ]
    },
    {
     "name": "stderr",
     "output_type": "stream",
     "text": [
      "C:\\Users\\Oz/.cache\\torch\\hub\\ultralytics_yolov5_master\\models\\common.py:892: FutureWarning: `torch.cuda.amp.autocast(args...)` is deprecated. Please use `torch.amp.autocast('cuda', args...)` instead.\n",
      "  with amp.autocast(autocast):\n"
     ]
    },
    {
     "name": "stdout",
     "output_type": "stream",
     "text": [
      "Closest object distance: 3.0 meters\n",
      "Calculated velocity: 0.0 m/s\n",
      "Closest object distance: 3.1 meters\n",
      "Calculated velocity: 0.3 m/s\n",
      "Closest object distance: 3.0 meters\n",
      "Calculated velocity: 0.2 m/s\n",
      "Closest object distance: 3.2 meters\n",
      "Calculated velocity: 0.7 m/s\n",
      "Closest object distance: 3.0 meters\n",
      "Calculated velocity: 0.0 m/s\n",
      "Closest object distance: 3.0 meters\n",
      "Calculated velocity: 0.0 m/s\n",
      "Closest object distance: 3.0 meters\n",
      "Calculated velocity: 0.0 m/s\n",
      "Closest object distance: 3.0 meters\n",
      "Calculated velocity: 0.0 m/s\n"
     ]
    },
    {
     "name": "stderr",
     "output_type": "stream",
     "text": [
      "C:\\Users\\Oz/.cache\\torch\\hub\\ultralytics_yolov5_master\\models\\common.py:892: FutureWarning: `torch.cuda.amp.autocast(args...)` is deprecated. Please use `torch.amp.autocast('cuda', args...)` instead.\n",
      "  with amp.autocast(autocast):\n"
     ]
    },
    {
     "name": "stdout",
     "output_type": "stream",
     "text": [
      "Closest object distance: 3.0 meters\n",
      "Calculated velocity: 0.0 m/s\n",
      "Closest object distance: 3.0 meters\n",
      "Calculated velocity: 0.0 m/s\n",
      "Closest object distance: 3.0 meters\n",
      "Calculated velocity: 0.1 m/s\n",
      "Closest object distance: 3.1 meters\n",
      "Calculated velocity: 0.3 m/s\n",
      "Closest object distance: 3.1 meters\n",
      "Calculated velocity: 0.2 m/s\n",
      "Closest object distance: 3.0 meters\n",
      "Calculated velocity: 0.1 m/s\n",
      "Closest object distance: 3.1 meters\n",
      "Calculated velocity: 0.2 m/s\n"
     ]
    },
    {
     "name": "stderr",
     "output_type": "stream",
     "text": [
      "C:\\Users\\Oz/.cache\\torch\\hub\\ultralytics_yolov5_master\\models\\common.py:892: FutureWarning: `torch.cuda.amp.autocast(args...)` is deprecated. Please use `torch.amp.autocast('cuda', args...)` instead.\n",
      "  with amp.autocast(autocast):\n",
      "C:\\Users\\Oz/.cache\\torch\\hub\\ultralytics_yolov5_master\\models\\common.py:892: FutureWarning: `torch.cuda.amp.autocast(args...)` is deprecated. Please use `torch.amp.autocast('cuda', args...)` instead.\n",
      "  with amp.autocast(autocast):\n"
     ]
    },
    {
     "name": "stdout",
     "output_type": "stream",
     "text": [
      "Closest object distance: 3.0 meters\n",
      "Calculated velocity: 0.0 m/s\n",
      "Closest object distance: 3.1 meters\n",
      "Calculated velocity: 0.3 m/s\n",
      "Closest object distance: 3.0 meters\n",
      "Calculated velocity: 0.0 m/s\n",
      "Closest object distance: 3.0 meters\n",
      "Calculated velocity: 0.0 m/s\n",
      "Closest object distance: 3.0 meters\n",
      "Calculated velocity: 0.2 m/s\n",
      "Closest object distance: 3.0 meters\n",
      "Calculated velocity: 0.0 m/s\n",
      "Closest object distance: 3.0 meters\n",
      "Calculated velocity: 0.2 m/s\n",
      "Closest object distance: 3.1 meters\n",
      "Calculated velocity: 0.3 m/s\n"
     ]
    },
    {
     "name": "stderr",
     "output_type": "stream",
     "text": [
      "C:\\Users\\Oz/.cache\\torch\\hub\\ultralytics_yolov5_master\\models\\common.py:892: FutureWarning: `torch.cuda.amp.autocast(args...)` is deprecated. Please use `torch.amp.autocast('cuda', args...)` instead.\n",
      "  with amp.autocast(autocast):\n",
      "C:\\Users\\Oz/.cache\\torch\\hub\\ultralytics_yolov5_master\\models\\common.py:892: FutureWarning: `torch.cuda.amp.autocast(args...)` is deprecated. Please use `torch.amp.autocast('cuda', args...)` instead.\n",
      "  with amp.autocast(autocast):\n"
     ]
    },
    {
     "name": "stdout",
     "output_type": "stream",
     "text": [
      "Closest object distance: 3.1 meters\n",
      "Calculated velocity: 0.4 m/s\n",
      "Closest object distance: 3.0 meters\n",
      "Calculated velocity: 0.1 m/s\n",
      "Closest object distance: 3.1 meters\n",
      "Calculated velocity: 0.2 m/s\n",
      "Closest object distance: 3.0 meters\n",
      "Calculated velocity: 0.0 m/s\n",
      "Closest object distance: 3.0 meters\n",
      "Calculated velocity: 0.2 m/s\n",
      "Closest object distance: 3.0 meters\n",
      "Calculated velocity: 0.0 m/s\n",
      "Closest object distance: 3.1 meters\n",
      "Calculated velocity: 0.4 m/s\n",
      "Closest object distance: 3.0 meters\n",
      "Calculated velocity: 0.0 m/s\n",
      "Closest object distance: 3.1 meters\n",
      "Calculated velocity: 0.4 m/s\n",
      "Closest object distance: 3.1 meters\n",
      "Calculated velocity: 0.2 m/s\n",
      "Closest object distance: 3.0 meters\n",
      "Calculated velocity: 0.0 m/s\n",
      "Closest object distance: 3.1 meters\n",
      "Calculated velocity: 0.3 m/s\n"
     ]
    },
    {
     "name": "stderr",
     "output_type": "stream",
     "text": [
      "C:\\Users\\Oz/.cache\\torch\\hub\\ultralytics_yolov5_master\\models\\common.py:892: FutureWarning: `torch.cuda.amp.autocast(args...)` is deprecated. Please use `torch.amp.autocast('cuda', args...)` instead.\n",
      "  with amp.autocast(autocast):\n"
     ]
    },
    {
     "name": "stdout",
     "output_type": "stream",
     "text": [
      "Closest object distance: 3.1 meters\n",
      "Calculated velocity: 0.3 m/s\n",
      "Closest object distance: 3.1 meters\n",
      "Calculated velocity: 0.5 m/s\n",
      "Closest object distance: 3.0 meters\n",
      "Calculated velocity: 0.1 m/s\n",
      "Closest object distance: 3.0 meters\n",
      "Calculated velocity: 0.1 m/s\n",
      "Closest object distance: 3.0 meters\n",
      "Calculated velocity: 0.0 m/s\n",
      "Closest object distance: 3.1 meters\n",
      "Calculated velocity: 0.5 m/s\n",
      "Closest object distance: 3.0 meters\n",
      "Calculated velocity: 0.0 m/s\n"
     ]
    },
    {
     "name": "stderr",
     "output_type": "stream",
     "text": [
      "C:\\Users\\Oz/.cache\\torch\\hub\\ultralytics_yolov5_master\\models\\common.py:892: FutureWarning: `torch.cuda.amp.autocast(args...)` is deprecated. Please use `torch.amp.autocast('cuda', args...)` instead.\n",
      "  with amp.autocast(autocast):\n",
      "C:\\Users\\Oz/.cache\\torch\\hub\\ultralytics_yolov5_master\\models\\common.py:892: FutureWarning: `torch.cuda.amp.autocast(args...)` is deprecated. Please use `torch.amp.autocast('cuda', args...)` instead.\n",
      "  with amp.autocast(autocast):\n"
     ]
    },
    {
     "name": "stdout",
     "output_type": "stream",
     "text": [
      "Closest object distance: 3.0 meters\n",
      "Calculated velocity: 0.0 m/s\n",
      "Closest object distance: 3.3 meters\n",
      "Calculated velocity: 1.2 m/s\n",
      "Closest object distance: 3.0 meters\n",
      "Calculated velocity: 0.0 m/s\n",
      "Closest object distance: 3.0 meters\n",
      "Calculated velocity: 0.0 m/s\n",
      "Closest object distance: 3.0 meters\n",
      "Calculated velocity: 0.1 m/s\n",
      "Closest object distance: 3.0 meters\n",
      "Calculated velocity: 0.2 m/s\n",
      "Closest object distance: 3.0 meters\n",
      "Calculated velocity: 0.0 m/s\n",
      "Closest object distance: 3.1 meters\n",
      "Calculated velocity: 0.3 m/s\n",
      "Closest object distance: 3.0 meters\n",
      "Calculated velocity: 0.2 m/s\n",
      "Closest object distance: 3.0 meters\n",
      "Calculated velocity: 0.1 m/s\n",
      "Closest object distance: 3.0 meters\n",
      "Calculated velocity: 0.1 m/s\n",
      "Closest object distance: 3.0 meters\n",
      "Calculated velocity: 0.1 m/s\n",
      "Closest object distance: 3.0 meters\n",
      "Calculated velocity: 0.0 m/s\n",
      "Closest object distance: 3.0 meters\n",
      "Calculated velocity: 0.0 m/s\n"
     ]
    },
    {
     "name": "stderr",
     "output_type": "stream",
     "text": [
      "C:\\Users\\Oz/.cache\\torch\\hub\\ultralytics_yolov5_master\\models\\common.py:892: FutureWarning: `torch.cuda.amp.autocast(args...)` is deprecated. Please use `torch.amp.autocast('cuda', args...)` instead.\n",
      "  with amp.autocast(autocast):\n",
      "C:\\Users\\Oz/.cache\\torch\\hub\\ultralytics_yolov5_master\\models\\common.py:892: FutureWarning: `torch.cuda.amp.autocast(args...)` is deprecated. Please use `torch.amp.autocast('cuda', args...)` instead.\n",
      "  with amp.autocast(autocast):\n"
     ]
    },
    {
     "name": "stdout",
     "output_type": "stream",
     "text": [
      "Closest object distance: 3.0 meters\n",
      "Calculated velocity: 0.0 m/s\n",
      "Closest object distance: 3.1 meters\n",
      "Calculated velocity: 0.3 m/s\n",
      "Closest object distance: 3.0 meters\n",
      "Calculated velocity: 0.2 m/s\n",
      "Closest object distance: 3.1 meters\n",
      "Calculated velocity: 0.3 m/s\n",
      "Closest object distance: 3.0 meters\n",
      "Calculated velocity: 0.1 m/s\n",
      "Closest object distance: 3.1 meters\n",
      "Calculated velocity: 0.3 m/s\n",
      "Closest object distance: 3.0 meters\n",
      "Calculated velocity: 0.0 m/s\n",
      "Closest object distance: 3.1 meters\n",
      "Calculated velocity: 0.4 m/s\n",
      "Closest object distance: 3.0 meters\n",
      "Calculated velocity: 0.0 m/s\n",
      "Closest object distance: 3.0 meters\n",
      "Calculated velocity: 0.0 m/s\n",
      "Closest object distance: 3.0 meters\n",
      "Calculated velocity: 0.0 m/s\n",
      "Closest object distance: 3.0 meters\n",
      "Calculated velocity: 0.2 m/s\n",
      "Closest object distance: 3.1 meters\n",
      "Calculated velocity: 0.3 m/s\n",
      "Closest object distance: 3.0 meters\n",
      "Calculated velocity: 0.0 m/s\n"
     ]
    },
    {
     "name": "stderr",
     "output_type": "stream",
     "text": [
      "C:\\Users\\Oz/.cache\\torch\\hub\\ultralytics_yolov5_master\\models\\common.py:892: FutureWarning: `torch.cuda.amp.autocast(args...)` is deprecated. Please use `torch.amp.autocast('cuda', args...)` instead.\n",
      "  with amp.autocast(autocast):\n",
      "C:\\Users\\Oz/.cache\\torch\\hub\\ultralytics_yolov5_master\\models\\common.py:892: FutureWarning: `torch.cuda.amp.autocast(args...)` is deprecated. Please use `torch.amp.autocast('cuda', args...)` instead.\n",
      "  with amp.autocast(autocast):\n"
     ]
    },
    {
     "name": "stdout",
     "output_type": "stream",
     "text": [
      "Closest object distance: 3.0 meters\n",
      "Calculated velocity: 0.0 m/s\n",
      "Closest object distance: 3.1 meters\n",
      "Calculated velocity: 0.4 m/s\n",
      "Closest object distance: 3.0 meters\n",
      "Calculated velocity: 0.1 m/s\n",
      "Closest object distance: 3.0 meters\n",
      "Calculated velocity: 0.1 m/s\n",
      "Closest object distance: 3.1 meters\n",
      "Calculated velocity: 0.3 m/s\n",
      "Closest object distance: 3.0 meters\n",
      "Calculated velocity: 0.0 m/s\n",
      "Closest object distance: 3.0 meters\n",
      "Calculated velocity: 0.0 m/s\n",
      "Closest object distance: 3.0 meters\n",
      "Calculated velocity: 0.1 m/s\n",
      "Closest object distance: 3.0 meters\n",
      "Calculated velocity: 0.0 m/s\n",
      "Closest object distance: 3.0 meters\n",
      "Calculated velocity: 0.1 m/s\n",
      "Closest object distance: 3.0 meters\n",
      "Calculated velocity: 0.0 m/s\n",
      "Closest object distance: 3.0 meters\n",
      "Calculated velocity: 0.0 m/s\n",
      "Closest object distance: 3.1 meters\n",
      "Calculated velocity: 0.3 m/s\n"
     ]
    },
    {
     "name": "stderr",
     "output_type": "stream",
     "text": [
      "C:\\Users\\Oz/.cache\\torch\\hub\\ultralytics_yolov5_master\\models\\common.py:892: FutureWarning: `torch.cuda.amp.autocast(args...)` is deprecated. Please use `torch.amp.autocast('cuda', args...)` instead.\n",
      "  with amp.autocast(autocast):\n"
     ]
    },
    {
     "name": "stdout",
     "output_type": "stream",
     "text": [
      "Closest object distance: 3.1 meters\n",
      "Calculated velocity: 0.5 m/s\n",
      "Closest object distance: 3.1 meters\n",
      "Calculated velocity: 0.3 m/s\n",
      "Closest object distance: 3.0 meters\n",
      "Calculated velocity: 0.2 m/s\n",
      "Closest object distance: 3.0 meters\n",
      "Calculated velocity: 0.2 m/s\n",
      "Closest object distance: 3.0 meters\n",
      "Calculated velocity: 0.0 m/s\n",
      "Closest object distance: 3.0 meters\n",
      "Calculated velocity: 0.2 m/s\n",
      "Closest object distance: 3.1 meters\n",
      "Calculated velocity: 0.3 m/s\n"
     ]
    },
    {
     "name": "stderr",
     "output_type": "stream",
     "text": [
      "C:\\Users\\Oz/.cache\\torch\\hub\\ultralytics_yolov5_master\\models\\common.py:892: FutureWarning: `torch.cuda.amp.autocast(args...)` is deprecated. Please use `torch.amp.autocast('cuda', args...)` instead.\n",
      "  with amp.autocast(autocast):\n",
      "C:\\Users\\Oz/.cache\\torch\\hub\\ultralytics_yolov5_master\\models\\common.py:892: FutureWarning: `torch.cuda.amp.autocast(args...)` is deprecated. Please use `torch.amp.autocast('cuda', args...)` instead.\n",
      "  with amp.autocast(autocast):\n"
     ]
    },
    {
     "name": "stdout",
     "output_type": "stream",
     "text": [
      "Closest object distance: 3.1 meters\n",
      "Calculated velocity: 0.6 m/s\n",
      "Closest object distance: 3.0 meters\n",
      "Calculated velocity: 0.1 m/s\n",
      "Closest object distance: 3.0 meters\n",
      "Calculated velocity: 0.0 m/s\n",
      "Closest object distance: 3.0 meters\n",
      "Calculated velocity: 0.2 m/s\n",
      "Closest object distance: 3.1 meters\n",
      "Calculated velocity: 0.2 m/s\n",
      "Closest object distance: 3.0 meters\n",
      "Calculated velocity: 0.2 m/s\n",
      "Closest object distance: 3.1 meters\n",
      "Calculated velocity: 0.2 m/s\n",
      "Closest object distance: 3.0 meters\n",
      "Calculated velocity: 0.0 m/s\n",
      "Closest object distance: 3.0 meters\n",
      "Calculated velocity: 0.0 m/s\n",
      "Closest object distance: 3.0 meters\n",
      "Calculated velocity: 0.1 m/s\n",
      "Closest object distance: 3.0 meters\n",
      "Calculated velocity: 0.1 m/s\n",
      "Closest object distance: 3.0 meters\n",
      "Calculated velocity: 0.0 m/s\n",
      "Closest object distance: 3.1 meters\n",
      "Calculated velocity: 0.4 m/s\n",
      "Closest object distance: 3.0 meters\n",
      "Calculated velocity: 0.2 m/s\n"
     ]
    },
    {
     "name": "stderr",
     "output_type": "stream",
     "text": [
      "C:\\Users\\Oz/.cache\\torch\\hub\\ultralytics_yolov5_master\\models\\common.py:892: FutureWarning: `torch.cuda.amp.autocast(args...)` is deprecated. Please use `torch.amp.autocast('cuda', args...)` instead.\n",
      "  with amp.autocast(autocast):\n",
      "C:\\Users\\Oz/.cache\\torch\\hub\\ultralytics_yolov5_master\\models\\common.py:892: FutureWarning: `torch.cuda.amp.autocast(args...)` is deprecated. Please use `torch.amp.autocast('cuda', args...)` instead.\n",
      "  with amp.autocast(autocast):\n"
     ]
    },
    {
     "name": "stdout",
     "output_type": "stream",
     "text": [
      "Closest object distance: 3.0 meters\n",
      "Calculated velocity: 0.1 m/s\n",
      "Closest object distance: 3.0 meters\n",
      "Calculated velocity: 0.0 m/s\n",
      "Closest object distance: 3.0 meters\n",
      "Calculated velocity: 0.0 m/s\n",
      "Closest object distance: 3.1 meters\n",
      "Calculated velocity: 0.4 m/s\n",
      "Closest object distance: 3.0 meters\n",
      "Calculated velocity: 0.1 m/s\n",
      "Closest object distance: 3.1 meters\n",
      "Calculated velocity: 0.4 m/s\n",
      "Closest object distance: 3.0 meters\n",
      "Calculated velocity: 0.0 m/s\n",
      "Closest object distance: 3.0 meters\n",
      "Calculated velocity: 0.2 m/s\n",
      "Closest object distance: 3.1 meters\n",
      "Calculated velocity: 0.3 m/s\n",
      "Closest object distance: 3.0 meters\n",
      "Calculated velocity: 0.0 m/s\n",
      "Closest object distance: 3.2 meters\n",
      "Calculated velocity: 0.7 m/s\n",
      "Closest object distance: 3.0 meters\n",
      "Calculated velocity: 0.1 m/s\n",
      "Closest object distance: 3.1 meters\n",
      "Calculated velocity: 0.3 m/s\n"
     ]
    },
    {
     "name": "stderr",
     "output_type": "stream",
     "text": [
      "C:\\Users\\Oz/.cache\\torch\\hub\\ultralytics_yolov5_master\\models\\common.py:892: FutureWarning: `torch.cuda.amp.autocast(args...)` is deprecated. Please use `torch.amp.autocast('cuda', args...)` instead.\n",
      "  with amp.autocast(autocast):\n"
     ]
    },
    {
     "name": "stdout",
     "output_type": "stream",
     "text": [
      "Closest object distance: 3.1 meters\n",
      "Calculated velocity: 0.3 m/s\n",
      "Closest object distance: 3.1 meters\n",
      "Calculated velocity: 0.6 m/s\n",
      "Closest object distance: 3.1 meters\n",
      "Calculated velocity: 0.3 m/s\n",
      "Closest object distance: 3.0 meters\n",
      "Calculated velocity: 0.1 m/s\n",
      "Closest object distance: 3.0 meters\n",
      "Calculated velocity: 0.0 m/s\n",
      "Closest object distance: 3.1 meters\n",
      "Calculated velocity: 0.3 m/s\n",
      "Closest object distance: 3.1 meters\n",
      "Calculated velocity: 0.3 m/s\n"
     ]
    },
    {
     "name": "stderr",
     "output_type": "stream",
     "text": [
      "C:\\Users\\Oz/.cache\\torch\\hub\\ultralytics_yolov5_master\\models\\common.py:892: FutureWarning: `torch.cuda.amp.autocast(args...)` is deprecated. Please use `torch.amp.autocast('cuda', args...)` instead.\n",
      "  with amp.autocast(autocast):\n"
     ]
    },
    {
     "name": "stdout",
     "output_type": "stream",
     "text": [
      "Closest object distance: 3.0 meters\n",
      "Calculated velocity: 0.2 m/s\n",
      "Closest object distance: 3.0 meters\n",
      "Calculated velocity: 0.1 m/s\n",
      "Closest object distance: 3.0 meters\n",
      "Calculated velocity: 0.0 m/s\n",
      "Closest object distance: 3.1 meters\n",
      "Calculated velocity: 0.2 m/s\n",
      "Closest object distance: 3.0 meters\n",
      "Calculated velocity: 0.0 m/s\n",
      "Closest object distance: 3.0 meters\n",
      "Calculated velocity: 0.0 m/s\n",
      "Closest object distance: 3.0 meters\n",
      "Calculated velocity: 0.0 m/s\n",
      "Closest object distance: 3.1 meters\n",
      "Calculated velocity: 0.5 m/s\n"
     ]
    },
    {
     "name": "stderr",
     "output_type": "stream",
     "text": [
      "C:\\Users\\Oz/.cache\\torch\\hub\\ultralytics_yolov5_master\\models\\common.py:892: FutureWarning: `torch.cuda.amp.autocast(args...)` is deprecated. Please use `torch.amp.autocast('cuda', args...)` instead.\n",
      "  with amp.autocast(autocast):\n",
      "C:\\Users\\Oz/.cache\\torch\\hub\\ultralytics_yolov5_master\\models\\common.py:892: FutureWarning: `torch.cuda.amp.autocast(args...)` is deprecated. Please use `torch.amp.autocast('cuda', args...)` instead.\n",
      "  with amp.autocast(autocast):\n"
     ]
    },
    {
     "name": "stdout",
     "output_type": "stream",
     "text": [
      "Closest object distance: 3.0 meters\n",
      "Calculated velocity: 0.0 m/s\n",
      "Closest object distance: 3.0 meters\n",
      "Calculated velocity: 0.1 m/s\n",
      "Closest object distance: 3.1 meters\n",
      "Calculated velocity: 0.3 m/s\n",
      "Closest object distance: 3.0 meters\n",
      "Calculated velocity: 0.1 m/s\n",
      "Closest object distance: 3.0 meters\n",
      "Calculated velocity: 0.0 m/s\n",
      "Closest object distance: 3.1 meters\n",
      "Calculated velocity: 0.3 m/s\n",
      "Closest object distance: 3.0 meters\n",
      "Calculated velocity: 0.1 m/s\n"
     ]
    },
    {
     "name": "stderr",
     "output_type": "stream",
     "text": [
      "C:\\Users\\Oz/.cache\\torch\\hub\\ultralytics_yolov5_master\\models\\common.py:892: FutureWarning: `torch.cuda.amp.autocast(args...)` is deprecated. Please use `torch.amp.autocast('cuda', args...)` instead.\n",
      "  with amp.autocast(autocast):\n",
      "C:\\Users\\Oz/.cache\\torch\\hub\\ultralytics_yolov5_master\\models\\common.py:892: FutureWarning: `torch.cuda.amp.autocast(args...)` is deprecated. Please use `torch.amp.autocast('cuda', args...)` instead.\n",
      "  with amp.autocast(autocast):\n"
     ]
    },
    {
     "name": "stdout",
     "output_type": "stream",
     "text": [
      "Closest object distance: 3.0 meters\n",
      "Calculated velocity: 0.0 m/s\n",
      "Closest object distance: 3.0 meters\n",
      "Calculated velocity: 0.1 m/s\n",
      "Closest object distance: 3.0 meters\n",
      "Calculated velocity: 0.1 m/s\n",
      "Closest object distance: 3.1 meters\n",
      "Calculated velocity: 0.2 m/s\n",
      "Closest object distance: 3.0 meters\n",
      "Calculated velocity: 0.1 m/s\n",
      "Closest object distance: 3.2 meters\n",
      "Calculated velocity: 0.9 m/s\n",
      "Closest object distance: 3.1 meters\n",
      "Calculated velocity: 0.3 m/s\n",
      "Closest object distance: 3.0 meters\n",
      "Calculated velocity: 0.0 m/s\n",
      "Closest object distance: 3.0 meters\n",
      "Calculated velocity: 0.0 m/s\n",
      "Closest object distance: 3.0 meters\n",
      "Calculated velocity: 0.0 m/s\n",
      "Closest object distance: 3.0 meters\n",
      "Calculated velocity: 0.1 m/s\n",
      "Closest object distance: 3.1 meters\n",
      "Calculated velocity: 0.3 m/s\n",
      "Closest object distance: 3.0 meters\n",
      "Calculated velocity: 0.1 m/s\n",
      "Closest object distance: 3.0 meters\n",
      "Calculated velocity: 0.0 m/s\n"
     ]
    },
    {
     "name": "stderr",
     "output_type": "stream",
     "text": [
      "C:\\Users\\Oz/.cache\\torch\\hub\\ultralytics_yolov5_master\\models\\common.py:892: FutureWarning: `torch.cuda.amp.autocast(args...)` is deprecated. Please use `torch.amp.autocast('cuda', args...)` instead.\n",
      "  with amp.autocast(autocast):\n",
      "C:\\Users\\Oz/.cache\\torch\\hub\\ultralytics_yolov5_master\\models\\common.py:892: FutureWarning: `torch.cuda.amp.autocast(args...)` is deprecated. Please use `torch.amp.autocast('cuda', args...)` instead.\n",
      "  with amp.autocast(autocast):\n"
     ]
    },
    {
     "name": "stdout",
     "output_type": "stream",
     "text": [
      "Closest object distance: 3.0 meters\n",
      "Calculated velocity: 0.0 m/s\n",
      "Closest object distance: 3.1 meters\n",
      "Calculated velocity: 0.4 m/s\n",
      "Closest object distance: 3.0 meters\n",
      "Calculated velocity: 0.0 m/s\n",
      "Closest object distance: 3.0 meters\n",
      "Calculated velocity: 0.1 m/s\n",
      "Closest object distance: 3.0 meters\n",
      "Calculated velocity: 0.2 m/s\n",
      "Closest object distance: 3.0 meters\n",
      "Calculated velocity: 0.2 m/s\n",
      "Closest object distance: 3.0 meters\n",
      "Calculated velocity: 0.0 m/s\n",
      "Closest object distance: 3.0 meters\n",
      "Calculated velocity: 0.0 m/s\n",
      "Closest object distance: 3.0 meters\n",
      "Calculated velocity: 0.0 m/s\n",
      "Closest object distance: 3.2 meters\n",
      "Calculated velocity: 0.7 m/s\n",
      "Closest object distance: 3.1 meters\n",
      "Calculated velocity: 0.3 m/s\n",
      "Closest object distance: 3.0 meters\n",
      "Calculated velocity: 0.0 m/s\n",
      "Closest object distance: 3.1 meters\n",
      "Calculated velocity: 0.4 m/s\n",
      "Closest object distance: 3.0 meters\n",
      "Calculated velocity: 0.0 m/s\n"
     ]
    },
    {
     "name": "stderr",
     "output_type": "stream",
     "text": [
      "C:\\Users\\Oz/.cache\\torch\\hub\\ultralytics_yolov5_master\\models\\common.py:892: FutureWarning: `torch.cuda.amp.autocast(args...)` is deprecated. Please use `torch.amp.autocast('cuda', args...)` instead.\n",
      "  with amp.autocast(autocast):\n"
     ]
    },
    {
     "name": "stdout",
     "output_type": "stream",
     "text": [
      "Closest object distance: 3.0 meters\n",
      "Calculated velocity: 0.0 m/s\n",
      "Closest object distance: 3.0 meters\n",
      "Calculated velocity: 0.0 m/s\n",
      "Closest object distance: 3.0 meters\n",
      "Calculated velocity: 0.1 m/s\n",
      "Closest object distance: 3.0 meters\n",
      "Calculated velocity: 0.0 m/s\n",
      "Closest object distance: 3.1 meters\n",
      "Calculated velocity: 0.2 m/s\n",
      "Closest object distance: 3.2 meters\n",
      "Calculated velocity: 0.7 m/s\n",
      "Closest object distance: 3.0 meters\n",
      "Calculated velocity: 0.1 m/s\n"
     ]
    },
    {
     "name": "stderr",
     "output_type": "stream",
     "text": [
      "C:\\Users\\Oz/.cache\\torch\\hub\\ultralytics_yolov5_master\\models\\common.py:892: FutureWarning: `torch.cuda.amp.autocast(args...)` is deprecated. Please use `torch.amp.autocast('cuda', args...)` instead.\n",
      "  with amp.autocast(autocast):\n"
     ]
    },
    {
     "name": "stdout",
     "output_type": "stream",
     "text": [
      "Closest object distance: 3.0 meters\n",
      "Calculated velocity: 0.0 m/s\n",
      "Closest object distance: 3.0 meters\n",
      "Calculated velocity: 0.0 m/s\n",
      "Closest object distance: 3.2 meters\n",
      "Calculated velocity: 0.9 m/s\n",
      "Closest object distance: 3.1 meters\n",
      "Calculated velocity: 0.3 m/s\n",
      "Closest object distance: 3.0 meters\n",
      "Calculated velocity: 0.0 m/s\n",
      "Closest object distance: 3.0 meters\n",
      "Calculated velocity: 0.0 m/s\n",
      "Closest object distance: 3.1 meters\n",
      "Calculated velocity: 0.4 m/s\n"
     ]
    },
    {
     "name": "stderr",
     "output_type": "stream",
     "text": [
      "C:\\Users\\Oz/.cache\\torch\\hub\\ultralytics_yolov5_master\\models\\common.py:892: FutureWarning: `torch.cuda.amp.autocast(args...)` is deprecated. Please use `torch.amp.autocast('cuda', args...)` instead.\n",
      "  with amp.autocast(autocast):\n"
     ]
    },
    {
     "name": "stdout",
     "output_type": "stream",
     "text": [
      "Closest object distance: 3.0 meters\n",
      "Calculated velocity: 0.1 m/s\n",
      "Closest object distance: 3.0 meters\n",
      "Calculated velocity: 0.1 m/s\n",
      "Closest object distance: 3.0 meters\n",
      "Calculated velocity: 0.2 m/s\n",
      "Closest object distance: 3.0 meters\n",
      "Calculated velocity: 0.2 m/s\n",
      "Closest object distance: 3.1 meters\n",
      "Calculated velocity: 0.4 m/s\n",
      "Closest object distance: 3.0 meters\n",
      "Calculated velocity: 0.2 m/s\n",
      "Closest object distance: 3.1 meters\n",
      "Calculated velocity: 0.3 m/s\n"
     ]
    },
    {
     "name": "stderr",
     "output_type": "stream",
     "text": [
      "C:\\Users\\Oz/.cache\\torch\\hub\\ultralytics_yolov5_master\\models\\common.py:892: FutureWarning: `torch.cuda.amp.autocast(args...)` is deprecated. Please use `torch.amp.autocast('cuda', args...)` instead.\n",
      "  with amp.autocast(autocast):\n"
     ]
    },
    {
     "name": "stdout",
     "output_type": "stream",
     "text": [
      "Closest object distance: 3.0 meters\n",
      "Calculated velocity: 0.2 m/s\n",
      "Closest object distance: 3.0 meters\n",
      "Calculated velocity: 0.0 m/s\n",
      "Closest object distance: 3.0 meters\n",
      "Calculated velocity: 0.0 m/s\n",
      "Closest object distance: 3.1 meters\n",
      "Calculated velocity: 0.3 m/s\n",
      "Closest object distance: 3.0 meters\n",
      "Calculated velocity: 0.1 m/s\n",
      "Closest object distance: 3.0 meters\n",
      "Calculated velocity: 0.2 m/s\n",
      "Closest object distance: 3.0 meters\n",
      "Calculated velocity: 0.0 m/s\n",
      "Closest object distance: 3.1 meters\n",
      "Calculated velocity: 0.3 m/s\n"
     ]
    },
    {
     "name": "stderr",
     "output_type": "stream",
     "text": [
      "C:\\Users\\Oz/.cache\\torch\\hub\\ultralytics_yolov5_master\\models\\common.py:892: FutureWarning: `torch.cuda.amp.autocast(args...)` is deprecated. Please use `torch.amp.autocast('cuda', args...)` instead.\n",
      "  with amp.autocast(autocast):\n",
      "C:\\Users\\Oz/.cache\\torch\\hub\\ultralytics_yolov5_master\\models\\common.py:892: FutureWarning: `torch.cuda.amp.autocast(args...)` is deprecated. Please use `torch.amp.autocast('cuda', args...)` instead.\n",
      "  with amp.autocast(autocast):\n"
     ]
    },
    {
     "name": "stdout",
     "output_type": "stream",
     "text": [
      "Closest object distance: 3.2 meters\n",
      "Calculated velocity: 1.0 m/s\n",
      "Closest object distance: 3.1 meters\n",
      "Calculated velocity: 0.6 m/s\n",
      "Closest object distance: 3.0 meters\n",
      "Calculated velocity: 0.0 m/s\n",
      "Closest object distance: 3.0 meters\n",
      "Calculated velocity: 0.0 m/s\n",
      "Closest object distance: 3.0 meters\n",
      "Calculated velocity: 0.0 m/s\n",
      "Closest object distance: 3.0 meters\n",
      "Calculated velocity: 0.0 m/s\n",
      "Closest object distance: 3.2 meters\n",
      "Calculated velocity: 0.8 m/s\n",
      "Closest object distance: 3.0 meters\n",
      "Calculated velocity: 0.1 m/s\n",
      "Closest object distance: 3.1 meters\n",
      "Calculated velocity: 0.6 m/s\n",
      "Closest object distance: 3.1 meters\n",
      "Calculated velocity: 0.4 m/s\n",
      "Closest object distance: 3.1 meters\n",
      "Calculated velocity: 0.3 m/s\n",
      "Closest object distance: 3.0 meters\n",
      "Calculated velocity: 0.1 m/s\n",
      "Closest object distance: 3.0 meters\n",
      "Calculated velocity: 0.0 m/s\n",
      "Closest object distance: 3.1 meters\n",
      "Calculated velocity: 0.6 m/s\n"
     ]
    },
    {
     "name": "stderr",
     "output_type": "stream",
     "text": [
      "C:\\Users\\Oz/.cache\\torch\\hub\\ultralytics_yolov5_master\\models\\common.py:892: FutureWarning: `torch.cuda.amp.autocast(args...)` is deprecated. Please use `torch.amp.autocast('cuda', args...)` instead.\n",
      "  with amp.autocast(autocast):\n",
      "C:\\Users\\Oz/.cache\\torch\\hub\\ultralytics_yolov5_master\\models\\common.py:892: FutureWarning: `torch.cuda.amp.autocast(args...)` is deprecated. Please use `torch.amp.autocast('cuda', args...)` instead.\n",
      "  with amp.autocast(autocast):\n"
     ]
    },
    {
     "name": "stdout",
     "output_type": "stream",
     "text": [
      "Closest object distance: 3.0 meters\n",
      "Calculated velocity: 0.1 m/s\n",
      "Closest object distance: 3.0 meters\n",
      "Calculated velocity: 0.0 m/s\n",
      "Closest object distance: 3.1 meters\n",
      "Calculated velocity: 0.3 m/s\n",
      "Closest object distance: 3.0 meters\n",
      "Calculated velocity: 0.0 m/s\n",
      "Closest object distance: 3.0 meters\n",
      "Calculated velocity: 0.0 m/s\n",
      "Closest object distance: 3.0 meters\n",
      "Calculated velocity: 0.2 m/s\n",
      "Closest object distance: 3.0 meters\n",
      "Calculated velocity: 0.2 m/s\n",
      "Closest object distance: 3.0 meters\n",
      "Calculated velocity: 0.1 m/s\n",
      "Closest object distance: 3.0 meters\n",
      "Calculated velocity: 0.1 m/s\n",
      "Closest object distance: 3.0 meters\n",
      "Calculated velocity: 0.1 m/s\n",
      "Closest object distance: 3.0 meters\n",
      "Calculated velocity: 0.1 m/s\n",
      "Closest object distance: 3.0 meters\n",
      "Calculated velocity: 0.0 m/s\n",
      "Closest object distance: 3.0 meters\n",
      "Calculated velocity: 0.0 m/s\n",
      "Closest object distance: 3.0 meters\n",
      "Calculated velocity: 0.2 m/s\n",
      "Closest object distance: 3.1 meters\n",
      "Calculated velocity: 0.4 m/s\n"
     ]
    },
    {
     "name": "stderr",
     "output_type": "stream",
     "text": [
      "C:\\Users\\Oz/.cache\\torch\\hub\\ultralytics_yolov5_master\\models\\common.py:892: FutureWarning: `torch.cuda.amp.autocast(args...)` is deprecated. Please use `torch.amp.autocast('cuda', args...)` instead.\n",
      "  with amp.autocast(autocast):\n",
      "C:\\Users\\Oz/.cache\\torch\\hub\\ultralytics_yolov5_master\\models\\common.py:892: FutureWarning: `torch.cuda.amp.autocast(args...)` is deprecated. Please use `torch.amp.autocast('cuda', args...)` instead.\n",
      "  with amp.autocast(autocast):\n"
     ]
    },
    {
     "name": "stdout",
     "output_type": "stream",
     "text": [
      "Closest object distance: 3.0 meters\n",
      "Calculated velocity: 0.0 m/s\n",
      "Closest object distance: 3.1 meters\n",
      "Calculated velocity: 0.4 m/s\n",
      "Closest object distance: 3.0 meters\n",
      "Calculated velocity: 0.2 m/s\n",
      "Closest object distance: 3.0 meters\n",
      "Calculated velocity: 0.0 m/s\n",
      "Closest object distance: 3.0 meters\n",
      "Calculated velocity: 0.0 m/s\n",
      "Closest object distance: 3.1 meters\n",
      "Calculated velocity: 0.4 m/s\n",
      "Closest object distance: 3.0 meters\n",
      "Calculated velocity: 0.0 m/s\n"
     ]
    },
    {
     "name": "stderr",
     "output_type": "stream",
     "text": [
      "C:\\Users\\Oz/.cache\\torch\\hub\\ultralytics_yolov5_master\\models\\common.py:892: FutureWarning: `torch.cuda.amp.autocast(args...)` is deprecated. Please use `torch.amp.autocast('cuda', args...)` instead.\n",
      "  with amp.autocast(autocast):\n"
     ]
    },
    {
     "name": "stdout",
     "output_type": "stream",
     "text": [
      "Closest object distance: 3.0 meters\n",
      "Calculated velocity: 0.1 m/s\n",
      "Closest object distance: 3.2 meters\n",
      "Calculated velocity: 0.8 m/s\n",
      "Closest object distance: 3.0 meters\n",
      "Calculated velocity: 0.0 m/s\n",
      "Closest object distance: 3.0 meters\n",
      "Calculated velocity: 0.2 m/s\n",
      "Closest object distance: 3.0 meters\n",
      "Calculated velocity: 0.1 m/s\n",
      "Closest object distance: 3.0 meters\n",
      "Calculated velocity: 0.0 m/s\n",
      "Closest object distance: 3.0 meters\n",
      "Calculated velocity: 0.0 m/s\n",
      "Closest object distance: 3.0 meters\n",
      "Calculated velocity: 0.0 m/s\n",
      "Closest object distance: 3.2 meters\n",
      "Calculated velocity: 0.7 m/s\n",
      "Closest object distance: 3.0 meters\n",
      "Calculated velocity: 0.0 m/s\n",
      "Closest object distance: 3.2 meters\n",
      "Calculated velocity: 0.8 m/s\n",
      "Closest object distance: 3.0 meters\n",
      "Calculated velocity: 0.0 m/s\n",
      "Closest object distance: 3.0 meters\n",
      "Calculated velocity: 0.0 m/s\n",
      "Closest object distance: 3.0 meters\n",
      "Calculated velocity: 0.1 m/s\n"
     ]
    },
    {
     "name": "stderr",
     "output_type": "stream",
     "text": [
      "C:\\Users\\Oz/.cache\\torch\\hub\\ultralytics_yolov5_master\\models\\common.py:892: FutureWarning: `torch.cuda.amp.autocast(args...)` is deprecated. Please use `torch.amp.autocast('cuda', args...)` instead.\n",
      "  with amp.autocast(autocast):\n",
      "C:\\Users\\Oz/.cache\\torch\\hub\\ultralytics_yolov5_master\\models\\common.py:892: FutureWarning: `torch.cuda.amp.autocast(args...)` is deprecated. Please use `torch.amp.autocast('cuda', args...)` instead.\n",
      "  with amp.autocast(autocast):\n"
     ]
    },
    {
     "name": "stdout",
     "output_type": "stream",
     "text": [
      "Closest object distance: 3.1 meters\n",
      "Calculated velocity: 0.4 m/s\n",
      "Closest object distance: 3.0 meters\n",
      "Calculated velocity: 0.1 m/s\n",
      "Closest object distance: 3.1 meters\n",
      "Calculated velocity: 0.5 m/s\n",
      "Closest object distance: 3.0 meters\n",
      "Calculated velocity: 0.1 m/s\n",
      "Closest object distance: 3.1 meters\n",
      "Calculated velocity: 0.2 m/s\n",
      "Closest object distance: 3.0 meters\n",
      "Calculated velocity: 0.0 m/s\n",
      "Closest object distance: 3.1 meters\n",
      "Calculated velocity: 0.2 m/s\n"
     ]
    },
    {
     "name": "stderr",
     "output_type": "stream",
     "text": [
      "C:\\Users\\Oz/.cache\\torch\\hub\\ultralytics_yolov5_master\\models\\common.py:892: FutureWarning: `torch.cuda.amp.autocast(args...)` is deprecated. Please use `torch.amp.autocast('cuda', args...)` instead.\n",
      "  with amp.autocast(autocast):\n",
      "C:\\Users\\Oz/.cache\\torch\\hub\\ultralytics_yolov5_master\\models\\common.py:892: FutureWarning: `torch.cuda.amp.autocast(args...)` is deprecated. Please use `torch.amp.autocast('cuda', args...)` instead.\n",
      "  with amp.autocast(autocast):\n"
     ]
    },
    {
     "name": "stdout",
     "output_type": "stream",
     "text": [
      "Closest object distance: 3.0 meters\n",
      "Calculated velocity: 0.0 m/s\n",
      "Closest object distance: 3.0 meters\n",
      "Calculated velocity: 0.1 m/s\n",
      "Closest object distance: 3.0 meters\n",
      "Calculated velocity: 0.1 m/s\n",
      "Closest object distance: 3.0 meters\n",
      "Calculated velocity: 0.2 m/s\n",
      "Closest object distance: 3.1 meters\n",
      "Calculated velocity: 0.3 m/s\n",
      "Closest object distance: 3.0 meters\n",
      "Calculated velocity: 0.1 m/s\n",
      "Closest object distance: 3.0 meters\n",
      "Calculated velocity: 0.2 m/s\n",
      "Closest object distance: 3.0 meters\n",
      "Calculated velocity: 0.2 m/s\n",
      "Closest object distance: 3.0 meters\n",
      "Calculated velocity: 0.0 m/s\n",
      "Closest object distance: 3.0 meters\n",
      "Calculated velocity: 0.1 m/s\n",
      "Closest object distance: 3.0 meters\n",
      "Calculated velocity: 0.0 m/s\n",
      "Closest object distance: 3.0 meters\n",
      "Calculated velocity: 0.0 m/s\n",
      "Closest object distance: 3.2 meters\n",
      "Calculated velocity: 0.7 m/s\n",
      "Closest object distance: 3.1 meters\n",
      "Calculated velocity: 0.4 m/s\n"
     ]
    },
    {
     "name": "stderr",
     "output_type": "stream",
     "text": [
      "C:\\Users\\Oz/.cache\\torch\\hub\\ultralytics_yolov5_master\\models\\common.py:892: FutureWarning: `torch.cuda.amp.autocast(args...)` is deprecated. Please use `torch.amp.autocast('cuda', args...)` instead.\n",
      "  with amp.autocast(autocast):\n"
     ]
    },
    {
     "name": "stdout",
     "output_type": "stream",
     "text": [
      "Closest object distance: 3.1 meters\n",
      "Calculated velocity: 0.2 m/s\n",
      "Closest object distance: 3.1 meters\n",
      "Calculated velocity: 0.3 m/s\n",
      "Closest object distance: 3.0 meters\n",
      "Calculated velocity: 0.2 m/s\n",
      "Closest object distance: 3.1 meters\n",
      "Calculated velocity: 0.4 m/s\n",
      "Closest object distance: 3.0 meters\n",
      "Calculated velocity: 0.1 m/s\n",
      "Closest object distance: 3.0 meters\n",
      "Calculated velocity: 0.1 m/s\n",
      "Closest object distance: 3.0 meters\n",
      "Calculated velocity: 0.0 m/s\n"
     ]
    },
    {
     "name": "stderr",
     "output_type": "stream",
     "text": [
      "C:\\Users\\Oz/.cache\\torch\\hub\\ultralytics_yolov5_master\\models\\common.py:892: FutureWarning: `torch.cuda.amp.autocast(args...)` is deprecated. Please use `torch.amp.autocast('cuda', args...)` instead.\n",
      "  with amp.autocast(autocast):\n"
     ]
    },
    {
     "name": "stdout",
     "output_type": "stream",
     "text": [
      "Closest object distance: 3.0 meters\n",
      "Calculated velocity: 0.0 m/s\n",
      "Closest object distance: 3.0 meters\n",
      "Calculated velocity: 0.0 m/s\n",
      "Closest object distance: 3.2 meters\n",
      "Calculated velocity: 0.9 m/s\n",
      "Closest object distance: 3.0 meters\n",
      "Calculated velocity: 0.1 m/s\n",
      "Closest object distance: 3.0 meters\n",
      "Calculated velocity: 0.2 m/s\n",
      "Closest object distance: 3.0 meters\n",
      "Calculated velocity: 0.0 m/s\n"
     ]
    },
    {
     "name": "stderr",
     "output_type": "stream",
     "text": [
      "C:\\Users\\Oz/.cache\\torch\\hub\\ultralytics_yolov5_master\\models\\common.py:892: FutureWarning: `torch.cuda.amp.autocast(args...)` is deprecated. Please use `torch.amp.autocast('cuda', args...)` instead.\n",
      "  with amp.autocast(autocast):\n"
     ]
    },
    {
     "name": "stdout",
     "output_type": "stream",
     "text": [
      "Closest object distance: 3.0 meters\n",
      "Calculated velocity: 0.1 m/s\n",
      "Closest object distance: 3.1 meters\n",
      "Calculated velocity: 0.3 m/s\n",
      "Closest object distance: 3.0 meters\n",
      "Calculated velocity: 0.1 m/s\n",
      "Closest object distance: 3.0 meters\n",
      "Calculated velocity: 0.2 m/s\n",
      "Closest object distance: 3.0 meters\n",
      "Calculated velocity: 0.1 m/s\n",
      "Closest object distance: 3.0 meters\n",
      "Calculated velocity: 0.0 m/s\n",
      "Closest object distance: 3.0 meters\n",
      "Calculated velocity: 0.0 m/s\n"
     ]
    },
    {
     "name": "stderr",
     "output_type": "stream",
     "text": [
      "C:\\Users\\Oz/.cache\\torch\\hub\\ultralytics_yolov5_master\\models\\common.py:892: FutureWarning: `torch.cuda.amp.autocast(args...)` is deprecated. Please use `torch.amp.autocast('cuda', args...)` instead.\n",
      "  with amp.autocast(autocast):\n",
      "C:\\Users\\Oz/.cache\\torch\\hub\\ultralytics_yolov5_master\\models\\common.py:892: FutureWarning: `torch.cuda.amp.autocast(args...)` is deprecated. Please use `torch.amp.autocast('cuda', args...)` instead.\n",
      "  with amp.autocast(autocast):\n"
     ]
    },
    {
     "name": "stdout",
     "output_type": "stream",
     "text": [
      "Closest object distance: 3.1 meters\n",
      "Calculated velocity: 0.4 m/s\n",
      "Closest object distance: 3.0 meters\n",
      "Calculated velocity: 0.0 m/s\n",
      "Closest object distance: 3.0 meters\n",
      "Calculated velocity: 0.0 m/s\n",
      "Closest object distance: 3.0 meters\n",
      "Calculated velocity: 0.0 m/s\n",
      "Closest object distance: 3.0 meters\n",
      "Calculated velocity: 0.2 m/s\n",
      "Closest object distance: 3.0 meters\n",
      "Calculated velocity: 0.2 m/s\n",
      "Closest object distance: 3.0 meters\n",
      "Calculated velocity: 0.1 m/s\n",
      "Closest object distance: 3.0 meters\n",
      "Calculated velocity: 0.1 m/s\n",
      "Closest object distance: 3.0 meters\n",
      "Calculated velocity: 0.1 m/s\n",
      "Closest object distance: 3.1 meters\n",
      "Calculated velocity: 0.5 m/s\n",
      "Closest object distance: 3.0 meters\n",
      "Calculated velocity: 0.0 m/s\n",
      "Closest object distance: 3.0 meters\n",
      "Calculated velocity: 0.0 m/s\n"
     ]
    },
    {
     "name": "stderr",
     "output_type": "stream",
     "text": [
      "C:\\Users\\Oz/.cache\\torch\\hub\\ultralytics_yolov5_master\\models\\common.py:892: FutureWarning: `torch.cuda.amp.autocast(args...)` is deprecated. Please use `torch.amp.autocast('cuda', args...)` instead.\n",
      "  with amp.autocast(autocast):\n",
      "C:\\Users\\Oz/.cache\\torch\\hub\\ultralytics_yolov5_master\\models\\common.py:892: FutureWarning: `torch.cuda.amp.autocast(args...)` is deprecated. Please use `torch.amp.autocast('cuda', args...)` instead.\n",
      "  with amp.autocast(autocast):\n"
     ]
    },
    {
     "name": "stdout",
     "output_type": "stream",
     "text": [
      "Closest object distance: 3.1 meters\n",
      "Calculated velocity: 0.5 m/s\n",
      "Closest object distance: 3.0 meters\n",
      "Calculated velocity: 0.0 m/s\n",
      "Closest object distance: 3.0 meters\n",
      "Calculated velocity: 0.0 m/s\n",
      "Closest object distance: 3.0 meters\n",
      "Calculated velocity: 0.1 m/s\n",
      "Closest object distance: 3.0 meters\n",
      "Calculated velocity: 0.2 m/s\n",
      "Closest object distance: 3.0 meters\n",
      "Calculated velocity: 0.0 m/s\n",
      "Closest object distance: 3.0 meters\n",
      "Calculated velocity: 0.0 m/s\n",
      "Closest object distance: 3.1 meters\n",
      "Calculated velocity: 0.2 m/s\n",
      "Closest object distance: 3.0 meters\n",
      "Calculated velocity: 0.1 m/s\n",
      "Closest object distance: 3.0 meters\n",
      "Calculated velocity: 0.1 m/s\n",
      "Closest object distance: 3.0 meters\n",
      "Calculated velocity: 0.0 m/s\n",
      "Closest object distance: 3.1 meters\n",
      "Calculated velocity: 0.4 m/s\n",
      "Closest object distance: 3.0 meters\n",
      "Calculated velocity: 0.0 m/s\n",
      "Closest object distance: 3.0 meters\n",
      "Calculated velocity: 0.1 m/s\n"
     ]
    },
    {
     "name": "stderr",
     "output_type": "stream",
     "text": [
      "C:\\Users\\Oz/.cache\\torch\\hub\\ultralytics_yolov5_master\\models\\common.py:892: FutureWarning: `torch.cuda.amp.autocast(args...)` is deprecated. Please use `torch.amp.autocast('cuda', args...)` instead.\n",
      "  with amp.autocast(autocast):\n"
     ]
    },
    {
     "name": "stdout",
     "output_type": "stream",
     "text": [
      "Closest object distance: 3.0 meters\n",
      "Calculated velocity: 0.0 m/s\n",
      "Closest object distance: 3.0 meters\n",
      "Calculated velocity: 0.1 m/s\n",
      "Closest object distance: 3.1 meters\n",
      "Calculated velocity: 0.5 m/s\n",
      "Closest object distance: 3.0 meters\n",
      "Calculated velocity: 0.2 m/s\n",
      "Closest object distance: 3.1 meters\n",
      "Calculated velocity: 0.6 m/s\n",
      "Closest object distance: 3.0 meters\n",
      "Calculated velocity: 0.0 m/s\n",
      "Closest object distance: 3.0 meters\n",
      "Calculated velocity: 0.0 m/s\n",
      "Closest object distance: 3.1 meters\n",
      "Calculated velocity: 0.6 m/s\n",
      "Closest object distance: 3.0 meters\n",
      "Calculated velocity: 0.1 m/s\n",
      "Closest object distance: 3.0 meters\n",
      "Calculated velocity: 0.1 m/s\n",
      "Closest object distance: 3.0 meters\n",
      "Calculated velocity: 0.1 m/s\n",
      "Closest object distance: 3.0 meters\n",
      "Calculated velocity: 0.2 m/s\n",
      "Closest object distance: 3.0 meters\n",
      "Calculated velocity: 0.0 m/s\n"
     ]
    },
    {
     "name": "stderr",
     "output_type": "stream",
     "text": [
      "C:\\Users\\Oz/.cache\\torch\\hub\\ultralytics_yolov5_master\\models\\common.py:892: FutureWarning: `torch.cuda.amp.autocast(args...)` is deprecated. Please use `torch.amp.autocast('cuda', args...)` instead.\n",
      "  with amp.autocast(autocast):\n"
     ]
    },
    {
     "name": "stdout",
     "output_type": "stream",
     "text": [
      "Closest object distance: 3.0 meters\n",
      "Calculated velocity: 0.0 m/s\n",
      "Closest object distance: 3.0 meters\n",
      "Calculated velocity: 0.0 m/s\n",
      "Closest object distance: 3.1 meters\n",
      "Calculated velocity: 0.4 m/s\n",
      "Closest object distance: 3.0 meters\n",
      "Calculated velocity: 0.2 m/s\n",
      "Closest object distance: 3.0 meters\n",
      "Calculated velocity: 0.0 m/s\n",
      "Closest object distance: 3.1 meters\n",
      "Calculated velocity: 0.3 m/s\n",
      "Closest object distance: 3.1 meters\n",
      "Calculated velocity: 0.3 m/s\n",
      "Closest object distance: 3.0 meters\n",
      "Calculated velocity: 0.1 m/s\n",
      "Closest object distance: 3.0 meters\n",
      "Calculated velocity: 0.1 m/s\n"
     ]
    },
    {
     "name": "stderr",
     "output_type": "stream",
     "text": [
      "C:\\Users\\Oz/.cache\\torch\\hub\\ultralytics_yolov5_master\\models\\common.py:892: FutureWarning: `torch.cuda.amp.autocast(args...)` is deprecated. Please use `torch.amp.autocast('cuda', args...)` instead.\n",
      "  with amp.autocast(autocast):\n",
      "C:\\Users\\Oz/.cache\\torch\\hub\\ultralytics_yolov5_master\\models\\common.py:892: FutureWarning: `torch.cuda.amp.autocast(args...)` is deprecated. Please use `torch.amp.autocast('cuda', args...)` instead.\n",
      "  with amp.autocast(autocast):\n"
     ]
    },
    {
     "name": "stdout",
     "output_type": "stream",
     "text": [
      "Closest object distance: 3.0 meters\n",
      "Calculated velocity: 0.0 m/s\n",
      "Closest object distance: 3.0 meters\n",
      "Calculated velocity: 0.0 m/s\n",
      "Closest object distance: 3.0 meters\n",
      "Calculated velocity: 0.0 m/s\n",
      "Closest object distance: 3.0 meters\n",
      "Calculated velocity: 0.0 m/s\n",
      "Closest object distance: 3.0 meters\n",
      "Calculated velocity: 0.0 m/s\n",
      "Closest object distance: 3.2 meters\n",
      "Calculated velocity: 0.8 m/s\n",
      "Closest object distance: 3.0 meters\n",
      "Calculated velocity: 0.0 m/s\n"
     ]
    },
    {
     "name": "stderr",
     "output_type": "stream",
     "text": [
      "C:\\Users\\Oz/.cache\\torch\\hub\\ultralytics_yolov5_master\\models\\common.py:892: FutureWarning: `torch.cuda.amp.autocast(args...)` is deprecated. Please use `torch.amp.autocast('cuda', args...)` instead.\n",
      "  with amp.autocast(autocast):\n",
      "C:\\Users\\Oz/.cache\\torch\\hub\\ultralytics_yolov5_master\\models\\common.py:892: FutureWarning: `torch.cuda.amp.autocast(args...)` is deprecated. Please use `torch.amp.autocast('cuda', args...)` instead.\n",
      "  with amp.autocast(autocast):\n"
     ]
    },
    {
     "name": "stdout",
     "output_type": "stream",
     "text": [
      "Closest object distance: 3.0 meters\n",
      "Calculated velocity: 0.0 m/s\n",
      "Closest object distance: 3.0 meters\n",
      "Calculated velocity: 0.0 m/s\n",
      "Closest object distance: 3.0 meters\n",
      "Calculated velocity: 0.1 m/s\n",
      "Closest object distance: 3.1 meters\n",
      "Calculated velocity: 0.4 m/s\n",
      "Closest object distance: 3.2 meters\n",
      "Calculated velocity: 0.7 m/s\n",
      "Closest object distance: 3.0 meters\n",
      "Calculated velocity: 0.0 m/s\n",
      "Closest object distance: 3.0 meters\n",
      "Calculated velocity: 0.0 m/s\n",
      "Closest object distance: 3.0 meters\n",
      "Calculated velocity: 0.1 m/s\n",
      "Closest object distance: 3.1 meters\n",
      "Calculated velocity: 0.5 m/s\n",
      "Closest object distance: 3.2 meters\n",
      "Calculated velocity: 0.8 m/s\n",
      "Closest object distance: 3.0 meters\n",
      "Calculated velocity: 0.2 m/s\n",
      "Closest object distance: 3.1 meters\n",
      "Calculated velocity: 0.3 m/s\n",
      "Closest object distance: 3.0 meters\n",
      "Calculated velocity: 0.1 m/s\n",
      "Closest object distance: 3.1 meters\n",
      "Calculated velocity: 0.5 m/s\n",
      "Closest object distance: 3.0 meters\n",
      "Calculated velocity: 0.2 m/s\n"
     ]
    },
    {
     "name": "stderr",
     "output_type": "stream",
     "text": [
      "C:\\Users\\Oz/.cache\\torch\\hub\\ultralytics_yolov5_master\\models\\common.py:892: FutureWarning: `torch.cuda.amp.autocast(args...)` is deprecated. Please use `torch.amp.autocast('cuda', args...)` instead.\n",
      "  with amp.autocast(autocast):\n"
     ]
    },
    {
     "name": "stdout",
     "output_type": "stream",
     "text": [
      "Closest object distance: 3.0 meters\n",
      "Calculated velocity: 0.2 m/s\n",
      "Closest object distance: 3.1 meters\n",
      "Calculated velocity: 0.4 m/s\n",
      "Closest object distance: 3.0 meters\n",
      "Calculated velocity: 0.2 m/s\n",
      "Closest object distance: 3.0 meters\n",
      "Calculated velocity: 0.0 m/s\n",
      "Closest object distance: 3.1 meters\n",
      "Calculated velocity: 0.6 m/s\n",
      "Closest object distance: 3.0 meters\n",
      "Calculated velocity: 0.0 m/s\n",
      "Closest object distance: 3.2 meters\n",
      "Calculated velocity: 0.8 m/s\n"
     ]
    },
    {
     "name": "stderr",
     "output_type": "stream",
     "text": [
      "C:\\Users\\Oz/.cache\\torch\\hub\\ultralytics_yolov5_master\\models\\common.py:892: FutureWarning: `torch.cuda.amp.autocast(args...)` is deprecated. Please use `torch.amp.autocast('cuda', args...)` instead.\n",
      "  with amp.autocast(autocast):\n"
     ]
    },
    {
     "name": "stdout",
     "output_type": "stream",
     "text": [
      "Closest object distance: 3.0 meters\n",
      "Calculated velocity: 0.1 m/s\n",
      "Closest object distance: 3.0 meters\n",
      "Calculated velocity: 0.1 m/s\n",
      "Closest object distance: 3.0 meters\n",
      "Calculated velocity: 0.1 m/s\n",
      "Closest object distance: 3.0 meters\n",
      "Calculated velocity: 0.2 m/s\n",
      "Closest object distance: 3.0 meters\n",
      "Calculated velocity: 0.2 m/s\n",
      "Closest object distance: 3.1 meters\n",
      "Calculated velocity: 0.4 m/s\n",
      "Closest object distance: 3.0 meters\n",
      "Calculated velocity: 0.1 m/s\n",
      "Closest object distance: 3.0 meters\n",
      "Calculated velocity: 0.1 m/s\n"
     ]
    },
    {
     "name": "stderr",
     "output_type": "stream",
     "text": [
      "C:\\Users\\Oz/.cache\\torch\\hub\\ultralytics_yolov5_master\\models\\common.py:892: FutureWarning: `torch.cuda.amp.autocast(args...)` is deprecated. Please use `torch.amp.autocast('cuda', args...)` instead.\n",
      "  with amp.autocast(autocast):\n",
      "C:\\Users\\Oz/.cache\\torch\\hub\\ultralytics_yolov5_master\\models\\common.py:892: FutureWarning: `torch.cuda.amp.autocast(args...)` is deprecated. Please use `torch.amp.autocast('cuda', args...)` instead.\n",
      "  with amp.autocast(autocast):\n"
     ]
    },
    {
     "name": "stdout",
     "output_type": "stream",
     "text": [
      "Closest object distance: 3.0 meters\n",
      "Calculated velocity: 0.1 m/s\n",
      "Closest object distance: 3.0 meters\n",
      "Calculated velocity: 0.2 m/s\n",
      "Closest object distance: 3.0 meters\n",
      "Calculated velocity: 0.0 m/s\n",
      "Closest object distance: 3.0 meters\n",
      "Calculated velocity: 0.2 m/s\n",
      "Closest object distance: 3.0 meters\n",
      "Calculated velocity: 0.1 m/s\n",
      "Closest object distance: 3.0 meters\n",
      "Calculated velocity: 0.0 m/s\n",
      "Closest object distance: 3.0 meters\n",
      "Calculated velocity: 0.1 m/s\n",
      "Closest object distance: 3.0 meters\n",
      "Calculated velocity: 0.2 m/s\n",
      "Closest object distance: 3.0 meters\n",
      "Calculated velocity: 0.1 m/s\n",
      "Closest object distance: 3.0 meters\n",
      "Calculated velocity: 0.0 m/s\n",
      "Closest object distance: 3.0 meters\n",
      "Calculated velocity: 0.0 m/s\n",
      "Closest object distance: 3.0 meters\n",
      "Calculated velocity: 0.2 m/s\n",
      "Closest object distance: 3.0 meters\n",
      "Calculated velocity: 0.1 m/s\n",
      "Closest object distance: 3.1 meters\n",
      "Calculated velocity: 0.4 m/s\n"
     ]
    },
    {
     "name": "stderr",
     "output_type": "stream",
     "text": [
      "C:\\Users\\Oz/.cache\\torch\\hub\\ultralytics_yolov5_master\\models\\common.py:892: FutureWarning: `torch.cuda.amp.autocast(args...)` is deprecated. Please use `torch.amp.autocast('cuda', args...)` instead.\n",
      "  with amp.autocast(autocast):\n"
     ]
    },
    {
     "name": "stdout",
     "output_type": "stream",
     "text": [
      "Closest object distance: 3.0 meters\n",
      "Calculated velocity: 0.2 m/s\n",
      "Closest object distance: 3.0 meters\n",
      "Calculated velocity: 0.1 m/s\n",
      "Closest object distance: 3.0 meters\n",
      "Calculated velocity: 0.0 m/s\n",
      "Closest object distance: 3.1 meters\n",
      "Calculated velocity: 0.2 m/s\n",
      "Closest object distance: 3.1 meters\n",
      "Calculated velocity: 0.3 m/s\n",
      "Closest object distance: 3.0 meters\n",
      "Calculated velocity: 0.2 m/s\n",
      "Closest object distance: 3.1 meters\n",
      "Calculated velocity: 0.3 m/s\n"
     ]
    },
    {
     "name": "stderr",
     "output_type": "stream",
     "text": [
      "C:\\Users\\Oz/.cache\\torch\\hub\\ultralytics_yolov5_master\\models\\common.py:892: FutureWarning: `torch.cuda.amp.autocast(args...)` is deprecated. Please use `torch.amp.autocast('cuda', args...)` instead.\n",
      "  with amp.autocast(autocast):\n"
     ]
    },
    {
     "name": "stdout",
     "output_type": "stream",
     "text": [
      "Closest object distance: 3.1 meters\n",
      "Calculated velocity: 0.3 m/s\n",
      "Closest object distance: 3.0 meters\n",
      "Calculated velocity: 0.0 m/s\n",
      "Closest object distance: 3.0 meters\n",
      "Calculated velocity: 0.0 m/s\n",
      "Closest object distance: 3.0 meters\n",
      "Calculated velocity: 0.1 m/s\n",
      "Closest object distance: 3.0 meters\n",
      "Calculated velocity: 0.0 m/s\n",
      "Closest object distance: 3.0 meters\n",
      "Calculated velocity: 0.1 m/s\n",
      "Closest object distance: 3.0 meters\n",
      "Calculated velocity: 0.0 m/s\n"
     ]
    },
    {
     "name": "stderr",
     "output_type": "stream",
     "text": [
      "C:\\Users\\Oz/.cache\\torch\\hub\\ultralytics_yolov5_master\\models\\common.py:892: FutureWarning: `torch.cuda.amp.autocast(args...)` is deprecated. Please use `torch.amp.autocast('cuda', args...)` instead.\n",
      "  with amp.autocast(autocast):\n",
      "C:\\Users\\Oz/.cache\\torch\\hub\\ultralytics_yolov5_master\\models\\common.py:892: FutureWarning: `torch.cuda.amp.autocast(args...)` is deprecated. Please use `torch.amp.autocast('cuda', args...)` instead.\n",
      "  with amp.autocast(autocast):\n"
     ]
    },
    {
     "name": "stdout",
     "output_type": "stream",
     "text": [
      "Closest object distance: 3.2 meters\n",
      "Calculated velocity: 1.1 m/s\n",
      "Closest object distance: 3.1 meters\n",
      "Calculated velocity: 0.4 m/s\n",
      "Closest object distance: 3.0 meters\n",
      "Calculated velocity: 0.1 m/s\n",
      "Closest object distance: 3.0 meters\n",
      "Calculated velocity: 0.1 m/s\n",
      "Closest object distance: 3.2 meters\n",
      "Calculated velocity: 0.8 m/s\n",
      "Closest object distance: 3.1 meters\n",
      "Calculated velocity: 0.3 m/s\n",
      "Closest object distance: 3.1 meters\n",
      "Calculated velocity: 0.4 m/s\n",
      "Closest object distance: 3.1 meters\n",
      "Calculated velocity: 0.5 m/s\n",
      "Closest object distance: 3.0 meters\n",
      "Calculated velocity: 0.1 m/s\n",
      "Closest object distance: 3.0 meters\n",
      "Calculated velocity: 0.2 m/s\n",
      "Closest object distance: 3.0 meters\n",
      "Calculated velocity: 0.1 m/s\n",
      "Closest object distance: 3.0 meters\n",
      "Calculated velocity: 0.0 m/s\n",
      "Closest object distance: 3.1 meters\n",
      "Calculated velocity: 0.5 m/s\n",
      "Closest object distance: 3.0 meters\n",
      "Calculated velocity: 0.0 m/s\n"
     ]
    },
    {
     "name": "stderr",
     "output_type": "stream",
     "text": [
      "C:\\Users\\Oz/.cache\\torch\\hub\\ultralytics_yolov5_master\\models\\common.py:892: FutureWarning: `torch.cuda.amp.autocast(args...)` is deprecated. Please use `torch.amp.autocast('cuda', args...)` instead.\n",
      "  with amp.autocast(autocast):\n",
      "C:\\Users\\Oz/.cache\\torch\\hub\\ultralytics_yolov5_master\\models\\common.py:892: FutureWarning: `torch.cuda.amp.autocast(args...)` is deprecated. Please use `torch.amp.autocast('cuda', args...)` instead.\n",
      "  with amp.autocast(autocast):\n"
     ]
    },
    {
     "name": "stdout",
     "output_type": "stream",
     "text": [
      "Closest object distance: 3.1 meters\n",
      "Calculated velocity: 0.4 m/s\n",
      "Closest object distance: 3.0 meters\n",
      "Calculated velocity: 0.0 m/s\n",
      "Closest object distance: 3.1 meters\n",
      "Calculated velocity: 0.7 m/s\n",
      "Closest object distance: 3.1 meters\n",
      "Calculated velocity: 0.6 m/s\n",
      "Closest object distance: 3.0 meters\n",
      "Calculated velocity: 0.0 m/s\n",
      "Closest object distance: 3.0 meters\n",
      "Calculated velocity: 0.0 m/s\n",
      "Closest object distance: 3.0 meters\n",
      "Calculated velocity: 0.2 m/s\n",
      "Closest object distance: 3.0 meters\n",
      "Calculated velocity: 0.1 m/s\n",
      "Closest object distance: 3.0 meters\n",
      "Calculated velocity: 0.2 m/s\n",
      "Closest object distance: 3.0 meters\n",
      "Calculated velocity: 0.0 m/s\n",
      "Closest object distance: 3.1 meters\n",
      "Calculated velocity: 0.4 m/s\n",
      "Closest object distance: 3.0 meters\n",
      "Calculated velocity: 0.0 m/s\n",
      "Closest object distance: 3.1 meters\n",
      "Calculated velocity: 0.3 m/s\n",
      "Closest object distance: 3.1 meters\n",
      "Calculated velocity: 0.6 m/s\n"
     ]
    },
    {
     "name": "stderr",
     "output_type": "stream",
     "text": [
      "C:\\Users\\Oz/.cache\\torch\\hub\\ultralytics_yolov5_master\\models\\common.py:892: FutureWarning: `torch.cuda.amp.autocast(args...)` is deprecated. Please use `torch.amp.autocast('cuda', args...)` instead.\n",
      "  with amp.autocast(autocast):\n",
      "C:\\Users\\Oz/.cache\\torch\\hub\\ultralytics_yolov5_master\\models\\common.py:892: FutureWarning: `torch.cuda.amp.autocast(args...)` is deprecated. Please use `torch.amp.autocast('cuda', args...)` instead.\n",
      "  with amp.autocast(autocast):\n"
     ]
    },
    {
     "name": "stdout",
     "output_type": "stream",
     "text": [
      "Closest object distance: 3.0 meters\n",
      "Calculated velocity: 0.1 m/s\n",
      "Closest object distance: 3.1 meters\n",
      "Calculated velocity: 0.2 m/s\n",
      "Closest object distance: 3.1 meters\n",
      "Calculated velocity: 0.5 m/s\n",
      "Closest object distance: 3.1 meters\n",
      "Calculated velocity: 0.2 m/s\n",
      "Closest object distance: 3.0 meters\n",
      "Calculated velocity: 0.0 m/s\n",
      "Closest object distance: 3.0 meters\n",
      "Calculated velocity: 0.0 m/s\n",
      "Closest object distance: 3.0 meters\n",
      "Calculated velocity: 0.1 m/s\n",
      "Closest object distance: 3.1 meters\n",
      "Calculated velocity: 0.3 m/s\n",
      "Closest object distance: 3.0 meters\n",
      "Calculated velocity: 0.0 m/s\n",
      "Closest object distance: 3.0 meters\n",
      "Calculated velocity: 0.0 m/s\n",
      "Closest object distance: 3.0 meters\n",
      "Calculated velocity: 0.1 m/s\n",
      "Closest object distance: 3.1 meters\n",
      "Calculated velocity: 0.4 m/s\n",
      "Closest object distance: 3.0 meters\n",
      "Calculated velocity: 0.0 m/s\n",
      "Closest object distance: 3.1 meters\n",
      "Calculated velocity: 0.6 m/s\n",
      "Closest object distance: 3.0 meters\n",
      "Calculated velocity: 0.0 m/s\n"
     ]
    },
    {
     "name": "stderr",
     "output_type": "stream",
     "text": [
      "C:\\Users\\Oz/.cache\\torch\\hub\\ultralytics_yolov5_master\\models\\common.py:892: FutureWarning: `torch.cuda.amp.autocast(args...)` is deprecated. Please use `torch.amp.autocast('cuda', args...)` instead.\n",
      "  with amp.autocast(autocast):\n",
      "C:\\Users\\Oz/.cache\\torch\\hub\\ultralytics_yolov5_master\\models\\common.py:892: FutureWarning: `torch.cuda.amp.autocast(args...)` is deprecated. Please use `torch.amp.autocast('cuda', args...)` instead.\n",
      "  with amp.autocast(autocast):\n"
     ]
    },
    {
     "name": "stdout",
     "output_type": "stream",
     "text": [
      "Closest object distance: 3.0 meters\n",
      "Calculated velocity: 0.1 m/s\n",
      "Closest object distance: 3.0 meters\n",
      "Calculated velocity: 0.1 m/s\n",
      "Closest object distance: 3.0 meters\n",
      "Calculated velocity: 0.2 m/s\n",
      "Closest object distance: 3.0 meters\n",
      "Calculated velocity: 0.0 m/s\n",
      "Closest object distance: 3.0 meters\n",
      "Calculated velocity: 0.1 m/s\n",
      "Closest object distance: 3.0 meters\n",
      "Calculated velocity: 0.0 m/s\n",
      "Closest object distance: 3.0 meters\n",
      "Calculated velocity: 0.0 m/s\n",
      "Closest object distance: 3.0 meters\n",
      "Calculated velocity: 0.0 m/s\n",
      "Closest object distance: 3.0 meters\n",
      "Calculated velocity: 0.0 m/s\n",
      "Closest object distance: 3.0 meters\n",
      "Calculated velocity: 0.1 m/s\n",
      "Closest object distance: 3.1 meters\n",
      "Calculated velocity: 0.2 m/s\n",
      "Closest object distance: 3.0 meters\n",
      "Calculated velocity: 0.0 m/s\n",
      "Closest object distance: 3.0 meters\n",
      "Calculated velocity: 0.0 m/s\n",
      "Closest object distance: 3.1 meters\n",
      "Calculated velocity: 0.6 m/s\n",
      "Closest object distance: 3.0 meters\n",
      "Calculated velocity: 0.0 m/s\n"
     ]
    },
    {
     "name": "stderr",
     "output_type": "stream",
     "text": [
      "C:\\Users\\Oz/.cache\\torch\\hub\\ultralytics_yolov5_master\\models\\common.py:892: FutureWarning: `torch.cuda.amp.autocast(args...)` is deprecated. Please use `torch.amp.autocast('cuda', args...)` instead.\n",
      "  with amp.autocast(autocast):\n",
      "C:\\Users\\Oz/.cache\\torch\\hub\\ultralytics_yolov5_master\\models\\common.py:892: FutureWarning: `torch.cuda.amp.autocast(args...)` is deprecated. Please use `torch.amp.autocast('cuda', args...)` instead.\n",
      "  with amp.autocast(autocast):\n"
     ]
    },
    {
     "name": "stdout",
     "output_type": "stream",
     "text": [
      "Closest object distance: 3.0 meters\n",
      "Calculated velocity: 0.0 m/s\n",
      "Closest object distance: 3.0 meters\n",
      "Calculated velocity: 0.2 m/s\n",
      "Closest object distance: 3.2 meters\n",
      "Calculated velocity: 1.0 m/s\n",
      "Closest object distance: 3.0 meters\n",
      "Calculated velocity: 0.0 m/s\n",
      "Closest object distance: 3.0 meters\n",
      "Calculated velocity: 0.0 m/s\n",
      "Closest object distance: 3.0 meters\n",
      "Calculated velocity: 0.1 m/s\n",
      "Closest object distance: 3.0 meters\n",
      "Calculated velocity: 0.2 m/s\n",
      "Closest object distance: 3.0 meters\n",
      "Calculated velocity: 0.1 m/s\n",
      "Closest object distance: 3.1 meters\n",
      "Calculated velocity: 0.4 m/s\n",
      "Closest object distance: 3.0 meters\n",
      "Calculated velocity: 0.0 m/s\n",
      "Closest object distance: 3.0 meters\n",
      "Calculated velocity: 0.0 m/s\n",
      "Closest object distance: 3.0 meters\n",
      "Calculated velocity: 0.2 m/s\n",
      "Closest object distance: 3.0 meters\n",
      "Calculated velocity: 0.0 m/s\n",
      "Closest object distance: 3.1 meters\n",
      "Calculated velocity: 0.3 m/s\n"
     ]
    },
    {
     "name": "stderr",
     "output_type": "stream",
     "text": [
      "C:\\Users\\Oz/.cache\\torch\\hub\\ultralytics_yolov5_master\\models\\common.py:892: FutureWarning: `torch.cuda.amp.autocast(args...)` is deprecated. Please use `torch.amp.autocast('cuda', args...)` instead.\n",
      "  with amp.autocast(autocast):\n"
     ]
    },
    {
     "name": "stdout",
     "output_type": "stream",
     "text": [
      "Closest object distance: 3.0 meters\n",
      "Calculated velocity: 0.0 m/s\n",
      "Closest object distance: 3.0 meters\n",
      "Calculated velocity: 0.0 m/s\n",
      "Closest object distance: 3.0 meters\n",
      "Calculated velocity: 0.0 m/s\n",
      "Closest object distance: 3.1 meters\n",
      "Calculated velocity: 0.4 m/s\n",
      "Closest object distance: 3.1 meters\n",
      "Calculated velocity: 0.5 m/s\n",
      "Closest object distance: 3.0 meters\n",
      "Calculated velocity: 0.1 m/s\n",
      "Closest object distance: 3.0 meters\n",
      "Calculated velocity: 0.0 m/s\n"
     ]
    },
    {
     "name": "stderr",
     "output_type": "stream",
     "text": [
      "C:\\Users\\Oz/.cache\\torch\\hub\\ultralytics_yolov5_master\\models\\common.py:892: FutureWarning: `torch.cuda.amp.autocast(args...)` is deprecated. Please use `torch.amp.autocast('cuda', args...)` instead.\n",
      "  with amp.autocast(autocast):\n",
      "C:\\Users\\Oz/.cache\\torch\\hub\\ultralytics_yolov5_master\\models\\common.py:892: FutureWarning: `torch.cuda.amp.autocast(args...)` is deprecated. Please use `torch.amp.autocast('cuda', args...)` instead.\n",
      "  with amp.autocast(autocast):\n"
     ]
    },
    {
     "name": "stdout",
     "output_type": "stream",
     "text": [
      "Closest object distance: 3.0 meters\n",
      "Calculated velocity: 0.2 m/s\n",
      "Closest object distance: 3.0 meters\n",
      "Calculated velocity: 0.0 m/s\n",
      "Closest object distance: 3.0 meters\n",
      "Calculated velocity: 0.1 m/s\n",
      "Closest object distance: 3.0 meters\n",
      "Calculated velocity: 0.1 m/s\n",
      "Closest object distance: 3.1 meters\n",
      "Calculated velocity: 0.2 m/s\n",
      "Closest object distance: 3.0 meters\n",
      "Calculated velocity: 0.0 m/s\n",
      "Closest object distance: 3.0 meters\n",
      "Calculated velocity: 0.0 m/s\n"
     ]
    },
    {
     "name": "stderr",
     "output_type": "stream",
     "text": [
      "C:\\Users\\Oz/.cache\\torch\\hub\\ultralytics_yolov5_master\\models\\common.py:892: FutureWarning: `torch.cuda.amp.autocast(args...)` is deprecated. Please use `torch.amp.autocast('cuda', args...)` instead.\n",
      "  with amp.autocast(autocast):\n"
     ]
    },
    {
     "name": "stdout",
     "output_type": "stream",
     "text": [
      "Closest object distance: 3.0 meters\n",
      "Calculated velocity: 0.0 m/s\n",
      "Closest object distance: 3.0 meters\n",
      "Calculated velocity: 0.0 m/s\n",
      "Closest object distance: 3.1 meters\n",
      "Calculated velocity: 0.3 m/s\n",
      "Closest object distance: 3.0 meters\n",
      "Calculated velocity: 0.0 m/s\n",
      "Closest object distance: 3.0 meters\n",
      "Calculated velocity: 0.0 m/s\n",
      "Closest object distance: 3.0 meters\n",
      "Calculated velocity: 0.1 m/s\n",
      "Closest object distance: 3.0 meters\n",
      "Calculated velocity: 0.1 m/s\n"
     ]
    },
    {
     "name": "stderr",
     "output_type": "stream",
     "text": [
      "C:\\Users\\Oz/.cache\\torch\\hub\\ultralytics_yolov5_master\\models\\common.py:892: FutureWarning: `torch.cuda.amp.autocast(args...)` is deprecated. Please use `torch.amp.autocast('cuda', args...)` instead.\n",
      "  with amp.autocast(autocast):\n",
      "C:\\Users\\Oz/.cache\\torch\\hub\\ultralytics_yolov5_master\\models\\common.py:892: FutureWarning: `torch.cuda.amp.autocast(args...)` is deprecated. Please use `torch.amp.autocast('cuda', args...)` instead.\n",
      "  with amp.autocast(autocast):\n"
     ]
    },
    {
     "name": "stdout",
     "output_type": "stream",
     "text": [
      "Closest object distance: 3.0 meters\n",
      "Calculated velocity: 0.0 m/s\n",
      "Closest object distance: 3.0 meters\n",
      "Calculated velocity: 0.0 m/s\n",
      "Closest object distance: 3.0 meters\n",
      "Calculated velocity: 0.0 m/s\n",
      "Closest object distance: 3.0 meters\n",
      "Calculated velocity: 0.0 m/s\n",
      "Closest object distance: 3.1 meters\n",
      "Calculated velocity: 0.3 m/s\n",
      "Closest object distance: 3.0 meters\n",
      "Calculated velocity: 0.0 m/s\n",
      "Closest object distance: 3.0 meters\n",
      "Calculated velocity: 0.2 m/s\n",
      "Closest object distance: 3.0 meters\n",
      "Calculated velocity: 0.0 m/s\n",
      "Closest object distance: 3.0 meters\n",
      "Calculated velocity: 0.1 m/s\n",
      "Closest object distance: 3.0 meters\n",
      "Calculated velocity: 0.0 m/s\n",
      "Closest object distance: 3.0 meters\n",
      "Calculated velocity: 0.0 m/s\n",
      "Closest object distance: 3.0 meters\n",
      "Calculated velocity: 0.0 m/s\n",
      "Closest object distance: 3.0 meters\n",
      "Calculated velocity: 0.2 m/s\n",
      "Closest object distance: 3.0 meters\n",
      "Calculated velocity: 0.0 m/s\n"
     ]
    },
    {
     "name": "stderr",
     "output_type": "stream",
     "text": [
      "C:\\Users\\Oz/.cache\\torch\\hub\\ultralytics_yolov5_master\\models\\common.py:892: FutureWarning: `torch.cuda.amp.autocast(args...)` is deprecated. Please use `torch.amp.autocast('cuda', args...)` instead.\n",
      "  with amp.autocast(autocast):\n"
     ]
    },
    {
     "name": "stdout",
     "output_type": "stream",
     "text": [
      "Closest object distance: 3.0 meters\n",
      "Calculated velocity: 0.0 m/s\n",
      "Closest object distance: 3.0 meters\n",
      "Calculated velocity: 0.1 m/s\n",
      "Closest object distance: 3.0 meters\n",
      "Calculated velocity: 0.0 m/s\n",
      "Closest object distance: 3.0 meters\n",
      "Calculated velocity: 0.1 m/s\n",
      "Closest object distance: 3.0 meters\n",
      "Calculated velocity: 0.0 m/s\n",
      "Closest object distance: 3.1 meters\n",
      "Calculated velocity: 0.6 m/s\n",
      "Closest object distance: 3.1 meters\n",
      "Calculated velocity: 0.3 m/s\n"
     ]
    },
    {
     "name": "stderr",
     "output_type": "stream",
     "text": [
      "C:\\Users\\Oz/.cache\\torch\\hub\\ultralytics_yolov5_master\\models\\common.py:892: FutureWarning: `torch.cuda.amp.autocast(args...)` is deprecated. Please use `torch.amp.autocast('cuda', args...)` instead.\n",
      "  with amp.autocast(autocast):\n",
      "C:\\Users\\Oz/.cache\\torch\\hub\\ultralytics_yolov5_master\\models\\common.py:892: FutureWarning: `torch.cuda.amp.autocast(args...)` is deprecated. Please use `torch.amp.autocast('cuda', args...)` instead.\n",
      "  with amp.autocast(autocast):\n"
     ]
    },
    {
     "name": "stdout",
     "output_type": "stream",
     "text": [
      "Closest object distance: 3.0 meters\n",
      "Calculated velocity: 0.2 m/s\n",
      "Closest object distance: 3.0 meters\n",
      "Calculated velocity: 0.2 m/s\n",
      "Closest object distance: 3.1 meters\n",
      "Calculated velocity: 0.4 m/s\n",
      "Closest object distance: 3.0 meters\n",
      "Calculated velocity: 0.0 m/s\n",
      "Closest object distance: 3.0 meters\n",
      "Calculated velocity: 0.1 m/s\n",
      "Closest object distance: 3.1 meters\n",
      "Calculated velocity: 0.3 m/s\n",
      "Closest object distance: 3.1 meters\n",
      "Calculated velocity: 0.4 m/s\n",
      "Closest object distance: 3.0 meters\n",
      "Calculated velocity: 0.0 m/s\n",
      "Closest object distance: 3.0 meters\n",
      "Calculated velocity: 0.1 m/s\n",
      "Closest object distance: 3.1 meters\n",
      "Calculated velocity: 0.5 m/s\n",
      "Closest object distance: 3.0 meters\n",
      "Calculated velocity: 0.2 m/s\n",
      "Closest object distance: 3.1 meters\n",
      "Calculated velocity: 0.5 m/s\n",
      "Closest object distance: 3.0 meters\n",
      "Calculated velocity: 0.0 m/s\n",
      "Closest object distance: 3.0 meters\n",
      "Calculated velocity: 0.0 m/s\n"
     ]
    },
    {
     "name": "stderr",
     "output_type": "stream",
     "text": [
      "C:\\Users\\Oz/.cache\\torch\\hub\\ultralytics_yolov5_master\\models\\common.py:892: FutureWarning: `torch.cuda.amp.autocast(args...)` is deprecated. Please use `torch.amp.autocast('cuda', args...)` instead.\n",
      "  with amp.autocast(autocast):\n"
     ]
    },
    {
     "name": "stdout",
     "output_type": "stream",
     "text": [
      "Closest object distance: 3.0 meters\n",
      "Calculated velocity: 0.0 m/s\n",
      "Closest object distance: 3.0 meters\n",
      "Calculated velocity: 0.0 m/s\n",
      "Closest object distance: 3.0 meters\n",
      "Calculated velocity: 0.2 m/s\n",
      "Closest object distance: 3.0 meters\n",
      "Calculated velocity: 0.0 m/s\n",
      "Closest object distance: 3.0 meters\n",
      "Calculated velocity: 0.1 m/s\n",
      "Closest object distance: 3.1 meters\n",
      "Calculated velocity: 0.3 m/s\n",
      "Closest object distance: 3.0 meters\n",
      "Calculated velocity: 0.0 m/s\n"
     ]
    },
    {
     "name": "stderr",
     "output_type": "stream",
     "text": [
      "C:\\Users\\Oz/.cache\\torch\\hub\\ultralytics_yolov5_master\\models\\common.py:892: FutureWarning: `torch.cuda.amp.autocast(args...)` is deprecated. Please use `torch.amp.autocast('cuda', args...)` instead.\n",
      "  with amp.autocast(autocast):\n",
      "C:\\Users\\Oz/.cache\\torch\\hub\\ultralytics_yolov5_master\\models\\common.py:892: FutureWarning: `torch.cuda.amp.autocast(args...)` is deprecated. Please use `torch.amp.autocast('cuda', args...)` instead.\n",
      "  with amp.autocast(autocast):\n"
     ]
    },
    {
     "name": "stdout",
     "output_type": "stream",
     "text": [
      "Closest object distance: 3.1 meters\n",
      "Calculated velocity: 0.3 m/s\n",
      "Closest object distance: 3.1 meters\n",
      "Calculated velocity: 0.3 m/s\n",
      "Closest object distance: 3.2 meters\n",
      "Calculated velocity: 1.0 m/s\n",
      "Closest object distance: 3.0 meters\n",
      "Calculated velocity: 0.1 m/s\n",
      "Closest object distance: 3.2 meters\n",
      "Calculated velocity: 0.9 m/s\n",
      "Closest object distance: 3.0 meters\n",
      "Calculated velocity: 0.0 m/s\n",
      "Closest object distance: 3.0 meters\n",
      "Calculated velocity: 0.0 m/s\n",
      "Closest object distance: 3.0 meters\n",
      "Calculated velocity: 0.1 m/s\n",
      "Closest object distance: 3.0 meters\n",
      "Calculated velocity: 0.0 m/s\n",
      "Closest object distance: 3.1 meters\n",
      "Calculated velocity: 0.2 m/s\n",
      "Closest object distance: 3.0 meters\n",
      "Calculated velocity: 0.1 m/s\n",
      "Closest object distance: 3.0 meters\n",
      "Calculated velocity: 0.0 m/s\n",
      "Closest object distance: 3.0 meters\n",
      "Calculated velocity: 0.0 m/s\n",
      "Closest object distance: 3.0 meters\n",
      "Calculated velocity: 0.0 m/s\n"
     ]
    },
    {
     "name": "stderr",
     "output_type": "stream",
     "text": [
      "C:\\Users\\Oz/.cache\\torch\\hub\\ultralytics_yolov5_master\\models\\common.py:892: FutureWarning: `torch.cuda.amp.autocast(args...)` is deprecated. Please use `torch.amp.autocast('cuda', args...)` instead.\n",
      "  with amp.autocast(autocast):\n",
      "C:\\Users\\Oz/.cache\\torch\\hub\\ultralytics_yolov5_master\\models\\common.py:892: FutureWarning: `torch.cuda.amp.autocast(args...)` is deprecated. Please use `torch.amp.autocast('cuda', args...)` instead.\n",
      "  with amp.autocast(autocast):\n"
     ]
    },
    {
     "name": "stdout",
     "output_type": "stream",
     "text": [
      "Closest object distance: 3.0 meters\n",
      "Calculated velocity: 0.0 m/s\n",
      "Closest object distance: 3.1 meters\n",
      "Calculated velocity: 0.3 m/s\n",
      "Closest object distance: 3.1 meters\n",
      "Calculated velocity: 0.3 m/s\n",
      "Closest object distance: 3.0 meters\n",
      "Calculated velocity: 0.0 m/s\n",
      "Closest object distance: 3.0 meters\n",
      "Calculated velocity: 0.1 m/s\n",
      "Closest object distance: 3.0 meters\n",
      "Calculated velocity: 0.0 m/s\n",
      "Closest object distance: 3.1 meters\n",
      "Calculated velocity: 0.3 m/s\n",
      "Closest object distance: 3.1 meters\n",
      "Calculated velocity: 0.3 m/s\n",
      "Closest object distance: 3.0 meters\n",
      "Calculated velocity: 0.0 m/s\n",
      "Closest object distance: 3.0 meters\n",
      "Calculated velocity: 0.0 m/s\n",
      "Closest object distance: 3.0 meters\n",
      "Calculated velocity: 0.1 m/s\n",
      "Closest object distance: 3.2 meters\n",
      "Calculated velocity: 1.0 m/s\n",
      "Closest object distance: 3.0 meters\n",
      "Calculated velocity: 0.1 m/s\n",
      "Closest object distance: 3.1 meters\n",
      "Calculated velocity: 0.3 m/s\n"
     ]
    },
    {
     "name": "stderr",
     "output_type": "stream",
     "text": [
      "C:\\Users\\Oz/.cache\\torch\\hub\\ultralytics_yolov5_master\\models\\common.py:892: FutureWarning: `torch.cuda.amp.autocast(args...)` is deprecated. Please use `torch.amp.autocast('cuda', args...)` instead.\n",
      "  with amp.autocast(autocast):\n"
     ]
    },
    {
     "name": "stdout",
     "output_type": "stream",
     "text": [
      "Closest object distance: 3.0 meters\n",
      "Calculated velocity: 0.2 m/s\n",
      "Closest object distance: 3.1 meters\n",
      "Calculated velocity: 0.3 m/s\n",
      "Closest object distance: 3.0 meters\n",
      "Calculated velocity: 0.0 m/s\n",
      "Closest object distance: 3.0 meters\n",
      "Calculated velocity: 0.0 m/s\n",
      "Closest object distance: 3.0 meters\n",
      "Calculated velocity: 0.2 m/s\n",
      "Closest object distance: 3.0 meters\n",
      "Calculated velocity: 0.1 m/s\n",
      "Closest object distance: 3.1 meters\n",
      "Calculated velocity: 0.5 m/s\n"
     ]
    },
    {
     "name": "stderr",
     "output_type": "stream",
     "text": [
      "C:\\Users\\Oz/.cache\\torch\\hub\\ultralytics_yolov5_master\\models\\common.py:892: FutureWarning: `torch.cuda.amp.autocast(args...)` is deprecated. Please use `torch.amp.autocast('cuda', args...)` instead.\n",
      "  with amp.autocast(autocast):\n"
     ]
    },
    {
     "name": "stdout",
     "output_type": "stream",
     "text": [
      "Closest object distance: 3.0 meters\n",
      "Calculated velocity: 0.0 m/s\n",
      "Closest object distance: 3.0 meters\n",
      "Calculated velocity: 0.1 m/s\n",
      "Closest object distance: 3.0 meters\n",
      "Calculated velocity: 0.0 m/s\n",
      "Closest object distance: 3.0 meters\n",
      "Calculated velocity: 0.2 m/s\n",
      "Closest object distance: 3.0 meters\n",
      "Calculated velocity: 0.0 m/s\n",
      "Closest object distance: 3.0 meters\n",
      "Calculated velocity: 0.2 m/s\n",
      "Closest object distance: 3.0 meters\n",
      "Calculated velocity: 0.0 m/s\n"
     ]
    },
    {
     "name": "stderr",
     "output_type": "stream",
     "text": [
      "C:\\Users\\Oz/.cache\\torch\\hub\\ultralytics_yolov5_master\\models\\common.py:892: FutureWarning: `torch.cuda.amp.autocast(args...)` is deprecated. Please use `torch.amp.autocast('cuda', args...)` instead.\n",
      "  with amp.autocast(autocast):\n",
      "C:\\Users\\Oz/.cache\\torch\\hub\\ultralytics_yolov5_master\\models\\common.py:892: FutureWarning: `torch.cuda.amp.autocast(args...)` is deprecated. Please use `torch.amp.autocast('cuda', args...)` instead.\n",
      "  with amp.autocast(autocast):\n"
     ]
    },
    {
     "name": "stdout",
     "output_type": "stream",
     "text": [
      "Closest object distance: 3.0 meters\n",
      "Calculated velocity: 0.0 m/s\n",
      "Closest object distance: 3.1 meters\n",
      "Calculated velocity: 0.2 m/s\n",
      "Closest object distance: 3.0 meters\n",
      "Calculated velocity: 0.0 m/s\n",
      "Closest object distance: 3.0 meters\n",
      "Calculated velocity: 0.1 m/s\n",
      "Closest object distance: 3.0 meters\n",
      "Calculated velocity: 0.2 m/s\n",
      "Closest object distance: 3.1 meters\n",
      "Calculated velocity: 0.6 m/s\n",
      "Closest object distance: 3.0 meters\n",
      "Calculated velocity: 0.0 m/s\n",
      "Closest object distance: 3.0 meters\n",
      "Calculated velocity: 0.1 m/s\n",
      "Closest object distance: 3.0 meters\n",
      "Calculated velocity: 0.1 m/s\n",
      "Closest object distance: 3.0 meters\n",
      "Calculated velocity: 0.1 m/s\n",
      "Closest object distance: 3.0 meters\n",
      "Calculated velocity: 0.1 m/s\n",
      "Closest object distance: 3.1 meters\n",
      "Calculated velocity: 0.4 m/s\n",
      "Closest object distance: 3.0 meters\n",
      "Calculated velocity: 0.1 m/s\n",
      "Closest object distance: 3.1 meters\n",
      "Calculated velocity: 0.3 m/s\n",
      "Closest object distance: 3.0 meters\n",
      "Calculated velocity: 0.2 m/s\n"
     ]
    },
    {
     "name": "stderr",
     "output_type": "stream",
     "text": [
      "C:\\Users\\Oz/.cache\\torch\\hub\\ultralytics_yolov5_master\\models\\common.py:892: FutureWarning: `torch.cuda.amp.autocast(args...)` is deprecated. Please use `torch.amp.autocast('cuda', args...)` instead.\n",
      "  with amp.autocast(autocast):\n"
     ]
    },
    {
     "name": "stdout",
     "output_type": "stream",
     "text": [
      "Closest object distance: 3.1 meters\n",
      "Calculated velocity: 0.4 m/s\n",
      "Closest object distance: 3.1 meters\n",
      "Calculated velocity: 0.4 m/s\n",
      "Closest object distance: 3.1 meters\n",
      "Calculated velocity: 0.4 m/s\n",
      "Closest object distance: 3.0 meters\n",
      "Calculated velocity: 0.2 m/s\n",
      "Closest object distance: 3.0 meters\n",
      "Calculated velocity: 0.0 m/s\n",
      "Closest object distance: 3.0 meters\n",
      "Calculated velocity: 0.0 m/s\n",
      "Closest object distance: 3.0 meters\n",
      "Calculated velocity: 0.0 m/s\n"
     ]
    },
    {
     "name": "stderr",
     "output_type": "stream",
     "text": [
      "C:\\Users\\Oz/.cache\\torch\\hub\\ultralytics_yolov5_master\\models\\common.py:892: FutureWarning: `torch.cuda.amp.autocast(args...)` is deprecated. Please use `torch.amp.autocast('cuda', args...)` instead.\n",
      "  with amp.autocast(autocast):\n"
     ]
    },
    {
     "name": "stdout",
     "output_type": "stream",
     "text": [
      "Closest object distance: 3.0 meters\n",
      "Calculated velocity: 0.0 m/s\n",
      "Closest object distance: 3.0 meters\n",
      "Calculated velocity: 0.0 m/s\n",
      "Closest object distance: 3.0 meters\n",
      "Calculated velocity: 0.1 m/s\n",
      "Closest object distance: 3.0 meters\n",
      "Calculated velocity: 0.0 m/s\n",
      "Closest object distance: 3.0 meters\n",
      "Calculated velocity: 0.1 m/s\n",
      "Closest object distance: 3.0 meters\n",
      "Calculated velocity: 0.0 m/s\n",
      "Closest object distance: 3.2 meters\n",
      "Calculated velocity: 0.7 m/s\n"
     ]
    },
    {
     "name": "stderr",
     "output_type": "stream",
     "text": [
      "C:\\Users\\Oz/.cache\\torch\\hub\\ultralytics_yolov5_master\\models\\common.py:892: FutureWarning: `torch.cuda.amp.autocast(args...)` is deprecated. Please use `torch.amp.autocast('cuda', args...)` instead.\n",
      "  with amp.autocast(autocast):\n",
      "C:\\Users\\Oz/.cache\\torch\\hub\\ultralytics_yolov5_master\\models\\common.py:892: FutureWarning: `torch.cuda.amp.autocast(args...)` is deprecated. Please use `torch.amp.autocast('cuda', args...)` instead.\n",
      "  with amp.autocast(autocast):\n"
     ]
    },
    {
     "name": "stdout",
     "output_type": "stream",
     "text": [
      "Closest object distance: 3.0 meters\n",
      "Calculated velocity: 0.2 m/s\n",
      "Closest object distance: 3.0 meters\n",
      "Calculated velocity: 0.2 m/s\n",
      "Closest object distance: 3.0 meters\n",
      "Calculated velocity: 0.0 m/s\n",
      "Closest object distance: 3.1 meters\n",
      "Calculated velocity: 0.3 m/s\n",
      "Closest object distance: 3.0 meters\n",
      "Calculated velocity: 0.0 m/s\n",
      "Closest object distance: 3.1 meters\n",
      "Calculated velocity: 0.4 m/s\n",
      "Closest object distance: 3.0 meters\n",
      "Calculated velocity: 0.0 m/s\n",
      "Closest object distance: 3.0 meters\n",
      "Calculated velocity: 0.0 m/s\n",
      "Closest object distance: 3.0 meters\n",
      "Calculated velocity: 0.1 m/s\n",
      "Closest object distance: 3.1 meters\n",
      "Calculated velocity: 0.4 m/s\n",
      "Closest object distance: 3.0 meters\n",
      "Calculated velocity: 0.1 m/s\n",
      "Closest object distance: 3.0 meters\n",
      "Calculated velocity: 0.1 m/s\n",
      "Closest object distance: 3.0 meters\n",
      "Calculated velocity: 0.0 m/s\n",
      "Closest object distance: 3.0 meters\n",
      "Calculated velocity: 0.0 m/s\n"
     ]
    },
    {
     "name": "stderr",
     "output_type": "stream",
     "text": [
      "C:\\Users\\Oz/.cache\\torch\\hub\\ultralytics_yolov5_master\\models\\common.py:892: FutureWarning: `torch.cuda.amp.autocast(args...)` is deprecated. Please use `torch.amp.autocast('cuda', args...)` instead.\n",
      "  with amp.autocast(autocast):\n"
     ]
    },
    {
     "name": "stdout",
     "output_type": "stream",
     "text": [
      "Closest object distance: 3.1 meters\n",
      "Calculated velocity: 0.3 m/s\n",
      "Closest object distance: 3.0 meters\n",
      "Calculated velocity: 0.0 m/s\n",
      "Closest object distance: 3.0 meters\n",
      "Calculated velocity: 0.2 m/s\n",
      "Closest object distance: 3.0 meters\n",
      "Calculated velocity: 0.2 m/s\n",
      "Closest object distance: 3.0 meters\n",
      "Calculated velocity: 0.0 m/s\n",
      "Closest object distance: 3.1 meters\n",
      "Calculated velocity: 0.6 m/s\n",
      "Closest object distance: 3.0 meters\n",
      "Calculated velocity: 0.1 m/s\n"
     ]
    },
    {
     "name": "stderr",
     "output_type": "stream",
     "text": [
      "C:\\Users\\Oz/.cache\\torch\\hub\\ultralytics_yolov5_master\\models\\common.py:892: FutureWarning: `torch.cuda.amp.autocast(args...)` is deprecated. Please use `torch.amp.autocast('cuda', args...)` instead.\n",
      "  with amp.autocast(autocast):\n"
     ]
    },
    {
     "name": "stdout",
     "output_type": "stream",
     "text": [
      "Closest object distance: 3.0 meters\n",
      "Calculated velocity: 0.1 m/s\n",
      "Closest object distance: 3.1 meters\n",
      "Calculated velocity: 0.3 m/s\n",
      "Closest object distance: 3.1 meters\n",
      "Calculated velocity: 0.3 m/s\n",
      "Closest object distance: 3.0 meters\n",
      "Calculated velocity: 0.0 m/s\n",
      "Closest object distance: 3.0 meters\n",
      "Calculated velocity: 0.0 m/s\n",
      "Closest object distance: 3.0 meters\n",
      "Calculated velocity: 0.0 m/s\n",
      "Closest object distance: 3.0 meters\n",
      "Calculated velocity: 0.0 m/s\n"
     ]
    },
    {
     "name": "stderr",
     "output_type": "stream",
     "text": [
      "C:\\Users\\Oz/.cache\\torch\\hub\\ultralytics_yolov5_master\\models\\common.py:892: FutureWarning: `torch.cuda.amp.autocast(args...)` is deprecated. Please use `torch.amp.autocast('cuda', args...)` instead.\n",
      "  with amp.autocast(autocast):\n"
     ]
    },
    {
     "name": "stdout",
     "output_type": "stream",
     "text": [
      "Closest object distance: 3.0 meters\n",
      "Calculated velocity: 0.2 m/s\n",
      "Closest object distance: 3.0 meters\n",
      "Calculated velocity: 0.0 m/s\n",
      "Closest object distance: 3.1 meters\n",
      "Calculated velocity: 0.3 m/s\n",
      "Closest object distance: 3.0 meters\n",
      "Calculated velocity: 0.1 m/s\n",
      "Closest object distance: 3.0 meters\n",
      "Calculated velocity: 0.1 m/s\n",
      "Closest object distance: 3.0 meters\n",
      "Calculated velocity: 0.1 m/s\n",
      "Closest object distance: 3.1 meters\n",
      "Calculated velocity: 0.4 m/s\n"
     ]
    },
    {
     "name": "stderr",
     "output_type": "stream",
     "text": [
      "C:\\Users\\Oz/.cache\\torch\\hub\\ultralytics_yolov5_master\\models\\common.py:892: FutureWarning: `torch.cuda.amp.autocast(args...)` is deprecated. Please use `torch.amp.autocast('cuda', args...)` instead.\n",
      "  with amp.autocast(autocast):\n",
      "C:\\Users\\Oz/.cache\\torch\\hub\\ultralytics_yolov5_master\\models\\common.py:892: FutureWarning: `torch.cuda.amp.autocast(args...)` is deprecated. Please use `torch.amp.autocast('cuda', args...)` instead.\n",
      "  with amp.autocast(autocast):\n"
     ]
    },
    {
     "name": "stdout",
     "output_type": "stream",
     "text": [
      "Closest object distance: 3.1 meters\n",
      "Calculated velocity: 0.5 m/s\n",
      "Closest object distance: 3.1 meters\n",
      "Calculated velocity: 0.4 m/s\n",
      "Closest object distance: 3.2 meters\n",
      "Calculated velocity: 0.8 m/s\n",
      "Closest object distance: 3.2 meters\n",
      "Calculated velocity: 0.7 m/s\n",
      "Closest object distance: 3.3 meters\n",
      "Calculated velocity: 1.1 m/s\n",
      "Closest object distance: 3.3 meters\n",
      "Calculated velocity: 1.3 m/s\n",
      "Closest object distance: 3.3 meters\n",
      "Calculated velocity: 1.1 m/s\n",
      "Closest object distance: 3.3 meters\n",
      "Calculated velocity: 1.3 m/s\n",
      "Closest object distance: 3.3 meters\n",
      "Calculated velocity: 1.4 m/s\n",
      "Closest object distance: 3.5 meters\n",
      "Calculated velocity: 2.0 m/s\n",
      "Closest object distance: 3.6 meters\n",
      "Calculated velocity: 2.3 m/s\n",
      "Closest object distance: 3.4 meters\n",
      "Calculated velocity: 1.8 m/s\n",
      "Closest object distance: 3.5 meters\n",
      "Calculated velocity: 2.0 m/s\n",
      "Closest object distance: 3.5 meters\n",
      "Calculated velocity: 2.0 m/s\n"
     ]
    },
    {
     "name": "stderr",
     "output_type": "stream",
     "text": [
      "C:\\Users\\Oz/.cache\\torch\\hub\\ultralytics_yolov5_master\\models\\common.py:892: FutureWarning: `torch.cuda.amp.autocast(args...)` is deprecated. Please use `torch.amp.autocast('cuda', args...)` instead.\n",
      "  with amp.autocast(autocast):\n"
     ]
    },
    {
     "name": "stdout",
     "output_type": "stream",
     "text": [
      "Closest object distance: 3.5 meters\n",
      "Calculated velocity: 2.2 m/s\n",
      "Closest object distance: 3.7 meters\n",
      "Calculated velocity: 2.9 m/s\n",
      "Closest object distance: 3.8 meters\n",
      "Calculated velocity: 3.1 m/s\n",
      "Closest object distance: 3.8 meters\n",
      "Calculated velocity: 3.1 m/s\n",
      "Closest object distance: 3.7 meters\n",
      "Calculated velocity: 2.8 m/s\n",
      "Closest object distance: 3.9 meters\n",
      "Calculated velocity: 3.5 m/s\n",
      "Closest object distance: 3.8 meters\n",
      "Calculated velocity: 3.4 m/s\n"
     ]
    },
    {
     "name": "stderr",
     "output_type": "stream",
     "text": [
      "C:\\Users\\Oz/.cache\\torch\\hub\\ultralytics_yolov5_master\\models\\common.py:892: FutureWarning: `torch.cuda.amp.autocast(args...)` is deprecated. Please use `torch.amp.autocast('cuda', args...)` instead.\n",
      "  with amp.autocast(autocast):\n",
      "C:\\Users\\Oz/.cache\\torch\\hub\\ultralytics_yolov5_master\\models\\common.py:892: FutureWarning: `torch.cuda.amp.autocast(args...)` is deprecated. Please use `torch.amp.autocast('cuda', args...)` instead.\n",
      "  with amp.autocast(autocast):\n"
     ]
    },
    {
     "name": "stdout",
     "output_type": "stream",
     "text": [
      "Closest object distance: 4.1 meters\n",
      "Calculated velocity: 4.2 m/s\n",
      "Closest object distance: 4.0 meters\n",
      "Calculated velocity: 3.9 m/s\n",
      "Closest object distance: 4.1 meters\n",
      "Calculated velocity: 4.4 m/s\n",
      "Closest object distance: 4.2 meters\n",
      "Calculated velocity: 4.7 m/s\n",
      "Closest object distance: 4.4 meters\n",
      "Calculated velocity: 5.1 m/s\n",
      "Closest object distance: 4.6 meters\n",
      "Calculated velocity: 5.6 m/s\n",
      "Closest object distance: 4.7 meters\n",
      "Calculated velocity: 6.0 m/s\n",
      "Closest object distance: 4.9 meters\n",
      "Calculated velocity: 6.4 m/s\n",
      "Closest object distance: 5.0 meters\n",
      "Calculated velocity: 6.9 m/s\n",
      "Closest object distance: 5.2 meters\n",
      "Calculated velocity: 7.2 m/s\n",
      "Closest object distance: 5.3 meters\n",
      "Calculated velocity: 7.6 m/s\n",
      "Closest object distance: 5.5 meters\n",
      "Calculated velocity: 7.9 m/s\n",
      "Closest object distance: 5.7 meters\n",
      "Calculated velocity: 8.3 m/s\n",
      "Closest object distance: 5.8 meters\n",
      "Calculated velocity: 8.6 m/s\n"
     ]
    },
    {
     "name": "stderr",
     "output_type": "stream",
     "text": [
      "C:\\Users\\Oz/.cache\\torch\\hub\\ultralytics_yolov5_master\\models\\common.py:892: FutureWarning: `torch.cuda.amp.autocast(args...)` is deprecated. Please use `torch.amp.autocast('cuda', args...)` instead.\n",
      "  with amp.autocast(autocast):\n",
      "C:\\Users\\Oz/.cache\\torch\\hub\\ultralytics_yolov5_master\\models\\common.py:892: FutureWarning: `torch.cuda.amp.autocast(args...)` is deprecated. Please use `torch.amp.autocast('cuda', args...)` instead.\n",
      "  with amp.autocast(autocast):\n"
     ]
    },
    {
     "name": "stdout",
     "output_type": "stream",
     "text": [
      "Closest object distance: 6.0 meters\n",
      "Calculated velocity: 8.9 m/s\n",
      "Closest object distance: 6.1 meters\n",
      "Calculated velocity: 9.2 m/s\n",
      "Closest object distance: 6.3 meters\n",
      "Calculated velocity: 9.4 m/s\n",
      "Closest object distance: 6.4 meters\n",
      "Calculated velocity: 9.6 m/s\n",
      "Closest object distance: 6.6 meters\n",
      "Calculated velocity: 9.8 m/s\n",
      "Closest object distance: 6.7 meters\n",
      "Calculated velocity: 10.0 m/s\n",
      "Closest object distance: 6.8 meters\n",
      "Calculated velocity: 10.2 m/s\n",
      "Closest object distance: 6.9 meters\n",
      "Calculated velocity: 10.3 m/s\n",
      "Closest object distance: 7.0 meters\n",
      "Calculated velocity: 10.5 m/s\n",
      "Closest object distance: 7.1 meters\n",
      "Calculated velocity: 10.6 m/s\n",
      "Closest object distance: 7.2 meters\n",
      "Calculated velocity: 10.7 m/s\n",
      "Closest object distance: 7.2 meters\n",
      "Calculated velocity: 10.8 m/s\n",
      "Closest object distance: 7.3 meters\n",
      "Calculated velocity: 10.9 m/s\n",
      "Closest object distance: 7.4 meters\n",
      "Calculated velocity: 11.0 m/s\n"
     ]
    },
    {
     "name": "stderr",
     "output_type": "stream",
     "text": [
      "C:\\Users\\Oz/.cache\\torch\\hub\\ultralytics_yolov5_master\\models\\common.py:892: FutureWarning: `torch.cuda.amp.autocast(args...)` is deprecated. Please use `torch.amp.autocast('cuda', args...)` instead.\n",
      "  with amp.autocast(autocast):\n"
     ]
    },
    {
     "name": "stdout",
     "output_type": "stream",
     "text": [
      "Closest object distance: 7.4 meters\n",
      "Calculated velocity: 11.0 m/s\n",
      "Closest object distance: 7.5 meters\n",
      "Calculated velocity: 11.1 m/s\n",
      "Closest object distance: 7.5 meters\n",
      "Calculated velocity: 11.1 m/s\n",
      "Closest object distance: 7.6 meters\n",
      "Calculated velocity: 11.2 m/s\n",
      "Closest object distance: 7.6 meters\n",
      "Calculated velocity: 11.3 m/s\n",
      "Closest object distance: 7.7 meters\n",
      "Calculated velocity: 11.3 m/s\n",
      "Closest object distance: 7.7 meters\n",
      "Calculated velocity: 11.4 m/s\n",
      "Closest object distance: 7.8 meters\n",
      "Calculated velocity: 11.4 m/s\n"
     ]
    },
    {
     "name": "stderr",
     "output_type": "stream",
     "text": [
      "C:\\Users\\Oz/.cache\\torch\\hub\\ultralytics_yolov5_master\\models\\common.py:892: FutureWarning: `torch.cuda.amp.autocast(args...)` is deprecated. Please use `torch.amp.autocast('cuda', args...)` instead.\n",
      "  with amp.autocast(autocast):\n",
      "C:\\Users\\Oz/.cache\\torch\\hub\\ultralytics_yolov5_master\\models\\common.py:892: FutureWarning: `torch.cuda.amp.autocast(args...)` is deprecated. Please use `torch.amp.autocast('cuda', args...)` instead.\n",
      "  with amp.autocast(autocast):\n",
      "C:\\Users\\Oz/.cache\\torch\\hub\\ultralytics_yolov5_master\\models\\common.py:892: FutureWarning: `torch.cuda.amp.autocast(args...)` is deprecated. Please use `torch.amp.autocast('cuda', args...)` instead.\n",
      "  with amp.autocast(autocast):\n"
     ]
    },
    {
     "name": "stdout",
     "output_type": "stream",
     "text": [
      "Closest object distance: 7.8 meters\n",
      "Calculated velocity: 11.5 m/s\n",
      "Closest object distance: 7.9 meters\n",
      "Calculated velocity: 11.6 m/s\n",
      "Closest object distance: 8.0 meters\n",
      "Calculated velocity: 11.6 m/s\n",
      "Closest object distance: 8.0 meters\n",
      "Calculated velocity: 11.7 m/s\n",
      "Closest object distance: 8.1 meters\n",
      "Calculated velocity: 11.7 m/s\n",
      "Closest object distance: 8.0 meters\n",
      "Calculated velocity: 11.7 m/s\n",
      "Closest object distance: 8.2 meters\n",
      "Calculated velocity: 11.9 m/s\n",
      "Closest object distance: 8.3 meters\n",
      "Calculated velocity: 11.9 m/s\n",
      "Closest object distance: 8.0 meters\n",
      "Calculated velocity: 11.7 m/s\n",
      "Closest object distance: 8.0 meters\n",
      "Calculated velocity: 11.6 m/s\n",
      "Closest object distance: 8.0 meters\n",
      "Calculated velocity: 11.7 m/s\n",
      "Closest object distance: 8.4 meters\n",
      "Calculated velocity: 12.1 m/s\n",
      "Closest object distance: 8.6 meters\n",
      "Calculated velocity: 12.2 m/s\n",
      "Closest object distance: 8.6 meters\n",
      "Calculated velocity: 12.2 m/s\n"
     ]
    },
    {
     "name": "stderr",
     "output_type": "stream",
     "text": [
      "C:\\Users\\Oz/.cache\\torch\\hub\\ultralytics_yolov5_master\\models\\common.py:892: FutureWarning: `torch.cuda.amp.autocast(args...)` is deprecated. Please use `torch.amp.autocast('cuda', args...)` instead.\n",
      "  with amp.autocast(autocast):\n"
     ]
    },
    {
     "name": "stdout",
     "output_type": "stream",
     "text": [
      "Closest object distance: 8.4 meters\n",
      "Calculated velocity: 12.0 m/s\n",
      "Closest object distance: 8.0 meters\n",
      "Calculated velocity: 11.6 m/s\n",
      "Closest object distance: 8.1 meters\n",
      "Calculated velocity: 11.8 m/s\n",
      "Closest object distance: 8.1 meters\n",
      "Calculated velocity: 11.8 m/s\n",
      "Closest object distance: 8.2 meters\n",
      "Calculated velocity: 11.8 m/s\n",
      "Closest object distance: 8.1 meters\n",
      "Calculated velocity: 11.8 m/s\n",
      "Closest object distance: 8.2 meters\n",
      "Calculated velocity: 11.8 m/s\n"
     ]
    },
    {
     "name": "stderr",
     "output_type": "stream",
     "text": [
      "C:\\Users\\Oz/.cache\\torch\\hub\\ultralytics_yolov5_master\\models\\common.py:892: FutureWarning: `torch.cuda.amp.autocast(args...)` is deprecated. Please use `torch.amp.autocast('cuda', args...)` instead.\n",
      "  with amp.autocast(autocast):\n"
     ]
    },
    {
     "name": "stdout",
     "output_type": "stream",
     "text": [
      "Closest object distance: 8.1 meters\n",
      "Calculated velocity: 11.7 m/s\n",
      "Closest object distance: 8.2 meters\n",
      "Calculated velocity: 11.8 m/s\n",
      "Closest object distance: 8.0 meters\n",
      "Calculated velocity: 11.7 m/s\n",
      "Closest object distance: 8.3 meters\n",
      "Calculated velocity: 12.0 m/s\n",
      "Closest object distance: 8.4 meters\n",
      "Calculated velocity: 12.1 m/s\n",
      "Closest object distance: 8.1 meters\n",
      "Calculated velocity: 11.8 m/s\n",
      "Closest object distance: 8.9 meters\n",
      "Calculated velocity: 12.4 m/s\n"
     ]
    },
    {
     "name": "stderr",
     "output_type": "stream",
     "text": [
      "C:\\Users\\Oz/.cache\\torch\\hub\\ultralytics_yolov5_master\\models\\common.py:892: FutureWarning: `torch.cuda.amp.autocast(args...)` is deprecated. Please use `torch.amp.autocast('cuda', args...)` instead.\n",
      "  with amp.autocast(autocast):\n",
      "C:\\Users\\Oz/.cache\\torch\\hub\\ultralytics_yolov5_master\\models\\common.py:892: FutureWarning: `torch.cuda.amp.autocast(args...)` is deprecated. Please use `torch.amp.autocast('cuda', args...)` instead.\n",
      "  with amp.autocast(autocast):\n"
     ]
    },
    {
     "name": "stdout",
     "output_type": "stream",
     "text": [
      "Closest object distance: 8.2 meters\n",
      "Calculated velocity: 11.8 m/s\n",
      "Closest object distance: 8.3 meters\n",
      "Calculated velocity: 11.9 m/s\n",
      "Closest object distance: 8.4 meters\n",
      "Calculated velocity: 12.1 m/s\n",
      "Closest object distance: 8.5 meters\n",
      "Calculated velocity: 12.2 m/s\n",
      "Closest object distance: 8.9 meters\n",
      "Calculated velocity: 12.4 m/s\n",
      "Closest object distance: 8.1 meters\n",
      "Calculated velocity: 11.8 m/s\n",
      "Closest object distance: 8.7 meters\n",
      "Calculated velocity: 12.3 m/s\n",
      "Closest object distance: 8.2 meters\n",
      "Calculated velocity: 11.9 m/s\n",
      "Closest object distance: 8.5 meters\n",
      "Calculated velocity: 12.1 m/s\n",
      "Closest object distance: 8.4 meters\n",
      "Calculated velocity: 12.0 m/s\n",
      "Closest object distance: 8.0 meters\n",
      "Calculated velocity: 11.7 m/s\n",
      "Closest object distance: 8.3 meters\n",
      "Calculated velocity: 12.0 m/s\n",
      "Closest object distance: 8.3 meters\n",
      "Calculated velocity: 11.9 m/s\n",
      "Closest object distance: 8.2 meters\n",
      "Calculated velocity: 11.9 m/s\n"
     ]
    },
    {
     "name": "stderr",
     "output_type": "stream",
     "text": [
      "C:\\Users\\Oz/.cache\\torch\\hub\\ultralytics_yolov5_master\\models\\common.py:892: FutureWarning: `torch.cuda.amp.autocast(args...)` is deprecated. Please use `torch.amp.autocast('cuda', args...)` instead.\n",
      "  with amp.autocast(autocast):\n",
      "C:\\Users\\Oz/.cache\\torch\\hub\\ultralytics_yolov5_master\\models\\common.py:892: FutureWarning: `torch.cuda.amp.autocast(args...)` is deprecated. Please use `torch.amp.autocast('cuda', args...)` instead.\n",
      "  with amp.autocast(autocast):\n"
     ]
    },
    {
     "name": "stdout",
     "output_type": "stream",
     "text": [
      "Closest object distance: 8.2 meters\n",
      "Calculated velocity: 11.9 m/s\n",
      "Closest object distance: 8.3 meters\n",
      "Calculated velocity: 11.9 m/s\n",
      "Closest object distance: 8.0 meters\n",
      "Calculated velocity: 11.6 m/s\n",
      "Closest object distance: 8.5 meters\n",
      "Calculated velocity: 12.2 m/s\n",
      "Closest object distance: 8.2 meters\n",
      "Calculated velocity: 11.9 m/s\n",
      "Closest object distance: 8.7 meters\n",
      "Calculated velocity: 12.3 m/s\n",
      "Closest object distance: 8.2 meters\n",
      "Calculated velocity: 11.8 m/s\n",
      "Closest object distance: 8.6 meters\n",
      "Calculated velocity: 12.2 m/s\n",
      "Closest object distance: 8.3 meters\n",
      "Calculated velocity: 12.0 m/s\n",
      "Closest object distance: 8.2 meters\n",
      "Calculated velocity: 11.8 m/s\n",
      "Closest object distance: 8.0 meters\n",
      "Calculated velocity: 11.7 m/s\n",
      "Closest object distance: 8.5 meters\n",
      "Calculated velocity: 12.1 m/s\n",
      "Closest object distance: 8.4 meters\n",
      "Calculated velocity: 12.0 m/s\n",
      "Closest object distance: 8.1 meters\n",
      "Calculated velocity: 11.8 m/s\n"
     ]
    },
    {
     "name": "stderr",
     "output_type": "stream",
     "text": [
      "C:\\Users\\Oz/.cache\\torch\\hub\\ultralytics_yolov5_master\\models\\common.py:892: FutureWarning: `torch.cuda.amp.autocast(args...)` is deprecated. Please use `torch.amp.autocast('cuda', args...)` instead.\n",
      "  with amp.autocast(autocast):\n",
      "C:\\Users\\Oz/.cache\\torch\\hub\\ultralytics_yolov5_master\\models\\common.py:892: FutureWarning: `torch.cuda.amp.autocast(args...)` is deprecated. Please use `torch.amp.autocast('cuda', args...)` instead.\n",
      "  with amp.autocast(autocast):\n"
     ]
    },
    {
     "name": "stdout",
     "output_type": "stream",
     "text": [
      "Closest object distance: 8.5 meters\n",
      "Calculated velocity: 12.1 m/s\n",
      "Closest object distance: 8.0 meters\n",
      "Calculated velocity: 11.7 m/s\n",
      "Closest object distance: 8.5 meters\n",
      "Calculated velocity: 12.1 m/s\n",
      "Closest object distance: 8.5 meters\n",
      "Calculated velocity: 12.1 m/s\n",
      "Closest object distance: 8.0 meters\n",
      "Calculated velocity: 11.7 m/s\n",
      "Closest object distance: 8.1 meters\n",
      "Calculated velocity: 11.8 m/s\n",
      "Closest object distance: 8.7 meters\n",
      "Calculated velocity: 12.3 m/s\n",
      "Closest object distance: 8.5 meters\n",
      "Calculated velocity: 12.1 m/s\n",
      "Closest object distance: 8.5 meters\n",
      "Calculated velocity: 12.2 m/s\n",
      "Closest object distance: 8.1 meters\n",
      "Calculated velocity: 11.8 m/s\n",
      "Closest object distance: 8.8 meters\n",
      "Calculated velocity: 12.3 m/s\n",
      "Closest object distance: 8.6 meters\n",
      "Calculated velocity: 12.2 m/s\n",
      "Closest object distance: 8.4 meters\n",
      "Calculated velocity: 12.0 m/s\n",
      "Closest object distance: 8.0 meters\n",
      "Calculated velocity: 11.7 m/s\n"
     ]
    },
    {
     "name": "stderr",
     "output_type": "stream",
     "text": [
      "C:\\Users\\Oz/.cache\\torch\\hub\\ultralytics_yolov5_master\\models\\common.py:892: FutureWarning: `torch.cuda.amp.autocast(args...)` is deprecated. Please use `torch.amp.autocast('cuda', args...)` instead.\n",
      "  with amp.autocast(autocast):\n"
     ]
    },
    {
     "name": "stdout",
     "output_type": "stream",
     "text": [
      "Closest object distance: 8.2 meters\n",
      "Calculated velocity: 11.8 m/s\n",
      "Closest object distance: 8.0 meters\n",
      "Calculated velocity: 11.7 m/s\n",
      "Closest object distance: 8.1 meters\n",
      "Calculated velocity: 11.8 m/s\n",
      "Closest object distance: 8.5 meters\n",
      "Calculated velocity: 12.1 m/s\n",
      "Closest object distance: 8.2 meters\n",
      "Calculated velocity: 11.9 m/s\n",
      "Closest object distance: 8.2 meters\n",
      "Calculated velocity: 11.8 m/s\n",
      "Closest object distance: 8.5 meters\n",
      "Calculated velocity: 12.1 m/s\n"
     ]
    },
    {
     "name": "stderr",
     "output_type": "stream",
     "text": [
      "C:\\Users\\Oz/.cache\\torch\\hub\\ultralytics_yolov5_master\\models\\common.py:892: FutureWarning: `torch.cuda.amp.autocast(args...)` is deprecated. Please use `torch.amp.autocast('cuda', args...)` instead.\n",
      "  with amp.autocast(autocast):\n"
     ]
    },
    {
     "name": "stdout",
     "output_type": "stream",
     "text": [
      "Closest object distance: 7.9 meters\n",
      "Calculated velocity: 11.5 m/s\n",
      "Closest object distance: 8.1 meters\n",
      "Calculated velocity: 11.8 m/s\n",
      "Closest object distance: 8.2 meters\n",
      "Calculated velocity: 11.9 m/s\n",
      "Closest object distance: 7.9 meters\n",
      "Calculated velocity: 11.5 m/s\n",
      "Closest object distance: 7.8 meters\n",
      "Calculated velocity: 11.5 m/s\n",
      "Closest object distance: 8.1 meters\n",
      "Calculated velocity: 11.7 m/s\n"
     ]
    },
    {
     "name": "stderr",
     "output_type": "stream",
     "text": [
      "C:\\Users\\Oz/.cache\\torch\\hub\\ultralytics_yolov5_master\\models\\common.py:892: FutureWarning: `torch.cuda.amp.autocast(args...)` is deprecated. Please use `torch.amp.autocast('cuda', args...)` instead.\n",
      "  with amp.autocast(autocast):\n",
      "C:\\Users\\Oz/.cache\\torch\\hub\\ultralytics_yolov5_master\\models\\common.py:892: FutureWarning: `torch.cuda.amp.autocast(args...)` is deprecated. Please use `torch.amp.autocast('cuda', args...)` instead.\n",
      "  with amp.autocast(autocast):\n"
     ]
    },
    {
     "name": "stdout",
     "output_type": "stream",
     "text": [
      "Closest object distance: 8.3 meters\n",
      "Calculated velocity: 11.9 m/s\n",
      "Closest object distance: 7.9 meters\n",
      "Calculated velocity: 11.6 m/s\n",
      "Closest object distance: 7.7 meters\n",
      "Calculated velocity: 11.3 m/s\n",
      "Closest object distance: 7.9 meters\n",
      "Calculated velocity: 11.6 m/s\n",
      "Closest object distance: 7.7 meters\n",
      "Calculated velocity: 11.4 m/s\n",
      "Closest object distance: 7.8 meters\n",
      "Calculated velocity: 11.4 m/s\n",
      "Closest object distance: 7.8 meters\n",
      "Calculated velocity: 11.5 m/s\n",
      "Closest object distance: 8.2 meters\n",
      "Calculated velocity: 11.9 m/s\n",
      "Closest object distance: 7.8 meters\n",
      "Calculated velocity: 11.5 m/s\n",
      "Closest object distance: 8.2 meters\n",
      "Calculated velocity: 11.9 m/s\n",
      "Closest object distance: 8.2 meters\n",
      "Calculated velocity: 11.8 m/s\n",
      "Closest object distance: 8.3 meters\n",
      "Calculated velocity: 12.0 m/s\n",
      "Closest object distance: 8.1 meters\n",
      "Calculated velocity: 11.8 m/s\n",
      "Closest object distance: 8.6 meters\n",
      "Calculated velocity: 12.2 m/s\n"
     ]
    },
    {
     "name": "stderr",
     "output_type": "stream",
     "text": [
      "C:\\Users\\Oz/.cache\\torch\\hub\\ultralytics_yolov5_master\\models\\common.py:892: FutureWarning: `torch.cuda.amp.autocast(args...)` is deprecated. Please use `torch.amp.autocast('cuda', args...)` instead.\n",
      "  with amp.autocast(autocast):\n"
     ]
    },
    {
     "name": "stdout",
     "output_type": "stream",
     "text": [
      "Closest object distance: 8.0 meters\n",
      "Calculated velocity: 11.6 m/s\n",
      "Closest object distance: 8.1 meters\n",
      "Calculated velocity: 11.8 m/s\n",
      "Closest object distance: 8.2 meters\n",
      "Calculated velocity: 11.8 m/s\n",
      "Closest object distance: 8.3 meters\n",
      "Calculated velocity: 12.0 m/s\n",
      "Closest object distance: 8.2 meters\n",
      "Calculated velocity: 11.8 m/s\n",
      "Closest object distance: 8.4 meters\n",
      "Calculated velocity: 12.0 m/s\n",
      "Closest object distance: 8.0 meters\n",
      "Calculated velocity: 11.7 m/s\n"
     ]
    },
    {
     "name": "stderr",
     "output_type": "stream",
     "text": [
      "C:\\Users\\Oz/.cache\\torch\\hub\\ultralytics_yolov5_master\\models\\common.py:892: FutureWarning: `torch.cuda.amp.autocast(args...)` is deprecated. Please use `torch.amp.autocast('cuda', args...)` instead.\n",
      "  with amp.autocast(autocast):\n"
     ]
    },
    {
     "name": "stdout",
     "output_type": "stream",
     "text": [
      "Closest object distance: 8.7 meters\n",
      "Calculated velocity: 12.3 m/s\n",
      "Closest object distance: 8.0 meters\n",
      "Calculated velocity: 11.7 m/s\n",
      "Closest object distance: 8.1 meters\n",
      "Calculated velocity: 11.8 m/s\n",
      "Closest object distance: 8.3 meters\n",
      "Calculated velocity: 12.0 m/s\n",
      "Closest object distance: 8.6 meters\n",
      "Calculated velocity: 12.2 m/s\n",
      "Closest object distance: 8.6 meters\n",
      "Calculated velocity: 12.2 m/s\n",
      "Closest object distance: 8.1 meters\n",
      "Calculated velocity: 11.7 m/s\n",
      "Closest object distance: 8.1 meters\n",
      "Calculated velocity: 11.7 m/s\n"
     ]
    },
    {
     "name": "stderr",
     "output_type": "stream",
     "text": [
      "C:\\Users\\Oz/.cache\\torch\\hub\\ultralytics_yolov5_master\\models\\common.py:892: FutureWarning: `torch.cuda.amp.autocast(args...)` is deprecated. Please use `torch.amp.autocast('cuda', args...)` instead.\n",
      "  with amp.autocast(autocast):\n"
     ]
    },
    {
     "name": "stdout",
     "output_type": "stream",
     "text": [
      "Closest object distance: 8.0 meters\n",
      "Calculated velocity: 11.7 m/s\n",
      "Closest object distance: 8.3 meters\n",
      "Calculated velocity: 12.0 m/s\n",
      "Closest object distance: 8.4 meters\n",
      "Calculated velocity: 12.1 m/s\n",
      "Closest object distance: 8.2 meters\n",
      "Calculated velocity: 11.9 m/s\n",
      "Closest object distance: 7.9 meters\n",
      "Calculated velocity: 11.6 m/s\n",
      "Closest object distance: 8.3 meters\n",
      "Calculated velocity: 11.9 m/s\n",
      "Closest object distance: 8.5 meters\n",
      "Calculated velocity: 12.2 m/s\n",
      "Closest object distance: 8.1 meters\n",
      "Calculated velocity: 11.8 m/s\n"
     ]
    },
    {
     "name": "stderr",
     "output_type": "stream",
     "text": [
      "C:\\Users\\Oz/.cache\\torch\\hub\\ultralytics_yolov5_master\\models\\common.py:892: FutureWarning: `torch.cuda.amp.autocast(args...)` is deprecated. Please use `torch.amp.autocast('cuda', args...)` instead.\n",
      "  with amp.autocast(autocast):\n",
      "C:\\Users\\Oz/.cache\\torch\\hub\\ultralytics_yolov5_master\\models\\common.py:892: FutureWarning: `torch.cuda.amp.autocast(args...)` is deprecated. Please use `torch.amp.autocast('cuda', args...)` instead.\n",
      "  with amp.autocast(autocast):\n"
     ]
    },
    {
     "name": "stdout",
     "output_type": "stream",
     "text": [
      "Closest object distance: 8.1 meters\n",
      "Calculated velocity: 11.8 m/s\n",
      "Closest object distance: 8.4 meters\n",
      "Calculated velocity: 12.0 m/s\n",
      "Closest object distance: 8.1 meters\n",
      "Calculated velocity: 11.7 m/s\n",
      "Closest object distance: 8.2 meters\n",
      "Calculated velocity: 11.8 m/s\n",
      "Closest object distance: 7.9 meters\n",
      "Calculated velocity: 11.6 m/s\n",
      "Closest object distance: 8.0 meters\n",
      "Calculated velocity: 11.7 m/s\n",
      "Closest object distance: 8.4 meters\n",
      "Calculated velocity: 12.0 m/s\n",
      "Closest object distance: 8.0 meters\n",
      "Calculated velocity: 11.7 m/s\n",
      "Closest object distance: 7.9 meters\n",
      "Calculated velocity: 11.5 m/s\n",
      "Closest object distance: 8.4 meters\n",
      "Calculated velocity: 12.1 m/s\n",
      "Closest object distance: 8.8 meters\n",
      "Calculated velocity: 12.4 m/s\n",
      "Closest object distance: 9.2 meters\n",
      "Calculated velocity: 12.6 m/s\n",
      "Closest object distance: 8.1 meters\n",
      "Calculated velocity: 11.8 m/s\n",
      "Closest object distance: 8.3 meters\n",
      "Calculated velocity: 11.9 m/s\n"
     ]
    },
    {
     "name": "stderr",
     "output_type": "stream",
     "text": [
      "C:\\Users\\Oz/.cache\\torch\\hub\\ultralytics_yolov5_master\\models\\common.py:892: FutureWarning: `torch.cuda.amp.autocast(args...)` is deprecated. Please use `torch.amp.autocast('cuda', args...)` instead.\n",
      "  with amp.autocast(autocast):\n"
     ]
    },
    {
     "name": "stdout",
     "output_type": "stream",
     "text": [
      "Closest object distance: 8.4 meters\n",
      "Calculated velocity: 12.0 m/s\n",
      "Closest object distance: 8.0 meters\n",
      "Calculated velocity: 11.6 m/s\n",
      "Closest object distance: 8.4 meters\n",
      "Calculated velocity: 12.0 m/s\n",
      "Closest object distance: 7.9 meters\n",
      "Calculated velocity: 11.5 m/s\n",
      "Closest object distance: 7.9 meters\n",
      "Calculated velocity: 11.5 m/s\n",
      "Closest object distance: 7.9 meters\n",
      "Calculated velocity: 11.6 m/s\n",
      "Closest object distance: 8.2 meters\n",
      "Calculated velocity: 11.8 m/s\n",
      "Closest object distance: 8.0 meters\n",
      "Calculated velocity: 11.6 m/s\n"
     ]
    },
    {
     "name": "stderr",
     "output_type": "stream",
     "text": [
      "C:\\Users\\Oz/.cache\\torch\\hub\\ultralytics_yolov5_master\\models\\common.py:892: FutureWarning: `torch.cuda.amp.autocast(args...)` is deprecated. Please use `torch.amp.autocast('cuda', args...)` instead.\n",
      "  with amp.autocast(autocast):\n",
      "C:\\Users\\Oz/.cache\\torch\\hub\\ultralytics_yolov5_master\\models\\common.py:892: FutureWarning: `torch.cuda.amp.autocast(args...)` is deprecated. Please use `torch.amp.autocast('cuda', args...)` instead.\n",
      "  with amp.autocast(autocast):\n",
      "C:\\Users\\Oz/.cache\\torch\\hub\\ultralytics_yolov5_master\\models\\common.py:892: FutureWarning: `torch.cuda.amp.autocast(args...)` is deprecated. Please use `torch.amp.autocast('cuda', args...)` instead.\n",
      "  with amp.autocast(autocast):\n"
     ]
    },
    {
     "name": "stdout",
     "output_type": "stream",
     "text": [
      "Closest object distance: 8.6 meters\n",
      "Calculated velocity: 12.2 m/s\n",
      "Closest object distance: 8.6 meters\n",
      "Calculated velocity: 12.2 m/s\n",
      "Closest object distance: 8.3 meters\n",
      "Calculated velocity: 12.0 m/s\n",
      "Closest object distance: 8.6 meters\n",
      "Calculated velocity: 12.2 m/s\n",
      "Closest object distance: 8.2 meters\n",
      "Calculated velocity: 11.9 m/s\n",
      "Closest object distance: 8.2 meters\n",
      "Calculated velocity: 11.9 m/s\n",
      "Closest object distance: 7.9 meters\n",
      "Calculated velocity: 11.6 m/s\n",
      "Closest object distance: 8.0 meters\n",
      "Calculated velocity: 11.7 m/s\n",
      "Closest object distance: 8.1 meters\n",
      "Calculated velocity: 11.8 m/s\n",
      "Closest object distance: 8.1 meters\n",
      "Calculated velocity: 11.8 m/s\n",
      "Closest object distance: 8.7 meters\n",
      "Calculated velocity: 12.3 m/s\n",
      "Closest object distance: 8.0 meters\n",
      "Calculated velocity: 11.7 m/s\n",
      "Closest object distance: 8.5 meters\n",
      "Calculated velocity: 12.1 m/s\n",
      "Closest object distance: 8.0 meters\n",
      "Calculated velocity: 11.7 m/s\n",
      "Closest object distance: 8.3 meters\n",
      "Calculated velocity: 12.0 m/s\n"
     ]
    },
    {
     "name": "stderr",
     "output_type": "stream",
     "text": [
      "C:\\Users\\Oz/.cache\\torch\\hub\\ultralytics_yolov5_master\\models\\common.py:892: FutureWarning: `torch.cuda.amp.autocast(args...)` is deprecated. Please use `torch.amp.autocast('cuda', args...)` instead.\n",
      "  with amp.autocast(autocast):\n",
      "C:\\Users\\Oz/.cache\\torch\\hub\\ultralytics_yolov5_master\\models\\common.py:892: FutureWarning: `torch.cuda.amp.autocast(args...)` is deprecated. Please use `torch.amp.autocast('cuda', args...)` instead.\n",
      "  with amp.autocast(autocast):\n"
     ]
    },
    {
     "name": "stdout",
     "output_type": "stream",
     "text": [
      "Closest object distance: 8.1 meters\n",
      "Calculated velocity: 11.7 m/s\n",
      "Closest object distance: 7.9 meters\n",
      "Calculated velocity: 11.6 m/s\n",
      "Closest object distance: 8.4 meters\n",
      "Calculated velocity: 12.0 m/s\n",
      "Closest object distance: 7.9 meters\n",
      "Calculated velocity: 11.5 m/s\n",
      "Closest object distance: 8.5 meters\n",
      "Calculated velocity: 12.1 m/s\n",
      "Closest object distance: 8.1 meters\n",
      "Calculated velocity: 11.7 m/s\n",
      "Closest object distance: 8.0 meters\n",
      "Calculated velocity: 11.7 m/s\n",
      "Closest object distance: 8.6 meters\n",
      "Calculated velocity: 12.2 m/s\n",
      "Closest object distance: 7.9 meters\n",
      "Calculated velocity: 11.5 m/s\n",
      "Closest object distance: 8.2 meters\n",
      "Calculated velocity: 11.8 m/s\n",
      "Closest object distance: 9.1 meters\n",
      "Calculated velocity: 12.6 m/s\n",
      "Closest object distance: 7.9 meters\n",
      "Calculated velocity: 11.5 m/s\n",
      "Closest object distance: 8.2 meters\n",
      "Calculated velocity: 11.8 m/s\n",
      "Closest object distance: 8.2 meters\n",
      "Calculated velocity: 11.8 m/s\n"
     ]
    },
    {
     "name": "stderr",
     "output_type": "stream",
     "text": [
      "C:\\Users\\Oz/.cache\\torch\\hub\\ultralytics_yolov5_master\\models\\common.py:892: FutureWarning: `torch.cuda.amp.autocast(args...)` is deprecated. Please use `torch.amp.autocast('cuda', args...)` instead.\n",
      "  with amp.autocast(autocast):\n",
      "C:\\Users\\Oz/.cache\\torch\\hub\\ultralytics_yolov5_master\\models\\common.py:892: FutureWarning: `torch.cuda.amp.autocast(args...)` is deprecated. Please use `torch.amp.autocast('cuda', args...)` instead.\n",
      "  with amp.autocast(autocast):\n"
     ]
    },
    {
     "name": "stdout",
     "output_type": "stream",
     "text": [
      "Closest object distance: 8.1 meters\n",
      "Calculated velocity: 11.7 m/s\n",
      "Closest object distance: 7.9 meters\n",
      "Calculated velocity: 11.6 m/s\n",
      "Closest object distance: 8.0 meters\n",
      "Calculated velocity: 11.6 m/s\n",
      "Closest object distance: 9.5 meters\n",
      "Calculated velocity: 12.9 m/s\n",
      "Closest object distance: 8.1 meters\n",
      "Calculated velocity: 11.7 m/s\n",
      "Closest object distance: 8.0 meters\n",
      "Calculated velocity: 11.6 m/s\n",
      "Closest object distance: 8.3 meters\n",
      "Calculated velocity: 12.0 m/s\n",
      "Closest object distance: 8.4 meters\n",
      "Calculated velocity: 12.0 m/s\n",
      "Closest object distance: 8.2 meters\n",
      "Calculated velocity: 11.9 m/s\n",
      "Closest object distance: 8.3 meters\n",
      "Calculated velocity: 11.9 m/s\n",
      "Closest object distance: 8.4 meters\n",
      "Calculated velocity: 12.0 m/s\n",
      "Closest object distance: 8.3 meters\n",
      "Calculated velocity: 11.9 m/s\n",
      "Closest object distance: 8.2 meters\n",
      "Calculated velocity: 11.9 m/s\n",
      "Closest object distance: 8.3 meters\n",
      "Calculated velocity: 12.0 m/s\n",
      "Closest object distance: 8.1 meters\n",
      "Calculated velocity: 11.8 m/s\n",
      "Closest object distance: 8.7 meters\n",
      "Calculated velocity: 12.3 m/s\n"
     ]
    },
    {
     "name": "stderr",
     "output_type": "stream",
     "text": [
      "C:\\Users\\Oz/.cache\\torch\\hub\\ultralytics_yolov5_master\\models\\common.py:892: FutureWarning: `torch.cuda.amp.autocast(args...)` is deprecated. Please use `torch.amp.autocast('cuda', args...)` instead.\n",
      "  with amp.autocast(autocast):\n"
     ]
    },
    {
     "name": "stdout",
     "output_type": "stream",
     "text": [
      "Closest object distance: 8.1 meters\n",
      "Calculated velocity: 11.7 m/s\n",
      "Closest object distance: 8.2 meters\n",
      "Calculated velocity: 11.8 m/s\n",
      "Closest object distance: 8.3 meters\n",
      "Calculated velocity: 11.9 m/s\n",
      "Closest object distance: 8.6 meters\n",
      "Calculated velocity: 12.2 m/s\n",
      "Closest object distance: 8.1 meters\n",
      "Calculated velocity: 11.7 m/s\n",
      "Closest object distance: 8.1 meters\n",
      "Calculated velocity: 11.7 m/s\n",
      "Closest object distance: 8.1 meters\n",
      "Calculated velocity: 11.8 m/s\n",
      "Closest object distance: 8.1 meters\n",
      "Calculated velocity: 11.7 m/s\n"
     ]
    },
    {
     "name": "stderr",
     "output_type": "stream",
     "text": [
      "C:\\Users\\Oz/.cache\\torch\\hub\\ultralytics_yolov5_master\\models\\common.py:892: FutureWarning: `torch.cuda.amp.autocast(args...)` is deprecated. Please use `torch.amp.autocast('cuda', args...)` instead.\n",
      "  with amp.autocast(autocast):\n"
     ]
    },
    {
     "name": "stdout",
     "output_type": "stream",
     "text": [
      "Closest object distance: 8.4 meters\n",
      "Calculated velocity: 12.1 m/s\n",
      "Closest object distance: 8.0 meters\n",
      "Calculated velocity: 11.7 m/s\n",
      "Closest object distance: 8.1 meters\n",
      "Calculated velocity: 11.7 m/s\n",
      "Closest object distance: 8.5 meters\n",
      "Calculated velocity: 12.2 m/s\n",
      "Closest object distance: 8.2 meters\n",
      "Calculated velocity: 11.8 m/s\n",
      "Closest object distance: 7.9 meters\n",
      "Calculated velocity: 11.5 m/s\n",
      "Closest object distance: 8.2 meters\n",
      "Calculated velocity: 11.9 m/s\n",
      "Closest object distance: 8.2 meters\n",
      "Calculated velocity: 11.9 m/s\n"
     ]
    },
    {
     "name": "stderr",
     "output_type": "stream",
     "text": [
      "C:\\Users\\Oz/.cache\\torch\\hub\\ultralytics_yolov5_master\\models\\common.py:892: FutureWarning: `torch.cuda.amp.autocast(args...)` is deprecated. Please use `torch.amp.autocast('cuda', args...)` instead.\n",
      "  with amp.autocast(autocast):\n"
     ]
    },
    {
     "name": "stdout",
     "output_type": "stream",
     "text": [
      "Closest object distance: 8.3 meters\n",
      "Calculated velocity: 12.0 m/s\n",
      "Closest object distance: 8.5 meters\n",
      "Calculated velocity: 12.1 m/s\n",
      "Closest object distance: 8.4 meters\n",
      "Calculated velocity: 12.0 m/s\n",
      "Closest object distance: 8.7 meters\n",
      "Calculated velocity: 12.3 m/s\n",
      "Closest object distance: 8.1 meters\n",
      "Calculated velocity: 11.8 m/s\n",
      "Closest object distance: 8.0 meters\n",
      "Calculated velocity: 11.7 m/s\n",
      "Closest object distance: 8.0 meters\n",
      "Calculated velocity: 11.7 m/s\n",
      "Closest object distance: 8.1 meters\n",
      "Calculated velocity: 11.7 m/s\n"
     ]
    },
    {
     "name": "stderr",
     "output_type": "stream",
     "text": [
      "C:\\Users\\Oz/.cache\\torch\\hub\\ultralytics_yolov5_master\\models\\common.py:892: FutureWarning: `torch.cuda.amp.autocast(args...)` is deprecated. Please use `torch.amp.autocast('cuda', args...)` instead.\n",
      "  with amp.autocast(autocast):\n"
     ]
    },
    {
     "name": "stdout",
     "output_type": "stream",
     "text": [
      "Closest object distance: 8.2 meters\n",
      "Calculated velocity: 11.9 m/s\n",
      "Closest object distance: 8.0 meters\n",
      "Calculated velocity: 11.7 m/s\n",
      "Closest object distance: 8.6 meters\n",
      "Calculated velocity: 12.2 m/s\n",
      "Closest object distance: 8.1 meters\n",
      "Calculated velocity: 11.8 m/s\n",
      "Closest object distance: 8.3 meters\n",
      "Calculated velocity: 11.9 m/s\n",
      "Closest object distance: 8.1 meters\n",
      "Calculated velocity: 11.8 m/s\n",
      "Closest object distance: 8.6 meters\n",
      "Calculated velocity: 12.2 m/s\n"
     ]
    },
    {
     "name": "stderr",
     "output_type": "stream",
     "text": [
      "C:\\Users\\Oz/.cache\\torch\\hub\\ultralytics_yolov5_master\\models\\common.py:892: FutureWarning: `torch.cuda.amp.autocast(args...)` is deprecated. Please use `torch.amp.autocast('cuda', args...)` instead.\n",
      "  with amp.autocast(autocast):\n"
     ]
    },
    {
     "name": "stdout",
     "output_type": "stream",
     "text": [
      "Closest object distance: 8.8 meters\n",
      "Calculated velocity: 12.4 m/s\n",
      "Closest object distance: 8.5 meters\n",
      "Calculated velocity: 12.1 m/s\n",
      "Closest object distance: 8.4 meters\n",
      "Calculated velocity: 12.0 m/s\n",
      "Closest object distance: 8.2 meters\n",
      "Calculated velocity: 11.9 m/s\n",
      "Closest object distance: 8.0 meters\n",
      "Calculated velocity: 11.7 m/s\n",
      "Closest object distance: 8.4 meters\n",
      "Calculated velocity: 12.0 m/s\n",
      "Closest object distance: 9.3 meters\n",
      "Calculated velocity: 12.7 m/s\n",
      "Closest object distance: 8.3 meters\n",
      "Calculated velocity: 11.9 m/s\n"
     ]
    },
    {
     "name": "stderr",
     "output_type": "stream",
     "text": [
      "C:\\Users\\Oz/.cache\\torch\\hub\\ultralytics_yolov5_master\\models\\common.py:892: FutureWarning: `torch.cuda.amp.autocast(args...)` is deprecated. Please use `torch.amp.autocast('cuda', args...)` instead.\n",
      "  with amp.autocast(autocast):\n"
     ]
    },
    {
     "name": "stdout",
     "output_type": "stream",
     "text": [
      "Closest object distance: 8.2 meters\n",
      "Calculated velocity: 11.8 m/s\n",
      "Closest object distance: 8.8 meters\n",
      "Calculated velocity: 12.3 m/s\n",
      "Closest object distance: 8.2 meters\n",
      "Calculated velocity: 11.8 m/s\n",
      "Closest object distance: 8.4 meters\n",
      "Calculated velocity: 12.0 m/s\n",
      "Closest object distance: 8.0 meters\n",
      "Calculated velocity: 11.7 m/s\n",
      "Closest object distance: 8.2 meters\n",
      "Calculated velocity: 11.9 m/s\n",
      "Closest object distance: 8.1 meters\n",
      "Calculated velocity: 11.8 m/s\n",
      "Closest object distance: 8.7 meters\n",
      "Calculated velocity: 12.3 m/s\n"
     ]
    },
    {
     "name": "stderr",
     "output_type": "stream",
     "text": [
      "C:\\Users\\Oz/.cache\\torch\\hub\\ultralytics_yolov5_master\\models\\common.py:892: FutureWarning: `torch.cuda.amp.autocast(args...)` is deprecated. Please use `torch.amp.autocast('cuda', args...)` instead.\n",
      "  with amp.autocast(autocast):\n",
      "C:\\Users\\Oz/.cache\\torch\\hub\\ultralytics_yolov5_master\\models\\common.py:892: FutureWarning: `torch.cuda.amp.autocast(args...)` is deprecated. Please use `torch.amp.autocast('cuda', args...)` instead.\n",
      "  with amp.autocast(autocast):\n"
     ]
    },
    {
     "name": "stdout",
     "output_type": "stream",
     "text": [
      "Closest object distance: 8.3 meters\n",
      "Calculated velocity: 11.9 m/s\n",
      "Closest object distance: 8.7 meters\n",
      "Calculated velocity: 12.3 m/s\n",
      "Closest object distance: 8.3 meters\n",
      "Calculated velocity: 12.0 m/s\n",
      "Closest object distance: 8.9 meters\n",
      "Calculated velocity: 12.5 m/s\n",
      "Closest object distance: 8.0 meters\n",
      "Calculated velocity: 11.6 m/s\n",
      "Closest object distance: 8.1 meters\n",
      "Calculated velocity: 11.8 m/s\n",
      "Closest object distance: 8.1 meters\n",
      "Calculated velocity: 11.7 m/s\n"
     ]
    },
    {
     "name": "stderr",
     "output_type": "stream",
     "text": [
      "C:\\Users\\Oz/.cache\\torch\\hub\\ultralytics_yolov5_master\\models\\common.py:892: FutureWarning: `torch.cuda.amp.autocast(args...)` is deprecated. Please use `torch.amp.autocast('cuda', args...)` instead.\n",
      "  with amp.autocast(autocast):\n"
     ]
    },
    {
     "name": "stdout",
     "output_type": "stream",
     "text": [
      "Closest object distance: 8.0 meters\n",
      "Calculated velocity: 11.7 m/s\n",
      "Closest object distance: 9.3 meters\n",
      "Calculated velocity: 12.7 m/s\n",
      "Closest object distance: 8.1 meters\n",
      "Calculated velocity: 11.8 m/s\n",
      "Closest object distance: 8.0 meters\n",
      "Calculated velocity: 11.7 m/s\n",
      "Closest object distance: 8.3 meters\n",
      "Calculated velocity: 12.0 m/s\n",
      "Closest object distance: 8.2 meters\n",
      "Calculated velocity: 11.9 m/s\n",
      "Closest object distance: 8.1 meters\n",
      "Calculated velocity: 11.8 m/s\n",
      "Closest object distance: 8.7 meters\n",
      "Calculated velocity: 12.3 m/s\n",
      "Closest object distance: 8.0 meters\n",
      "Calculated velocity: 11.7 m/s\n",
      "Closest object distance: 8.4 meters\n",
      "Calculated velocity: 12.1 m/s\n",
      "Closest object distance: 8.1 meters\n",
      "Calculated velocity: 11.8 m/s\n",
      "Closest object distance: 7.9 meters\n",
      "Calculated velocity: 11.6 m/s\n",
      "Closest object distance: 9.1 meters\n",
      "Calculated velocity: 12.6 m/s\n",
      "Closest object distance: 7.9 meters\n",
      "Calculated velocity: 11.6 m/s\n",
      "Closest object distance: 8.2 meters\n",
      "Calculated velocity: 11.8 m/s\n"
     ]
    },
    {
     "name": "stderr",
     "output_type": "stream",
     "text": [
      "C:\\Users\\Oz/.cache\\torch\\hub\\ultralytics_yolov5_master\\models\\common.py:892: FutureWarning: `torch.cuda.amp.autocast(args...)` is deprecated. Please use `torch.amp.autocast('cuda', args...)` instead.\n",
      "  with amp.autocast(autocast):\n",
      "C:\\Users\\Oz/.cache\\torch\\hub\\ultralytics_yolov5_master\\models\\common.py:892: FutureWarning: `torch.cuda.amp.autocast(args...)` is deprecated. Please use `torch.amp.autocast('cuda', args...)` instead.\n",
      "  with amp.autocast(autocast):\n",
      "C:\\Users\\Oz/.cache\\torch\\hub\\ultralytics_yolov5_master\\models\\common.py:892: FutureWarning: `torch.cuda.amp.autocast(args...)` is deprecated. Please use `torch.amp.autocast('cuda', args...)` instead.\n",
      "  with amp.autocast(autocast):\n"
     ]
    },
    {
     "name": "stdout",
     "output_type": "stream",
     "text": [
      "Closest object distance: 8.1 meters\n",
      "Calculated velocity: 11.7 m/s\n",
      "Closest object distance: 8.5 meters\n",
      "Calculated velocity: 12.1 m/s\n",
      "Closest object distance: 8.4 meters\n",
      "Calculated velocity: 12.0 m/s\n",
      "Closest object distance: 8.2 meters\n",
      "Calculated velocity: 11.8 m/s\n",
      "Closest object distance: 8.2 meters\n",
      "Calculated velocity: 11.9 m/s\n",
      "Closest object distance: 8.4 meters\n",
      "Calculated velocity: 12.0 m/s\n",
      "Closest object distance: 8.0 meters\n",
      "Calculated velocity: 11.6 m/s\n",
      "Closest object distance: 8.5 meters\n",
      "Calculated velocity: 12.1 m/s\n",
      "Closest object distance: 8.7 meters\n",
      "Calculated velocity: 12.3 m/s\n",
      "Closest object distance: 8.1 meters\n",
      "Calculated velocity: 11.8 m/s\n",
      "Closest object distance: 8.0 meters\n",
      "Calculated velocity: 11.6 m/s\n",
      "Closest object distance: 7.9 meters\n",
      "Calculated velocity: 11.6 m/s\n",
      "Closest object distance: 8.6 meters\n",
      "Calculated velocity: 12.2 m/s\n",
      "Closest object distance: 8.1 meters\n",
      "Calculated velocity: 11.7 m/s\n",
      "Closest object distance: 8.5 meters\n",
      "Calculated velocity: 12.1 m/s\n"
     ]
    },
    {
     "name": "stderr",
     "output_type": "stream",
     "text": [
      "C:\\Users\\Oz/.cache\\torch\\hub\\ultralytics_yolov5_master\\models\\common.py:892: FutureWarning: `torch.cuda.amp.autocast(args...)` is deprecated. Please use `torch.amp.autocast('cuda', args...)` instead.\n",
      "  with amp.autocast(autocast):\n"
     ]
    },
    {
     "name": "stdout",
     "output_type": "stream",
     "text": [
      "Closest object distance: 8.5 meters\n",
      "Calculated velocity: 12.1 m/s\n",
      "Closest object distance: 8.2 meters\n",
      "Calculated velocity: 11.8 m/s\n",
      "Closest object distance: 8.2 meters\n",
      "Calculated velocity: 11.9 m/s\n",
      "Closest object distance: 8.2 meters\n",
      "Calculated velocity: 11.9 m/s\n",
      "Closest object distance: 8.3 meters\n",
      "Calculated velocity: 12.0 m/s\n",
      "Closest object distance: 8.1 meters\n",
      "Calculated velocity: 11.8 m/s\n",
      "Closest object distance: 8.8 meters\n",
      "Calculated velocity: 12.4 m/s\n",
      "Closest object distance: 8.1 meters\n",
      "Calculated velocity: 11.8 m/s\n"
     ]
    },
    {
     "name": "stderr",
     "output_type": "stream",
     "text": [
      "C:\\Users\\Oz/.cache\\torch\\hub\\ultralytics_yolov5_master\\models\\common.py:892: FutureWarning: `torch.cuda.amp.autocast(args...)` is deprecated. Please use `torch.amp.autocast('cuda', args...)` instead.\n",
      "  with amp.autocast(autocast):\n"
     ]
    },
    {
     "name": "stdout",
     "output_type": "stream",
     "text": [
      "Closest object distance: 8.1 meters\n",
      "Calculated velocity: 11.7 m/s\n",
      "Closest object distance: 8.2 meters\n",
      "Calculated velocity: 11.8 m/s\n",
      "Closest object distance: 8.7 meters\n",
      "Calculated velocity: 12.3 m/s\n",
      "Closest object distance: 8.0 meters\n",
      "Calculated velocity: 11.7 m/s\n",
      "Closest object distance: 8.0 meters\n",
      "Calculated velocity: 11.6 m/s\n",
      "Closest object distance: 8.4 meters\n",
      "Calculated velocity: 12.1 m/s\n",
      "Closest object distance: 8.5 meters\n",
      "Calculated velocity: 12.1 m/s\n",
      "Closest object distance: 8.1 meters\n",
      "Calculated velocity: 11.8 m/s\n"
     ]
    },
    {
     "name": "stderr",
     "output_type": "stream",
     "text": [
      "C:\\Users\\Oz/.cache\\torch\\hub\\ultralytics_yolov5_master\\models\\common.py:892: FutureWarning: `torch.cuda.amp.autocast(args...)` is deprecated. Please use `torch.amp.autocast('cuda', args...)` instead.\n",
      "  with amp.autocast(autocast):\n"
     ]
    },
    {
     "name": "stdout",
     "output_type": "stream",
     "text": [
      "Closest object distance: 8.0 meters\n",
      "Calculated velocity: 11.7 m/s\n",
      "Closest object distance: 8.3 meters\n",
      "Calculated velocity: 12.0 m/s\n",
      "Closest object distance: 8.8 meters\n",
      "Calculated velocity: 12.4 m/s\n",
      "Closest object distance: 8.7 meters\n",
      "Calculated velocity: 12.3 m/s\n",
      "Closest object distance: 8.3 meters\n",
      "Calculated velocity: 11.9 m/s\n",
      "Closest object distance: 8.1 meters\n",
      "Calculated velocity: 11.7 m/s\n",
      "Closest object distance: 8.1 meters\n",
      "Calculated velocity: 11.8 m/s\n",
      "Closest object distance: 8.1 meters\n",
      "Calculated velocity: 11.8 m/s\n"
     ]
    },
    {
     "name": "stderr",
     "output_type": "stream",
     "text": [
      "C:\\Users\\Oz/.cache\\torch\\hub\\ultralytics_yolov5_master\\models\\common.py:892: FutureWarning: `torch.cuda.amp.autocast(args...)` is deprecated. Please use `torch.amp.autocast('cuda', args...)` instead.\n",
      "  with amp.autocast(autocast):\n"
     ]
    },
    {
     "name": "stdout",
     "output_type": "stream",
     "text": [
      "Closest object distance: 8.0 meters\n",
      "Calculated velocity: 11.7 m/s\n",
      "Closest object distance: 8.4 meters\n",
      "Calculated velocity: 12.0 m/s\n",
      "Closest object distance: 8.4 meters\n",
      "Calculated velocity: 12.0 m/s\n",
      "Closest object distance: 8.7 meters\n",
      "Calculated velocity: 12.3 m/s\n",
      "Closest object distance: 8.0 meters\n",
      "Calculated velocity: 11.6 m/s\n",
      "Closest object distance: 8.1 meters\n",
      "Calculated velocity: 11.7 m/s\n",
      "Closest object distance: 8.0 meters\n",
      "Calculated velocity: 11.6 m/s\n",
      "Closest object distance: 8.3 meters\n",
      "Calculated velocity: 11.9 m/s\n"
     ]
    },
    {
     "name": "stderr",
     "output_type": "stream",
     "text": [
      "C:\\Users\\Oz/.cache\\torch\\hub\\ultralytics_yolov5_master\\models\\common.py:892: FutureWarning: `torch.cuda.amp.autocast(args...)` is deprecated. Please use `torch.amp.autocast('cuda', args...)` instead.\n",
      "  with amp.autocast(autocast):\n"
     ]
    },
    {
     "name": "stdout",
     "output_type": "stream",
     "text": [
      "Closest object distance: 8.0 meters\n",
      "Calculated velocity: 11.7 m/s\n",
      "Closest object distance: 8.2 meters\n",
      "Calculated velocity: 11.8 m/s\n",
      "Closest object distance: 8.1 meters\n",
      "Calculated velocity: 11.8 m/s\n",
      "Closest object distance: 8.7 meters\n",
      "Calculated velocity: 12.3 m/s\n",
      "Closest object distance: 8.4 meters\n",
      "Calculated velocity: 12.1 m/s\n",
      "Closest object distance: 8.5 meters\n",
      "Calculated velocity: 12.1 m/s\n",
      "Closest object distance: 8.1 meters\n",
      "Calculated velocity: 11.7 m/s\n",
      "Closest object distance: 9.1 meters\n",
      "Calculated velocity: 12.6 m/s\n"
     ]
    },
    {
     "name": "stderr",
     "output_type": "stream",
     "text": [
      "C:\\Users\\Oz/.cache\\torch\\hub\\ultralytics_yolov5_master\\models\\common.py:892: FutureWarning: `torch.cuda.amp.autocast(args...)` is deprecated. Please use `torch.amp.autocast('cuda', args...)` instead.\n",
      "  with amp.autocast(autocast):\n"
     ]
    },
    {
     "name": "stdout",
     "output_type": "stream",
     "text": [
      "Closest object distance: 8.0 meters\n",
      "Calculated velocity: 11.6 m/s\n",
      "Closest object distance: 8.1 meters\n",
      "Calculated velocity: 11.8 m/s\n",
      "Closest object distance: 8.4 meters\n",
      "Calculated velocity: 12.0 m/s\n",
      "Closest object distance: 8.2 meters\n",
      "Calculated velocity: 11.8 m/s\n",
      "Closest object distance: 8.0 meters\n",
      "Calculated velocity: 11.6 m/s\n",
      "Closest object distance: 8.2 meters\n",
      "Calculated velocity: 11.8 m/s\n",
      "Closest object distance: 8.3 meters\n",
      "Calculated velocity: 12.0 m/s\n",
      "Closest object distance: 8.4 meters\n",
      "Calculated velocity: 12.0 m/s\n"
     ]
    },
    {
     "name": "stderr",
     "output_type": "stream",
     "text": [
      "C:\\Users\\Oz/.cache\\torch\\hub\\ultralytics_yolov5_master\\models\\common.py:892: FutureWarning: `torch.cuda.amp.autocast(args...)` is deprecated. Please use `torch.amp.autocast('cuda', args...)` instead.\n",
      "  with amp.autocast(autocast):\n"
     ]
    },
    {
     "name": "stdout",
     "output_type": "stream",
     "text": [
      "Closest object distance: 8.0 meters\n",
      "Calculated velocity: 11.7 m/s\n",
      "Closest object distance: 8.2 meters\n",
      "Calculated velocity: 11.8 m/s\n",
      "Closest object distance: 8.1 meters\n",
      "Calculated velocity: 11.8 m/s\n",
      "Closest object distance: 8.3 meters\n",
      "Calculated velocity: 11.9 m/s\n",
      "Closest object distance: 8.1 meters\n",
      "Calculated velocity: 11.7 m/s\n",
      "Closest object distance: 8.1 meters\n",
      "Calculated velocity: 11.7 m/s\n",
      "Closest object distance: 8.0 meters\n",
      "Calculated velocity: 11.7 m/s\n",
      "Closest object distance: 8.2 meters\n",
      "Calculated velocity: 11.9 m/s\n"
     ]
    },
    {
     "name": "stderr",
     "output_type": "stream",
     "text": [
      "C:\\Users\\Oz/.cache\\torch\\hub\\ultralytics_yolov5_master\\models\\common.py:892: FutureWarning: `torch.cuda.amp.autocast(args...)` is deprecated. Please use `torch.amp.autocast('cuda', args...)` instead.\n",
      "  with amp.autocast(autocast):\n"
     ]
    },
    {
     "name": "stdout",
     "output_type": "stream",
     "text": [
      "Closest object distance: 8.0 meters\n",
      "Calculated velocity: 11.6 m/s\n",
      "Closest object distance: 8.1 meters\n",
      "Calculated velocity: 11.8 m/s\n",
      "Closest object distance: 8.6 meters\n",
      "Calculated velocity: 12.2 m/s\n",
      "Closest object distance: 8.3 meters\n",
      "Calculated velocity: 12.0 m/s\n",
      "Closest object distance: 7.9 meters\n",
      "Calculated velocity: 11.6 m/s\n",
      "Closest object distance: 8.2 meters\n",
      "Calculated velocity: 11.9 m/s\n",
      "Closest object distance: 8.4 meters\n",
      "Calculated velocity: 12.0 m/s\n",
      "Closest object distance: 8.4 meters\n",
      "Calculated velocity: 12.0 m/s\n"
     ]
    },
    {
     "name": "stderr",
     "output_type": "stream",
     "text": [
      "C:\\Users\\Oz/.cache\\torch\\hub\\ultralytics_yolov5_master\\models\\common.py:892: FutureWarning: `torch.cuda.amp.autocast(args...)` is deprecated. Please use `torch.amp.autocast('cuda', args...)` instead.\n",
      "  with amp.autocast(autocast):\n"
     ]
    },
    {
     "name": "stdout",
     "output_type": "stream",
     "text": [
      "Closest object distance: 8.2 meters\n",
      "Calculated velocity: 11.8 m/s\n",
      "Closest object distance: 8.1 meters\n",
      "Calculated velocity: 11.8 m/s\n",
      "Closest object distance: 8.0 meters\n",
      "Calculated velocity: 11.6 m/s\n",
      "Closest object distance: 8.1 meters\n",
      "Calculated velocity: 11.7 m/s\n",
      "Closest object distance: 8.0 meters\n",
      "Calculated velocity: 11.7 m/s\n",
      "Closest object distance: 7.9 meters\n",
      "Calculated velocity: 11.6 m/s\n",
      "Closest object distance: 9.0 meters\n",
      "Calculated velocity: 12.5 m/s\n",
      "Closest object distance: 7.9 meters\n",
      "Calculated velocity: 11.6 m/s\n"
     ]
    },
    {
     "name": "stderr",
     "output_type": "stream",
     "text": [
      "C:\\Users\\Oz/.cache\\torch\\hub\\ultralytics_yolov5_master\\models\\common.py:892: FutureWarning: `torch.cuda.amp.autocast(args...)` is deprecated. Please use `torch.amp.autocast('cuda', args...)` instead.\n",
      "  with amp.autocast(autocast):\n"
     ]
    },
    {
     "name": "stdout",
     "output_type": "stream",
     "text": [
      "Closest object distance: 8.4 meters\n",
      "Calculated velocity: 12.0 m/s\n",
      "Closest object distance: 8.6 meters\n",
      "Calculated velocity: 12.2 m/s\n",
      "Closest object distance: 8.2 meters\n",
      "Calculated velocity: 11.8 m/s\n",
      "Closest object distance: 8.1 meters\n",
      "Calculated velocity: 11.8 m/s\n",
      "Closest object distance: 8.3 meters\n",
      "Calculated velocity: 12.0 m/s\n",
      "Closest object distance: 8.1 meters\n",
      "Calculated velocity: 11.8 m/s\n",
      "Closest object distance: 8.2 meters\n",
      "Calculated velocity: 11.9 m/s\n",
      "Closest object distance: 8.2 meters\n",
      "Calculated velocity: 11.9 m/s\n"
     ]
    },
    {
     "name": "stderr",
     "output_type": "stream",
     "text": [
      "C:\\Users\\Oz/.cache\\torch\\hub\\ultralytics_yolov5_master\\models\\common.py:892: FutureWarning: `torch.cuda.amp.autocast(args...)` is deprecated. Please use `torch.amp.autocast('cuda', args...)` instead.\n",
      "  with amp.autocast(autocast):\n",
      "C:\\Users\\Oz/.cache\\torch\\hub\\ultralytics_yolov5_master\\models\\common.py:892: FutureWarning: `torch.cuda.amp.autocast(args...)` is deprecated. Please use `torch.amp.autocast('cuda', args...)` instead.\n",
      "  with amp.autocast(autocast):\n"
     ]
    },
    {
     "name": "stdout",
     "output_type": "stream",
     "text": [
      "Closest object distance: 7.9 meters\n",
      "Calculated velocity: 11.6 m/s\n",
      "Closest object distance: 8.4 meters\n",
      "Calculated velocity: 12.1 m/s\n",
      "Closest object distance: 8.6 meters\n",
      "Calculated velocity: 12.2 m/s\n",
      "Closest object distance: 8.4 meters\n",
      "Calculated velocity: 12.0 m/s\n",
      "Closest object distance: 8.6 meters\n",
      "Calculated velocity: 12.2 m/s\n",
      "Closest object distance: 8.1 meters\n",
      "Calculated velocity: 11.8 m/s\n",
      "Closest object distance: 8.5 meters\n",
      "Calculated velocity: 12.2 m/s\n",
      "Closest object distance: 8.4 meters\n",
      "Calculated velocity: 12.0 m/s\n",
      "Closest object distance: 8.0 meters\n",
      "Calculated velocity: 11.7 m/s\n",
      "Closest object distance: 8.4 meters\n",
      "Calculated velocity: 12.0 m/s\n",
      "Closest object distance: 8.1 meters\n",
      "Calculated velocity: 11.7 m/s\n",
      "Closest object distance: 8.6 meters\n",
      "Calculated velocity: 12.2 m/s\n",
      "Closest object distance: 8.3 meters\n",
      "Calculated velocity: 12.0 m/s\n",
      "Closest object distance: 7.9 meters\n",
      "Calculated velocity: 11.6 m/s\n",
      "Closest object distance: 8.6 meters\n",
      "Calculated velocity: 12.2 m/s\n"
     ]
    },
    {
     "name": "stderr",
     "output_type": "stream",
     "text": [
      "C:\\Users\\Oz/.cache\\torch\\hub\\ultralytics_yolov5_master\\models\\common.py:892: FutureWarning: `torch.cuda.amp.autocast(args...)` is deprecated. Please use `torch.amp.autocast('cuda', args...)` instead.\n",
      "  with amp.autocast(autocast):\n"
     ]
    },
    {
     "name": "stdout",
     "output_type": "stream",
     "text": [
      "Closest object distance: 8.0 meters\n",
      "Calculated velocity: 11.6 m/s\n",
      "Closest object distance: 8.1 meters\n",
      "Calculated velocity: 11.7 m/s\n",
      "Closest object distance: 8.4 meters\n",
      "Calculated velocity: 12.1 m/s\n",
      "Closest object distance: 8.1 meters\n",
      "Calculated velocity: 11.8 m/s\n",
      "Closest object distance: 7.9 meters\n",
      "Calculated velocity: 11.6 m/s\n",
      "Closest object distance: 8.7 meters\n",
      "Calculated velocity: 12.3 m/s\n",
      "Closest object distance: 8.2 meters\n",
      "Calculated velocity: 11.8 m/s\n",
      "Closest object distance: 8.6 meters\n",
      "Calculated velocity: 12.2 m/s\n",
      "Closest object distance: 8.1 meters\n",
      "Calculated velocity: 11.8 m/s\n",
      "Closest object distance: 8.3 meters\n",
      "Calculated velocity: 12.0 m/s\n"
     ]
    },
    {
     "name": "stderr",
     "output_type": "stream",
     "text": [
      "C:\\Users\\Oz/.cache\\torch\\hub\\ultralytics_yolov5_master\\models\\common.py:892: FutureWarning: `torch.cuda.amp.autocast(args...)` is deprecated. Please use `torch.amp.autocast('cuda', args...)` instead.\n",
      "  with amp.autocast(autocast):\n",
      "C:\\Users\\Oz/.cache\\torch\\hub\\ultralytics_yolov5_master\\models\\common.py:892: FutureWarning: `torch.cuda.amp.autocast(args...)` is deprecated. Please use `torch.amp.autocast('cuda', args...)` instead.\n",
      "  with amp.autocast(autocast):\n"
     ]
    },
    {
     "name": "stdout",
     "output_type": "stream",
     "text": [
      "Closest object distance: 8.9 meters\n",
      "Calculated velocity: 12.4 m/s\n",
      "Closest object distance: 8.1 meters\n",
      "Calculated velocity: 11.7 m/s\n",
      "Closest object distance: 8.2 meters\n",
      "Calculated velocity: 11.8 m/s\n",
      "Closest object distance: 8.2 meters\n",
      "Calculated velocity: 11.8 m/s\n",
      "Closest object distance: 8.3 meters\n",
      "Calculated velocity: 12.0 m/s\n",
      "Closest object distance: 8.6 meters\n",
      "Calculated velocity: 12.2 m/s\n",
      "Closest object distance: 8.2 meters\n",
      "Calculated velocity: 11.8 m/s\n",
      "Closest object distance: 8.3 meters\n",
      "Calculated velocity: 11.9 m/s\n"
     ]
    },
    {
     "name": "stderr",
     "output_type": "stream",
     "text": [
      "C:\\Users\\Oz/.cache\\torch\\hub\\ultralytics_yolov5_master\\models\\common.py:892: FutureWarning: `torch.cuda.amp.autocast(args...)` is deprecated. Please use `torch.amp.autocast('cuda', args...)` instead.\n",
      "  with amp.autocast(autocast):\n"
     ]
    },
    {
     "name": "stdout",
     "output_type": "stream",
     "text": [
      "Closest object distance: 8.1 meters\n",
      "Calculated velocity: 11.7 m/s\n",
      "Closest object distance: 8.6 meters\n",
      "Calculated velocity: 12.2 m/s\n",
      "Closest object distance: 8.9 meters\n",
      "Calculated velocity: 12.4 m/s\n",
      "Closest object distance: 8.2 meters\n",
      "Calculated velocity: 11.9 m/s\n",
      "Closest object distance: 8.1 meters\n",
      "Calculated velocity: 11.8 m/s\n",
      "Closest object distance: 8.5 meters\n",
      "Calculated velocity: 12.1 m/s\n",
      "Closest object distance: 8.1 meters\n",
      "Calculated velocity: 11.8 m/s\n"
     ]
    },
    {
     "name": "stderr",
     "output_type": "stream",
     "text": [
      "C:\\Users\\Oz/.cache\\torch\\hub\\ultralytics_yolov5_master\\models\\common.py:892: FutureWarning: `torch.cuda.amp.autocast(args...)` is deprecated. Please use `torch.amp.autocast('cuda', args...)` instead.\n",
      "  with amp.autocast(autocast):\n"
     ]
    },
    {
     "name": "stdout",
     "output_type": "stream",
     "text": [
      "Closest object distance: 8.3 meters\n",
      "Calculated velocity: 12.0 m/s\n",
      "Closest object distance: 8.5 meters\n",
      "Calculated velocity: 12.1 m/s\n",
      "Closest object distance: 8.2 meters\n",
      "Calculated velocity: 11.8 m/s\n",
      "Closest object distance: 8.4 meters\n",
      "Calculated velocity: 12.1 m/s\n",
      "Closest object distance: 8.2 meters\n",
      "Calculated velocity: 11.8 m/s\n",
      "Closest object distance: 8.1 meters\n",
      "Calculated velocity: 11.8 m/s\n",
      "Closest object distance: 8.5 meters\n",
      "Calculated velocity: 12.1 m/s\n"
     ]
    },
    {
     "name": "stderr",
     "output_type": "stream",
     "text": [
      "C:\\Users\\Oz/.cache\\torch\\hub\\ultralytics_yolov5_master\\models\\common.py:892: FutureWarning: `torch.cuda.amp.autocast(args...)` is deprecated. Please use `torch.amp.autocast('cuda', args...)` instead.\n",
      "  with amp.autocast(autocast):\n"
     ]
    },
    {
     "name": "stdout",
     "output_type": "stream",
     "text": [
      "Closest object distance: 8.5 meters\n",
      "Calculated velocity: 12.1 m/s\n",
      "Closest object distance: 8.1 meters\n",
      "Calculated velocity: 11.8 m/s\n",
      "Closest object distance: 8.6 meters\n",
      "Calculated velocity: 12.2 m/s\n",
      "Closest object distance: 8.2 meters\n",
      "Calculated velocity: 11.8 m/s\n",
      "Closest object distance: 8.2 meters\n",
      "Calculated velocity: 11.8 m/s\n",
      "Closest object distance: 8.1 meters\n",
      "Calculated velocity: 11.7 m/s\n",
      "Closest object distance: 8.2 meters\n",
      "Calculated velocity: 11.9 m/s\n",
      "Closest object distance: 8.1 meters\n",
      "Calculated velocity: 11.7 m/s\n",
      "Closest object distance: 8.3 meters\n",
      "Calculated velocity: 11.9 m/s\n",
      "Closest object distance: 8.0 meters\n",
      "Calculated velocity: 11.6 m/s\n",
      "Closest object distance: 8.2 meters\n",
      "Calculated velocity: 11.8 m/s\n",
      "Closest object distance: 8.2 meters\n",
      "Calculated velocity: 11.9 m/s\n",
      "Closest object distance: 8.2 meters\n",
      "Calculated velocity: 11.9 m/s\n",
      "Closest object distance: 8.8 meters\n",
      "Calculated velocity: 12.4 m/s\n",
      "Closest object distance: 8.8 meters\n",
      "Calculated velocity: 12.4 m/s\n",
      "Closest object distance: 8.0 meters\n",
      "Calculated velocity: 11.7 m/s\n"
     ]
    },
    {
     "name": "stderr",
     "output_type": "stream",
     "text": [
      "C:\\Users\\Oz/.cache\\torch\\hub\\ultralytics_yolov5_master\\models\\common.py:892: FutureWarning: `torch.cuda.amp.autocast(args...)` is deprecated. Please use `torch.amp.autocast('cuda', args...)` instead.\n",
      "  with amp.autocast(autocast):\n",
      "C:\\Users\\Oz/.cache\\torch\\hub\\ultralytics_yolov5_master\\models\\common.py:892: FutureWarning: `torch.cuda.amp.autocast(args...)` is deprecated. Please use `torch.amp.autocast('cuda', args...)` instead.\n",
      "  with amp.autocast(autocast):\n"
     ]
    },
    {
     "name": "stdout",
     "output_type": "stream",
     "text": [
      "Closest object distance: 9.0 meters\n",
      "Calculated velocity: 12.5 m/s\n",
      "Closest object distance: 8.0 meters\n",
      "Calculated velocity: 11.6 m/s\n",
      "Closest object distance: 8.2 meters\n",
      "Calculated velocity: 11.8 m/s\n",
      "Closest object distance: 8.1 meters\n",
      "Calculated velocity: 11.7 m/s\n",
      "Closest object distance: 8.0 meters\n",
      "Calculated velocity: 11.7 m/s\n",
      "Closest object distance: 8.6 meters\n",
      "Calculated velocity: 12.2 m/s\n",
      "Closest object distance: 8.2 meters\n",
      "Calculated velocity: 11.9 m/s\n"
     ]
    },
    {
     "name": "stderr",
     "output_type": "stream",
     "text": [
      "C:\\Users\\Oz/.cache\\torch\\hub\\ultralytics_yolov5_master\\models\\common.py:892: FutureWarning: `torch.cuda.amp.autocast(args...)` is deprecated. Please use `torch.amp.autocast('cuda', args...)` instead.\n",
      "  with amp.autocast(autocast):\n"
     ]
    },
    {
     "name": "stdout",
     "output_type": "stream",
     "text": [
      "Closest object distance: 8.0 meters\n",
      "Calculated velocity: 11.7 m/s\n",
      "Closest object distance: 8.2 meters\n",
      "Calculated velocity: 11.8 m/s\n",
      "Closest object distance: 7.9 meters\n",
      "Calculated velocity: 11.6 m/s\n",
      "Closest object distance: 8.0 meters\n",
      "Calculated velocity: 11.6 m/s\n",
      "Closest object distance: 8.4 meters\n",
      "Calculated velocity: 12.0 m/s\n",
      "Closest object distance: 8.5 meters\n",
      "Calculated velocity: 12.1 m/s\n",
      "Closest object distance: 8.4 meters\n",
      "Calculated velocity: 12.0 m/s\n",
      "Closest object distance: 8.1 meters\n",
      "Calculated velocity: 11.8 m/s\n"
     ]
    },
    {
     "name": "stderr",
     "output_type": "stream",
     "text": [
      "C:\\Users\\Oz/.cache\\torch\\hub\\ultralytics_yolov5_master\\models\\common.py:892: FutureWarning: `torch.cuda.amp.autocast(args...)` is deprecated. Please use `torch.amp.autocast('cuda', args...)` instead.\n",
      "  with amp.autocast(autocast):\n"
     ]
    },
    {
     "name": "stdout",
     "output_type": "stream",
     "text": [
      "Closest object distance: 8.3 meters\n",
      "Calculated velocity: 11.9 m/s\n",
      "Closest object distance: 8.2 meters\n",
      "Calculated velocity: 11.9 m/s\n",
      "Closest object distance: 8.0 meters\n",
      "Calculated velocity: 11.6 m/s\n",
      "Closest object distance: 8.0 meters\n",
      "Calculated velocity: 11.7 m/s\n",
      "Closest object distance: 8.2 meters\n",
      "Calculated velocity: 11.8 m/s\n",
      "Closest object distance: 8.2 meters\n",
      "Calculated velocity: 11.9 m/s\n",
      "Closest object distance: 8.1 meters\n",
      "Calculated velocity: 11.8 m/s\n"
     ]
    },
    {
     "name": "stderr",
     "output_type": "stream",
     "text": [
      "C:\\Users\\Oz/.cache\\torch\\hub\\ultralytics_yolov5_master\\models\\common.py:892: FutureWarning: `torch.cuda.amp.autocast(args...)` is deprecated. Please use `torch.amp.autocast('cuda', args...)` instead.\n",
      "  with amp.autocast(autocast):\n",
      "C:\\Users\\Oz/.cache\\torch\\hub\\ultralytics_yolov5_master\\models\\common.py:892: FutureWarning: `torch.cuda.amp.autocast(args...)` is deprecated. Please use `torch.amp.autocast('cuda', args...)` instead.\n",
      "  with amp.autocast(autocast):\n"
     ]
    },
    {
     "name": "stdout",
     "output_type": "stream",
     "text": [
      "Closest object distance: 8.4 meters\n",
      "Calculated velocity: 12.0 m/s\n",
      "Closest object distance: 8.2 meters\n",
      "Calculated velocity: 11.9 m/s\n",
      "Closest object distance: 8.0 meters\n",
      "Calculated velocity: 11.6 m/s\n",
      "Closest object distance: 8.4 meters\n",
      "Calculated velocity: 12.0 m/s\n",
      "Closest object distance: 8.2 meters\n",
      "Calculated velocity: 11.9 m/s\n",
      "Closest object distance: 8.5 meters\n",
      "Calculated velocity: 12.1 m/s\n",
      "Closest object distance: 8.3 meters\n",
      "Calculated velocity: 11.9 m/s\n",
      "Closest object distance: 8.2 meters\n",
      "Calculated velocity: 11.9 m/s\n",
      "Closest object distance: 8.5 meters\n",
      "Calculated velocity: 12.1 m/s\n",
      "Closest object distance: 8.7 meters\n",
      "Calculated velocity: 12.2 m/s\n",
      "Closest object distance: 8.4 meters\n",
      "Calculated velocity: 12.0 m/s\n",
      "Closest object distance: 8.9 meters\n",
      "Calculated velocity: 12.4 m/s\n",
      "Closest object distance: 8.1 meters\n",
      "Calculated velocity: 11.7 m/s\n",
      "Closest object distance: 8.1 meters\n",
      "Calculated velocity: 11.7 m/s\n",
      "Closest object distance: 8.0 meters\n",
      "Calculated velocity: 11.7 m/s\n",
      "Closest object distance: 8.0 meters\n",
      "Calculated velocity: 11.6 m/s\n"
     ]
    },
    {
     "name": "stderr",
     "output_type": "stream",
     "text": [
      "C:\\Users\\Oz/.cache\\torch\\hub\\ultralytics_yolov5_master\\models\\common.py:892: FutureWarning: `torch.cuda.amp.autocast(args...)` is deprecated. Please use `torch.amp.autocast('cuda', args...)` instead.\n",
      "  with amp.autocast(autocast):\n",
      "C:\\Users\\Oz/.cache\\torch\\hub\\ultralytics_yolov5_master\\models\\common.py:892: FutureWarning: `torch.cuda.amp.autocast(args...)` is deprecated. Please use `torch.amp.autocast('cuda', args...)` instead.\n",
      "  with amp.autocast(autocast):\n"
     ]
    },
    {
     "name": "stdout",
     "output_type": "stream",
     "text": [
      "Closest object distance: 8.5 meters\n",
      "Calculated velocity: 12.1 m/s\n",
      "Closest object distance: 8.3 meters\n",
      "Calculated velocity: 11.9 m/s\n",
      "Closest object distance: 8.3 meters\n",
      "Calculated velocity: 11.9 m/s\n",
      "Closest object distance: 8.0 meters\n",
      "Calculated velocity: 11.6 m/s\n",
      "Closest object distance: 8.1 meters\n",
      "Calculated velocity: 11.8 m/s\n",
      "Closest object distance: 8.0 meters\n",
      "Calculated velocity: 11.6 m/s\n",
      "Closest object distance: 8.2 meters\n",
      "Calculated velocity: 11.9 m/s\n",
      "Closest object distance: 7.9 meters\n",
      "Calculated velocity: 11.6 m/s\n",
      "Closest object distance: 8.2 meters\n",
      "Calculated velocity: 11.9 m/s\n",
      "Closest object distance: 8.2 meters\n",
      "Calculated velocity: 11.9 m/s\n",
      "Closest object distance: 8.3 meters\n",
      "Calculated velocity: 12.0 m/s\n",
      "Closest object distance: 8.5 meters\n",
      "Calculated velocity: 12.1 m/s\n",
      "Closest object distance: 8.2 meters\n",
      "Calculated velocity: 11.8 m/s\n",
      "Closest object distance: 8.1 meters\n",
      "Calculated velocity: 11.8 m/s\n",
      "Closest object distance: 8.5 meters\n",
      "Calculated velocity: 12.1 m/s\n",
      "Closest object distance: 8.3 meters\n",
      "Calculated velocity: 11.9 m/s\n"
     ]
    },
    {
     "name": "stderr",
     "output_type": "stream",
     "text": [
      "C:\\Users\\Oz/.cache\\torch\\hub\\ultralytics_yolov5_master\\models\\common.py:892: FutureWarning: `torch.cuda.amp.autocast(args...)` is deprecated. Please use `torch.amp.autocast('cuda', args...)` instead.\n",
      "  with amp.autocast(autocast):\n"
     ]
    },
    {
     "name": "stdout",
     "output_type": "stream",
     "text": [
      "Closest object distance: 8.2 meters\n",
      "Calculated velocity: 11.9 m/s\n",
      "Closest object distance: 8.0 meters\n",
      "Calculated velocity: 11.7 m/s\n",
      "Closest object distance: 8.3 meters\n",
      "Calculated velocity: 11.9 m/s\n",
      "Closest object distance: 7.9 meters\n",
      "Calculated velocity: 11.6 m/s\n",
      "Closest object distance: 9.0 meters\n",
      "Calculated velocity: 12.5 m/s\n",
      "Closest object distance: 8.4 meters\n",
      "Calculated velocity: 12.0 m/s\n",
      "Closest object distance: 8.4 meters\n",
      "Calculated velocity: 12.0 m/s\n",
      "Closest object distance: 8.2 meters\n",
      "Calculated velocity: 11.8 m/s\n"
     ]
    },
    {
     "name": "stderr",
     "output_type": "stream",
     "text": [
      "C:\\Users\\Oz/.cache\\torch\\hub\\ultralytics_yolov5_master\\models\\common.py:892: FutureWarning: `torch.cuda.amp.autocast(args...)` is deprecated. Please use `torch.amp.autocast('cuda', args...)` instead.\n",
      "  with amp.autocast(autocast):\n",
      "C:\\Users\\Oz/.cache\\torch\\hub\\ultralytics_yolov5_master\\models\\common.py:892: FutureWarning: `torch.cuda.amp.autocast(args...)` is deprecated. Please use `torch.amp.autocast('cuda', args...)` instead.\n",
      "  with amp.autocast(autocast):\n"
     ]
    },
    {
     "name": "stdout",
     "output_type": "stream",
     "text": [
      "Closest object distance: 8.2 meters\n",
      "Calculated velocity: 11.9 m/s\n",
      "Closest object distance: 8.7 meters\n",
      "Calculated velocity: 12.3 m/s\n",
      "Closest object distance: 8.4 meters\n",
      "Calculated velocity: 12.0 m/s\n",
      "Closest object distance: 8.3 meters\n",
      "Calculated velocity: 11.9 m/s\n",
      "Closest object distance: 8.3 meters\n",
      "Calculated velocity: 12.0 m/s\n",
      "Closest object distance: 8.1 meters\n",
      "Calculated velocity: 11.7 m/s\n",
      "Closest object distance: 8.1 meters\n",
      "Calculated velocity: 11.8 m/s\n",
      "Closest object distance: 8.3 meters\n",
      "Calculated velocity: 11.9 m/s\n",
      "Closest object distance: 8.8 meters\n",
      "Calculated velocity: 12.4 m/s\n",
      "Closest object distance: 8.0 meters\n",
      "Calculated velocity: 11.7 m/s\n",
      "Closest object distance: 8.3 meters\n",
      "Calculated velocity: 12.0 m/s\n",
      "Closest object distance: 8.4 meters\n",
      "Calculated velocity: 12.0 m/s\n",
      "Closest object distance: 8.3 meters\n",
      "Calculated velocity: 11.9 m/s\n",
      "Closest object distance: 8.2 meters\n",
      "Calculated velocity: 11.9 m/s\n"
     ]
    },
    {
     "name": "stderr",
     "output_type": "stream",
     "text": [
      "C:\\Users\\Oz/.cache\\torch\\hub\\ultralytics_yolov5_master\\models\\common.py:892: FutureWarning: `torch.cuda.amp.autocast(args...)` is deprecated. Please use `torch.amp.autocast('cuda', args...)` instead.\n",
      "  with amp.autocast(autocast):\n",
      "C:\\Users\\Oz/.cache\\torch\\hub\\ultralytics_yolov5_master\\models\\common.py:892: FutureWarning: `torch.cuda.amp.autocast(args...)` is deprecated. Please use `torch.amp.autocast('cuda', args...)` instead.\n",
      "  with amp.autocast(autocast):\n"
     ]
    },
    {
     "name": "stdout",
     "output_type": "stream",
     "text": [
      "Closest object distance: 8.5 meters\n",
      "Calculated velocity: 12.1 m/s\n",
      "Closest object distance: 8.1 meters\n",
      "Calculated velocity: 11.8 m/s\n",
      "Closest object distance: 8.9 meters\n",
      "Calculated velocity: 12.4 m/s\n",
      "Closest object distance: 8.3 meters\n",
      "Calculated velocity: 12.0 m/s\n",
      "Closest object distance: 8.2 meters\n",
      "Calculated velocity: 11.9 m/s\n",
      "Closest object distance: 8.0 meters\n",
      "Calculated velocity: 11.6 m/s\n",
      "Closest object distance: 8.4 meters\n",
      "Calculated velocity: 12.0 m/s\n",
      "Closest object distance: 8.1 meters\n",
      "Calculated velocity: 11.8 m/s\n",
      "Closest object distance: 8.3 meters\n",
      "Calculated velocity: 11.9 m/s\n",
      "Closest object distance: 8.4 meters\n",
      "Calculated velocity: 12.1 m/s\n",
      "Closest object distance: 8.4 meters\n",
      "Calculated velocity: 12.0 m/s\n",
      "Closest object distance: 8.2 meters\n",
      "Calculated velocity: 11.8 m/s\n",
      "Closest object distance: 8.3 meters\n",
      "Calculated velocity: 11.9 m/s\n",
      "Closest object distance: 8.3 meters\n",
      "Calculated velocity: 11.9 m/s\n",
      "Closest object distance: 8.3 meters\n",
      "Calculated velocity: 12.0 m/s\n",
      "Closest object distance: 8.0 meters\n",
      "Calculated velocity: 11.7 m/s\n"
     ]
    },
    {
     "name": "stderr",
     "output_type": "stream",
     "text": [
      "C:\\Users\\Oz/.cache\\torch\\hub\\ultralytics_yolov5_master\\models\\common.py:892: FutureWarning: `torch.cuda.amp.autocast(args...)` is deprecated. Please use `torch.amp.autocast('cuda', args...)` instead.\n",
      "  with amp.autocast(autocast):\n",
      "C:\\Users\\Oz/.cache\\torch\\hub\\ultralytics_yolov5_master\\models\\common.py:892: FutureWarning: `torch.cuda.amp.autocast(args...)` is deprecated. Please use `torch.amp.autocast('cuda', args...)` instead.\n",
      "  with amp.autocast(autocast):\n"
     ]
    },
    {
     "name": "stdout",
     "output_type": "stream",
     "text": [
      "Closest object distance: 8.5 meters\n",
      "Calculated velocity: 12.1 m/s\n",
      "Closest object distance: 8.0 meters\n",
      "Calculated velocity: 11.6 m/s\n",
      "Closest object distance: 8.0 meters\n",
      "Calculated velocity: 11.6 m/s\n",
      "Closest object distance: 8.0 meters\n",
      "Calculated velocity: 11.7 m/s\n",
      "Closest object distance: 8.0 meters\n",
      "Calculated velocity: 11.6 m/s\n",
      "Closest object distance: 8.2 meters\n",
      "Calculated velocity: 11.9 m/s\n",
      "Closest object distance: 8.0 meters\n",
      "Calculated velocity: 11.6 m/s\n",
      "Closest object distance: 8.3 meters\n",
      "Calculated velocity: 12.0 m/s\n",
      "Closest object distance: 8.4 meters\n",
      "Calculated velocity: 12.0 m/s\n",
      "Closest object distance: 8.1 meters\n",
      "Calculated velocity: 11.8 m/s\n",
      "Closest object distance: 8.0 meters\n",
      "Calculated velocity: 11.6 m/s\n",
      "Closest object distance: 8.4 meters\n",
      "Calculated velocity: 12.0 m/s\n",
      "Closest object distance: 8.2 meters\n",
      "Calculated velocity: 11.9 m/s\n",
      "Closest object distance: 8.1 meters\n",
      "Calculated velocity: 11.7 m/s\n",
      "Closest object distance: 8.1 meters\n",
      "Calculated velocity: 11.8 m/s\n"
     ]
    },
    {
     "name": "stderr",
     "output_type": "stream",
     "text": [
      "C:\\Users\\Oz/.cache\\torch\\hub\\ultralytics_yolov5_master\\models\\common.py:892: FutureWarning: `torch.cuda.amp.autocast(args...)` is deprecated. Please use `torch.amp.autocast('cuda', args...)` instead.\n",
      "  with amp.autocast(autocast):\n"
     ]
    },
    {
     "name": "stdout",
     "output_type": "stream",
     "text": [
      "Closest object distance: 8.0 meters\n",
      "Calculated velocity: 11.6 m/s\n",
      "Closest object distance: 8.1 meters\n",
      "Calculated velocity: 11.7 m/s\n",
      "Closest object distance: 8.2 meters\n",
      "Calculated velocity: 11.8 m/s\n",
      "Closest object distance: 8.0 meters\n",
      "Calculated velocity: 11.6 m/s\n",
      "Closest object distance: 8.8 meters\n",
      "Calculated velocity: 12.4 m/s\n",
      "Closest object distance: 8.2 meters\n",
      "Calculated velocity: 11.8 m/s\n",
      "Closest object distance: 7.9 meters\n",
      "Calculated velocity: 11.6 m/s\n",
      "Closest object distance: 9.1 meters\n",
      "Calculated velocity: 12.6 m/s\n",
      "Closest object distance: 8.1 meters\n",
      "Calculated velocity: 11.8 m/s\n"
     ]
    },
    {
     "name": "stderr",
     "output_type": "stream",
     "text": [
      "C:\\Users\\Oz/.cache\\torch\\hub\\ultralytics_yolov5_master\\models\\common.py:892: FutureWarning: `torch.cuda.amp.autocast(args...)` is deprecated. Please use `torch.amp.autocast('cuda', args...)` instead.\n",
      "  with amp.autocast(autocast):\n"
     ]
    },
    {
     "name": "stdout",
     "output_type": "stream",
     "text": [
      "Closest object distance: 8.2 meters\n",
      "Calculated velocity: 11.8 m/s\n",
      "Closest object distance: 8.3 meters\n",
      "Calculated velocity: 12.0 m/s\n",
      "Closest object distance: 8.1 meters\n",
      "Calculated velocity: 11.7 m/s\n",
      "Closest object distance: 8.4 meters\n",
      "Calculated velocity: 12.0 m/s\n",
      "Closest object distance: 8.2 meters\n",
      "Calculated velocity: 11.9 m/s\n",
      "Closest object distance: 8.3 meters\n",
      "Calculated velocity: 12.0 m/s\n",
      "Closest object distance: 8.5 meters\n",
      "Calculated velocity: 12.1 m/s\n",
      "Closest object distance: 8.4 meters\n",
      "Calculated velocity: 12.1 m/s\n",
      "Closest object distance: 7.9 meters\n",
      "Calculated velocity: 11.6 m/s\n"
     ]
    },
    {
     "name": "stderr",
     "output_type": "stream",
     "text": [
      "C:\\Users\\Oz/.cache\\torch\\hub\\ultralytics_yolov5_master\\models\\common.py:892: FutureWarning: `torch.cuda.amp.autocast(args...)` is deprecated. Please use `torch.amp.autocast('cuda', args...)` instead.\n",
      "  with amp.autocast(autocast):\n",
      "C:\\Users\\Oz/.cache\\torch\\hub\\ultralytics_yolov5_master\\models\\common.py:892: FutureWarning: `torch.cuda.amp.autocast(args...)` is deprecated. Please use `torch.amp.autocast('cuda', args...)` instead.\n",
      "  with amp.autocast(autocast):\n"
     ]
    },
    {
     "name": "stdout",
     "output_type": "stream",
     "text": [
      "Closest object distance: 8.3 meters\n",
      "Calculated velocity: 11.9 m/s\n",
      "Closest object distance: 8.6 meters\n",
      "Calculated velocity: 12.2 m/s\n",
      "Closest object distance: 8.2 meters\n",
      "Calculated velocity: 11.8 m/s\n",
      "Closest object distance: 8.1 meters\n",
      "Calculated velocity: 11.8 m/s\n",
      "Closest object distance: 8.2 meters\n",
      "Calculated velocity: 11.8 m/s\n",
      "Closest object distance: 8.6 meters\n",
      "Calculated velocity: 12.2 m/s\n",
      "Closest object distance: 8.6 meters\n",
      "Calculated velocity: 12.2 m/s\n",
      "Closest object distance: 8.0 meters\n",
      "Calculated velocity: 11.6 m/s\n",
      "Closest object distance: 8.3 meters\n",
      "Calculated velocity: 11.9 m/s\n",
      "Closest object distance: 8.0 meters\n",
      "Calculated velocity: 11.6 m/s\n",
      "Closest object distance: 8.3 meters\n",
      "Calculated velocity: 12.0 m/s\n",
      "Closest object distance: 8.5 meters\n",
      "Calculated velocity: 12.1 m/s\n",
      "Closest object distance: 8.5 meters\n",
      "Calculated velocity: 12.1 m/s\n",
      "Closest object distance: 8.1 meters\n",
      "Calculated velocity: 11.7 m/s\n",
      "Closest object distance: 8.4 meters\n",
      "Calculated velocity: 12.1 m/s\n",
      "Closest object distance: 8.5 meters\n",
      "Calculated velocity: 12.1 m/s\n"
     ]
    },
    {
     "name": "stderr",
     "output_type": "stream",
     "text": [
      "C:\\Users\\Oz/.cache\\torch\\hub\\ultralytics_yolov5_master\\models\\common.py:892: FutureWarning: `torch.cuda.amp.autocast(args...)` is deprecated. Please use `torch.amp.autocast('cuda', args...)` instead.\n",
      "  with amp.autocast(autocast):\n"
     ]
    },
    {
     "name": "stdout",
     "output_type": "stream",
     "text": [
      "Closest object distance: 8.7 meters\n",
      "Calculated velocity: 12.3 m/s\n",
      "Closest object distance: 8.3 meters\n",
      "Calculated velocity: 11.9 m/s\n",
      "Closest object distance: 8.2 meters\n",
      "Calculated velocity: 11.8 m/s\n",
      "Closest object distance: 8.0 meters\n",
      "Calculated velocity: 11.6 m/s\n",
      "Closest object distance: 8.2 meters\n",
      "Calculated velocity: 11.8 m/s\n",
      "Closest object distance: 7.9 meters\n",
      "Calculated velocity: 11.6 m/s\n",
      "Closest object distance: 8.2 meters\n",
      "Calculated velocity: 11.9 m/s\n",
      "Closest object distance: 8.1 meters\n",
      "Calculated velocity: 11.7 m/s\n"
     ]
    },
    {
     "name": "stderr",
     "output_type": "stream",
     "text": [
      "C:\\Users\\Oz/.cache\\torch\\hub\\ultralytics_yolov5_master\\models\\common.py:892: FutureWarning: `torch.cuda.amp.autocast(args...)` is deprecated. Please use `torch.amp.autocast('cuda', args...)` instead.\n",
      "  with amp.autocast(autocast):\n"
     ]
    },
    {
     "name": "stdout",
     "output_type": "stream",
     "text": [
      "Closest object distance: 8.0 meters\n",
      "Calculated velocity: 11.6 m/s\n",
      "Closest object distance: 8.4 meters\n",
      "Calculated velocity: 12.0 m/s\n",
      "Closest object distance: 8.1 meters\n",
      "Calculated velocity: 11.7 m/s\n",
      "Closest object distance: 8.2 meters\n",
      "Calculated velocity: 11.9 m/s\n",
      "Closest object distance: 8.2 meters\n",
      "Calculated velocity: 11.8 m/s\n",
      "Closest object distance: 8.2 meters\n",
      "Calculated velocity: 11.9 m/s\n",
      "Closest object distance: 8.2 meters\n",
      "Calculated velocity: 11.9 m/s\n",
      "Closest object distance: 8.0 meters\n",
      "Calculated velocity: 11.7 m/s\n"
     ]
    },
    {
     "name": "stderr",
     "output_type": "stream",
     "text": [
      "C:\\Users\\Oz/.cache\\torch\\hub\\ultralytics_yolov5_master\\models\\common.py:892: FutureWarning: `torch.cuda.amp.autocast(args...)` is deprecated. Please use `torch.amp.autocast('cuda', args...)` instead.\n",
      "  with amp.autocast(autocast):\n"
     ]
    },
    {
     "name": "stdout",
     "output_type": "stream",
     "text": [
      "Closest object distance: 8.5 meters\n",
      "Calculated velocity: 12.1 m/s\n",
      "Closest object distance: 9.0 meters\n",
      "Calculated velocity: 12.5 m/s\n",
      "Closest object distance: 8.2 meters\n",
      "Calculated velocity: 11.9 m/s\n",
      "Closest object distance: 8.2 meters\n",
      "Calculated velocity: 11.8 m/s\n",
      "Closest object distance: 7.9 meters\n",
      "Calculated velocity: 11.6 m/s\n",
      "Closest object distance: 8.2 meters\n",
      "Calculated velocity: 11.9 m/s\n",
      "Closest object distance: 8.0 meters\n",
      "Calculated velocity: 11.7 m/s\n",
      "Closest object distance: 8.2 meters\n",
      "Calculated velocity: 11.8 m/s\n"
     ]
    },
    {
     "name": "stderr",
     "output_type": "stream",
     "text": [
      "C:\\Users\\Oz/.cache\\torch\\hub\\ultralytics_yolov5_master\\models\\common.py:892: FutureWarning: `torch.cuda.amp.autocast(args...)` is deprecated. Please use `torch.amp.autocast('cuda', args...)` instead.\n",
      "  with amp.autocast(autocast):\n",
      "C:\\Users\\Oz/.cache\\torch\\hub\\ultralytics_yolov5_master\\models\\common.py:892: FutureWarning: `torch.cuda.amp.autocast(args...)` is deprecated. Please use `torch.amp.autocast('cuda', args...)` instead.\n",
      "  with amp.autocast(autocast):\n"
     ]
    },
    {
     "name": "stdout",
     "output_type": "stream",
     "text": [
      "Closest object distance: 8.2 meters\n",
      "Calculated velocity: 11.9 m/s\n",
      "Closest object distance: 8.2 meters\n",
      "Calculated velocity: 11.9 m/s\n",
      "Closest object distance: 7.9 meters\n",
      "Calculated velocity: 11.6 m/s\n",
      "Closest object distance: 8.0 meters\n",
      "Calculated velocity: 11.7 m/s\n",
      "Closest object distance: 8.5 meters\n",
      "Calculated velocity: 12.1 m/s\n",
      "Closest object distance: 8.8 meters\n",
      "Calculated velocity: 12.4 m/s\n",
      "Closest object distance: 8.0 meters\n",
      "Calculated velocity: 11.7 m/s\n",
      "Closest object distance: 8.4 meters\n",
      "Calculated velocity: 12.0 m/s\n"
     ]
    },
    {
     "name": "stderr",
     "output_type": "stream",
     "text": [
      "C:\\Users\\Oz/.cache\\torch\\hub\\ultralytics_yolov5_master\\models\\common.py:892: FutureWarning: `torch.cuda.amp.autocast(args...)` is deprecated. Please use `torch.amp.autocast('cuda', args...)` instead.\n",
      "  with amp.autocast(autocast):\n"
     ]
    },
    {
     "name": "stdout",
     "output_type": "stream",
     "text": [
      "Closest object distance: 8.3 meters\n",
      "Calculated velocity: 11.9 m/s\n",
      "Closest object distance: 8.4 meters\n",
      "Calculated velocity: 12.0 m/s\n",
      "Closest object distance: 8.0 meters\n",
      "Calculated velocity: 11.7 m/s\n",
      "Closest object distance: 7.9 meters\n",
      "Calculated velocity: 11.6 m/s\n",
      "Closest object distance: 8.2 meters\n",
      "Calculated velocity: 11.9 m/s\n",
      "Closest object distance: 8.2 meters\n",
      "Calculated velocity: 11.8 m/s\n",
      "Closest object distance: 8.2 meters\n",
      "Calculated velocity: 11.8 m/s\n",
      "Closest object distance: 8.0 meters\n",
      "Calculated velocity: 11.6 m/s\n"
     ]
    },
    {
     "name": "stderr",
     "output_type": "stream",
     "text": [
      "C:\\Users\\Oz/.cache\\torch\\hub\\ultralytics_yolov5_master\\models\\common.py:892: FutureWarning: `torch.cuda.amp.autocast(args...)` is deprecated. Please use `torch.amp.autocast('cuda', args...)` instead.\n",
      "  with amp.autocast(autocast):\n",
      "C:\\Users\\Oz/.cache\\torch\\hub\\ultralytics_yolov5_master\\models\\common.py:892: FutureWarning: `torch.cuda.amp.autocast(args...)` is deprecated. Please use `torch.amp.autocast('cuda', args...)` instead.\n",
      "  with amp.autocast(autocast):\n"
     ]
    },
    {
     "name": "stdout",
     "output_type": "stream",
     "text": [
      "Closest object distance: 8.0 meters\n",
      "Calculated velocity: 11.7 m/s\n",
      "Closest object distance: 8.0 meters\n",
      "Calculated velocity: 11.6 m/s\n",
      "Closest object distance: 8.0 meters\n",
      "Calculated velocity: 11.7 m/s\n",
      "Closest object distance: 8.4 meters\n",
      "Calculated velocity: 12.0 m/s\n",
      "Closest object distance: 8.1 meters\n",
      "Calculated velocity: 11.8 m/s\n",
      "Closest object distance: 8.0 meters\n",
      "Calculated velocity: 11.7 m/s\n",
      "Closest object distance: 8.1 meters\n",
      "Calculated velocity: 11.7 m/s\n",
      "Closest object distance: 8.2 meters\n",
      "Calculated velocity: 11.8 m/s\n",
      "Closest object distance: 8.0 meters\n",
      "Calculated velocity: 11.7 m/s\n",
      "Closest object distance: 8.1 meters\n",
      "Calculated velocity: 11.8 m/s\n",
      "Closest object distance: 9.2 meters\n",
      "Calculated velocity: 12.6 m/s\n",
      "Closest object distance: 8.5 meters\n",
      "Calculated velocity: 12.1 m/s\n",
      "Closest object distance: 8.1 meters\n",
      "Calculated velocity: 11.7 m/s\n",
      "Closest object distance: 8.1 meters\n",
      "Calculated velocity: 11.7 m/s\n",
      "Closest object distance: 8.2 meters\n",
      "Calculated velocity: 11.8 m/s\n",
      "Closest object distance: 8.3 meters\n",
      "Calculated velocity: 12.0 m/s\n"
     ]
    },
    {
     "name": "stderr",
     "output_type": "stream",
     "text": [
      "C:\\Users\\Oz/.cache\\torch\\hub\\ultralytics_yolov5_master\\models\\common.py:892: FutureWarning: `torch.cuda.amp.autocast(args...)` is deprecated. Please use `torch.amp.autocast('cuda', args...)` instead.\n",
      "  with amp.autocast(autocast):\n"
     ]
    },
    {
     "name": "stdout",
     "output_type": "stream",
     "text": [
      "Closest object distance: 8.5 meters\n",
      "Calculated velocity: 12.1 m/s\n",
      "Closest object distance: 8.6 meters\n",
      "Calculated velocity: 12.2 m/s\n",
      "Closest object distance: 8.0 meters\n",
      "Calculated velocity: 11.6 m/s\n",
      "Closest object distance: 8.0 meters\n",
      "Calculated velocity: 11.6 m/s\n",
      "Closest object distance: 8.6 meters\n",
      "Calculated velocity: 12.2 m/s\n",
      "Closest object distance: 8.1 meters\n",
      "Calculated velocity: 11.8 m/s\n",
      "Closest object distance: 8.6 meters\n",
      "Calculated velocity: 12.2 m/s\n"
     ]
    },
    {
     "name": "stderr",
     "output_type": "stream",
     "text": [
      "C:\\Users\\Oz/.cache\\torch\\hub\\ultralytics_yolov5_master\\models\\common.py:892: FutureWarning: `torch.cuda.amp.autocast(args...)` is deprecated. Please use `torch.amp.autocast('cuda', args...)` instead.\n",
      "  with amp.autocast(autocast):\n",
      "C:\\Users\\Oz/.cache\\torch\\hub\\ultralytics_yolov5_master\\models\\common.py:892: FutureWarning: `torch.cuda.amp.autocast(args...)` is deprecated. Please use `torch.amp.autocast('cuda', args...)` instead.\n",
      "  with amp.autocast(autocast):\n"
     ]
    },
    {
     "name": "stdout",
     "output_type": "stream",
     "text": [
      "Closest object distance: 8.0 meters\n",
      "Calculated velocity: 11.7 m/s\n",
      "Closest object distance: 8.3 meters\n",
      "Calculated velocity: 11.9 m/s\n",
      "Closest object distance: 8.1 meters\n",
      "Calculated velocity: 11.8 m/s\n",
      "Closest object distance: 8.2 meters\n",
      "Calculated velocity: 11.9 m/s\n",
      "Closest object distance: 9.0 meters\n",
      "Calculated velocity: 12.5 m/s\n",
      "Closest object distance: 8.3 meters\n",
      "Calculated velocity: 12.0 m/s\n",
      "Closest object distance: 8.4 meters\n",
      "Calculated velocity: 12.1 m/s\n",
      "Closest object distance: 8.0 meters\n",
      "Calculated velocity: 11.7 m/s\n",
      "Closest object distance: 8.6 meters\n",
      "Calculated velocity: 12.2 m/s\n",
      "Closest object distance: 8.3 meters\n",
      "Calculated velocity: 11.9 m/s\n",
      "Closest object distance: 8.6 meters\n",
      "Calculated velocity: 12.2 m/s\n",
      "Closest object distance: 8.4 meters\n",
      "Calculated velocity: 12.0 m/s\n",
      "Closest object distance: 8.2 meters\n",
      "Calculated velocity: 11.8 m/s\n",
      "Closest object distance: 8.4 meters\n",
      "Calculated velocity: 12.0 m/s\n",
      "Closest object distance: 8.2 meters\n",
      "Calculated velocity: 11.9 m/s\n"
     ]
    },
    {
     "name": "stderr",
     "output_type": "stream",
     "text": [
      "C:\\Users\\Oz/.cache\\torch\\hub\\ultralytics_yolov5_master\\models\\common.py:892: FutureWarning: `torch.cuda.amp.autocast(args...)` is deprecated. Please use `torch.amp.autocast('cuda', args...)` instead.\n",
      "  with amp.autocast(autocast):\n"
     ]
    },
    {
     "name": "stdout",
     "output_type": "stream",
     "text": [
      "Closest object distance: 8.0 meters\n",
      "Calculated velocity: 11.7 m/s\n",
      "Closest object distance: 8.7 meters\n",
      "Calculated velocity: 12.2 m/s\n",
      "Closest object distance: 8.1 meters\n",
      "Calculated velocity: 11.7 m/s\n",
      "Closest object distance: 8.9 meters\n",
      "Calculated velocity: 12.4 m/s\n",
      "Closest object distance: 8.4 meters\n",
      "Calculated velocity: 12.0 m/s\n",
      "Closest object distance: 8.2 meters\n",
      "Calculated velocity: 11.9 m/s\n",
      "Closest object distance: 8.0 meters\n",
      "Calculated velocity: 11.6 m/s\n"
     ]
    },
    {
     "name": "stderr",
     "output_type": "stream",
     "text": [
      "C:\\Users\\Oz/.cache\\torch\\hub\\ultralytics_yolov5_master\\models\\common.py:892: FutureWarning: `torch.cuda.amp.autocast(args...)` is deprecated. Please use `torch.amp.autocast('cuda', args...)` instead.\n",
      "  with amp.autocast(autocast):\n",
      "C:\\Users\\Oz/.cache\\torch\\hub\\ultralytics_yolov5_master\\models\\common.py:892: FutureWarning: `torch.cuda.amp.autocast(args...)` is deprecated. Please use `torch.amp.autocast('cuda', args...)` instead.\n",
      "  with amp.autocast(autocast):\n"
     ]
    },
    {
     "name": "stdout",
     "output_type": "stream",
     "text": [
      "Closest object distance: 8.2 meters\n",
      "Calculated velocity: 11.8 m/s\n",
      "Closest object distance: 9.5 meters\n",
      "Calculated velocity: 12.9 m/s\n",
      "Closest object distance: 8.4 meters\n",
      "Calculated velocity: 12.0 m/s\n",
      "Closest object distance: 7.9 meters\n",
      "Calculated velocity: 11.6 m/s\n",
      "Closest object distance: 8.1 meters\n",
      "Calculated velocity: 11.7 m/s\n",
      "Closest object distance: 8.2 meters\n",
      "Calculated velocity: 11.8 m/s\n",
      "Closest object distance: 8.1 meters\n",
      "Calculated velocity: 11.7 m/s\n",
      "Closest object distance: 8.1 meters\n",
      "Calculated velocity: 11.7 m/s\n",
      "Closest object distance: 8.2 meters\n",
      "Calculated velocity: 11.9 m/s\n",
      "Closest object distance: 8.0 meters\n",
      "Calculated velocity: 11.6 m/s\n",
      "Closest object distance: 8.5 meters\n",
      "Calculated velocity: 12.1 m/s\n",
      "Closest object distance: 8.1 meters\n",
      "Calculated velocity: 11.8 m/s\n",
      "Closest object distance: 8.1 meters\n",
      "Calculated velocity: 11.7 m/s\n",
      "Closest object distance: 8.1 meters\n",
      "Calculated velocity: 11.8 m/s\n",
      "Closest object distance: 8.0 meters\n",
      "Calculated velocity: 11.7 m/s\n",
      "Closest object distance: 8.2 meters\n",
      "Calculated velocity: 11.8 m/s\n"
     ]
    },
    {
     "name": "stderr",
     "output_type": "stream",
     "text": [
      "C:\\Users\\Oz/.cache\\torch\\hub\\ultralytics_yolov5_master\\models\\common.py:892: FutureWarning: `torch.cuda.amp.autocast(args...)` is deprecated. Please use `torch.amp.autocast('cuda', args...)` instead.\n",
      "  with amp.autocast(autocast):\n",
      "C:\\Users\\Oz/.cache\\torch\\hub\\ultralytics_yolov5_master\\models\\common.py:892: FutureWarning: `torch.cuda.amp.autocast(args...)` is deprecated. Please use `torch.amp.autocast('cuda', args...)` instead.\n",
      "  with amp.autocast(autocast):\n"
     ]
    },
    {
     "name": "stdout",
     "output_type": "stream",
     "text": [
      "Closest object distance: 8.3 meters\n",
      "Calculated velocity: 12.0 m/s\n",
      "Closest object distance: 7.9 meters\n",
      "Calculated velocity: 11.6 m/s\n",
      "Closest object distance: 8.5 meters\n",
      "Calculated velocity: 12.1 m/s\n",
      "Closest object distance: 8.0 meters\n",
      "Calculated velocity: 11.7 m/s\n",
      "Closest object distance: 8.2 meters\n",
      "Calculated velocity: 11.9 m/s\n",
      "Closest object distance: 8.8 meters\n",
      "Calculated velocity: 12.4 m/s\n",
      "Closest object distance: 8.2 meters\n",
      "Calculated velocity: 11.9 m/s\n",
      "Closest object distance: 8.1 meters\n",
      "Calculated velocity: 11.8 m/s\n",
      "Closest object distance: 8.0 meters\n",
      "Calculated velocity: 11.6 m/s\n",
      "Closest object distance: 8.0 meters\n",
      "Calculated velocity: 11.7 m/s\n",
      "Closest object distance: 8.2 meters\n",
      "Calculated velocity: 11.9 m/s\n",
      "Closest object distance: 8.1 meters\n",
      "Calculated velocity: 11.7 m/s\n",
      "Closest object distance: 8.1 meters\n",
      "Calculated velocity: 11.8 m/s\n",
      "Closest object distance: 8.0 meters\n",
      "Calculated velocity: 11.7 m/s\n",
      "Closest object distance: 8.0 meters\n",
      "Calculated velocity: 11.7 m/s\n",
      "Closest object distance: 8.2 meters\n",
      "Calculated velocity: 11.9 m/s\n"
     ]
    },
    {
     "name": "stderr",
     "output_type": "stream",
     "text": [
      "C:\\Users\\Oz/.cache\\torch\\hub\\ultralytics_yolov5_master\\models\\common.py:892: FutureWarning: `torch.cuda.amp.autocast(args...)` is deprecated. Please use `torch.amp.autocast('cuda', args...)` instead.\n",
      "  with amp.autocast(autocast):\n",
      "C:\\Users\\Oz/.cache\\torch\\hub\\ultralytics_yolov5_master\\models\\common.py:892: FutureWarning: `torch.cuda.amp.autocast(args...)` is deprecated. Please use `torch.amp.autocast('cuda', args...)` instead.\n",
      "  with amp.autocast(autocast):\n"
     ]
    },
    {
     "name": "stdout",
     "output_type": "stream",
     "text": [
      "Closest object distance: 8.2 meters\n",
      "Calculated velocity: 11.8 m/s\n",
      "Closest object distance: 8.2 meters\n",
      "Calculated velocity: 11.9 m/s\n",
      "Closest object distance: 8.1 meters\n",
      "Calculated velocity: 11.7 m/s\n",
      "Closest object distance: 8.4 meters\n",
      "Calculated velocity: 12.1 m/s\n",
      "Closest object distance: 8.3 meters\n",
      "Calculated velocity: 11.9 m/s\n",
      "Closest object distance: 8.4 meters\n",
      "Calculated velocity: 12.0 m/s\n",
      "Closest object distance: 8.4 meters\n",
      "Calculated velocity: 12.0 m/s\n",
      "Closest object distance: 8.7 meters\n",
      "Calculated velocity: 12.3 m/s\n",
      "Closest object distance: 8.1 meters\n",
      "Calculated velocity: 11.7 m/s\n",
      "Closest object distance: 8.0 meters\n",
      "Calculated velocity: 11.6 m/s\n",
      "Closest object distance: 8.5 meters\n",
      "Calculated velocity: 12.1 m/s\n",
      "Closest object distance: 8.3 meters\n",
      "Calculated velocity: 11.9 m/s\n",
      "Closest object distance: 8.0 meters\n",
      "Calculated velocity: 11.7 m/s\n",
      "Closest object distance: 8.3 meters\n",
      "Calculated velocity: 12.0 m/s\n",
      "Closest object distance: 8.0 meters\n",
      "Calculated velocity: 11.6 m/s\n",
      "Closest object distance: 9.0 meters\n",
      "Calculated velocity: 12.5 m/s\n"
     ]
    },
    {
     "name": "stderr",
     "output_type": "stream",
     "text": [
      "C:\\Users\\Oz/.cache\\torch\\hub\\ultralytics_yolov5_master\\models\\common.py:892: FutureWarning: `torch.cuda.amp.autocast(args...)` is deprecated. Please use `torch.amp.autocast('cuda', args...)` instead.\n",
      "  with amp.autocast(autocast):\n",
      "C:\\Users\\Oz/.cache\\torch\\hub\\ultralytics_yolov5_master\\models\\common.py:892: FutureWarning: `torch.cuda.amp.autocast(args...)` is deprecated. Please use `torch.amp.autocast('cuda', args...)` instead.\n",
      "  with amp.autocast(autocast):\n"
     ]
    },
    {
     "name": "stdout",
     "output_type": "stream",
     "text": [
      "Closest object distance: 7.9 meters\n",
      "Calculated velocity: 11.6 m/s\n",
      "Closest object distance: 8.0 meters\n",
      "Calculated velocity: 11.7 m/s\n",
      "Closest object distance: 8.4 meters\n",
      "Calculated velocity: 12.1 m/s\n",
      "Closest object distance: 8.6 meters\n",
      "Calculated velocity: 12.2 m/s\n",
      "Closest object distance: 7.9 meters\n",
      "Calculated velocity: 11.6 m/s\n",
      "Closest object distance: 8.2 meters\n",
      "Calculated velocity: 11.9 m/s\n",
      "Closest object distance: 8.1 meters\n",
      "Calculated velocity: 11.8 m/s\n",
      "Closest object distance: 8.4 meters\n",
      "Calculated velocity: 12.0 m/s\n",
      "Closest object distance: 7.9 meters\n",
      "Calculated velocity: 11.6 m/s\n",
      "Closest object distance: 8.2 meters\n",
      "Calculated velocity: 11.8 m/s\n",
      "Closest object distance: 8.7 meters\n",
      "Calculated velocity: 12.3 m/s\n",
      "Closest object distance: 8.0 meters\n",
      "Calculated velocity: 11.7 m/s\n",
      "Closest object distance: 7.9 meters\n",
      "Calculated velocity: 11.6 m/s\n",
      "Closest object distance: 8.6 meters\n",
      "Calculated velocity: 12.2 m/s\n",
      "Closest object distance: 8.3 meters\n",
      "Calculated velocity: 11.9 m/s\n",
      "Closest object distance: 8.2 meters\n",
      "Calculated velocity: 11.9 m/s\n"
     ]
    },
    {
     "name": "stderr",
     "output_type": "stream",
     "text": [
      "C:\\Users\\Oz/.cache\\torch\\hub\\ultralytics_yolov5_master\\models\\common.py:892: FutureWarning: `torch.cuda.amp.autocast(args...)` is deprecated. Please use `torch.amp.autocast('cuda', args...)` instead.\n",
      "  with amp.autocast(autocast):\n",
      "C:\\Users\\Oz/.cache\\torch\\hub\\ultralytics_yolov5_master\\models\\common.py:892: FutureWarning: `torch.cuda.amp.autocast(args...)` is deprecated. Please use `torch.amp.autocast('cuda', args...)` instead.\n",
      "  with amp.autocast(autocast):\n"
     ]
    },
    {
     "name": "stdout",
     "output_type": "stream",
     "text": [
      "Closest object distance: 8.1 meters\n",
      "Calculated velocity: 11.8 m/s\n",
      "Closest object distance: 8.0 meters\n",
      "Calculated velocity: 11.7 m/s\n",
      "Closest object distance: 8.5 meters\n",
      "Calculated velocity: 12.1 m/s\n",
      "Closest object distance: 8.3 meters\n",
      "Calculated velocity: 11.9 m/s\n",
      "Closest object distance: 8.5 meters\n",
      "Calculated velocity: 12.1 m/s\n",
      "Closest object distance: 8.1 meters\n",
      "Calculated velocity: 11.8 m/s\n",
      "Closest object distance: 8.1 meters\n",
      "Calculated velocity: 11.8 m/s\n",
      "Closest object distance: 9.4 meters\n",
      "Calculated velocity: 12.8 m/s\n",
      "Closest object distance: 8.4 meters\n",
      "Calculated velocity: 12.0 m/s\n",
      "Closest object distance: 8.7 meters\n",
      "Calculated velocity: 12.3 m/s\n",
      "Closest object distance: 8.5 meters\n",
      "Calculated velocity: 12.1 m/s\n",
      "Closest object distance: 8.2 meters\n",
      "Calculated velocity: 11.9 m/s\n",
      "Closest object distance: 8.3 meters\n",
      "Calculated velocity: 11.9 m/s\n",
      "Closest object distance: 8.2 meters\n",
      "Calculated velocity: 11.9 m/s\n",
      "Closest object distance: 8.1 meters\n",
      "Calculated velocity: 11.8 m/s\n",
      "Closest object distance: 8.6 meters\n",
      "Calculated velocity: 12.2 m/s\n"
     ]
    },
    {
     "name": "stderr",
     "output_type": "stream",
     "text": [
      "C:\\Users\\Oz/.cache\\torch\\hub\\ultralytics_yolov5_master\\models\\common.py:892: FutureWarning: `torch.cuda.amp.autocast(args...)` is deprecated. Please use `torch.amp.autocast('cuda', args...)` instead.\n",
      "  with amp.autocast(autocast):\n",
      "C:\\Users\\Oz/.cache\\torch\\hub\\ultralytics_yolov5_master\\models\\common.py:892: FutureWarning: `torch.cuda.amp.autocast(args...)` is deprecated. Please use `torch.amp.autocast('cuda', args...)` instead.\n",
      "  with amp.autocast(autocast):\n"
     ]
    },
    {
     "name": "stdout",
     "output_type": "stream",
     "text": [
      "Closest object distance: 8.2 meters\n",
      "Calculated velocity: 11.8 m/s\n",
      "Closest object distance: 8.1 meters\n",
      "Calculated velocity: 11.8 m/s\n",
      "Closest object distance: 8.0 meters\n",
      "Calculated velocity: 11.7 m/s\n",
      "Closest object distance: 8.4 meters\n",
      "Calculated velocity: 12.0 m/s\n",
      "Closest object distance: 8.7 meters\n",
      "Calculated velocity: 12.3 m/s\n",
      "Closest object distance: 8.2 meters\n",
      "Calculated velocity: 11.8 m/s\n",
      "Closest object distance: 9.0 meters\n",
      "Calculated velocity: 12.5 m/s\n",
      "Closest object distance: 8.3 meters\n",
      "Calculated velocity: 11.9 m/s\n",
      "Closest object distance: 7.9 meters\n",
      "Calculated velocity: 11.6 m/s\n",
      "Closest object distance: 8.5 meters\n",
      "Calculated velocity: 12.1 m/s\n",
      "Closest object distance: 8.0 meters\n",
      "Calculated velocity: 11.6 m/s\n",
      "Closest object distance: 8.1 meters\n",
      "Calculated velocity: 11.7 m/s\n",
      "Closest object distance: 8.9 meters\n",
      "Calculated velocity: 12.4 m/s\n",
      "Closest object distance: 8.0 meters\n",
      "Calculated velocity: 11.7 m/s\n",
      "Closest object distance: 8.4 meters\n",
      "Calculated velocity: 12.1 m/s\n",
      "Closest object distance: 8.0 meters\n",
      "Calculated velocity: 11.7 m/s\n",
      "Closest object distance: 8.0 meters\n",
      "Calculated velocity: 11.6 m/s\n"
     ]
    },
    {
     "name": "stderr",
     "output_type": "stream",
     "text": [
      "C:\\Users\\Oz/.cache\\torch\\hub\\ultralytics_yolov5_master\\models\\common.py:892: FutureWarning: `torch.cuda.amp.autocast(args...)` is deprecated. Please use `torch.amp.autocast('cuda', args...)` instead.\n",
      "  with amp.autocast(autocast):\n",
      "C:\\Users\\Oz/.cache\\torch\\hub\\ultralytics_yolov5_master\\models\\common.py:892: FutureWarning: `torch.cuda.amp.autocast(args...)` is deprecated. Please use `torch.amp.autocast('cuda', args...)` instead.\n",
      "  with amp.autocast(autocast):\n"
     ]
    },
    {
     "name": "stdout",
     "output_type": "stream",
     "text": [
      "Closest object distance: 8.2 meters\n",
      "Calculated velocity: 11.8 m/s\n",
      "Closest object distance: 8.5 meters\n",
      "Calculated velocity: 12.1 m/s\n",
      "Closest object distance: 8.6 meters\n",
      "Calculated velocity: 12.2 m/s\n",
      "Closest object distance: 8.2 meters\n",
      "Calculated velocity: 11.8 m/s\n",
      "Closest object distance: 8.0 meters\n",
      "Calculated velocity: 11.7 m/s\n",
      "Closest object distance: 8.6 meters\n",
      "Calculated velocity: 12.2 m/s\n",
      "Closest object distance: 8.1 meters\n",
      "Calculated velocity: 11.8 m/s\n",
      "Closest object distance: 8.3 meters\n",
      "Calculated velocity: 12.0 m/s\n"
     ]
    },
    {
     "name": "stderr",
     "output_type": "stream",
     "text": [
      "C:\\Users\\Oz/.cache\\torch\\hub\\ultralytics_yolov5_master\\models\\common.py:892: FutureWarning: `torch.cuda.amp.autocast(args...)` is deprecated. Please use `torch.amp.autocast('cuda', args...)` instead.\n",
      "  with amp.autocast(autocast):\n",
      "C:\\Users\\Oz/.cache\\torch\\hub\\ultralytics_yolov5_master\\models\\common.py:892: FutureWarning: `torch.cuda.amp.autocast(args...)` is deprecated. Please use `torch.amp.autocast('cuda', args...)` instead.\n",
      "  with amp.autocast(autocast):\n"
     ]
    },
    {
     "name": "stdout",
     "output_type": "stream",
     "text": [
      "Closest object distance: 8.0 meters\n",
      "Calculated velocity: 11.6 m/s\n",
      "Closest object distance: 8.6 meters\n",
      "Calculated velocity: 12.2 m/s\n",
      "Closest object distance: 8.1 meters\n",
      "Calculated velocity: 11.7 m/s\n",
      "Closest object distance: 8.2 meters\n",
      "Calculated velocity: 11.9 m/s\n",
      "Closest object distance: 8.7 meters\n",
      "Calculated velocity: 12.3 m/s\n",
      "Closest object distance: 8.4 meters\n",
      "Calculated velocity: 12.0 m/s\n",
      "Closest object distance: 8.3 meters\n",
      "Calculated velocity: 11.9 m/s\n",
      "Closest object distance: 8.3 meters\n",
      "Calculated velocity: 11.9 m/s\n",
      "Closest object distance: 8.3 meters\n",
      "Calculated velocity: 11.9 m/s\n",
      "Closest object distance: 8.4 meters\n",
      "Calculated velocity: 12.0 m/s\n",
      "Closest object distance: 8.1 meters\n",
      "Calculated velocity: 11.8 m/s\n",
      "Closest object distance: 8.2 meters\n",
      "Calculated velocity: 11.9 m/s\n",
      "Closest object distance: 8.1 meters\n",
      "Calculated velocity: 11.8 m/s\n",
      "Closest object distance: 8.3 meters\n",
      "Calculated velocity: 12.0 m/s\n",
      "Closest object distance: 8.4 meters\n",
      "Calculated velocity: 12.0 m/s\n",
      "Closest object distance: 8.0 meters\n",
      "Calculated velocity: 11.6 m/s\n"
     ]
    },
    {
     "name": "stderr",
     "output_type": "stream",
     "text": [
      "C:\\Users\\Oz/.cache\\torch\\hub\\ultralytics_yolov5_master\\models\\common.py:892: FutureWarning: `torch.cuda.amp.autocast(args...)` is deprecated. Please use `torch.amp.autocast('cuda', args...)` instead.\n",
      "  with amp.autocast(autocast):\n"
     ]
    },
    {
     "name": "stdout",
     "output_type": "stream",
     "text": [
      "Closest object distance: 8.1 meters\n",
      "Calculated velocity: 11.8 m/s\n",
      "Closest object distance: 8.0 meters\n",
      "Calculated velocity: 11.7 m/s\n",
      "Closest object distance: 8.3 meters\n",
      "Calculated velocity: 11.9 m/s\n",
      "Closest object distance: 8.4 meters\n",
      "Calculated velocity: 12.0 m/s\n",
      "Closest object distance: 8.1 meters\n",
      "Calculated velocity: 11.7 m/s\n",
      "Closest object distance: 8.2 meters\n",
      "Calculated velocity: 11.9 m/s\n",
      "Closest object distance: 8.1 meters\n",
      "Calculated velocity: 11.7 m/s\n",
      "Closest object distance: 8.1 meters\n",
      "Calculated velocity: 11.8 m/s\n"
     ]
    },
    {
     "name": "stderr",
     "output_type": "stream",
     "text": [
      "C:\\Users\\Oz/.cache\\torch\\hub\\ultralytics_yolov5_master\\models\\common.py:892: FutureWarning: `torch.cuda.amp.autocast(args...)` is deprecated. Please use `torch.amp.autocast('cuda', args...)` instead.\n",
      "  with amp.autocast(autocast):\n",
      "C:\\Users\\Oz/.cache\\torch\\hub\\ultralytics_yolov5_master\\models\\common.py:892: FutureWarning: `torch.cuda.amp.autocast(args...)` is deprecated. Please use `torch.amp.autocast('cuda', args...)` instead.\n",
      "  with amp.autocast(autocast):\n"
     ]
    },
    {
     "name": "stdout",
     "output_type": "stream",
     "text": [
      "Closest object distance: 8.4 meters\n",
      "Calculated velocity: 12.0 m/s\n",
      "Closest object distance: 8.5 meters\n",
      "Calculated velocity: 12.1 m/s\n",
      "Closest object distance: 8.4 meters\n",
      "Calculated velocity: 12.0 m/s\n",
      "Closest object distance: 9.0 meters\n",
      "Calculated velocity: 12.5 m/s\n",
      "Closest object distance: 8.3 meters\n",
      "Calculated velocity: 11.9 m/s\n",
      "Closest object distance: 8.0 meters\n",
      "Calculated velocity: 11.7 m/s\n",
      "Closest object distance: 8.2 meters\n",
      "Calculated velocity: 11.9 m/s\n",
      "Closest object distance: 8.8 meters\n",
      "Calculated velocity: 12.4 m/s\n",
      "Closest object distance: 8.3 meters\n",
      "Calculated velocity: 12.0 m/s\n",
      "Closest object distance: 8.0 meters\n",
      "Calculated velocity: 11.7 m/s\n",
      "Closest object distance: 8.4 meters\n",
      "Calculated velocity: 12.0 m/s\n",
      "Closest object distance: 8.0 meters\n",
      "Calculated velocity: 11.7 m/s\n",
      "Closest object distance: 8.5 meters\n",
      "Calculated velocity: 12.1 m/s\n",
      "Closest object distance: 8.1 meters\n",
      "Calculated velocity: 11.8 m/s\n",
      "Closest object distance: 8.5 meters\n",
      "Calculated velocity: 12.1 m/s\n",
      "Closest object distance: 8.2 meters\n",
      "Calculated velocity: 11.8 m/s\n"
     ]
    },
    {
     "name": "stderr",
     "output_type": "stream",
     "text": [
      "C:\\Users\\Oz/.cache\\torch\\hub\\ultralytics_yolov5_master\\models\\common.py:892: FutureWarning: `torch.cuda.amp.autocast(args...)` is deprecated. Please use `torch.amp.autocast('cuda', args...)` instead.\n",
      "  with amp.autocast(autocast):\n",
      "C:\\Users\\Oz/.cache\\torch\\hub\\ultralytics_yolov5_master\\models\\common.py:892: FutureWarning: `torch.cuda.amp.autocast(args...)` is deprecated. Please use `torch.amp.autocast('cuda', args...)` instead.\n",
      "  with amp.autocast(autocast):\n"
     ]
    },
    {
     "name": "stdout",
     "output_type": "stream",
     "text": [
      "Closest object distance: 8.6 meters\n",
      "Calculated velocity: 12.2 m/s\n",
      "Closest object distance: 8.3 meters\n",
      "Calculated velocity: 12.0 m/s\n",
      "Closest object distance: 8.6 meters\n",
      "Calculated velocity: 12.2 m/s\n",
      "Closest object distance: 8.1 meters\n",
      "Calculated velocity: 11.7 m/s\n",
      "Closest object distance: 8.0 meters\n",
      "Calculated velocity: 11.7 m/s\n",
      "Closest object distance: 8.1 meters\n",
      "Calculated velocity: 11.8 m/s\n",
      "Closest object distance: 8.4 meters\n",
      "Calculated velocity: 12.0 m/s\n",
      "Closest object distance: 8.6 meters\n",
      "Calculated velocity: 12.2 m/s\n",
      "Closest object distance: 8.4 meters\n",
      "Calculated velocity: 12.0 m/s\n",
      "Closest object distance: 8.0 meters\n",
      "Calculated velocity: 11.7 m/s\n",
      "Closest object distance: 8.3 meters\n",
      "Calculated velocity: 12.0 m/s\n",
      "Closest object distance: 8.1 meters\n",
      "Calculated velocity: 11.8 m/s\n",
      "Closest object distance: 8.1 meters\n",
      "Calculated velocity: 11.8 m/s\n",
      "Closest object distance: 8.0 meters\n",
      "Calculated velocity: 11.7 m/s\n",
      "Closest object distance: 8.7 meters\n",
      "Calculated velocity: 12.3 m/s\n",
      "Closest object distance: 8.2 meters\n",
      "Calculated velocity: 11.9 m/s\n"
     ]
    },
    {
     "name": "stderr",
     "output_type": "stream",
     "text": [
      "C:\\Users\\Oz/.cache\\torch\\hub\\ultralytics_yolov5_master\\models\\common.py:892: FutureWarning: `torch.cuda.amp.autocast(args...)` is deprecated. Please use `torch.amp.autocast('cuda', args...)` instead.\n",
      "  with amp.autocast(autocast):\n",
      "C:\\Users\\Oz/.cache\\torch\\hub\\ultralytics_yolov5_master\\models\\common.py:892: FutureWarning: `torch.cuda.amp.autocast(args...)` is deprecated. Please use `torch.amp.autocast('cuda', args...)` instead.\n",
      "  with amp.autocast(autocast):\n"
     ]
    },
    {
     "name": "stdout",
     "output_type": "stream",
     "text": [
      "Closest object distance: 8.2 meters\n",
      "Calculated velocity: 11.9 m/s\n",
      "Closest object distance: 8.0 meters\n",
      "Calculated velocity: 11.6 m/s\n",
      "Closest object distance: 8.0 meters\n",
      "Calculated velocity: 11.6 m/s\n",
      "Closest object distance: 8.1 meters\n",
      "Calculated velocity: 11.7 m/s\n",
      "Closest object distance: 8.1 meters\n",
      "Calculated velocity: 11.7 m/s\n",
      "Closest object distance: 8.5 meters\n",
      "Calculated velocity: 12.1 m/s\n",
      "Closest object distance: 8.0 meters\n",
      "Calculated velocity: 11.7 m/s\n",
      "Closest object distance: 8.3 meters\n",
      "Calculated velocity: 12.0 m/s\n",
      "Closest object distance: 8.3 meters\n",
      "Calculated velocity: 12.0 m/s\n",
      "Closest object distance: 8.2 meters\n",
      "Calculated velocity: 11.8 m/s\n",
      "Closest object distance: 7.9 meters\n",
      "Calculated velocity: 11.6 m/s\n",
      "Closest object distance: 8.5 meters\n",
      "Calculated velocity: 12.2 m/s\n",
      "Closest object distance: 8.2 meters\n",
      "Calculated velocity: 11.8 m/s\n",
      "Closest object distance: 8.0 meters\n",
      "Calculated velocity: 11.7 m/s\n",
      "Closest object distance: 8.7 meters\n",
      "Calculated velocity: 12.3 m/s\n",
      "Closest object distance: 8.1 meters\n",
      "Calculated velocity: 11.8 m/s\n"
     ]
    },
    {
     "name": "stderr",
     "output_type": "stream",
     "text": [
      "C:\\Users\\Oz/.cache\\torch\\hub\\ultralytics_yolov5_master\\models\\common.py:892: FutureWarning: `torch.cuda.amp.autocast(args...)` is deprecated. Please use `torch.amp.autocast('cuda', args...)` instead.\n",
      "  with amp.autocast(autocast):\n"
     ]
    },
    {
     "name": "stdout",
     "output_type": "stream",
     "text": [
      "Closest object distance: 8.0 meters\n",
      "Calculated velocity: 11.6 m/s\n",
      "Closest object distance: 8.3 meters\n",
      "Calculated velocity: 11.9 m/s\n",
      "Closest object distance: 8.1 meters\n",
      "Calculated velocity: 11.8 m/s\n",
      "Closest object distance: 8.2 meters\n",
      "Calculated velocity: 11.9 m/s\n",
      "Closest object distance: 8.4 meters\n",
      "Calculated velocity: 12.0 m/s\n",
      "Closest object distance: 8.1 meters\n",
      "Calculated velocity: 11.7 m/s\n",
      "Closest object distance: 8.4 meters\n",
      "Calculated velocity: 12.0 m/s\n",
      "Closest object distance: 8.4 meters\n",
      "Calculated velocity: 12.0 m/s\n",
      "Closest object distance: 8.1 meters\n",
      "Calculated velocity: 11.7 m/s\n"
     ]
    },
    {
     "name": "stderr",
     "output_type": "stream",
     "text": [
      "C:\\Users\\Oz/.cache\\torch\\hub\\ultralytics_yolov5_master\\models\\common.py:892: FutureWarning: `torch.cuda.amp.autocast(args...)` is deprecated. Please use `torch.amp.autocast('cuda', args...)` instead.\n",
      "  with amp.autocast(autocast):\n"
     ]
    },
    {
     "name": "stdout",
     "output_type": "stream",
     "text": [
      "Closest object distance: 8.4 meters\n",
      "Calculated velocity: 12.0 m/s\n",
      "Closest object distance: 8.0 meters\n",
      "Calculated velocity: 11.7 m/s\n",
      "Closest object distance: 8.6 meters\n",
      "Calculated velocity: 12.2 m/s\n",
      "Closest object distance: 8.0 meters\n",
      "Calculated velocity: 11.7 m/s\n",
      "Closest object distance: 8.3 meters\n",
      "Calculated velocity: 12.0 m/s\n",
      "Closest object distance: 8.1 meters\n",
      "Calculated velocity: 11.8 m/s\n",
      "Closest object distance: 8.5 meters\n",
      "Calculated velocity: 12.2 m/s\n",
      "Closest object distance: 8.2 meters\n",
      "Calculated velocity: 11.8 m/s\n",
      "Closest object distance: 8.0 meters\n",
      "Calculated velocity: 11.6 m/s\n"
     ]
    },
    {
     "name": "stderr",
     "output_type": "stream",
     "text": [
      "C:\\Users\\Oz/.cache\\torch\\hub\\ultralytics_yolov5_master\\models\\common.py:892: FutureWarning: `torch.cuda.amp.autocast(args...)` is deprecated. Please use `torch.amp.autocast('cuda', args...)` instead.\n",
      "  with amp.autocast(autocast):\n"
     ]
    },
    {
     "name": "stdout",
     "output_type": "stream",
     "text": [
      "Closest object distance: 8.6 meters\n",
      "Calculated velocity: 12.2 m/s\n",
      "Closest object distance: 8.3 meters\n",
      "Calculated velocity: 11.9 m/s\n",
      "Closest object distance: 8.2 meters\n",
      "Calculated velocity: 11.9 m/s\n",
      "Closest object distance: 8.1 meters\n",
      "Calculated velocity: 11.8 m/s\n",
      "Closest object distance: 8.8 meters\n",
      "Calculated velocity: 12.4 m/s\n",
      "Closest object distance: 8.0 meters\n",
      "Calculated velocity: 11.6 m/s\n",
      "Closest object distance: 8.3 meters\n",
      "Calculated velocity: 11.9 m/s\n",
      "Closest object distance: 8.0 meters\n",
      "Calculated velocity: 11.6 m/s\n",
      "Closest object distance: 8.0 meters\n",
      "Calculated velocity: 11.6 m/s\n"
     ]
    },
    {
     "name": "stderr",
     "output_type": "stream",
     "text": [
      "C:\\Users\\Oz/.cache\\torch\\hub\\ultralytics_yolov5_master\\models\\common.py:892: FutureWarning: `torch.cuda.amp.autocast(args...)` is deprecated. Please use `torch.amp.autocast('cuda', args...)` instead.\n",
      "  with amp.autocast(autocast):\n",
      "C:\\Users\\Oz/.cache\\torch\\hub\\ultralytics_yolov5_master\\models\\common.py:892: FutureWarning: `torch.cuda.amp.autocast(args...)` is deprecated. Please use `torch.amp.autocast('cuda', args...)` instead.\n",
      "  with amp.autocast(autocast):\n"
     ]
    },
    {
     "name": "stdout",
     "output_type": "stream",
     "text": [
      "Closest object distance: 8.1 meters\n",
      "Calculated velocity: 11.7 m/s\n",
      "Closest object distance: 8.6 meters\n",
      "Calculated velocity: 12.2 m/s\n",
      "Closest object distance: 8.1 meters\n",
      "Calculated velocity: 11.7 m/s\n",
      "Closest object distance: 7.9 meters\n",
      "Calculated velocity: 11.6 m/s\n",
      "Closest object distance: 8.1 meters\n",
      "Calculated velocity: 11.7 m/s\n",
      "Closest object distance: 8.3 meters\n",
      "Calculated velocity: 11.9 m/s\n",
      "Closest object distance: 8.2 meters\n",
      "Calculated velocity: 11.8 m/s\n",
      "Closest object distance: 8.1 meters\n",
      "Calculated velocity: 11.8 m/s\n"
     ]
    },
    {
     "name": "stderr",
     "output_type": "stream",
     "text": [
      "C:\\Users\\Oz/.cache\\torch\\hub\\ultralytics_yolov5_master\\models\\common.py:892: FutureWarning: `torch.cuda.amp.autocast(args...)` is deprecated. Please use `torch.amp.autocast('cuda', args...)` instead.\n",
      "  with amp.autocast(autocast):\n"
     ]
    },
    {
     "name": "stdout",
     "output_type": "stream",
     "text": [
      "Closest object distance: 8.3 meters\n",
      "Calculated velocity: 11.9 m/s\n",
      "Closest object distance: 8.0 meters\n",
      "Calculated velocity: 11.6 m/s\n",
      "Closest object distance: 8.1 meters\n",
      "Calculated velocity: 11.8 m/s\n",
      "Closest object distance: 7.9 meters\n",
      "Calculated velocity: 11.6 m/s\n",
      "Closest object distance: 8.0 meters\n",
      "Calculated velocity: 11.6 m/s\n",
      "Closest object distance: 8.2 meters\n",
      "Calculated velocity: 11.9 m/s\n",
      "Closest object distance: 8.1 meters\n",
      "Calculated velocity: 11.8 m/s\n",
      "Closest object distance: 8.9 meters\n",
      "Calculated velocity: 12.5 m/s\n"
     ]
    },
    {
     "name": "stderr",
     "output_type": "stream",
     "text": [
      "C:\\Users\\Oz/.cache\\torch\\hub\\ultralytics_yolov5_master\\models\\common.py:892: FutureWarning: `torch.cuda.amp.autocast(args...)` is deprecated. Please use `torch.amp.autocast('cuda', args...)` instead.\n",
      "  with amp.autocast(autocast):\n",
      "C:\\Users\\Oz/.cache\\torch\\hub\\ultralytics_yolov5_master\\models\\common.py:892: FutureWarning: `torch.cuda.amp.autocast(args...)` is deprecated. Please use `torch.amp.autocast('cuda', args...)` instead.\n",
      "  with amp.autocast(autocast):\n"
     ]
    },
    {
     "name": "stdout",
     "output_type": "stream",
     "text": [
      "Closest object distance: 8.1 meters\n",
      "Calculated velocity: 11.7 m/s\n",
      "Closest object distance: 8.1 meters\n",
      "Calculated velocity: 11.8 m/s\n",
      "Closest object distance: 8.7 meters\n",
      "Calculated velocity: 12.3 m/s\n",
      "Closest object distance: 8.2 meters\n",
      "Calculated velocity: 11.9 m/s\n",
      "Closest object distance: 8.3 meters\n",
      "Calculated velocity: 12.0 m/s\n",
      "Closest object distance: 8.3 meters\n",
      "Calculated velocity: 11.9 m/s\n",
      "Closest object distance: 8.1 meters\n",
      "Calculated velocity: 11.8 m/s\n",
      "Closest object distance: 8.1 meters\n",
      "Calculated velocity: 11.7 m/s\n",
      "Closest object distance: 8.8 meters\n",
      "Calculated velocity: 12.4 m/s\n",
      "Closest object distance: 8.4 meters\n",
      "Calculated velocity: 12.1 m/s\n",
      "Closest object distance: 8.0 meters\n",
      "Calculated velocity: 11.6 m/s\n",
      "Closest object distance: 8.0 meters\n",
      "Calculated velocity: 11.7 m/s\n",
      "Closest object distance: 9.0 meters\n",
      "Calculated velocity: 12.5 m/s\n",
      "Closest object distance: 8.0 meters\n",
      "Calculated velocity: 11.7 m/s\n",
      "Closest object distance: 8.5 meters\n",
      "Calculated velocity: 12.1 m/s\n",
      "Closest object distance: 8.2 meters\n",
      "Calculated velocity: 11.8 m/s\n",
      "Closest object distance: 8.1 meters\n",
      "Calculated velocity: 11.8 m/s\n"
     ]
    },
    {
     "name": "stderr",
     "output_type": "stream",
     "text": [
      "C:\\Users\\Oz/.cache\\torch\\hub\\ultralytics_yolov5_master\\models\\common.py:892: FutureWarning: `torch.cuda.amp.autocast(args...)` is deprecated. Please use `torch.amp.autocast('cuda', args...)` instead.\n",
      "  with amp.autocast(autocast):\n"
     ]
    },
    {
     "name": "stdout",
     "output_type": "stream",
     "text": [
      "Closest object distance: 7.9 meters\n",
      "Calculated velocity: 11.6 m/s\n",
      "Closest object distance: 8.0 meters\n",
      "Calculated velocity: 11.7 m/s\n",
      "Closest object distance: 8.0 meters\n",
      "Calculated velocity: 11.7 m/s\n",
      "Closest object distance: 8.3 meters\n",
      "Calculated velocity: 12.0 m/s\n",
      "Closest object distance: 8.4 meters\n",
      "Calculated velocity: 12.0 m/s\n",
      "Closest object distance: 8.1 meters\n",
      "Calculated velocity: 11.7 m/s\n",
      "Closest object distance: 8.1 meters\n",
      "Calculated velocity: 11.8 m/s\n",
      "Closest object distance: 8.4 meters\n",
      "Calculated velocity: 12.0 m/s\n"
     ]
    },
    {
     "name": "stderr",
     "output_type": "stream",
     "text": [
      "C:\\Users\\Oz/.cache\\torch\\hub\\ultralytics_yolov5_master\\models\\common.py:892: FutureWarning: `torch.cuda.amp.autocast(args...)` is deprecated. Please use `torch.amp.autocast('cuda', args...)` instead.\n",
      "  with amp.autocast(autocast):\n"
     ]
    },
    {
     "name": "stdout",
     "output_type": "stream",
     "text": [
      "Closest object distance: 8.2 meters\n",
      "Calculated velocity: 11.9 m/s\n",
      "Closest object distance: 8.5 meters\n",
      "Calculated velocity: 12.1 m/s\n",
      "Closest object distance: 8.4 meters\n",
      "Calculated velocity: 12.1 m/s\n",
      "Closest object distance: 8.5 meters\n",
      "Calculated velocity: 12.1 m/s\n",
      "Closest object distance: 8.0 meters\n",
      "Calculated velocity: 11.7 m/s\n",
      "Closest object distance: 8.0 meters\n",
      "Calculated velocity: 11.6 m/s\n",
      "Closest object distance: 7.9 meters\n",
      "Calculated velocity: 11.6 m/s\n",
      "Closest object distance: 8.6 meters\n",
      "Calculated velocity: 12.2 m/s\n",
      "Closest object distance: 8.4 meters\n",
      "Calculated velocity: 12.0 m/s\n"
     ]
    },
    {
     "name": "stderr",
     "output_type": "stream",
     "text": [
      "C:\\Users\\Oz/.cache\\torch\\hub\\ultralytics_yolov5_master\\models\\common.py:892: FutureWarning: `torch.cuda.amp.autocast(args...)` is deprecated. Please use `torch.amp.autocast('cuda', args...)` instead.\n",
      "  with amp.autocast(autocast):\n",
      "C:\\Users\\Oz/.cache\\torch\\hub\\ultralytics_yolov5_master\\models\\common.py:892: FutureWarning: `torch.cuda.amp.autocast(args...)` is deprecated. Please use `torch.amp.autocast('cuda', args...)` instead.\n",
      "  with amp.autocast(autocast):\n"
     ]
    },
    {
     "name": "stdout",
     "output_type": "stream",
     "text": [
      "Closest object distance: 8.4 meters\n",
      "Calculated velocity: 12.1 m/s\n",
      "Closest object distance: 8.0 meters\n",
      "Calculated velocity: 11.7 m/s\n",
      "Closest object distance: 8.0 meters\n",
      "Calculated velocity: 11.6 m/s\n",
      "Closest object distance: 8.2 meters\n",
      "Calculated velocity: 11.9 m/s\n",
      "Closest object distance: 8.0 meters\n",
      "Calculated velocity: 11.7 m/s\n",
      "Closest object distance: 8.4 meters\n",
      "Calculated velocity: 12.1 m/s\n",
      "Closest object distance: 8.0 meters\n",
      "Calculated velocity: 11.7 m/s\n",
      "Closest object distance: 8.6 meters\n",
      "Calculated velocity: 12.2 m/s\n",
      "Closest object distance: 8.3 meters\n",
      "Calculated velocity: 11.9 m/s\n",
      "Closest object distance: 8.2 meters\n",
      "Calculated velocity: 11.9 m/s\n",
      "Closest object distance: 8.4 meters\n",
      "Calculated velocity: 12.1 m/s\n",
      "Closest object distance: 8.1 meters\n",
      "Calculated velocity: 11.8 m/s\n",
      "Closest object distance: 8.4 meters\n",
      "Calculated velocity: 12.1 m/s\n",
      "Closest object distance: 8.2 meters\n",
      "Calculated velocity: 11.8 m/s\n",
      "Closest object distance: 8.0 meters\n",
      "Calculated velocity: 11.7 m/s\n",
      "Closest object distance: 8.0 meters\n",
      "Calculated velocity: 11.6 m/s\n",
      "Closest object distance: 8.1 meters\n",
      "Calculated velocity: 11.7 m/s\n"
     ]
    },
    {
     "name": "stderr",
     "output_type": "stream",
     "text": [
      "C:\\Users\\Oz/.cache\\torch\\hub\\ultralytics_yolov5_master\\models\\common.py:892: FutureWarning: `torch.cuda.amp.autocast(args...)` is deprecated. Please use `torch.amp.autocast('cuda', args...)` instead.\n",
      "  with amp.autocast(autocast):\n",
      "C:\\Users\\Oz/.cache\\torch\\hub\\ultralytics_yolov5_master\\models\\common.py:892: FutureWarning: `torch.cuda.amp.autocast(args...)` is deprecated. Please use `torch.amp.autocast('cuda', args...)` instead.\n",
      "  with amp.autocast(autocast):\n",
      "C:\\Users\\Oz/.cache\\torch\\hub\\ultralytics_yolov5_master\\models\\common.py:892: FutureWarning: `torch.cuda.amp.autocast(args...)` is deprecated. Please use `torch.amp.autocast('cuda', args...)` instead.\n",
      "  with amp.autocast(autocast):\n"
     ]
    },
    {
     "name": "stdout",
     "output_type": "stream",
     "text": [
      "Closest object distance: 8.5 meters\n",
      "Calculated velocity: 12.1 m/s\n",
      "Closest object distance: 8.0 meters\n",
      "Calculated velocity: 11.6 m/s\n",
      "Closest object distance: 8.4 meters\n",
      "Calculated velocity: 12.0 m/s\n",
      "Closest object distance: 8.0 meters\n",
      "Calculated velocity: 11.7 m/s\n",
      "Closest object distance: 8.5 meters\n",
      "Calculated velocity: 12.1 m/s\n",
      "Closest object distance: 8.2 meters\n",
      "Calculated velocity: 11.9 m/s\n",
      "Closest object distance: 8.7 meters\n",
      "Calculated velocity: 12.3 m/s\n",
      "Closest object distance: 8.2 meters\n",
      "Calculated velocity: 11.8 m/s\n",
      "Closest object distance: 8.3 meters\n",
      "Calculated velocity: 11.9 m/s\n",
      "Closest object distance: 8.0 meters\n",
      "Calculated velocity: 11.7 m/s\n",
      "Closest object distance: 8.1 meters\n",
      "Calculated velocity: 11.8 m/s\n",
      "Closest object distance: 8.3 meters\n",
      "Calculated velocity: 11.9 m/s\n",
      "Closest object distance: 8.4 meters\n",
      "Calculated velocity: 12.0 m/s\n",
      "Closest object distance: 8.1 meters\n",
      "Calculated velocity: 11.7 m/s\n",
      "Closest object distance: 8.0 meters\n",
      "Calculated velocity: 11.7 m/s\n",
      "Closest object distance: 8.4 meters\n",
      "Calculated velocity: 12.0 m/s\n",
      "Closest object distance: 8.3 meters\n",
      "Calculated velocity: 12.0 m/s\n"
     ]
    },
    {
     "name": "stderr",
     "output_type": "stream",
     "text": [
      "C:\\Users\\Oz/.cache\\torch\\hub\\ultralytics_yolov5_master\\models\\common.py:892: FutureWarning: `torch.cuda.amp.autocast(args...)` is deprecated. Please use `torch.amp.autocast('cuda', args...)` instead.\n",
      "  with amp.autocast(autocast):\n"
     ]
    },
    {
     "name": "stdout",
     "output_type": "stream",
     "text": [
      "Closest object distance: 8.1 meters\n",
      "Calculated velocity: 11.8 m/s\n",
      "Closest object distance: 8.3 meters\n",
      "Calculated velocity: 12.0 m/s\n",
      "Closest object distance: 8.1 meters\n",
      "Calculated velocity: 11.8 m/s\n",
      "Closest object distance: 8.0 meters\n",
      "Calculated velocity: 11.7 m/s\n",
      "Closest object distance: 8.1 meters\n",
      "Calculated velocity: 11.7 m/s\n",
      "Closest object distance: 8.0 meters\n",
      "Calculated velocity: 11.6 m/s\n",
      "Closest object distance: 8.4 meters\n",
      "Calculated velocity: 12.0 m/s\n",
      "Closest object distance: 8.1 meters\n",
      "Calculated velocity: 11.8 m/s\n"
     ]
    },
    {
     "name": "stderr",
     "output_type": "stream",
     "text": [
      "C:\\Users\\Oz/.cache\\torch\\hub\\ultralytics_yolov5_master\\models\\common.py:892: FutureWarning: `torch.cuda.amp.autocast(args...)` is deprecated. Please use `torch.amp.autocast('cuda', args...)` instead.\n",
      "  with amp.autocast(autocast):\n",
      "C:\\Users\\Oz/.cache\\torch\\hub\\ultralytics_yolov5_master\\models\\common.py:892: FutureWarning: `torch.cuda.amp.autocast(args...)` is deprecated. Please use `torch.amp.autocast('cuda', args...)` instead.\n",
      "  with amp.autocast(autocast):\n"
     ]
    },
    {
     "name": "stdout",
     "output_type": "stream",
     "text": [
      "Closest object distance: 8.2 meters\n",
      "Calculated velocity: 11.8 m/s\n",
      "Closest object distance: 8.1 meters\n",
      "Calculated velocity: 11.7 m/s\n",
      "Closest object distance: 8.2 meters\n",
      "Calculated velocity: 11.8 m/s\n",
      "Closest object distance: 8.3 meters\n",
      "Calculated velocity: 11.9 m/s\n",
      "Closest object distance: 8.6 meters\n",
      "Calculated velocity: 12.2 m/s\n",
      "Closest object distance: 8.3 meters\n",
      "Calculated velocity: 12.0 m/s\n",
      "Closest object distance: 8.3 meters\n",
      "Calculated velocity: 11.9 m/s\n",
      "Closest object distance: 8.5 meters\n",
      "Calculated velocity: 12.1 m/s\n",
      "Closest object distance: 8.0 meters\n",
      "Calculated velocity: 11.6 m/s\n",
      "Closest object distance: 8.5 meters\n",
      "Calculated velocity: 12.1 m/s\n",
      "Closest object distance: 8.4 meters\n",
      "Calculated velocity: 12.0 m/s\n",
      "Closest object distance: 8.4 meters\n",
      "Calculated velocity: 12.0 m/s\n",
      "Closest object distance: 8.3 meters\n",
      "Calculated velocity: 12.0 m/s\n",
      "Closest object distance: 8.1 meters\n",
      "Calculated velocity: 11.8 m/s\n",
      "Closest object distance: 8.9 meters\n",
      "Calculated velocity: 12.4 m/s\n"
     ]
    },
    {
     "name": "stderr",
     "output_type": "stream",
     "text": [
      "C:\\Users\\Oz/.cache\\torch\\hub\\ultralytics_yolov5_master\\models\\common.py:892: FutureWarning: `torch.cuda.amp.autocast(args...)` is deprecated. Please use `torch.amp.autocast('cuda', args...)` instead.\n",
      "  with amp.autocast(autocast):\n",
      "C:\\Users\\Oz/.cache\\torch\\hub\\ultralytics_yolov5_master\\models\\common.py:892: FutureWarning: `torch.cuda.amp.autocast(args...)` is deprecated. Please use `torch.amp.autocast('cuda', args...)` instead.\n",
      "  with amp.autocast(autocast):\n"
     ]
    },
    {
     "name": "stdout",
     "output_type": "stream",
     "text": [
      "Closest object distance: 8.5 meters\n",
      "Calculated velocity: 12.1 m/s\n",
      "Closest object distance: 8.1 meters\n",
      "Calculated velocity: 11.7 m/s\n",
      "Closest object distance: 8.1 meters\n",
      "Calculated velocity: 11.8 m/s\n",
      "Closest object distance: 8.2 meters\n",
      "Calculated velocity: 11.9 m/s\n",
      "Closest object distance: 8.0 meters\n",
      "Calculated velocity: 11.6 m/s\n",
      "Closest object distance: 8.3 meters\n",
      "Calculated velocity: 11.9 m/s\n",
      "Closest object distance: 8.9 meters\n",
      "Calculated velocity: 12.5 m/s\n",
      "Closest object distance: 8.0 meters\n",
      "Calculated velocity: 11.7 m/s\n",
      "Closest object distance: 8.0 meters\n",
      "Calculated velocity: 11.7 m/s\n",
      "Closest object distance: 8.4 meters\n",
      "Calculated velocity: 12.0 m/s\n",
      "Closest object distance: 8.2 meters\n",
      "Calculated velocity: 11.9 m/s\n",
      "Closest object distance: 8.3 meters\n",
      "Calculated velocity: 12.0 m/s\n",
      "Closest object distance: 8.0 meters\n",
      "Calculated velocity: 11.7 m/s\n",
      "Closest object distance: 8.1 meters\n",
      "Calculated velocity: 11.8 m/s\n",
      "Closest object distance: 8.6 meters\n",
      "Calculated velocity: 12.2 m/s\n"
     ]
    },
    {
     "name": "stderr",
     "output_type": "stream",
     "text": [
      "C:\\Users\\Oz/.cache\\torch\\hub\\ultralytics_yolov5_master\\models\\common.py:892: FutureWarning: `torch.cuda.amp.autocast(args...)` is deprecated. Please use `torch.amp.autocast('cuda', args...)` instead.\n",
      "  with amp.autocast(autocast):\n"
     ]
    },
    {
     "name": "stdout",
     "output_type": "stream",
     "text": [
      "Closest object distance: 8.2 meters\n",
      "Calculated velocity: 11.8 m/s\n",
      "Closest object distance: 7.9 meters\n",
      "Calculated velocity: 11.6 m/s\n",
      "Closest object distance: 7.9 meters\n",
      "Calculated velocity: 11.6 m/s\n",
      "Closest object distance: 9.3 meters\n",
      "Calculated velocity: 12.8 m/s\n",
      "Closest object distance: 8.1 meters\n",
      "Calculated velocity: 11.8 m/s\n",
      "Closest object distance: 8.5 meters\n",
      "Calculated velocity: 12.1 m/s\n",
      "Closest object distance: 8.4 meters\n",
      "Calculated velocity: 12.0 m/s\n",
      "Closest object distance: 8.3 meters\n",
      "Calculated velocity: 11.9 m/s\n",
      "Closest object distance: 8.6 meters\n",
      "Calculated velocity: 12.2 m/s\n"
     ]
    },
    {
     "name": "stderr",
     "output_type": "stream",
     "text": [
      "C:\\Users\\Oz/.cache\\torch\\hub\\ultralytics_yolov5_master\\models\\common.py:892: FutureWarning: `torch.cuda.amp.autocast(args...)` is deprecated. Please use `torch.amp.autocast('cuda', args...)` instead.\n",
      "  with amp.autocast(autocast):\n",
      "C:\\Users\\Oz/.cache\\torch\\hub\\ultralytics_yolov5_master\\models\\common.py:892: FutureWarning: `torch.cuda.amp.autocast(args...)` is deprecated. Please use `torch.amp.autocast('cuda', args...)` instead.\n",
      "  with amp.autocast(autocast):\n"
     ]
    },
    {
     "name": "stdout",
     "output_type": "stream",
     "text": [
      "Closest object distance: 8.1 meters\n",
      "Calculated velocity: 11.7 m/s\n",
      "Closest object distance: 8.0 meters\n",
      "Calculated velocity: 11.7 m/s\n",
      "Closest object distance: 7.9 meters\n",
      "Calculated velocity: 11.6 m/s\n",
      "Closest object distance: 8.5 meters\n",
      "Calculated velocity: 12.2 m/s\n",
      "Closest object distance: 8.3 meters\n",
      "Calculated velocity: 11.9 m/s\n",
      "Closest object distance: 9.0 meters\n",
      "Calculated velocity: 12.5 m/s\n",
      "Closest object distance: 8.2 meters\n",
      "Calculated velocity: 11.8 m/s\n",
      "Closest object distance: 8.3 meters\n",
      "Calculated velocity: 11.9 m/s\n",
      "Closest object distance: 8.2 meters\n",
      "Calculated velocity: 11.9 m/s\n",
      "Closest object distance: 8.2 meters\n",
      "Calculated velocity: 11.9 m/s\n",
      "Closest object distance: 8.2 meters\n",
      "Calculated velocity: 11.9 m/s\n",
      "Closest object distance: 8.2 meters\n",
      "Calculated velocity: 11.9 m/s\n",
      "Closest object distance: 8.3 meters\n",
      "Calculated velocity: 12.0 m/s\n",
      "Closest object distance: 8.4 meters\n",
      "Calculated velocity: 12.0 m/s\n",
      "Closest object distance: 8.0 meters\n",
      "Calculated velocity: 11.7 m/s\n",
      "Closest object distance: 8.5 meters\n",
      "Calculated velocity: 12.1 m/s\n"
     ]
    },
    {
     "name": "stderr",
     "output_type": "stream",
     "text": [
      "C:\\Users\\Oz/.cache\\torch\\hub\\ultralytics_yolov5_master\\models\\common.py:892: FutureWarning: `torch.cuda.amp.autocast(args...)` is deprecated. Please use `torch.amp.autocast('cuda', args...)` instead.\n",
      "  with amp.autocast(autocast):\n"
     ]
    },
    {
     "name": "stdout",
     "output_type": "stream",
     "text": [
      "Closest object distance: 8.1 meters\n",
      "Calculated velocity: 11.7 m/s\n",
      "Closest object distance: 8.1 meters\n",
      "Calculated velocity: 11.8 m/s\n",
      "Closest object distance: 8.1 meters\n",
      "Calculated velocity: 11.8 m/s\n",
      "Closest object distance: 8.2 meters\n",
      "Calculated velocity: 11.9 m/s\n",
      "Closest object distance: 8.0 meters\n",
      "Calculated velocity: 11.6 m/s\n",
      "Closest object distance: 8.7 meters\n",
      "Calculated velocity: 12.3 m/s\n",
      "Closest object distance: 7.9 meters\n",
      "Calculated velocity: 11.6 m/s\n",
      "Closest object distance: 8.2 meters\n",
      "Calculated velocity: 11.8 m/s\n"
     ]
    },
    {
     "name": "stderr",
     "output_type": "stream",
     "text": [
      "C:\\Users\\Oz/.cache\\torch\\hub\\ultralytics_yolov5_master\\models\\common.py:892: FutureWarning: `torch.cuda.amp.autocast(args...)` is deprecated. Please use `torch.amp.autocast('cuda', args...)` instead.\n",
      "  with amp.autocast(autocast):\n",
      "C:\\Users\\Oz/.cache\\torch\\hub\\ultralytics_yolov5_master\\models\\common.py:892: FutureWarning: `torch.cuda.amp.autocast(args...)` is deprecated. Please use `torch.amp.autocast('cuda', args...)` instead.\n",
      "  with amp.autocast(autocast):\n"
     ]
    },
    {
     "name": "stdout",
     "output_type": "stream",
     "text": [
      "Closest object distance: 8.2 meters\n",
      "Calculated velocity: 11.9 m/s\n",
      "Closest object distance: 8.4 meters\n",
      "Calculated velocity: 12.0 m/s\n",
      "Closest object distance: 8.4 meters\n",
      "Calculated velocity: 12.0 m/s\n",
      "Closest object distance: 8.4 meters\n",
      "Calculated velocity: 12.0 m/s\n",
      "Closest object distance: 8.0 meters\n",
      "Calculated velocity: 11.6 m/s\n",
      "Closest object distance: 8.9 meters\n",
      "Calculated velocity: 12.5 m/s\n",
      "Closest object distance: 8.6 meters\n",
      "Calculated velocity: 12.2 m/s\n",
      "Closest object distance: 8.1 meters\n",
      "Calculated velocity: 11.8 m/s\n",
      "Closest object distance: 8.5 meters\n",
      "Calculated velocity: 12.1 m/s\n",
      "Closest object distance: 8.1 meters\n",
      "Calculated velocity: 11.7 m/s\n",
      "Closest object distance: 8.1 meters\n",
      "Calculated velocity: 11.8 m/s\n",
      "Closest object distance: 8.4 meters\n",
      "Calculated velocity: 12.1 m/s\n",
      "Closest object distance: 8.0 meters\n",
      "Calculated velocity: 11.6 m/s\n",
      "Closest object distance: 8.1 meters\n",
      "Calculated velocity: 11.7 m/s\n",
      "Closest object distance: 8.3 meters\n",
      "Calculated velocity: 11.9 m/s\n",
      "Closest object distance: 8.3 meters\n",
      "Calculated velocity: 12.0 m/s\n"
     ]
    },
    {
     "name": "stderr",
     "output_type": "stream",
     "text": [
      "C:\\Users\\Oz/.cache\\torch\\hub\\ultralytics_yolov5_master\\models\\common.py:892: FutureWarning: `torch.cuda.amp.autocast(args...)` is deprecated. Please use `torch.amp.autocast('cuda', args...)` instead.\n",
      "  with amp.autocast(autocast):\n"
     ]
    },
    {
     "name": "stdout",
     "output_type": "stream",
     "text": [
      "Closest object distance: 8.4 meters\n",
      "Calculated velocity: 12.0 m/s\n",
      "Closest object distance: 8.3 meters\n",
      "Calculated velocity: 11.9 m/s\n",
      "Closest object distance: 7.9 meters\n",
      "Calculated velocity: 11.6 m/s\n",
      "Closest object distance: 8.4 meters\n",
      "Calculated velocity: 12.0 m/s\n",
      "Closest object distance: 8.2 meters\n",
      "Calculated velocity: 11.8 m/s\n",
      "Closest object distance: 8.1 meters\n",
      "Calculated velocity: 11.8 m/s\n",
      "Closest object distance: 8.6 meters\n",
      "Calculated velocity: 12.2 m/s\n",
      "Closest object distance: 7.9 meters\n",
      "Calculated velocity: 11.6 m/s\n"
     ]
    },
    {
     "name": "stderr",
     "output_type": "stream",
     "text": [
      "C:\\Users\\Oz/.cache\\torch\\hub\\ultralytics_yolov5_master\\models\\common.py:892: FutureWarning: `torch.cuda.amp.autocast(args...)` is deprecated. Please use `torch.amp.autocast('cuda', args...)` instead.\n",
      "  with amp.autocast(autocast):\n"
     ]
    },
    {
     "name": "stdout",
     "output_type": "stream",
     "text": [
      "Closest object distance: 8.3 meters\n",
      "Calculated velocity: 11.9 m/s\n",
      "Closest object distance: 8.0 meters\n",
      "Calculated velocity: 11.6 m/s\n",
      "Closest object distance: 8.6 meters\n",
      "Calculated velocity: 12.2 m/s\n",
      "Closest object distance: 8.4 meters\n",
      "Calculated velocity: 12.1 m/s\n",
      "Closest object distance: 8.5 meters\n",
      "Calculated velocity: 12.1 m/s\n",
      "Closest object distance: 8.1 meters\n",
      "Calculated velocity: 11.7 m/s\n",
      "Closest object distance: 8.6 meters\n",
      "Calculated velocity: 12.2 m/s\n",
      "Closest object distance: 8.0 meters\n",
      "Calculated velocity: 11.6 m/s\n",
      "Closest object distance: 8.4 meters\n",
      "Calculated velocity: 12.0 m/s\n"
     ]
    },
    {
     "name": "stderr",
     "output_type": "stream",
     "text": [
      "C:\\Users\\Oz/.cache\\torch\\hub\\ultralytics_yolov5_master\\models\\common.py:892: FutureWarning: `torch.cuda.amp.autocast(args...)` is deprecated. Please use `torch.amp.autocast('cuda', args...)` instead.\n",
      "  with amp.autocast(autocast):\n",
      "C:\\Users\\Oz/.cache\\torch\\hub\\ultralytics_yolov5_master\\models\\common.py:892: FutureWarning: `torch.cuda.amp.autocast(args...)` is deprecated. Please use `torch.amp.autocast('cuda', args...)` instead.\n",
      "  with amp.autocast(autocast):\n"
     ]
    },
    {
     "name": "stdout",
     "output_type": "stream",
     "text": [
      "Closest object distance: 8.7 meters\n",
      "Calculated velocity: 12.3 m/s\n",
      "Closest object distance: 8.4 meters\n",
      "Calculated velocity: 12.0 m/s\n",
      "Closest object distance: 8.2 meters\n",
      "Calculated velocity: 11.9 m/s\n",
      "Closest object distance: 8.5 meters\n",
      "Calculated velocity: 12.1 m/s\n",
      "Closest object distance: 8.3 meters\n",
      "Calculated velocity: 11.9 m/s\n",
      "Closest object distance: 8.1 meters\n",
      "Calculated velocity: 11.8 m/s\n",
      "Closest object distance: 8.4 meters\n",
      "Calculated velocity: 12.1 m/s\n",
      "Closest object distance: 8.0 meters\n",
      "Calculated velocity: 11.7 m/s\n",
      "Closest object distance: 8.6 meters\n",
      "Calculated velocity: 12.2 m/s\n",
      "Closest object distance: 8.4 meters\n",
      "Calculated velocity: 12.1 m/s\n",
      "Closest object distance: 8.3 meters\n",
      "Calculated velocity: 12.0 m/s\n",
      "Closest object distance: 8.0 meters\n",
      "Calculated velocity: 11.7 m/s\n",
      "Closest object distance: 8.3 meters\n",
      "Calculated velocity: 11.9 m/s\n",
      "Closest object distance: 8.6 meters\n",
      "Calculated velocity: 12.2 m/s\n",
      "Closest object distance: 8.1 meters\n",
      "Calculated velocity: 11.8 m/s\n"
     ]
    },
    {
     "name": "stderr",
     "output_type": "stream",
     "text": [
      "C:\\Users\\Oz/.cache\\torch\\hub\\ultralytics_yolov5_master\\models\\common.py:892: FutureWarning: `torch.cuda.amp.autocast(args...)` is deprecated. Please use `torch.amp.autocast('cuda', args...)` instead.\n",
      "  with amp.autocast(autocast):\n"
     ]
    },
    {
     "name": "stdout",
     "output_type": "stream",
     "text": [
      "Closest object distance: 8.5 meters\n",
      "Calculated velocity: 12.1 m/s\n",
      "Closest object distance: 8.4 meters\n",
      "Calculated velocity: 12.0 m/s\n",
      "Closest object distance: 8.1 meters\n",
      "Calculated velocity: 11.8 m/s\n",
      "Closest object distance: 8.1 meters\n",
      "Calculated velocity: 11.7 m/s\n",
      "Closest object distance: 8.1 meters\n",
      "Calculated velocity: 11.8 m/s\n",
      "Closest object distance: 8.1 meters\n",
      "Calculated velocity: 11.7 m/s\n",
      "Closest object distance: 8.0 meters\n",
      "Calculated velocity: 11.6 m/s\n",
      "Closest object distance: 8.2 meters\n",
      "Calculated velocity: 11.8 m/s\n",
      "Closest object distance: 8.2 meters\n",
      "Calculated velocity: 11.8 m/s\n"
     ]
    },
    {
     "name": "stderr",
     "output_type": "stream",
     "text": [
      "C:\\Users\\Oz/.cache\\torch\\hub\\ultralytics_yolov5_master\\models\\common.py:892: FutureWarning: `torch.cuda.amp.autocast(args...)` is deprecated. Please use `torch.amp.autocast('cuda', args...)` instead.\n",
      "  with amp.autocast(autocast):\n"
     ]
    },
    {
     "name": "stdout",
     "output_type": "stream",
     "text": [
      "Closest object distance: 8.2 meters\n",
      "Calculated velocity: 11.9 m/s\n",
      "Closest object distance: 8.1 meters\n",
      "Calculated velocity: 11.7 m/s\n",
      "Closest object distance: 8.0 meters\n",
      "Calculated velocity: 11.6 m/s\n",
      "Closest object distance: 8.4 meters\n",
      "Calculated velocity: 12.1 m/s\n",
      "Closest object distance: 8.1 meters\n",
      "Calculated velocity: 11.7 m/s\n",
      "Closest object distance: 8.3 meters\n",
      "Calculated velocity: 11.9 m/s\n",
      "Closest object distance: 8.1 meters\n",
      "Calculated velocity: 11.8 m/s\n",
      "Closest object distance: 8.0 meters\n",
      "Calculated velocity: 11.7 m/s\n",
      "Closest object distance: 8.0 meters\n",
      "Calculated velocity: 11.7 m/s\n"
     ]
    },
    {
     "name": "stderr",
     "output_type": "stream",
     "text": [
      "C:\\Users\\Oz/.cache\\torch\\hub\\ultralytics_yolov5_master\\models\\common.py:892: FutureWarning: `torch.cuda.amp.autocast(args...)` is deprecated. Please use `torch.amp.autocast('cuda', args...)` instead.\n",
      "  with amp.autocast(autocast):\n",
      "C:\\Users\\Oz/.cache\\torch\\hub\\ultralytics_yolov5_master\\models\\common.py:892: FutureWarning: `torch.cuda.amp.autocast(args...)` is deprecated. Please use `torch.amp.autocast('cuda', args...)` instead.\n",
      "  with amp.autocast(autocast):\n"
     ]
    },
    {
     "name": "stdout",
     "output_type": "stream",
     "text": [
      "Closest object distance: 8.9 meters\n",
      "Calculated velocity: 12.5 m/s\n",
      "Closest object distance: 8.5 meters\n",
      "Calculated velocity: 12.1 m/s\n",
      "Closest object distance: 8.5 meters\n",
      "Calculated velocity: 12.1 m/s\n",
      "Closest object distance: 8.0 meters\n",
      "Calculated velocity: 11.6 m/s\n",
      "Closest object distance: 8.3 meters\n",
      "Calculated velocity: 12.0 m/s\n",
      "Closest object distance: 8.1 meters\n",
      "Calculated velocity: 11.8 m/s\n",
      "Closest object distance: 8.1 meters\n",
      "Calculated velocity: 11.8 m/s\n",
      "Closest object distance: 8.0 meters\n",
      "Calculated velocity: 11.7 m/s\n",
      "Closest object distance: 8.0 meters\n",
      "Calculated velocity: 11.7 m/s\n",
      "Closest object distance: 8.1 meters\n",
      "Calculated velocity: 11.8 m/s\n",
      "Closest object distance: 8.1 meters\n",
      "Calculated velocity: 11.8 m/s\n",
      "Closest object distance: 8.1 meters\n",
      "Calculated velocity: 11.7 m/s\n",
      "Closest object distance: 8.6 meters\n",
      "Calculated velocity: 12.2 m/s\n",
      "Closest object distance: 8.3 meters\n",
      "Calculated velocity: 11.9 m/s\n",
      "Closest object distance: 8.3 meters\n",
      "Calculated velocity: 11.9 m/s\n"
     ]
    },
    {
     "name": "stderr",
     "output_type": "stream",
     "text": [
      "C:\\Users\\Oz/.cache\\torch\\hub\\ultralytics_yolov5_master\\models\\common.py:892: FutureWarning: `torch.cuda.amp.autocast(args...)` is deprecated. Please use `torch.amp.autocast('cuda', args...)` instead.\n",
      "  with amp.autocast(autocast):\n",
      "C:\\Users\\Oz/.cache\\torch\\hub\\ultralytics_yolov5_master\\models\\common.py:892: FutureWarning: `torch.cuda.amp.autocast(args...)` is deprecated. Please use `torch.amp.autocast('cuda', args...)` instead.\n",
      "  with amp.autocast(autocast):\n"
     ]
    },
    {
     "name": "stdout",
     "output_type": "stream",
     "text": [
      "Closest object distance: 8.1 meters\n",
      "Calculated velocity: 11.7 m/s\n",
      "Closest object distance: 8.1 meters\n",
      "Calculated velocity: 11.7 m/s\n",
      "Closest object distance: 8.6 meters\n",
      "Calculated velocity: 12.2 m/s\n",
      "Closest object distance: 8.4 meters\n",
      "Calculated velocity: 12.0 m/s\n",
      "Closest object distance: 8.1 meters\n",
      "Calculated velocity: 11.8 m/s\n",
      "Closest object distance: 8.1 meters\n",
      "Calculated velocity: 11.8 m/s\n",
      "Closest object distance: 8.0 meters\n",
      "Calculated velocity: 11.7 m/s\n",
      "Closest object distance: 8.5 meters\n",
      "Calculated velocity: 12.1 m/s\n"
     ]
    },
    {
     "name": "stderr",
     "output_type": "stream",
     "text": [
      "C:\\Users\\Oz/.cache\\torch\\hub\\ultralytics_yolov5_master\\models\\common.py:892: FutureWarning: `torch.cuda.amp.autocast(args...)` is deprecated. Please use `torch.amp.autocast('cuda', args...)` instead.\n",
      "  with amp.autocast(autocast):\n"
     ]
    },
    {
     "name": "stdout",
     "output_type": "stream",
     "text": [
      "Closest object distance: 8.4 meters\n",
      "Calculated velocity: 12.0 m/s\n",
      "Closest object distance: 8.1 meters\n",
      "Calculated velocity: 11.8 m/s\n",
      "Closest object distance: 8.2 meters\n",
      "Calculated velocity: 11.9 m/s\n",
      "Closest object distance: 8.5 meters\n",
      "Calculated velocity: 12.1 m/s\n",
      "Closest object distance: 8.3 meters\n",
      "Calculated velocity: 11.9 m/s\n",
      "Closest object distance: 8.4 meters\n",
      "Calculated velocity: 12.0 m/s\n",
      "Closest object distance: 8.1 meters\n",
      "Calculated velocity: 11.8 m/s\n",
      "Closest object distance: 8.7 meters\n",
      "Calculated velocity: 12.3 m/s\n"
     ]
    },
    {
     "name": "stderr",
     "output_type": "stream",
     "text": [
      "C:\\Users\\Oz/.cache\\torch\\hub\\ultralytics_yolov5_master\\models\\common.py:892: FutureWarning: `torch.cuda.amp.autocast(args...)` is deprecated. Please use `torch.amp.autocast('cuda', args...)` instead.\n",
      "  with amp.autocast(autocast):\n"
     ]
    },
    {
     "name": "stdout",
     "output_type": "stream",
     "text": [
      "Closest object distance: 8.4 meters\n",
      "Calculated velocity: 12.0 m/s\n",
      "Closest object distance: 7.9 meters\n",
      "Calculated velocity: 11.6 m/s\n",
      "Closest object distance: 8.2 meters\n",
      "Calculated velocity: 11.8 m/s\n",
      "Closest object distance: 8.1 meters\n",
      "Calculated velocity: 11.8 m/s\n",
      "Closest object distance: 8.1 meters\n",
      "Calculated velocity: 11.8 m/s\n",
      "Closest object distance: 8.0 meters\n",
      "Calculated velocity: 11.7 m/s\n",
      "Closest object distance: 8.5 meters\n",
      "Calculated velocity: 12.1 m/s\n"
     ]
    },
    {
     "name": "stderr",
     "output_type": "stream",
     "text": [
      "C:\\Users\\Oz/.cache\\torch\\hub\\ultralytics_yolov5_master\\models\\common.py:892: FutureWarning: `torch.cuda.amp.autocast(args...)` is deprecated. Please use `torch.amp.autocast('cuda', args...)` instead.\n",
      "  with amp.autocast(autocast):\n",
      "C:\\Users\\Oz/.cache\\torch\\hub\\ultralytics_yolov5_master\\models\\common.py:892: FutureWarning: `torch.cuda.amp.autocast(args...)` is deprecated. Please use `torch.amp.autocast('cuda', args...)` instead.\n",
      "  with amp.autocast(autocast):\n"
     ]
    },
    {
     "name": "stdout",
     "output_type": "stream",
     "text": [
      "Closest object distance: 8.1 meters\n",
      "Calculated velocity: 11.8 m/s\n",
      "Closest object distance: 8.0 meters\n",
      "Calculated velocity: 11.7 m/s\n",
      "Closest object distance: 8.0 meters\n",
      "Calculated velocity: 11.6 m/s\n",
      "Closest object distance: 8.2 meters\n",
      "Calculated velocity: 11.8 m/s\n",
      "Closest object distance: 8.8 meters\n",
      "Calculated velocity: 12.3 m/s\n",
      "Closest object distance: 8.6 meters\n",
      "Calculated velocity: 12.2 m/s\n",
      "Closest object distance: 8.3 meters\n",
      "Calculated velocity: 12.0 m/s\n",
      "Closest object distance: 8.2 meters\n",
      "Calculated velocity: 11.8 m/s\n",
      "Closest object distance: 8.0 meters\n",
      "Calculated velocity: 11.7 m/s\n",
      "Closest object distance: 8.0 meters\n",
      "Calculated velocity: 11.7 m/s\n",
      "Closest object distance: 8.2 meters\n",
      "Calculated velocity: 11.8 m/s\n",
      "Closest object distance: 8.0 meters\n",
      "Calculated velocity: 11.7 m/s\n",
      "Closest object distance: 8.2 meters\n",
      "Calculated velocity: 11.8 m/s\n",
      "Closest object distance: 8.3 meters\n",
      "Calculated velocity: 11.9 m/s\n",
      "Closest object distance: 8.3 meters\n",
      "Calculated velocity: 12.0 m/s\n",
      "Closest object distance: 8.0 meters\n",
      "Calculated velocity: 11.6 m/s\n"
     ]
    },
    {
     "name": "stderr",
     "output_type": "stream",
     "text": [
      "C:\\Users\\Oz/.cache\\torch\\hub\\ultralytics_yolov5_master\\models\\common.py:892: FutureWarning: `torch.cuda.amp.autocast(args...)` is deprecated. Please use `torch.amp.autocast('cuda', args...)` instead.\n",
      "  with amp.autocast(autocast):\n"
     ]
    },
    {
     "name": "stdout",
     "output_type": "stream",
     "text": [
      "Closest object distance: 8.1 meters\n",
      "Calculated velocity: 11.8 m/s\n",
      "Closest object distance: 8.6 meters\n",
      "Calculated velocity: 12.2 m/s\n",
      "Closest object distance: 8.2 meters\n",
      "Calculated velocity: 11.8 m/s\n",
      "Closest object distance: 8.3 meters\n",
      "Calculated velocity: 11.9 m/s\n",
      "Closest object distance: 8.7 meters\n",
      "Calculated velocity: 12.3 m/s\n",
      "Closest object distance: 8.5 meters\n",
      "Calculated velocity: 12.1 m/s\n",
      "Closest object distance: 8.4 meters\n",
      "Calculated velocity: 12.0 m/s\n",
      "Closest object distance: 8.4 meters\n",
      "Calculated velocity: 12.0 m/s\n",
      "Closest object distance: 8.7 meters\n",
      "Calculated velocity: 12.3 m/s\n",
      "Closest object distance: 7.9 meters\n",
      "Calculated velocity: 11.6 m/s\n",
      "Closest object distance: 8.1 meters\n",
      "Calculated velocity: 11.8 m/s\n",
      "Closest object distance: 8.2 meters\n",
      "Calculated velocity: 11.8 m/s\n",
      "Closest object distance: 8.0 meters\n",
      "Calculated velocity: 11.7 m/s\n",
      "Closest object distance: 8.2 meters\n",
      "Calculated velocity: 11.8 m/s\n",
      "Closest object distance: 8.3 meters\n",
      "Calculated velocity: 11.9 m/s\n",
      "Closest object distance: 8.1 meters\n",
      "Calculated velocity: 11.7 m/s\n"
     ]
    },
    {
     "name": "stderr",
     "output_type": "stream",
     "text": [
      "C:\\Users\\Oz/.cache\\torch\\hub\\ultralytics_yolov5_master\\models\\common.py:892: FutureWarning: `torch.cuda.amp.autocast(args...)` is deprecated. Please use `torch.amp.autocast('cuda', args...)` instead.\n",
      "  with amp.autocast(autocast):\n"
     ]
    },
    {
     "name": "stdout",
     "output_type": "stream",
     "text": [
      "Closest object distance: 8.9 meters\n",
      "Calculated velocity: 12.4 m/s\n",
      "Closest object distance: 8.1 meters\n",
      "Calculated velocity: 11.8 m/s\n",
      "Closest object distance: 8.3 meters\n",
      "Calculated velocity: 12.0 m/s\n",
      "Closest object distance: 8.1 meters\n",
      "Calculated velocity: 11.7 m/s\n",
      "Closest object distance: 8.2 meters\n",
      "Calculated velocity: 11.9 m/s\n",
      "Closest object distance: 8.2 meters\n",
      "Calculated velocity: 11.9 m/s\n",
      "Closest object distance: 8.3 meters\n",
      "Calculated velocity: 11.9 m/s\n",
      "Closest object distance: 8.3 meters\n",
      "Calculated velocity: 11.9 m/s\n",
      "Closest object distance: 7.9 meters\n",
      "Calculated velocity: 11.6 m/s\n"
     ]
    },
    {
     "name": "stderr",
     "output_type": "stream",
     "text": [
      "C:\\Users\\Oz/.cache\\torch\\hub\\ultralytics_yolov5_master\\models\\common.py:892: FutureWarning: `torch.cuda.amp.autocast(args...)` is deprecated. Please use `torch.amp.autocast('cuda', args...)` instead.\n",
      "  with amp.autocast(autocast):\n"
     ]
    },
    {
     "name": "stdout",
     "output_type": "stream",
     "text": [
      "Closest object distance: 8.2 meters\n",
      "Calculated velocity: 11.9 m/s\n",
      "Closest object distance: 8.6 meters\n",
      "Calculated velocity: 12.2 m/s\n",
      "Closest object distance: 8.0 meters\n",
      "Calculated velocity: 11.6 m/s\n",
      "Closest object distance: 7.9 meters\n",
      "Calculated velocity: 11.6 m/s\n",
      "Closest object distance: 8.3 meters\n",
      "Calculated velocity: 11.9 m/s\n",
      "Closest object distance: 8.0 meters\n",
      "Calculated velocity: 11.6 m/s\n",
      "Closest object distance: 8.4 meters\n",
      "Calculated velocity: 12.0 m/s\n",
      "Closest object distance: 7.9 meters\n",
      "Calculated velocity: 11.6 m/s\n"
     ]
    },
    {
     "name": "stderr",
     "output_type": "stream",
     "text": [
      "C:\\Users\\Oz/.cache\\torch\\hub\\ultralytics_yolov5_master\\models\\common.py:892: FutureWarning: `torch.cuda.amp.autocast(args...)` is deprecated. Please use `torch.amp.autocast('cuda', args...)` instead.\n",
      "  with amp.autocast(autocast):\n"
     ]
    },
    {
     "name": "stdout",
     "output_type": "stream",
     "text": [
      "Closest object distance: 8.1 meters\n",
      "Calculated velocity: 11.8 m/s\n",
      "Closest object distance: 8.0 meters\n",
      "Calculated velocity: 11.7 m/s\n",
      "Closest object distance: 8.4 meters\n",
      "Calculated velocity: 12.1 m/s\n",
      "Closest object distance: 7.9 meters\n",
      "Calculated velocity: 11.6 m/s\n",
      "Closest object distance: 8.0 meters\n",
      "Calculated velocity: 11.6 m/s\n",
      "Closest object distance: 8.4 meters\n",
      "Calculated velocity: 12.0 m/s\n",
      "Closest object distance: 8.0 meters\n",
      "Calculated velocity: 11.7 m/s\n",
      "Closest object distance: 8.4 meters\n",
      "Calculated velocity: 12.1 m/s\n"
     ]
    },
    {
     "name": "stderr",
     "output_type": "stream",
     "text": [
      "C:\\Users\\Oz/.cache\\torch\\hub\\ultralytics_yolov5_master\\models\\common.py:892: FutureWarning: `torch.cuda.amp.autocast(args...)` is deprecated. Please use `torch.amp.autocast('cuda', args...)` instead.\n",
      "  with amp.autocast(autocast):\n",
      "C:\\Users\\Oz/.cache\\torch\\hub\\ultralytics_yolov5_master\\models\\common.py:892: FutureWarning: `torch.cuda.amp.autocast(args...)` is deprecated. Please use `torch.amp.autocast('cuda', args...)` instead.\n",
      "  with amp.autocast(autocast):\n"
     ]
    },
    {
     "name": "stdout",
     "output_type": "stream",
     "text": [
      "Closest object distance: 8.5 meters\n",
      "Calculated velocity: 12.1 m/s\n",
      "Closest object distance: 8.0 meters\n",
      "Calculated velocity: 11.7 m/s\n",
      "Closest object distance: 8.3 meters\n",
      "Calculated velocity: 11.9 m/s\n",
      "Closest object distance: 8.3 meters\n",
      "Calculated velocity: 11.9 m/s\n",
      "Closest object distance: 8.5 meters\n",
      "Calculated velocity: 12.1 m/s\n",
      "Closest object distance: 8.1 meters\n",
      "Calculated velocity: 11.7 m/s\n",
      "Closest object distance: 8.0 meters\n",
      "Calculated velocity: 11.7 m/s\n",
      "Closest object distance: 8.0 meters\n",
      "Calculated velocity: 11.7 m/s\n",
      "Closest object distance: 8.0 meters\n",
      "Calculated velocity: 11.6 m/s\n",
      "Closest object distance: 8.2 meters\n",
      "Calculated velocity: 11.8 m/s\n",
      "Closest object distance: 8.2 meters\n",
      "Calculated velocity: 11.9 m/s\n",
      "Closest object distance: 8.1 meters\n",
      "Calculated velocity: 11.7 m/s\n",
      "Closest object distance: 8.4 meters\n",
      "Calculated velocity: 12.0 m/s\n",
      "Closest object distance: 8.0 meters\n",
      "Calculated velocity: 11.6 m/s\n",
      "Closest object distance: 8.2 meters\n",
      "Calculated velocity: 11.8 m/s\n"
     ]
    },
    {
     "name": "stderr",
     "output_type": "stream",
     "text": [
      "C:\\Users\\Oz/.cache\\torch\\hub\\ultralytics_yolov5_master\\models\\common.py:892: FutureWarning: `torch.cuda.amp.autocast(args...)` is deprecated. Please use `torch.amp.autocast('cuda', args...)` instead.\n",
      "  with amp.autocast(autocast):\n"
     ]
    },
    {
     "name": "stdout",
     "output_type": "stream",
     "text": [
      "Closest object distance: 8.5 meters\n",
      "Calculated velocity: 12.1 m/s\n",
      "Closest object distance: 8.1 meters\n",
      "Calculated velocity: 11.8 m/s\n",
      "Closest object distance: 8.0 meters\n",
      "Calculated velocity: 11.7 m/s\n",
      "Closest object distance: 8.1 meters\n",
      "Calculated velocity: 11.7 m/s\n",
      "Closest object distance: 8.2 meters\n",
      "Calculated velocity: 11.9 m/s\n",
      "Closest object distance: 8.5 meters\n",
      "Calculated velocity: 12.1 m/s\n",
      "Closest object distance: 8.8 meters\n",
      "Calculated velocity: 12.3 m/s\n",
      "Closest object distance: 8.3 meters\n",
      "Calculated velocity: 11.9 m/s\n",
      "Closest object distance: 8.6 meters\n",
      "Calculated velocity: 12.2 m/s\n"
     ]
    },
    {
     "name": "stderr",
     "output_type": "stream",
     "text": [
      "C:\\Users\\Oz/.cache\\torch\\hub\\ultralytics_yolov5_master\\models\\common.py:892: FutureWarning: `torch.cuda.amp.autocast(args...)` is deprecated. Please use `torch.amp.autocast('cuda', args...)` instead.\n",
      "  with amp.autocast(autocast):\n",
      "C:\\Users\\Oz/.cache\\torch\\hub\\ultralytics_yolov5_master\\models\\common.py:892: FutureWarning: `torch.cuda.amp.autocast(args...)` is deprecated. Please use `torch.amp.autocast('cuda', args...)` instead.\n",
      "  with amp.autocast(autocast):\n"
     ]
    },
    {
     "name": "stdout",
     "output_type": "stream",
     "text": [
      "Closest object distance: 8.1 meters\n",
      "Calculated velocity: 11.8 m/s\n",
      "Closest object distance: 8.0 meters\n",
      "Calculated velocity: 11.7 m/s\n",
      "Closest object distance: 8.4 meters\n",
      "Calculated velocity: 12.1 m/s\n",
      "Closest object distance: 8.0 meters\n",
      "Calculated velocity: 11.7 m/s\n",
      "Closest object distance: 8.6 meters\n",
      "Calculated velocity: 12.2 m/s\n",
      "Closest object distance: 8.9 meters\n",
      "Calculated velocity: 12.4 m/s\n",
      "Closest object distance: 8.1 meters\n",
      "Calculated velocity: 11.8 m/s\n",
      "Closest object distance: 8.0 meters\n",
      "Calculated velocity: 11.7 m/s\n",
      "Closest object distance: 8.4 meters\n",
      "Calculated velocity: 12.0 m/s\n",
      "Closest object distance: 8.0 meters\n",
      "Calculated velocity: 11.6 m/s\n",
      "Closest object distance: 8.0 meters\n",
      "Calculated velocity: 11.6 m/s\n",
      "Closest object distance: 8.3 meters\n",
      "Calculated velocity: 12.0 m/s\n",
      "Closest object distance: 8.2 meters\n",
      "Calculated velocity: 11.8 m/s\n",
      "Closest object distance: 8.2 meters\n",
      "Calculated velocity: 11.8 m/s\n",
      "Closest object distance: 8.1 meters\n",
      "Calculated velocity: 11.8 m/s\n"
     ]
    },
    {
     "name": "stderr",
     "output_type": "stream",
     "text": [
      "C:\\Users\\Oz/.cache\\torch\\hub\\ultralytics_yolov5_master\\models\\common.py:892: FutureWarning: `torch.cuda.amp.autocast(args...)` is deprecated. Please use `torch.amp.autocast('cuda', args...)` instead.\n",
      "  with amp.autocast(autocast):\n"
     ]
    },
    {
     "name": "stdout",
     "output_type": "stream",
     "text": [
      "Closest object distance: 8.1 meters\n",
      "Calculated velocity: 11.7 m/s\n",
      "Closest object distance: 8.6 meters\n",
      "Calculated velocity: 12.2 m/s\n",
      "Closest object distance: 8.0 meters\n",
      "Calculated velocity: 11.7 m/s\n",
      "Closest object distance: 8.1 meters\n",
      "Calculated velocity: 11.7 m/s\n",
      "Closest object distance: 8.3 meters\n",
      "Calculated velocity: 12.0 m/s\n",
      "Closest object distance: 8.4 meters\n",
      "Calculated velocity: 12.0 m/s\n",
      "Closest object distance: 8.4 meters\n",
      "Calculated velocity: 12.1 m/s\n",
      "Closest object distance: 8.2 meters\n",
      "Calculated velocity: 11.9 m/s\n",
      "Closest object distance: 8.1 meters\n",
      "Calculated velocity: 11.8 m/s\n"
     ]
    },
    {
     "name": "stderr",
     "output_type": "stream",
     "text": [
      "C:\\Users\\Oz/.cache\\torch\\hub\\ultralytics_yolov5_master\\models\\common.py:892: FutureWarning: `torch.cuda.amp.autocast(args...)` is deprecated. Please use `torch.amp.autocast('cuda', args...)` instead.\n",
      "  with amp.autocast(autocast):\n",
      "C:\\Users\\Oz/.cache\\torch\\hub\\ultralytics_yolov5_master\\models\\common.py:892: FutureWarning: `torch.cuda.amp.autocast(args...)` is deprecated. Please use `torch.amp.autocast('cuda', args...)` instead.\n",
      "  with amp.autocast(autocast):\n"
     ]
    },
    {
     "name": "stdout",
     "output_type": "stream",
     "text": [
      "Closest object distance: 8.6 meters\n",
      "Calculated velocity: 12.2 m/s\n",
      "Closest object distance: 8.2 meters\n",
      "Calculated velocity: 11.8 m/s\n",
      "Closest object distance: 8.5 meters\n",
      "Calculated velocity: 12.1 m/s\n",
      "Closest object distance: 8.8 meters\n",
      "Calculated velocity: 12.3 m/s\n",
      "Closest object distance: 8.0 meters\n",
      "Calculated velocity: 11.6 m/s\n",
      "Closest object distance: 8.4 meters\n",
      "Calculated velocity: 12.1 m/s\n",
      "Closest object distance: 8.6 meters\n",
      "Calculated velocity: 12.2 m/s\n"
     ]
    },
    {
     "name": "stderr",
     "output_type": "stream",
     "text": [
      "C:\\Users\\Oz/.cache\\torch\\hub\\ultralytics_yolov5_master\\models\\common.py:892: FutureWarning: `torch.cuda.amp.autocast(args...)` is deprecated. Please use `torch.amp.autocast('cuda', args...)` instead.\n",
      "  with amp.autocast(autocast):\n"
     ]
    },
    {
     "name": "stdout",
     "output_type": "stream",
     "text": [
      "Closest object distance: 8.4 meters\n",
      "Calculated velocity: 12.1 m/s\n",
      "Closest object distance: 8.5 meters\n",
      "Calculated velocity: 12.1 m/s\n",
      "Closest object distance: 8.2 meters\n",
      "Calculated velocity: 11.9 m/s\n",
      "Closest object distance: 8.6 meters\n",
      "Calculated velocity: 12.2 m/s\n",
      "Closest object distance: 8.0 meters\n",
      "Calculated velocity: 11.7 m/s\n",
      "Closest object distance: 8.7 meters\n",
      "Calculated velocity: 12.3 m/s\n",
      "Closest object distance: 8.4 meters\n",
      "Calculated velocity: 12.0 m/s\n",
      "Closest object distance: 8.9 meters\n",
      "Calculated velocity: 12.5 m/s\n",
      "Closest object distance: 8.5 meters\n",
      "Calculated velocity: 12.1 m/s\n",
      "Closest object distance: 8.3 meters\n",
      "Calculated velocity: 11.9 m/s\n",
      "Closest object distance: 8.2 meters\n",
      "Calculated velocity: 11.8 m/s\n",
      "Closest object distance: 8.0 meters\n",
      "Calculated velocity: 11.7 m/s\n",
      "Closest object distance: 8.2 meters\n",
      "Calculated velocity: 11.8 m/s\n",
      "Closest object distance: 8.1 meters\n",
      "Calculated velocity: 11.7 m/s\n",
      "Closest object distance: 8.3 meters\n",
      "Calculated velocity: 11.9 m/s\n",
      "Closest object distance: 8.6 meters\n",
      "Calculated velocity: 12.2 m/s\n"
     ]
    },
    {
     "name": "stderr",
     "output_type": "stream",
     "text": [
      "C:\\Users\\Oz/.cache\\torch\\hub\\ultralytics_yolov5_master\\models\\common.py:892: FutureWarning: `torch.cuda.amp.autocast(args...)` is deprecated. Please use `torch.amp.autocast('cuda', args...)` instead.\n",
      "  with amp.autocast(autocast):\n",
      "C:\\Users\\Oz/.cache\\torch\\hub\\ultralytics_yolov5_master\\models\\common.py:892: FutureWarning: `torch.cuda.amp.autocast(args...)` is deprecated. Please use `torch.amp.autocast('cuda', args...)` instead.\n",
      "  with amp.autocast(autocast):\n"
     ]
    },
    {
     "name": "stdout",
     "output_type": "stream",
     "text": [
      "Closest object distance: 7.9 meters\n",
      "Calculated velocity: 11.6 m/s\n",
      "Closest object distance: 7.9 meters\n",
      "Calculated velocity: 11.6 m/s\n",
      "Closest object distance: 8.5 meters\n",
      "Calculated velocity: 12.1 m/s\n",
      "Closest object distance: 8.2 meters\n",
      "Calculated velocity: 11.9 m/s\n",
      "Closest object distance: 8.3 meters\n",
      "Calculated velocity: 11.9 m/s\n",
      "Closest object distance: 8.2 meters\n",
      "Calculated velocity: 11.8 m/s\n",
      "Closest object distance: 8.3 meters\n",
      "Calculated velocity: 12.0 m/s\n",
      "Closest object distance: 8.2 meters\n",
      "Calculated velocity: 11.8 m/s\n"
     ]
    },
    {
     "name": "stderr",
     "output_type": "stream",
     "text": [
      "C:\\Users\\Oz/.cache\\torch\\hub\\ultralytics_yolov5_master\\models\\common.py:892: FutureWarning: `torch.cuda.amp.autocast(args...)` is deprecated. Please use `torch.amp.autocast('cuda', args...)` instead.\n",
      "  with amp.autocast(autocast):\n"
     ]
    },
    {
     "name": "stdout",
     "output_type": "stream",
     "text": [
      "Closest object distance: 8.0 meters\n",
      "Calculated velocity: 11.7 m/s\n",
      "Closest object distance: 8.2 meters\n",
      "Calculated velocity: 11.8 m/s\n",
      "Closest object distance: 8.0 meters\n",
      "Calculated velocity: 11.7 m/s\n",
      "Closest object distance: 8.2 meters\n",
      "Calculated velocity: 11.8 m/s\n",
      "Closest object distance: 8.5 meters\n",
      "Calculated velocity: 12.1 m/s\n",
      "Closest object distance: 8.9 meters\n",
      "Calculated velocity: 12.4 m/s\n",
      "Closest object distance: 8.1 meters\n",
      "Calculated velocity: 11.8 m/s\n",
      "Closest object distance: 8.3 meters\n",
      "Calculated velocity: 12.0 m/s\n",
      "Closest object distance: 8.4 meters\n",
      "Calculated velocity: 12.0 m/s\n",
      "Closest object distance: 8.8 meters\n",
      "Calculated velocity: 12.3 m/s\n",
      "Closest object distance: 8.0 meters\n",
      "Calculated velocity: 11.6 m/s\n",
      "Closest object distance: 8.1 meters\n",
      "Calculated velocity: 11.8 m/s\n",
      "Closest object distance: 9.1 meters\n",
      "Calculated velocity: 12.6 m/s\n",
      "Closest object distance: 8.9 meters\n",
      "Calculated velocity: 12.5 m/s\n",
      "Closest object distance: 8.1 meters\n",
      "Calculated velocity: 11.7 m/s\n"
     ]
    },
    {
     "name": "stderr",
     "output_type": "stream",
     "text": [
      "C:\\Users\\Oz/.cache\\torch\\hub\\ultralytics_yolov5_master\\models\\common.py:892: FutureWarning: `torch.cuda.amp.autocast(args...)` is deprecated. Please use `torch.amp.autocast('cuda', args...)` instead.\n",
      "  with amp.autocast(autocast):\n"
     ]
    },
    {
     "name": "stdout",
     "output_type": "stream",
     "text": [
      "Closest object distance: 8.0 meters\n",
      "Calculated velocity: 11.7 m/s\n",
      "Closest object distance: 8.3 meters\n",
      "Calculated velocity: 11.9 m/s\n",
      "Closest object distance: 8.0 meters\n",
      "Calculated velocity: 11.7 m/s\n",
      "Closest object distance: 8.2 meters\n",
      "Calculated velocity: 11.9 m/s\n",
      "Closest object distance: 8.0 meters\n",
      "Calculated velocity: 11.7 m/s\n",
      "Closest object distance: 8.5 meters\n",
      "Calculated velocity: 12.2 m/s\n",
      "Closest object distance: 8.5 meters\n",
      "Calculated velocity: 12.1 m/s\n",
      "Closest object distance: 8.3 meters\n",
      "Calculated velocity: 12.0 m/s\n",
      "Closest object distance: 8.1 meters\n",
      "Calculated velocity: 11.7 m/s\n"
     ]
    },
    {
     "name": "stderr",
     "output_type": "stream",
     "text": [
      "C:\\Users\\Oz/.cache\\torch\\hub\\ultralytics_yolov5_master\\models\\common.py:892: FutureWarning: `torch.cuda.amp.autocast(args...)` is deprecated. Please use `torch.amp.autocast('cuda', args...)` instead.\n",
      "  with amp.autocast(autocast):\n",
      "C:\\Users\\Oz/.cache\\torch\\hub\\ultralytics_yolov5_master\\models\\common.py:892: FutureWarning: `torch.cuda.amp.autocast(args...)` is deprecated. Please use `torch.amp.autocast('cuda', args...)` instead.\n",
      "  with amp.autocast(autocast):\n"
     ]
    },
    {
     "name": "stdout",
     "output_type": "stream",
     "text": [
      "Closest object distance: 8.5 meters\n",
      "Calculated velocity: 12.1 m/s\n",
      "Closest object distance: 8.5 meters\n",
      "Calculated velocity: 12.2 m/s\n",
      "Closest object distance: 8.1 meters\n",
      "Calculated velocity: 11.7 m/s\n",
      "Closest object distance: 8.0 meters\n",
      "Calculated velocity: 11.7 m/s\n",
      "Closest object distance: 8.6 meters\n",
      "Calculated velocity: 12.2 m/s\n",
      "Closest object distance: 8.1 meters\n",
      "Calculated velocity: 11.7 m/s\n",
      "Closest object distance: 8.4 meters\n",
      "Calculated velocity: 12.0 m/s\n",
      "Closest object distance: 8.3 meters\n",
      "Calculated velocity: 12.0 m/s\n"
     ]
    },
    {
     "name": "stderr",
     "output_type": "stream",
     "text": [
      "C:\\Users\\Oz/.cache\\torch\\hub\\ultralytics_yolov5_master\\models\\common.py:892: FutureWarning: `torch.cuda.amp.autocast(args...)` is deprecated. Please use `torch.amp.autocast('cuda', args...)` instead.\n",
      "  with amp.autocast(autocast):\n",
      "C:\\Users\\Oz/.cache\\torch\\hub\\ultralytics_yolov5_master\\models\\common.py:892: FutureWarning: `torch.cuda.amp.autocast(args...)` is deprecated. Please use `torch.amp.autocast('cuda', args...)` instead.\n",
      "  with amp.autocast(autocast):\n"
     ]
    },
    {
     "name": "stdout",
     "output_type": "stream",
     "text": [
      "Closest object distance: 8.3 meters\n",
      "Calculated velocity: 12.0 m/s\n",
      "Closest object distance: 8.8 meters\n",
      "Calculated velocity: 12.4 m/s\n",
      "Closest object distance: 8.5 meters\n",
      "Calculated velocity: 12.1 m/s\n",
      "Closest object distance: 8.3 meters\n",
      "Calculated velocity: 11.9 m/s\n",
      "Closest object distance: 8.2 meters\n",
      "Calculated velocity: 11.9 m/s\n",
      "Closest object distance: 8.5 meters\n",
      "Calculated velocity: 12.1 m/s\n",
      "Closest object distance: 7.9 meters\n",
      "Calculated velocity: 11.6 m/s\n",
      "Closest object distance: 8.5 meters\n",
      "Calculated velocity: 12.1 m/s\n",
      "Closest object distance: 7.9 meters\n",
      "Calculated velocity: 11.6 m/s\n",
      "Closest object distance: 7.9 meters\n",
      "Calculated velocity: 11.6 m/s\n",
      "Closest object distance: 8.0 meters\n",
      "Calculated velocity: 11.7 m/s\n",
      "Closest object distance: 8.3 meters\n",
      "Calculated velocity: 12.0 m/s\n",
      "Closest object distance: 8.0 meters\n",
      "Calculated velocity: 11.7 m/s\n",
      "Closest object distance: 8.6 meters\n",
      "Calculated velocity: 12.2 m/s\n"
     ]
    },
    {
     "name": "stderr",
     "output_type": "stream",
     "text": [
      "C:\\Users\\Oz/.cache\\torch\\hub\\ultralytics_yolov5_master\\models\\common.py:892: FutureWarning: `torch.cuda.amp.autocast(args...)` is deprecated. Please use `torch.amp.autocast('cuda', args...)` instead.\n",
      "  with amp.autocast(autocast):\n"
     ]
    },
    {
     "name": "stdout",
     "output_type": "stream",
     "text": [
      "Closest object distance: 8.2 meters\n",
      "Calculated velocity: 11.9 m/s\n",
      "Closest object distance: 8.1 meters\n",
      "Calculated velocity: 11.7 m/s\n",
      "Closest object distance: 8.6 meters\n",
      "Calculated velocity: 12.2 m/s\n",
      "Closest object distance: 8.1 meters\n",
      "Calculated velocity: 11.7 m/s\n",
      "Closest object distance: 8.0 meters\n",
      "Calculated velocity: 11.7 m/s\n",
      "Closest object distance: 8.5 meters\n",
      "Calculated velocity: 12.1 m/s\n",
      "Closest object distance: 8.1 meters\n",
      "Calculated velocity: 11.7 m/s\n",
      "Closest object distance: 8.3 meters\n",
      "Calculated velocity: 11.9 m/s\n",
      "Closest object distance: 8.7 meters\n",
      "Calculated velocity: 12.3 m/s\n",
      "Closest object distance: 8.0 meters\n",
      "Calculated velocity: 11.6 m/s\n",
      "Closest object distance: 8.1 meters\n",
      "Calculated velocity: 11.7 m/s\n",
      "Closest object distance: 8.4 meters\n",
      "Calculated velocity: 12.0 m/s\n",
      "Closest object distance: 8.1 meters\n",
      "Calculated velocity: 11.8 m/s\n",
      "Closest object distance: 8.9 meters\n",
      "Calculated velocity: 12.4 m/s\n",
      "Closest object distance: 8.5 meters\n",
      "Calculated velocity: 12.1 m/s\n",
      "Closest object distance: 8.0 meters\n",
      "Calculated velocity: 11.6 m/s\n"
     ]
    },
    {
     "name": "stderr",
     "output_type": "stream",
     "text": [
      "C:\\Users\\Oz/.cache\\torch\\hub\\ultralytics_yolov5_master\\models\\common.py:892: FutureWarning: `torch.cuda.amp.autocast(args...)` is deprecated. Please use `torch.amp.autocast('cuda', args...)` instead.\n",
      "  with amp.autocast(autocast):\n",
      "C:\\Users\\Oz/.cache\\torch\\hub\\ultralytics_yolov5_master\\models\\common.py:892: FutureWarning: `torch.cuda.amp.autocast(args...)` is deprecated. Please use `torch.amp.autocast('cuda', args...)` instead.\n",
      "  with amp.autocast(autocast):\n"
     ]
    },
    {
     "name": "stdout",
     "output_type": "stream",
     "text": [
      "Closest object distance: 7.9 meters\n",
      "Calculated velocity: 11.6 m/s\n",
      "Closest object distance: 8.7 meters\n",
      "Calculated velocity: 12.3 m/s\n",
      "Closest object distance: 8.1 meters\n",
      "Calculated velocity: 11.7 m/s\n",
      "Closest object distance: 8.7 meters\n",
      "Calculated velocity: 12.3 m/s\n",
      "Closest object distance: 8.1 meters\n",
      "Calculated velocity: 11.8 m/s\n",
      "Closest object distance: 8.1 meters\n",
      "Calculated velocity: 11.7 m/s\n",
      "Closest object distance: 8.3 meters\n",
      "Calculated velocity: 11.9 m/s\n",
      "Closest object distance: 8.1 meters\n",
      "Calculated velocity: 11.8 m/s\n"
     ]
    },
    {
     "name": "stderr",
     "output_type": "stream",
     "text": [
      "C:\\Users\\Oz/.cache\\torch\\hub\\ultralytics_yolov5_master\\models\\common.py:892: FutureWarning: `torch.cuda.amp.autocast(args...)` is deprecated. Please use `torch.amp.autocast('cuda', args...)` instead.\n",
      "  with amp.autocast(autocast):\n"
     ]
    },
    {
     "name": "stdout",
     "output_type": "stream",
     "text": [
      "Closest object distance: 8.1 meters\n",
      "Calculated velocity: 11.8 m/s\n",
      "Closest object distance: 8.1 meters\n",
      "Calculated velocity: 11.7 m/s\n",
      "Closest object distance: 8.2 meters\n",
      "Calculated velocity: 11.9 m/s\n",
      "Closest object distance: 8.6 meters\n",
      "Calculated velocity: 12.2 m/s\n",
      "Closest object distance: 8.6 meters\n",
      "Calculated velocity: 12.2 m/s\n",
      "Closest object distance: 8.1 meters\n",
      "Calculated velocity: 11.8 m/s\n",
      "Closest object distance: 8.5 meters\n",
      "Calculated velocity: 12.2 m/s\n",
      "Closest object distance: 8.0 meters\n",
      "Calculated velocity: 11.6 m/s\n"
     ]
    },
    {
     "name": "stderr",
     "output_type": "stream",
     "text": [
      "C:\\Users\\Oz/.cache\\torch\\hub\\ultralytics_yolov5_master\\models\\common.py:892: FutureWarning: `torch.cuda.amp.autocast(args...)` is deprecated. Please use `torch.amp.autocast('cuda', args...)` instead.\n",
      "  with amp.autocast(autocast):\n"
     ]
    },
    {
     "name": "stdout",
     "output_type": "stream",
     "text": [
      "Closest object distance: 8.0 meters\n",
      "Calculated velocity: 11.6 m/s\n",
      "Closest object distance: 8.3 meters\n",
      "Calculated velocity: 12.0 m/s\n",
      "Closest object distance: 8.2 meters\n",
      "Calculated velocity: 11.9 m/s\n",
      "Closest object distance: 8.4 meters\n",
      "Calculated velocity: 12.0 m/s\n",
      "Closest object distance: 8.3 meters\n",
      "Calculated velocity: 12.0 m/s\n",
      "Closest object distance: 8.4 meters\n",
      "Calculated velocity: 12.1 m/s\n",
      "Closest object distance: 8.0 meters\n",
      "Calculated velocity: 11.6 m/s\n",
      "Closest object distance: 8.0 meters\n",
      "Calculated velocity: 11.7 m/s\n"
     ]
    },
    {
     "name": "stderr",
     "output_type": "stream",
     "text": [
      "C:\\Users\\Oz/.cache\\torch\\hub\\ultralytics_yolov5_master\\models\\common.py:892: FutureWarning: `torch.cuda.amp.autocast(args...)` is deprecated. Please use `torch.amp.autocast('cuda', args...)` instead.\n",
      "  with amp.autocast(autocast):\n"
     ]
    },
    {
     "name": "stdout",
     "output_type": "stream",
     "text": [
      "Closest object distance: 8.6 meters\n",
      "Calculated velocity: 12.2 m/s\n",
      "Closest object distance: 8.2 meters\n",
      "Calculated velocity: 11.9 m/s\n",
      "Closest object distance: 8.2 meters\n",
      "Calculated velocity: 11.9 m/s\n",
      "Closest object distance: 8.0 meters\n",
      "Calculated velocity: 11.6 m/s\n",
      "Closest object distance: 8.4 meters\n",
      "Calculated velocity: 12.1 m/s\n",
      "Closest object distance: 8.2 meters\n",
      "Calculated velocity: 11.8 m/s\n",
      "Closest object distance: 8.9 meters\n",
      "Calculated velocity: 12.5 m/s\n",
      "Closest object distance: 8.7 meters\n",
      "Calculated velocity: 12.3 m/s\n"
     ]
    },
    {
     "name": "stderr",
     "output_type": "stream",
     "text": [
      "C:\\Users\\Oz/.cache\\torch\\hub\\ultralytics_yolov5_master\\models\\common.py:892: FutureWarning: `torch.cuda.amp.autocast(args...)` is deprecated. Please use `torch.amp.autocast('cuda', args...)` instead.\n",
      "  with amp.autocast(autocast):\n"
     ]
    },
    {
     "name": "stdout",
     "output_type": "stream",
     "text": [
      "Closest object distance: 8.1 meters\n",
      "Calculated velocity: 11.7 m/s\n",
      "Closest object distance: 8.1 meters\n",
      "Calculated velocity: 11.8 m/s\n",
      "Closest object distance: 8.3 meters\n",
      "Calculated velocity: 12.0 m/s\n",
      "Closest object distance: 8.8 meters\n",
      "Calculated velocity: 12.3 m/s\n",
      "Closest object distance: 8.1 meters\n",
      "Calculated velocity: 11.8 m/s\n",
      "Closest object distance: 8.0 meters\n",
      "Calculated velocity: 11.7 m/s\n",
      "Closest object distance: 8.1 meters\n",
      "Calculated velocity: 11.7 m/s\n",
      "Closest object distance: 8.1 meters\n",
      "Calculated velocity: 11.8 m/s\n"
     ]
    },
    {
     "name": "stderr",
     "output_type": "stream",
     "text": [
      "C:\\Users\\Oz/.cache\\torch\\hub\\ultralytics_yolov5_master\\models\\common.py:892: FutureWarning: `torch.cuda.amp.autocast(args...)` is deprecated. Please use `torch.amp.autocast('cuda', args...)` instead.\n",
      "  with amp.autocast(autocast):\n"
     ]
    },
    {
     "name": "stdout",
     "output_type": "stream",
     "text": [
      "Closest object distance: 8.4 meters\n",
      "Calculated velocity: 12.0 m/s\n",
      "Closest object distance: 8.3 meters\n",
      "Calculated velocity: 11.9 m/s\n",
      "Closest object distance: 8.2 meters\n",
      "Calculated velocity: 11.9 m/s\n",
      "Closest object distance: 8.7 meters\n",
      "Calculated velocity: 12.3 m/s\n",
      "Closest object distance: 8.9 meters\n",
      "Calculated velocity: 12.4 m/s\n",
      "Closest object distance: 8.1 meters\n",
      "Calculated velocity: 11.7 m/s\n",
      "Closest object distance: 7.9 meters\n",
      "Calculated velocity: 11.6 m/s\n",
      "Closest object distance: 8.4 meters\n",
      "Calculated velocity: 12.0 m/s\n",
      "Closest object distance: 7.9 meters\n",
      "Calculated velocity: 11.6 m/s\n"
     ]
    },
    {
     "name": "stderr",
     "output_type": "stream",
     "text": [
      "C:\\Users\\Oz/.cache\\torch\\hub\\ultralytics_yolov5_master\\models\\common.py:892: FutureWarning: `torch.cuda.amp.autocast(args...)` is deprecated. Please use `torch.amp.autocast('cuda', args...)` instead.\n",
      "  with amp.autocast(autocast):\n"
     ]
    },
    {
     "name": "stdout",
     "output_type": "stream",
     "text": [
      "Closest object distance: 8.5 meters\n",
      "Calculated velocity: 12.1 m/s\n",
      "Closest object distance: 7.9 meters\n",
      "Calculated velocity: 11.6 m/s\n",
      "Closest object distance: 8.0 meters\n",
      "Calculated velocity: 11.7 m/s\n",
      "Closest object distance: 8.7 meters\n",
      "Calculated velocity: 12.2 m/s\n",
      "Closest object distance: 8.4 meters\n",
      "Calculated velocity: 12.0 m/s\n",
      "Closest object distance: 7.9 meters\n",
      "Calculated velocity: 11.6 m/s\n",
      "Closest object distance: 8.2 meters\n",
      "Calculated velocity: 11.8 m/s\n",
      "Closest object distance: 8.3 meters\n",
      "Calculated velocity: 11.9 m/s\n",
      "Closest object distance: 8.4 meters\n",
      "Calculated velocity: 12.1 m/s\n"
     ]
    },
    {
     "name": "stderr",
     "output_type": "stream",
     "text": [
      "C:\\Users\\Oz/.cache\\torch\\hub\\ultralytics_yolov5_master\\models\\common.py:892: FutureWarning: `torch.cuda.amp.autocast(args...)` is deprecated. Please use `torch.amp.autocast('cuda', args...)` instead.\n",
      "  with amp.autocast(autocast):\n"
     ]
    },
    {
     "name": "stdout",
     "output_type": "stream",
     "text": [
      "Closest object distance: 8.1 meters\n",
      "Calculated velocity: 11.7 m/s\n",
      "Closest object distance: 8.0 meters\n",
      "Calculated velocity: 11.6 m/s\n",
      "Closest object distance: 8.5 meters\n",
      "Calculated velocity: 12.1 m/s\n",
      "Closest object distance: 8.0 meters\n",
      "Calculated velocity: 11.7 m/s\n",
      "Closest object distance: 8.1 meters\n",
      "Calculated velocity: 11.8 m/s\n",
      "Closest object distance: 8.3 meters\n",
      "Calculated velocity: 11.9 m/s\n",
      "Closest object distance: 8.8 meters\n",
      "Calculated velocity: 12.3 m/s\n",
      "Closest object distance: 8.2 meters\n",
      "Calculated velocity: 11.8 m/s\n"
     ]
    },
    {
     "name": "stderr",
     "output_type": "stream",
     "text": [
      "C:\\Users\\Oz/.cache\\torch\\hub\\ultralytics_yolov5_master\\models\\common.py:892: FutureWarning: `torch.cuda.amp.autocast(args...)` is deprecated. Please use `torch.amp.autocast('cuda', args...)` instead.\n",
      "  with amp.autocast(autocast):\n"
     ]
    },
    {
     "name": "stdout",
     "output_type": "stream",
     "text": [
      "Closest object distance: 8.1 meters\n",
      "Calculated velocity: 11.7 m/s\n",
      "Closest object distance: 8.6 meters\n",
      "Calculated velocity: 12.2 m/s\n",
      "Closest object distance: 8.2 meters\n",
      "Calculated velocity: 11.9 m/s\n",
      "Closest object distance: 8.4 meters\n",
      "Calculated velocity: 12.0 m/s\n",
      "Closest object distance: 8.5 meters\n",
      "Calculated velocity: 12.1 m/s\n",
      "Closest object distance: 8.3 meters\n",
      "Calculated velocity: 12.0 m/s\n",
      "Closest object distance: 8.2 meters\n",
      "Calculated velocity: 11.8 m/s\n",
      "Closest object distance: 8.1 meters\n",
      "Calculated velocity: 11.8 m/s\n"
     ]
    },
    {
     "name": "stderr",
     "output_type": "stream",
     "text": [
      "C:\\Users\\Oz/.cache\\torch\\hub\\ultralytics_yolov5_master\\models\\common.py:892: FutureWarning: `torch.cuda.amp.autocast(args...)` is deprecated. Please use `torch.amp.autocast('cuda', args...)` instead.\n",
      "  with amp.autocast(autocast):\n",
      "C:\\Users\\Oz/.cache\\torch\\hub\\ultralytics_yolov5_master\\models\\common.py:892: FutureWarning: `torch.cuda.amp.autocast(args...)` is deprecated. Please use `torch.amp.autocast('cuda', args...)` instead.\n",
      "  with amp.autocast(autocast):\n"
     ]
    },
    {
     "name": "stdout",
     "output_type": "stream",
     "text": [
      "Closest object distance: 8.1 meters\n",
      "Calculated velocity: 11.8 m/s\n",
      "Closest object distance: 7.9 meters\n",
      "Calculated velocity: 11.6 m/s\n",
      "Closest object distance: 8.0 meters\n",
      "Calculated velocity: 11.7 m/s\n",
      "Closest object distance: 8.2 meters\n",
      "Calculated velocity: 11.8 m/s\n",
      "Closest object distance: 8.3 meters\n",
      "Calculated velocity: 11.9 m/s\n",
      "Closest object distance: 8.2 meters\n",
      "Calculated velocity: 11.8 m/s\n",
      "Closest object distance: 8.7 meters\n",
      "Calculated velocity: 12.3 m/s\n",
      "Closest object distance: 8.1 meters\n",
      "Calculated velocity: 11.7 m/s\n",
      "Closest object distance: 8.4 meters\n",
      "Calculated velocity: 12.1 m/s\n",
      "Closest object distance: 8.2 meters\n",
      "Calculated velocity: 11.8 m/s\n",
      "Closest object distance: 8.2 meters\n",
      "Calculated velocity: 11.9 m/s\n",
      "Closest object distance: 8.3 meters\n",
      "Calculated velocity: 12.0 m/s\n",
      "Closest object distance: 8.0 meters\n",
      "Calculated velocity: 11.7 m/s\n",
      "Closest object distance: 8.3 meters\n",
      "Calculated velocity: 12.0 m/s\n",
      "Closest object distance: 8.1 meters\n",
      "Calculated velocity: 11.7 m/s\n"
     ]
    },
    {
     "name": "stderr",
     "output_type": "stream",
     "text": [
      "C:\\Users\\Oz/.cache\\torch\\hub\\ultralytics_yolov5_master\\models\\common.py:892: FutureWarning: `torch.cuda.amp.autocast(args...)` is deprecated. Please use `torch.amp.autocast('cuda', args...)` instead.\n",
      "  with amp.autocast(autocast):\n"
     ]
    },
    {
     "name": "stdout",
     "output_type": "stream",
     "text": [
      "Closest object distance: 8.5 meters\n",
      "Calculated velocity: 12.1 m/s\n",
      "Closest object distance: 7.9 meters\n",
      "Calculated velocity: 11.6 m/s\n",
      "Closest object distance: 8.1 meters\n",
      "Calculated velocity: 11.8 m/s\n",
      "Closest object distance: 8.5 meters\n",
      "Calculated velocity: 12.1 m/s\n",
      "Closest object distance: 8.1 meters\n",
      "Calculated velocity: 11.7 m/s\n",
      "Closest object distance: 8.2 meters\n",
      "Calculated velocity: 11.8 m/s\n",
      "Closest object distance: 8.1 meters\n",
      "Calculated velocity: 11.7 m/s\n",
      "Closest object distance: 8.3 meters\n",
      "Calculated velocity: 11.9 m/s\n"
     ]
    },
    {
     "name": "stderr",
     "output_type": "stream",
     "text": [
      "C:\\Users\\Oz/.cache\\torch\\hub\\ultralytics_yolov5_master\\models\\common.py:892: FutureWarning: `torch.cuda.amp.autocast(args...)` is deprecated. Please use `torch.amp.autocast('cuda', args...)` instead.\n",
      "  with amp.autocast(autocast):\n"
     ]
    },
    {
     "name": "stdout",
     "output_type": "stream",
     "text": [
      "Closest object distance: 8.4 meters\n",
      "Calculated velocity: 12.0 m/s\n",
      "Closest object distance: 8.0 meters\n",
      "Calculated velocity: 11.7 m/s\n",
      "Closest object distance: 8.0 meters\n",
      "Calculated velocity: 11.7 m/s\n",
      "Closest object distance: 8.6 meters\n",
      "Calculated velocity: 12.2 m/s\n",
      "Closest object distance: 8.2 meters\n",
      "Calculated velocity: 11.9 m/s\n",
      "Closest object distance: 8.1 meters\n",
      "Calculated velocity: 11.8 m/s\n",
      "Closest object distance: 8.1 meters\n",
      "Calculated velocity: 11.8 m/s\n",
      "Closest object distance: 8.4 meters\n",
      "Calculated velocity: 12.0 m/s\n"
     ]
    },
    {
     "name": "stderr",
     "output_type": "stream",
     "text": [
      "C:\\Users\\Oz/.cache\\torch\\hub\\ultralytics_yolov5_master\\models\\common.py:892: FutureWarning: `torch.cuda.amp.autocast(args...)` is deprecated. Please use `torch.amp.autocast('cuda', args...)` instead.\n",
      "  with amp.autocast(autocast):\n"
     ]
    },
    {
     "name": "stdout",
     "output_type": "stream",
     "text": [
      "Closest object distance: 8.0 meters\n",
      "Calculated velocity: 11.6 m/s\n",
      "Closest object distance: 8.4 meters\n",
      "Calculated velocity: 12.1 m/s\n",
      "Closest object distance: 8.1 meters\n",
      "Calculated velocity: 11.8 m/s\n",
      "Closest object distance: 8.1 meters\n",
      "Calculated velocity: 11.8 m/s\n",
      "Closest object distance: 8.5 meters\n",
      "Calculated velocity: 12.1 m/s\n",
      "Closest object distance: 8.1 meters\n",
      "Calculated velocity: 11.7 m/s\n",
      "Closest object distance: 8.2 meters\n",
      "Calculated velocity: 11.8 m/s\n",
      "Closest object distance: 8.0 meters\n",
      "Calculated velocity: 11.7 m/s\n"
     ]
    },
    {
     "name": "stderr",
     "output_type": "stream",
     "text": [
      "C:\\Users\\Oz/.cache\\torch\\hub\\ultralytics_yolov5_master\\models\\common.py:892: FutureWarning: `torch.cuda.amp.autocast(args...)` is deprecated. Please use `torch.amp.autocast('cuda', args...)` instead.\n",
      "  with amp.autocast(autocast):\n",
      "C:\\Users\\Oz/.cache\\torch\\hub\\ultralytics_yolov5_master\\models\\common.py:892: FutureWarning: `torch.cuda.amp.autocast(args...)` is deprecated. Please use `torch.amp.autocast('cuda', args...)` instead.\n",
      "  with amp.autocast(autocast):\n"
     ]
    },
    {
     "name": "stdout",
     "output_type": "stream",
     "text": [
      "Closest object distance: 8.3 meters\n",
      "Calculated velocity: 12.0 m/s\n",
      "Closest object distance: 8.3 meters\n",
      "Calculated velocity: 12.0 m/s\n",
      "Closest object distance: 8.3 meters\n",
      "Calculated velocity: 11.9 m/s\n",
      "Closest object distance: 8.2 meters\n",
      "Calculated velocity: 11.8 m/s\n",
      "Closest object distance: 7.9 meters\n",
      "Calculated velocity: 11.6 m/s\n",
      "Closest object distance: 8.0 meters\n",
      "Calculated velocity: 11.7 m/s\n",
      "Closest object distance: 8.7 meters\n",
      "Calculated velocity: 12.3 m/s\n",
      "Closest object distance: 8.8 meters\n",
      "Calculated velocity: 12.3 m/s\n"
     ]
    },
    {
     "name": "stderr",
     "output_type": "stream",
     "text": [
      "C:\\Users\\Oz/.cache\\torch\\hub\\ultralytics_yolov5_master\\models\\common.py:892: FutureWarning: `torch.cuda.amp.autocast(args...)` is deprecated. Please use `torch.amp.autocast('cuda', args...)` instead.\n",
      "  with amp.autocast(autocast):\n"
     ]
    },
    {
     "name": "stdout",
     "output_type": "stream",
     "text": [
      "Closest object distance: 8.6 meters\n",
      "Calculated velocity: 12.2 m/s\n",
      "Closest object distance: 8.4 meters\n",
      "Calculated velocity: 12.0 m/s\n",
      "Closest object distance: 8.4 meters\n",
      "Calculated velocity: 12.1 m/s\n",
      "Closest object distance: 8.3 meters\n",
      "Calculated velocity: 12.0 m/s\n",
      "Closest object distance: 8.1 meters\n",
      "Calculated velocity: 11.8 m/s\n",
      "Closest object distance: 8.3 meters\n",
      "Calculated velocity: 11.9 m/s\n",
      "Closest object distance: 8.8 meters\n",
      "Calculated velocity: 12.4 m/s\n",
      "Closest object distance: 8.2 meters\n",
      "Calculated velocity: 11.8 m/s\n",
      "Closest object distance: 8.6 meters\n",
      "Calculated velocity: 12.2 m/s\n",
      "Closest object distance: 8.2 meters\n",
      "Calculated velocity: 11.8 m/s\n",
      "Closest object distance: 8.1 meters\n",
      "Calculated velocity: 11.8 m/s\n",
      "Closest object distance: 9.0 meters\n",
      "Calculated velocity: 12.5 m/s\n",
      "Closest object distance: 8.4 meters\n",
      "Calculated velocity: 12.0 m/s\n",
      "Closest object distance: 8.0 meters\n",
      "Calculated velocity: 11.7 m/s\n"
     ]
    },
    {
     "name": "stderr",
     "output_type": "stream",
     "text": [
      "C:\\Users\\Oz/.cache\\torch\\hub\\ultralytics_yolov5_master\\models\\common.py:892: FutureWarning: `torch.cuda.amp.autocast(args...)` is deprecated. Please use `torch.amp.autocast('cuda', args...)` instead.\n",
      "  with amp.autocast(autocast):\n"
     ]
    },
    {
     "name": "stdout",
     "output_type": "stream",
     "text": [
      "Closest object distance: 8.3 meters\n",
      "Calculated velocity: 12.0 m/s\n",
      "Closest object distance: 8.0 meters\n",
      "Calculated velocity: 11.6 m/s\n",
      "Closest object distance: 8.7 meters\n",
      "Calculated velocity: 12.3 m/s\n",
      "Closest object distance: 8.1 meters\n",
      "Calculated velocity: 11.8 m/s\n",
      "Closest object distance: 8.4 meters\n",
      "Calculated velocity: 12.0 m/s\n",
      "Closest object distance: 8.3 meters\n",
      "Calculated velocity: 11.9 m/s\n",
      "Closest object distance: 8.0 meters\n",
      "Calculated velocity: 11.6 m/s\n",
      "Closest object distance: 8.0 meters\n",
      "Calculated velocity: 11.7 m/s\n",
      "Closest object distance: 8.1 meters\n",
      "Calculated velocity: 11.8 m/s\n"
     ]
    },
    {
     "name": "stderr",
     "output_type": "stream",
     "text": [
      "C:\\Users\\Oz/.cache\\torch\\hub\\ultralytics_yolov5_master\\models\\common.py:892: FutureWarning: `torch.cuda.amp.autocast(args...)` is deprecated. Please use `torch.amp.autocast('cuda', args...)` instead.\n",
      "  with amp.autocast(autocast):\n"
     ]
    },
    {
     "name": "stdout",
     "output_type": "stream",
     "text": [
      "Closest object distance: 9.2 meters\n",
      "Calculated velocity: 12.6 m/s\n",
      "Closest object distance: 8.0 meters\n",
      "Calculated velocity: 11.7 m/s\n",
      "Closest object distance: 8.1 meters\n",
      "Calculated velocity: 11.7 m/s\n",
      "Closest object distance: 8.2 meters\n",
      "Calculated velocity: 11.8 m/s\n",
      "Closest object distance: 8.3 meters\n",
      "Calculated velocity: 12.0 m/s\n",
      "Closest object distance: 8.3 meters\n",
      "Calculated velocity: 11.9 m/s\n",
      "Closest object distance: 8.6 meters\n",
      "Calculated velocity: 12.2 m/s\n",
      "Closest object distance: 8.2 meters\n",
      "Calculated velocity: 11.8 m/s\n"
     ]
    },
    {
     "name": "stderr",
     "output_type": "stream",
     "text": [
      "C:\\Users\\Oz/.cache\\torch\\hub\\ultralytics_yolov5_master\\models\\common.py:892: FutureWarning: `torch.cuda.amp.autocast(args...)` is deprecated. Please use `torch.amp.autocast('cuda', args...)` instead.\n",
      "  with amp.autocast(autocast):\n"
     ]
    },
    {
     "name": "stdout",
     "output_type": "stream",
     "text": [
      "Closest object distance: 8.4 meters\n",
      "Calculated velocity: 12.0 m/s\n",
      "Closest object distance: 8.6 meters\n",
      "Calculated velocity: 12.2 m/s\n",
      "Closest object distance: 8.8 meters\n",
      "Calculated velocity: 12.3 m/s\n",
      "Closest object distance: 8.0 meters\n",
      "Calculated velocity: 11.7 m/s\n",
      "Closest object distance: 8.1 meters\n",
      "Calculated velocity: 11.7 m/s\n",
      "Closest object distance: 8.3 meters\n",
      "Calculated velocity: 11.9 m/s\n",
      "Closest object distance: 8.0 meters\n",
      "Calculated velocity: 11.7 m/s\n",
      "Closest object distance: 8.4 meters\n",
      "Calculated velocity: 12.0 m/s\n"
     ]
    },
    {
     "name": "stderr",
     "output_type": "stream",
     "text": [
      "C:\\Users\\Oz/.cache\\torch\\hub\\ultralytics_yolov5_master\\models\\common.py:892: FutureWarning: `torch.cuda.amp.autocast(args...)` is deprecated. Please use `torch.amp.autocast('cuda', args...)` instead.\n",
      "  with amp.autocast(autocast):\n"
     ]
    },
    {
     "name": "stdout",
     "output_type": "stream",
     "text": [
      "Closest object distance: 8.8 meters\n",
      "Calculated velocity: 12.4 m/s\n",
      "Closest object distance: 8.0 meters\n",
      "Calculated velocity: 11.7 m/s\n",
      "Closest object distance: 8.0 meters\n",
      "Calculated velocity: 11.7 m/s\n",
      "Closest object distance: 7.9 meters\n",
      "Calculated velocity: 11.6 m/s\n",
      "Closest object distance: 8.1 meters\n",
      "Calculated velocity: 11.7 m/s\n",
      "Closest object distance: 8.0 meters\n",
      "Calculated velocity: 11.6 m/s\n",
      "Closest object distance: 8.0 meters\n",
      "Calculated velocity: 11.7 m/s\n"
     ]
    },
    {
     "name": "stderr",
     "output_type": "stream",
     "text": [
      "C:\\Users\\Oz/.cache\\torch\\hub\\ultralytics_yolov5_master\\models\\common.py:892: FutureWarning: `torch.cuda.amp.autocast(args...)` is deprecated. Please use `torch.amp.autocast('cuda', args...)` instead.\n",
      "  with amp.autocast(autocast):\n"
     ]
    },
    {
     "name": "stdout",
     "output_type": "stream",
     "text": [
      "Closest object distance: 8.2 meters\n",
      "Calculated velocity: 11.9 m/s\n",
      "Closest object distance: 8.3 meters\n",
      "Calculated velocity: 12.0 m/s\n",
      "Closest object distance: 8.4 meters\n",
      "Calculated velocity: 12.0 m/s\n",
      "Closest object distance: 8.0 meters\n",
      "Calculated velocity: 11.7 m/s\n",
      "Closest object distance: 8.3 meters\n",
      "Calculated velocity: 12.0 m/s\n",
      "Closest object distance: 8.1 meters\n",
      "Calculated velocity: 11.8 m/s\n",
      "Closest object distance: 8.1 meters\n",
      "Calculated velocity: 11.7 m/s\n",
      "Closest object distance: 8.1 meters\n",
      "Calculated velocity: 11.8 m/s\n",
      "Closest object distance: 8.1 meters\n",
      "Calculated velocity: 11.8 m/s\n"
     ]
    },
    {
     "name": "stderr",
     "output_type": "stream",
     "text": [
      "C:\\Users\\Oz/.cache\\torch\\hub\\ultralytics_yolov5_master\\models\\common.py:892: FutureWarning: `torch.cuda.amp.autocast(args...)` is deprecated. Please use `torch.amp.autocast('cuda', args...)` instead.\n",
      "  with amp.autocast(autocast):\n",
      "C:\\Users\\Oz/.cache\\torch\\hub\\ultralytics_yolov5_master\\models\\common.py:892: FutureWarning: `torch.cuda.amp.autocast(args...)` is deprecated. Please use `torch.amp.autocast('cuda', args...)` instead.\n",
      "  with amp.autocast(autocast):\n"
     ]
    },
    {
     "name": "stdout",
     "output_type": "stream",
     "text": [
      "Closest object distance: 8.5 meters\n",
      "Calculated velocity: 12.1 m/s\n",
      "Closest object distance: 8.6 meters\n",
      "Calculated velocity: 12.2 m/s\n",
      "Closest object distance: 8.5 meters\n",
      "Calculated velocity: 12.1 m/s\n",
      "Closest object distance: 8.1 meters\n",
      "Calculated velocity: 11.8 m/s\n",
      "Closest object distance: 8.3 meters\n",
      "Calculated velocity: 11.9 m/s\n",
      "Closest object distance: 8.0 meters\n",
      "Calculated velocity: 11.6 m/s\n",
      "Closest object distance: 8.1 meters\n",
      "Calculated velocity: 11.8 m/s\n"
     ]
    },
    {
     "name": "stderr",
     "output_type": "stream",
     "text": [
      "C:\\Users\\Oz/.cache\\torch\\hub\\ultralytics_yolov5_master\\models\\common.py:892: FutureWarning: `torch.cuda.amp.autocast(args...)` is deprecated. Please use `torch.amp.autocast('cuda', args...)` instead.\n",
      "  with amp.autocast(autocast):\n"
     ]
    },
    {
     "name": "stdout",
     "output_type": "stream",
     "text": [
      "Closest object distance: 8.4 meters\n",
      "Calculated velocity: 12.0 m/s\n",
      "Closest object distance: 9.0 meters\n",
      "Calculated velocity: 12.5 m/s\n",
      "Closest object distance: 8.1 meters\n",
      "Calculated velocity: 11.7 m/s\n",
      "Closest object distance: 8.1 meters\n",
      "Calculated velocity: 11.7 m/s\n",
      "Closest object distance: 8.2 meters\n",
      "Calculated velocity: 11.8 m/s\n",
      "Closest object distance: 8.1 meters\n",
      "Calculated velocity: 11.8 m/s\n",
      "Closest object distance: 8.3 meters\n",
      "Calculated velocity: 12.0 m/s\n",
      "Closest object distance: 8.3 meters\n",
      "Calculated velocity: 11.9 m/s\n"
     ]
    },
    {
     "name": "stderr",
     "output_type": "stream",
     "text": [
      "C:\\Users\\Oz/.cache\\torch\\hub\\ultralytics_yolov5_master\\models\\common.py:892: FutureWarning: `torch.cuda.amp.autocast(args...)` is deprecated. Please use `torch.amp.autocast('cuda', args...)` instead.\n",
      "  with amp.autocast(autocast):\n"
     ]
    },
    {
     "name": "stdout",
     "output_type": "stream",
     "text": [
      "Closest object distance: 8.2 meters\n",
      "Calculated velocity: 11.9 m/s\n",
      "Closest object distance: 7.9 meters\n",
      "Calculated velocity: 11.6 m/s\n",
      "Closest object distance: 8.0 meters\n",
      "Calculated velocity: 11.6 m/s\n",
      "Closest object distance: 8.1 meters\n",
      "Calculated velocity: 11.8 m/s\n",
      "Closest object distance: 8.1 meters\n",
      "Calculated velocity: 11.7 m/s\n",
      "Closest object distance: 8.2 meters\n",
      "Calculated velocity: 11.8 m/s\n",
      "Closest object distance: 8.0 meters\n",
      "Calculated velocity: 11.7 m/s\n",
      "Closest object distance: 8.3 meters\n",
      "Calculated velocity: 12.0 m/s\n"
     ]
    },
    {
     "name": "stderr",
     "output_type": "stream",
     "text": [
      "C:\\Users\\Oz/.cache\\torch\\hub\\ultralytics_yolov5_master\\models\\common.py:892: FutureWarning: `torch.cuda.amp.autocast(args...)` is deprecated. Please use `torch.amp.autocast('cuda', args...)` instead.\n",
      "  with amp.autocast(autocast):\n"
     ]
    },
    {
     "name": "stdout",
     "output_type": "stream",
     "text": [
      "Closest object distance: 8.0 meters\n",
      "Calculated velocity: 11.6 m/s\n",
      "Closest object distance: 8.3 meters\n",
      "Calculated velocity: 12.0 m/s\n",
      "Closest object distance: 8.3 meters\n",
      "Calculated velocity: 11.9 m/s\n",
      "Closest object distance: 8.4 meters\n",
      "Calculated velocity: 12.0 m/s\n",
      "Closest object distance: 8.3 meters\n",
      "Calculated velocity: 11.9 m/s\n",
      "Closest object distance: 8.2 meters\n",
      "Calculated velocity: 11.8 m/s\n",
      "Closest object distance: 8.4 meters\n",
      "Calculated velocity: 12.0 m/s\n",
      "Closest object distance: 8.5 meters\n",
      "Calculated velocity: 12.1 m/s\n"
     ]
    },
    {
     "name": "stderr",
     "output_type": "stream",
     "text": [
      "C:\\Users\\Oz/.cache\\torch\\hub\\ultralytics_yolov5_master\\models\\common.py:892: FutureWarning: `torch.cuda.amp.autocast(args...)` is deprecated. Please use `torch.amp.autocast('cuda', args...)` instead.\n",
      "  with amp.autocast(autocast):\n"
     ]
    },
    {
     "name": "stdout",
     "output_type": "stream",
     "text": [
      "Closest object distance: 8.1 meters\n",
      "Calculated velocity: 11.7 m/s\n",
      "Closest object distance: 8.9 meters\n",
      "Calculated velocity: 12.4 m/s\n",
      "Closest object distance: 8.8 meters\n",
      "Calculated velocity: 12.4 m/s\n",
      "Closest object distance: 7.9 meters\n",
      "Calculated velocity: 11.6 m/s\n",
      "Closest object distance: 9.1 meters\n",
      "Calculated velocity: 12.6 m/s\n",
      "Closest object distance: 8.0 meters\n",
      "Calculated velocity: 11.7 m/s\n",
      "Closest object distance: 8.0 meters\n",
      "Calculated velocity: 11.7 m/s\n",
      "Closest object distance: 8.3 meters\n",
      "Calculated velocity: 11.9 m/s\n"
     ]
    },
    {
     "name": "stderr",
     "output_type": "stream",
     "text": [
      "C:\\Users\\Oz/.cache\\torch\\hub\\ultralytics_yolov5_master\\models\\common.py:892: FutureWarning: `torch.cuda.amp.autocast(args...)` is deprecated. Please use `torch.amp.autocast('cuda', args...)` instead.\n",
      "  with amp.autocast(autocast):\n"
     ]
    },
    {
     "name": "stdout",
     "output_type": "stream",
     "text": [
      "Closest object distance: 8.9 meters\n",
      "Calculated velocity: 12.4 m/s\n",
      "Closest object distance: 8.4 meters\n",
      "Calculated velocity: 12.1 m/s\n",
      "Closest object distance: 8.0 meters\n",
      "Calculated velocity: 11.7 m/s\n",
      "Closest object distance: 8.2 meters\n",
      "Calculated velocity: 11.8 m/s\n",
      "Closest object distance: 8.4 meters\n",
      "Calculated velocity: 12.0 m/s\n",
      "Closest object distance: 8.1 meters\n",
      "Calculated velocity: 11.7 m/s\n",
      "Closest object distance: 8.6 meters\n",
      "Calculated velocity: 12.2 m/s\n",
      "Closest object distance: 8.0 meters\n",
      "Calculated velocity: 11.7 m/s\n"
     ]
    },
    {
     "name": "stderr",
     "output_type": "stream",
     "text": [
      "C:\\Users\\Oz/.cache\\torch\\hub\\ultralytics_yolov5_master\\models\\common.py:892: FutureWarning: `torch.cuda.amp.autocast(args...)` is deprecated. Please use `torch.amp.autocast('cuda', args...)` instead.\n",
      "  with amp.autocast(autocast):\n"
     ]
    },
    {
     "name": "stdout",
     "output_type": "stream",
     "text": [
      "Closest object distance: 9.0 meters\n",
      "Calculated velocity: 12.5 m/s\n",
      "Closest object distance: 8.1 meters\n",
      "Calculated velocity: 11.7 m/s\n",
      "Closest object distance: 8.4 meters\n",
      "Calculated velocity: 12.1 m/s\n",
      "Closest object distance: 8.3 meters\n",
      "Calculated velocity: 11.9 m/s\n",
      "Closest object distance: 7.9 meters\n",
      "Calculated velocity: 11.6 m/s\n",
      "Closest object distance: 8.1 meters\n",
      "Calculated velocity: 11.8 m/s\n",
      "Closest object distance: 8.4 meters\n",
      "Calculated velocity: 12.0 m/s\n",
      "Closest object distance: 8.9 meters\n",
      "Calculated velocity: 12.4 m/s\n"
     ]
    },
    {
     "name": "stderr",
     "output_type": "stream",
     "text": [
      "C:\\Users\\Oz/.cache\\torch\\hub\\ultralytics_yolov5_master\\models\\common.py:892: FutureWarning: `torch.cuda.amp.autocast(args...)` is deprecated. Please use `torch.amp.autocast('cuda', args...)` instead.\n",
      "  with amp.autocast(autocast):\n"
     ]
    },
    {
     "name": "stdout",
     "output_type": "stream",
     "text": [
      "Closest object distance: 8.6 meters\n",
      "Calculated velocity: 12.2 m/s\n",
      "Closest object distance: 8.2 meters\n",
      "Calculated velocity: 11.9 m/s\n",
      "Closest object distance: 8.1 meters\n",
      "Calculated velocity: 11.8 m/s\n",
      "Closest object distance: 8.6 meters\n",
      "Calculated velocity: 12.2 m/s\n",
      "Closest object distance: 8.0 meters\n",
      "Calculated velocity: 11.6 m/s\n",
      "Closest object distance: 8.2 meters\n",
      "Calculated velocity: 11.8 m/s\n",
      "Closest object distance: 8.0 meters\n",
      "Calculated velocity: 11.6 m/s\n",
      "Closest object distance: 7.9 meters\n",
      "Calculated velocity: 11.6 m/s\n"
     ]
    },
    {
     "name": "stderr",
     "output_type": "stream",
     "text": [
      "C:\\Users\\Oz/.cache\\torch\\hub\\ultralytics_yolov5_master\\models\\common.py:892: FutureWarning: `torch.cuda.amp.autocast(args...)` is deprecated. Please use `torch.amp.autocast('cuda', args...)` instead.\n",
      "  with amp.autocast(autocast):\n",
      "C:\\Users\\Oz/.cache\\torch\\hub\\ultralytics_yolov5_master\\models\\common.py:892: FutureWarning: `torch.cuda.amp.autocast(args...)` is deprecated. Please use `torch.amp.autocast('cuda', args...)` instead.\n",
      "  with amp.autocast(autocast):\n"
     ]
    },
    {
     "name": "stdout",
     "output_type": "stream",
     "text": [
      "Closest object distance: 8.1 meters\n",
      "Calculated velocity: 11.7 m/s\n",
      "Closest object distance: 7.9 meters\n",
      "Calculated velocity: 11.6 m/s\n",
      "Closest object distance: 8.0 meters\n",
      "Calculated velocity: 11.6 m/s\n",
      "Closest object distance: 8.5 meters\n",
      "Calculated velocity: 12.1 m/s\n",
      "Closest object distance: 8.3 meters\n",
      "Calculated velocity: 11.9 m/s\n",
      "Closest object distance: 8.3 meters\n",
      "Calculated velocity: 11.9 m/s\n",
      "Closest object distance: 8.2 meters\n",
      "Calculated velocity: 11.8 m/s\n",
      "Closest object distance: 7.9 meters\n",
      "Calculated velocity: 11.6 m/s\n",
      "Closest object distance: 8.1 meters\n",
      "Calculated velocity: 11.8 m/s\n",
      "Closest object distance: 8.0 meters\n",
      "Calculated velocity: 11.7 m/s\n",
      "Closest object distance: 8.0 meters\n",
      "Calculated velocity: 11.7 m/s\n",
      "Closest object distance: 8.0 meters\n",
      "Calculated velocity: 11.7 m/s\n",
      "Closest object distance: 8.1 meters\n",
      "Calculated velocity: 11.7 m/s\n",
      "Closest object distance: 8.4 meters\n",
      "Calculated velocity: 12.1 m/s\n",
      "Closest object distance: 8.2 meters\n",
      "Calculated velocity: 11.8 m/s\n"
     ]
    },
    {
     "name": "stderr",
     "output_type": "stream",
     "text": [
      "C:\\Users\\Oz/.cache\\torch\\hub\\ultralytics_yolov5_master\\models\\common.py:892: FutureWarning: `torch.cuda.amp.autocast(args...)` is deprecated. Please use `torch.amp.autocast('cuda', args...)` instead.\n",
      "  with amp.autocast(autocast):\n"
     ]
    },
    {
     "name": "stdout",
     "output_type": "stream",
     "text": [
      "Closest object distance: 8.0 meters\n",
      "Calculated velocity: 11.6 m/s\n",
      "Closest object distance: 8.1 meters\n",
      "Calculated velocity: 11.7 m/s\n",
      "Closest object distance: 7.9 meters\n",
      "Calculated velocity: 11.6 m/s\n",
      "Closest object distance: 8.3 meters\n",
      "Calculated velocity: 11.9 m/s\n",
      "Closest object distance: 7.9 meters\n",
      "Calculated velocity: 11.6 m/s\n",
      "Closest object distance: 8.7 meters\n",
      "Calculated velocity: 12.3 m/s\n",
      "Closest object distance: 8.1 meters\n",
      "Calculated velocity: 11.8 m/s\n",
      "Closest object distance: 8.2 meters\n",
      "Calculated velocity: 11.9 m/s\n",
      "Closest object distance: 8.1 meters\n",
      "Calculated velocity: 11.8 m/s\n",
      "Closest object distance: 8.7 meters\n",
      "Calculated velocity: 12.3 m/s\n",
      "Closest object distance: 8.2 meters\n",
      "Calculated velocity: 11.8 m/s\n",
      "Closest object distance: 8.1 meters\n",
      "Calculated velocity: 11.7 m/s\n",
      "Closest object distance: 8.2 meters\n",
      "Calculated velocity: 11.9 m/s\n",
      "Closest object distance: 8.1 meters\n",
      "Calculated velocity: 11.8 m/s\n",
      "Closest object distance: 8.3 meters\n",
      "Calculated velocity: 12.0 m/s\n",
      "Closest object distance: 8.1 meters\n",
      "Calculated velocity: 11.7 m/s\n"
     ]
    },
    {
     "name": "stderr",
     "output_type": "stream",
     "text": [
      "C:\\Users\\Oz/.cache\\torch\\hub\\ultralytics_yolov5_master\\models\\common.py:892: FutureWarning: `torch.cuda.amp.autocast(args...)` is deprecated. Please use `torch.amp.autocast('cuda', args...)` instead.\n",
      "  with amp.autocast(autocast):\n"
     ]
    },
    {
     "name": "stdout",
     "output_type": "stream",
     "text": [
      "Closest object distance: 7.9 meters\n",
      "Calculated velocity: 11.6 m/s\n",
      "Closest object distance: 8.0 meters\n",
      "Calculated velocity: 11.7 m/s\n",
      "Closest object distance: 8.2 meters\n",
      "Calculated velocity: 11.8 m/s\n",
      "Closest object distance: 8.2 meters\n",
      "Calculated velocity: 11.9 m/s\n",
      "Closest object distance: 8.7 meters\n",
      "Calculated velocity: 12.3 m/s\n",
      "Closest object distance: 8.1 meters\n",
      "Calculated velocity: 11.8 m/s\n",
      "Closest object distance: 8.2 meters\n",
      "Calculated velocity: 11.9 m/s\n",
      "Closest object distance: 8.5 meters\n",
      "Calculated velocity: 12.1 m/s\n"
     ]
    },
    {
     "name": "stderr",
     "output_type": "stream",
     "text": [
      "C:\\Users\\Oz/.cache\\torch\\hub\\ultralytics_yolov5_master\\models\\common.py:892: FutureWarning: `torch.cuda.amp.autocast(args...)` is deprecated. Please use `torch.amp.autocast('cuda', args...)` instead.\n",
      "  with amp.autocast(autocast):\n",
      "C:\\Users\\Oz/.cache\\torch\\hub\\ultralytics_yolov5_master\\models\\common.py:892: FutureWarning: `torch.cuda.amp.autocast(args...)` is deprecated. Please use `torch.amp.autocast('cuda', args...)` instead.\n",
      "  with amp.autocast(autocast):\n"
     ]
    },
    {
     "name": "stdout",
     "output_type": "stream",
     "text": [
      "Closest object distance: 8.0 meters\n",
      "Calculated velocity: 11.7 m/s\n",
      "Closest object distance: 8.5 meters\n",
      "Calculated velocity: 12.1 m/s\n",
      "Closest object distance: 8.3 meters\n",
      "Calculated velocity: 12.0 m/s\n",
      "Closest object distance: 8.6 meters\n",
      "Calculated velocity: 12.2 m/s\n",
      "Closest object distance: 8.6 meters\n",
      "Calculated velocity: 12.2 m/s\n",
      "Closest object distance: 8.0 meters\n",
      "Calculated velocity: 11.7 m/s\n",
      "Closest object distance: 7.9 meters\n",
      "Calculated velocity: 11.6 m/s\n",
      "Closest object distance: 8.2 meters\n",
      "Calculated velocity: 11.8 m/s\n"
     ]
    },
    {
     "name": "stderr",
     "output_type": "stream",
     "text": [
      "C:\\Users\\Oz/.cache\\torch\\hub\\ultralytics_yolov5_master\\models\\common.py:892: FutureWarning: `torch.cuda.amp.autocast(args...)` is deprecated. Please use `torch.amp.autocast('cuda', args...)` instead.\n",
      "  with amp.autocast(autocast):\n"
     ]
    },
    {
     "name": "stdout",
     "output_type": "stream",
     "text": [
      "Closest object distance: 8.3 meters\n",
      "Calculated velocity: 12.0 m/s\n",
      "Closest object distance: 8.0 meters\n",
      "Calculated velocity: 11.6 m/s\n",
      "Closest object distance: 9.0 meters\n",
      "Calculated velocity: 12.5 m/s\n",
      "Closest object distance: 7.9 meters\n",
      "Calculated velocity: 11.6 m/s\n",
      "Closest object distance: 8.4 meters\n",
      "Calculated velocity: 12.1 m/s\n",
      "Closest object distance: 8.1 meters\n",
      "Calculated velocity: 11.8 m/s\n",
      "Closest object distance: 8.1 meters\n",
      "Calculated velocity: 11.8 m/s\n",
      "Closest object distance: 8.1 meters\n",
      "Calculated velocity: 11.8 m/s\n"
     ]
    },
    {
     "name": "stderr",
     "output_type": "stream",
     "text": [
      "C:\\Users\\Oz/.cache\\torch\\hub\\ultralytics_yolov5_master\\models\\common.py:892: FutureWarning: `torch.cuda.amp.autocast(args...)` is deprecated. Please use `torch.amp.autocast('cuda', args...)` instead.\n",
      "  with amp.autocast(autocast):\n"
     ]
    },
    {
     "name": "stdout",
     "output_type": "stream",
     "text": [
      "Closest object distance: 8.5 meters\n",
      "Calculated velocity: 12.1 m/s\n",
      "Closest object distance: 8.1 meters\n",
      "Calculated velocity: 11.7 m/s\n",
      "Closest object distance: 8.1 meters\n",
      "Calculated velocity: 11.7 m/s\n",
      "Closest object distance: 8.5 meters\n",
      "Calculated velocity: 12.1 m/s\n",
      "Closest object distance: 8.0 meters\n",
      "Calculated velocity: 11.7 m/s\n",
      "Closest object distance: 8.7 meters\n",
      "Calculated velocity: 12.3 m/s\n",
      "Closest object distance: 8.0 meters\n",
      "Calculated velocity: 11.7 m/s\n"
     ]
    },
    {
     "name": "stderr",
     "output_type": "stream",
     "text": [
      "C:\\Users\\Oz/.cache\\torch\\hub\\ultralytics_yolov5_master\\models\\common.py:892: FutureWarning: `torch.cuda.amp.autocast(args...)` is deprecated. Please use `torch.amp.autocast('cuda', args...)` instead.\n",
      "  with amp.autocast(autocast):\n"
     ]
    },
    {
     "name": "stdout",
     "output_type": "stream",
     "text": [
      "Closest object distance: 8.1 meters\n",
      "Calculated velocity: 11.8 m/s\n",
      "Closest object distance: 8.2 meters\n",
      "Calculated velocity: 11.9 m/s\n",
      "Closest object distance: 8.1 meters\n",
      "Calculated velocity: 11.7 m/s\n",
      "Closest object distance: 8.0 meters\n",
      "Calculated velocity: 11.6 m/s\n",
      "Closest object distance: 8.4 meters\n",
      "Calculated velocity: 12.0 m/s\n",
      "Closest object distance: 8.3 meters\n",
      "Calculated velocity: 11.9 m/s\n",
      "Closest object distance: 8.0 meters\n",
      "Calculated velocity: 11.6 m/s\n",
      "Closest object distance: 8.3 meters\n",
      "Calculated velocity: 12.0 m/s\n"
     ]
    },
    {
     "name": "stderr",
     "output_type": "stream",
     "text": [
      "C:\\Users\\Oz/.cache\\torch\\hub\\ultralytics_yolov5_master\\models\\common.py:892: FutureWarning: `torch.cuda.amp.autocast(args...)` is deprecated. Please use `torch.amp.autocast('cuda', args...)` instead.\n",
      "  with amp.autocast(autocast):\n"
     ]
    },
    {
     "name": "stdout",
     "output_type": "stream",
     "text": [
      "Closest object distance: 8.3 meters\n",
      "Calculated velocity: 11.9 m/s\n",
      "Closest object distance: 8.2 meters\n",
      "Calculated velocity: 11.8 m/s\n",
      "Closest object distance: 8.4 meters\n",
      "Calculated velocity: 12.1 m/s\n",
      "Closest object distance: 9.0 meters\n",
      "Calculated velocity: 12.5 m/s\n",
      "Closest object distance: 8.3 meters\n",
      "Calculated velocity: 12.0 m/s\n",
      "Closest object distance: 8.1 meters\n",
      "Calculated velocity: 11.8 m/s\n",
      "Closest object distance: 8.1 meters\n",
      "Calculated velocity: 11.7 m/s\n",
      "Closest object distance: 8.5 meters\n",
      "Calculated velocity: 12.1 m/s\n"
     ]
    },
    {
     "name": "stderr",
     "output_type": "stream",
     "text": [
      "C:\\Users\\Oz/.cache\\torch\\hub\\ultralytics_yolov5_master\\models\\common.py:892: FutureWarning: `torch.cuda.amp.autocast(args...)` is deprecated. Please use `torch.amp.autocast('cuda', args...)` instead.\n",
      "  with amp.autocast(autocast):\n",
      "C:\\Users\\Oz/.cache\\torch\\hub\\ultralytics_yolov5_master\\models\\common.py:892: FutureWarning: `torch.cuda.amp.autocast(args...)` is deprecated. Please use `torch.amp.autocast('cuda', args...)` instead.\n",
      "  with amp.autocast(autocast):\n"
     ]
    },
    {
     "name": "stdout",
     "output_type": "stream",
     "text": [
      "Closest object distance: 8.0 meters\n",
      "Calculated velocity: 11.7 m/s\n",
      "Closest object distance: 8.3 meters\n",
      "Calculated velocity: 11.9 m/s\n",
      "Closest object distance: 8.1 meters\n",
      "Calculated velocity: 11.8 m/s\n",
      "Closest object distance: 8.6 meters\n",
      "Calculated velocity: 12.2 m/s\n",
      "Closest object distance: 8.5 meters\n",
      "Calculated velocity: 12.1 m/s\n",
      "Closest object distance: 8.2 meters\n",
      "Calculated velocity: 11.8 m/s\n",
      "Closest object distance: 8.3 meters\n",
      "Calculated velocity: 12.0 m/s\n",
      "Closest object distance: 8.4 meters\n",
      "Calculated velocity: 12.1 m/s\n",
      "Closest object distance: 8.3 meters\n",
      "Calculated velocity: 12.0 m/s\n",
      "Closest object distance: 8.5 meters\n",
      "Calculated velocity: 12.1 m/s\n",
      "Closest object distance: 8.0 meters\n",
      "Calculated velocity: 11.7 m/s\n",
      "Closest object distance: 8.3 meters\n",
      "Calculated velocity: 11.9 m/s\n",
      "Closest object distance: 8.1 meters\n",
      "Calculated velocity: 11.8 m/s\n",
      "Closest object distance: 8.1 meters\n",
      "Calculated velocity: 11.7 m/s\n",
      "Closest object distance: 8.0 meters\n",
      "Calculated velocity: 11.7 m/s\n",
      "Closest object distance: 8.2 meters\n",
      "Calculated velocity: 11.9 m/s\n"
     ]
    },
    {
     "name": "stderr",
     "output_type": "stream",
     "text": [
      "C:\\Users\\Oz/.cache\\torch\\hub\\ultralytics_yolov5_master\\models\\common.py:892: FutureWarning: `torch.cuda.amp.autocast(args...)` is deprecated. Please use `torch.amp.autocast('cuda', args...)` instead.\n",
      "  with amp.autocast(autocast):\n"
     ]
    },
    {
     "name": "stdout",
     "output_type": "stream",
     "text": [
      "Closest object distance: 8.5 meters\n",
      "Calculated velocity: 12.1 m/s\n",
      "Closest object distance: 8.3 meters\n",
      "Calculated velocity: 12.0 m/s\n",
      "Closest object distance: 8.4 meters\n",
      "Calculated velocity: 12.0 m/s\n",
      "Closest object distance: 8.0 meters\n",
      "Calculated velocity: 11.7 m/s\n",
      "Closest object distance: 8.2 meters\n",
      "Calculated velocity: 11.9 m/s\n",
      "Closest object distance: 8.8 meters\n",
      "Calculated velocity: 12.4 m/s\n",
      "Closest object distance: 8.8 meters\n",
      "Calculated velocity: 12.3 m/s\n",
      "Closest object distance: 8.5 meters\n",
      "Calculated velocity: 12.1 m/s\n"
     ]
    },
    {
     "name": "stderr",
     "output_type": "stream",
     "text": [
      "C:\\Users\\Oz/.cache\\torch\\hub\\ultralytics_yolov5_master\\models\\common.py:892: FutureWarning: `torch.cuda.amp.autocast(args...)` is deprecated. Please use `torch.amp.autocast('cuda', args...)` instead.\n",
      "  with amp.autocast(autocast):\n"
     ]
    },
    {
     "name": "stdout",
     "output_type": "stream",
     "text": [
      "Closest object distance: 8.3 meters\n",
      "Calculated velocity: 11.9 m/s\n",
      "Closest object distance: 8.4 meters\n",
      "Calculated velocity: 12.1 m/s\n",
      "Closest object distance: 8.1 meters\n",
      "Calculated velocity: 11.8 m/s\n",
      "Closest object distance: 8.1 meters\n",
      "Calculated velocity: 11.8 m/s\n",
      "Closest object distance: 8.8 meters\n",
      "Calculated velocity: 12.4 m/s\n",
      "Closest object distance: 8.3 meters\n",
      "Calculated velocity: 11.9 m/s\n",
      "Closest object distance: 8.5 meters\n",
      "Calculated velocity: 12.1 m/s\n",
      "Closest object distance: 8.5 meters\n",
      "Calculated velocity: 12.2 m/s\n"
     ]
    },
    {
     "name": "stderr",
     "output_type": "stream",
     "text": [
      "C:\\Users\\Oz/.cache\\torch\\hub\\ultralytics_yolov5_master\\models\\common.py:892: FutureWarning: `torch.cuda.amp.autocast(args...)` is deprecated. Please use `torch.amp.autocast('cuda', args...)` instead.\n",
      "  with amp.autocast(autocast):\n"
     ]
    },
    {
     "name": "stdout",
     "output_type": "stream",
     "text": [
      "Closest object distance: 8.4 meters\n",
      "Calculated velocity: 12.0 m/s\n",
      "Closest object distance: 8.0 meters\n",
      "Calculated velocity: 11.6 m/s\n",
      "Closest object distance: 8.2 meters\n",
      "Calculated velocity: 11.9 m/s\n",
      "Closest object distance: 8.0 meters\n",
      "Calculated velocity: 11.7 m/s\n",
      "Closest object distance: 8.5 meters\n",
      "Calculated velocity: 12.1 m/s\n",
      "Closest object distance: 9.2 meters\n",
      "Calculated velocity: 12.6 m/s\n",
      "Closest object distance: 7.9 meters\n",
      "Calculated velocity: 11.6 m/s\n",
      "Closest object distance: 8.3 meters\n",
      "Calculated velocity: 11.9 m/s\n",
      "Closest object distance: 8.4 meters\n",
      "Calculated velocity: 12.0 m/s\n"
     ]
    },
    {
     "name": "stderr",
     "output_type": "stream",
     "text": [
      "C:\\Users\\Oz/.cache\\torch\\hub\\ultralytics_yolov5_master\\models\\common.py:892: FutureWarning: `torch.cuda.amp.autocast(args...)` is deprecated. Please use `torch.amp.autocast('cuda', args...)` instead.\n",
      "  with amp.autocast(autocast):\n"
     ]
    },
    {
     "name": "stdout",
     "output_type": "stream",
     "text": [
      "Closest object distance: 8.5 meters\n",
      "Calculated velocity: 12.1 m/s\n",
      "Closest object distance: 8.9 meters\n",
      "Calculated velocity: 12.4 m/s\n",
      "Closest object distance: 9.1 meters\n",
      "Calculated velocity: 12.6 m/s\n",
      "Closest object distance: 8.3 meters\n",
      "Calculated velocity: 11.9 m/s\n",
      "Closest object distance: 8.0 meters\n",
      "Calculated velocity: 11.7 m/s\n",
      "Closest object distance: 8.3 meters\n",
      "Calculated velocity: 12.0 m/s\n",
      "Closest object distance: 8.6 meters\n",
      "Calculated velocity: 12.2 m/s\n",
      "Closest object distance: 8.4 meters\n",
      "Calculated velocity: 12.0 m/s\n"
     ]
    },
    {
     "name": "stderr",
     "output_type": "stream",
     "text": [
      "C:\\Users\\Oz/.cache\\torch\\hub\\ultralytics_yolov5_master\\models\\common.py:892: FutureWarning: `torch.cuda.amp.autocast(args...)` is deprecated. Please use `torch.amp.autocast('cuda', args...)` instead.\n",
      "  with amp.autocast(autocast):\n",
      "C:\\Users\\Oz/.cache\\torch\\hub\\ultralytics_yolov5_master\\models\\common.py:892: FutureWarning: `torch.cuda.amp.autocast(args...)` is deprecated. Please use `torch.amp.autocast('cuda', args...)` instead.\n",
      "  with amp.autocast(autocast):\n"
     ]
    },
    {
     "name": "stdout",
     "output_type": "stream",
     "text": [
      "Closest object distance: 8.5 meters\n",
      "Calculated velocity: 12.1 m/s\n",
      "Closest object distance: 8.3 meters\n",
      "Calculated velocity: 11.9 m/s\n",
      "Closest object distance: 8.1 meters\n",
      "Calculated velocity: 11.8 m/s\n",
      "Closest object distance: 8.0 meters\n",
      "Calculated velocity: 11.7 m/s\n",
      "Closest object distance: 8.2 meters\n",
      "Calculated velocity: 11.8 m/s\n",
      "Closest object distance: 9.2 meters\n",
      "Calculated velocity: 12.6 m/s\n",
      "Closest object distance: 8.0 meters\n",
      "Calculated velocity: 11.6 m/s\n",
      "Closest object distance: 8.2 meters\n",
      "Calculated velocity: 11.8 m/s\n",
      "Closest object distance: 8.4 meters\n",
      "Calculated velocity: 12.1 m/s\n",
      "Closest object distance: 8.0 meters\n",
      "Calculated velocity: 11.6 m/s\n",
      "Closest object distance: 8.0 meters\n",
      "Calculated velocity: 11.7 m/s\n",
      "Closest object distance: 8.4 meters\n",
      "Calculated velocity: 12.0 m/s\n",
      "Closest object distance: 8.1 meters\n",
      "Calculated velocity: 11.8 m/s\n",
      "Closest object distance: 8.0 meters\n",
      "Calculated velocity: 11.6 m/s\n",
      "Closest object distance: 8.2 meters\n",
      "Calculated velocity: 11.9 m/s\n",
      "Closest object distance: 8.7 meters\n",
      "Calculated velocity: 12.3 m/s\n"
     ]
    },
    {
     "name": "stderr",
     "output_type": "stream",
     "text": [
      "C:\\Users\\Oz/.cache\\torch\\hub\\ultralytics_yolov5_master\\models\\common.py:892: FutureWarning: `torch.cuda.amp.autocast(args...)` is deprecated. Please use `torch.amp.autocast('cuda', args...)` instead.\n",
      "  with amp.autocast(autocast):\n"
     ]
    },
    {
     "name": "stdout",
     "output_type": "stream",
     "text": [
      "Closest object distance: 8.1 meters\n",
      "Calculated velocity: 11.7 m/s\n",
      "Closest object distance: 8.1 meters\n",
      "Calculated velocity: 11.7 m/s\n",
      "Closest object distance: 7.9 meters\n",
      "Calculated velocity: 11.6 m/s\n",
      "Closest object distance: 9.3 meters\n",
      "Calculated velocity: 12.7 m/s\n",
      "Closest object distance: 8.5 meters\n",
      "Calculated velocity: 12.1 m/s\n",
      "Closest object distance: 8.2 meters\n",
      "Calculated velocity: 11.9 m/s\n",
      "Closest object distance: 8.3 meters\n",
      "Calculated velocity: 11.9 m/s\n",
      "Closest object distance: 8.1 meters\n",
      "Calculated velocity: 11.7 m/s\n"
     ]
    },
    {
     "name": "stderr",
     "output_type": "stream",
     "text": [
      "C:\\Users\\Oz/.cache\\torch\\hub\\ultralytics_yolov5_master\\models\\common.py:892: FutureWarning: `torch.cuda.amp.autocast(args...)` is deprecated. Please use `torch.amp.autocast('cuda', args...)` instead.\n",
      "  with amp.autocast(autocast):\n"
     ]
    },
    {
     "name": "stdout",
     "output_type": "stream",
     "text": [
      "Closest object distance: 8.2 meters\n",
      "Calculated velocity: 11.9 m/s\n",
      "Closest object distance: 8.3 meters\n",
      "Calculated velocity: 11.9 m/s\n",
      "Closest object distance: 8.3 meters\n",
      "Calculated velocity: 12.0 m/s\n",
      "Closest object distance: 7.9 meters\n",
      "Calculated velocity: 11.6 m/s\n",
      "Closest object distance: 8.5 meters\n",
      "Calculated velocity: 12.1 m/s\n",
      "Closest object distance: 7.9 meters\n",
      "Calculated velocity: 11.6 m/s\n",
      "Closest object distance: 8.1 meters\n",
      "Calculated velocity: 11.7 m/s\n",
      "Closest object distance: 8.5 meters\n",
      "Calculated velocity: 12.1 m/s\n"
     ]
    },
    {
     "name": "stderr",
     "output_type": "stream",
     "text": [
      "C:\\Users\\Oz/.cache\\torch\\hub\\ultralytics_yolov5_master\\models\\common.py:892: FutureWarning: `torch.cuda.amp.autocast(args...)` is deprecated. Please use `torch.amp.autocast('cuda', args...)` instead.\n",
      "  with amp.autocast(autocast):\n"
     ]
    },
    {
     "name": "stdout",
     "output_type": "stream",
     "text": [
      "Closest object distance: 8.0 meters\n",
      "Calculated velocity: 11.7 m/s\n",
      "Closest object distance: 8.3 meters\n",
      "Calculated velocity: 11.9 m/s\n",
      "Closest object distance: 8.5 meters\n",
      "Calculated velocity: 12.1 m/s\n",
      "Closest object distance: 8.2 meters\n",
      "Calculated velocity: 11.9 m/s\n",
      "Closest object distance: 8.0 meters\n",
      "Calculated velocity: 11.7 m/s\n",
      "Closest object distance: 8.0 meters\n",
      "Calculated velocity: 11.7 m/s\n",
      "Closest object distance: 8.4 meters\n",
      "Calculated velocity: 12.1 m/s\n",
      "Closest object distance: 8.3 meters\n",
      "Calculated velocity: 11.9 m/s\n"
     ]
    },
    {
     "name": "stderr",
     "output_type": "stream",
     "text": [
      "C:\\Users\\Oz/.cache\\torch\\hub\\ultralytics_yolov5_master\\models\\common.py:892: FutureWarning: `torch.cuda.amp.autocast(args...)` is deprecated. Please use `torch.amp.autocast('cuda', args...)` instead.\n",
      "  with amp.autocast(autocast):\n"
     ]
    },
    {
     "name": "stdout",
     "output_type": "stream",
     "text": [
      "Closest object distance: 8.0 meters\n",
      "Calculated velocity: 11.7 m/s\n",
      "Closest object distance: 8.1 meters\n",
      "Calculated velocity: 11.8 m/s\n",
      "Closest object distance: 8.4 meters\n",
      "Calculated velocity: 12.0 m/s\n",
      "Closest object distance: 8.0 meters\n",
      "Calculated velocity: 11.7 m/s\n",
      "Closest object distance: 9.3 meters\n",
      "Calculated velocity: 12.7 m/s\n",
      "Closest object distance: 8.0 meters\n",
      "Calculated velocity: 11.7 m/s\n",
      "Closest object distance: 8.8 meters\n",
      "Calculated velocity: 12.4 m/s\n",
      "Closest object distance: 8.2 meters\n",
      "Calculated velocity: 11.8 m/s\n"
     ]
    },
    {
     "name": "stderr",
     "output_type": "stream",
     "text": [
      "C:\\Users\\Oz/.cache\\torch\\hub\\ultralytics_yolov5_master\\models\\common.py:892: FutureWarning: `torch.cuda.amp.autocast(args...)` is deprecated. Please use `torch.amp.autocast('cuda', args...)` instead.\n",
      "  with amp.autocast(autocast):\n"
     ]
    },
    {
     "name": "stdout",
     "output_type": "stream",
     "text": [
      "Closest object distance: 8.2 meters\n",
      "Calculated velocity: 11.8 m/s\n",
      "Closest object distance: 8.3 meters\n",
      "Calculated velocity: 12.0 m/s\n",
      "Closest object distance: 8.3 meters\n",
      "Calculated velocity: 11.9 m/s\n",
      "Closest object distance: 8.6 meters\n",
      "Calculated velocity: 12.2 m/s\n",
      "Closest object distance: 8.2 meters\n",
      "Calculated velocity: 11.9 m/s\n",
      "Closest object distance: 8.3 meters\n",
      "Calculated velocity: 12.0 m/s\n",
      "Closest object distance: 8.0 meters\n",
      "Calculated velocity: 11.7 m/s\n",
      "Closest object distance: 8.1 meters\n",
      "Calculated velocity: 11.7 m/s\n"
     ]
    },
    {
     "name": "stderr",
     "output_type": "stream",
     "text": [
      "C:\\Users\\Oz/.cache\\torch\\hub\\ultralytics_yolov5_master\\models\\common.py:892: FutureWarning: `torch.cuda.amp.autocast(args...)` is deprecated. Please use `torch.amp.autocast('cuda', args...)` instead.\n",
      "  with amp.autocast(autocast):\n"
     ]
    },
    {
     "name": "stdout",
     "output_type": "stream",
     "text": [
      "Closest object distance: 8.1 meters\n",
      "Calculated velocity: 11.8 m/s\n",
      "Closest object distance: 8.1 meters\n",
      "Calculated velocity: 11.8 m/s\n",
      "Closest object distance: 8.1 meters\n",
      "Calculated velocity: 11.7 m/s\n",
      "Closest object distance: 8.0 meters\n",
      "Calculated velocity: 11.7 m/s\n",
      "Closest object distance: 8.3 meters\n",
      "Calculated velocity: 11.9 m/s\n",
      "Closest object distance: 8.3 meters\n",
      "Calculated velocity: 11.9 m/s\n",
      "Closest object distance: 8.3 meters\n",
      "Calculated velocity: 11.9 m/s\n",
      "Closest object distance: 7.9 meters\n",
      "Calculated velocity: 11.6 m/s\n"
     ]
    },
    {
     "name": "stderr",
     "output_type": "stream",
     "text": [
      "C:\\Users\\Oz/.cache\\torch\\hub\\ultralytics_yolov5_master\\models\\common.py:892: FutureWarning: `torch.cuda.amp.autocast(args...)` is deprecated. Please use `torch.amp.autocast('cuda', args...)` instead.\n",
      "  with amp.autocast(autocast):\n"
     ]
    },
    {
     "name": "stdout",
     "output_type": "stream",
     "text": [
      "Closest object distance: 8.3 meters\n",
      "Calculated velocity: 12.0 m/s\n",
      "Closest object distance: 8.0 meters\n",
      "Calculated velocity: 11.6 m/s\n",
      "Closest object distance: 8.1 meters\n",
      "Calculated velocity: 11.8 m/s\n",
      "Closest object distance: 8.0 meters\n",
      "Calculated velocity: 11.6 m/s\n",
      "Closest object distance: 8.5 meters\n",
      "Calculated velocity: 12.1 m/s\n",
      "Closest object distance: 8.2 meters\n",
      "Calculated velocity: 11.9 m/s\n",
      "Closest object distance: 8.4 meters\n",
      "Calculated velocity: 12.0 m/s\n",
      "Closest object distance: 8.4 meters\n",
      "Calculated velocity: 12.1 m/s\n"
     ]
    },
    {
     "name": "stderr",
     "output_type": "stream",
     "text": [
      "C:\\Users\\Oz/.cache\\torch\\hub\\ultralytics_yolov5_master\\models\\common.py:892: FutureWarning: `torch.cuda.amp.autocast(args...)` is deprecated. Please use `torch.amp.autocast('cuda', args...)` instead.\n",
      "  with amp.autocast(autocast):\n"
     ]
    },
    {
     "name": "stdout",
     "output_type": "stream",
     "text": [
      "Closest object distance: 8.2 meters\n",
      "Calculated velocity: 11.8 m/s\n",
      "Closest object distance: 8.5 meters\n",
      "Calculated velocity: 12.1 m/s\n",
      "Closest object distance: 8.3 meters\n",
      "Calculated velocity: 12.0 m/s\n",
      "Closest object distance: 8.0 meters\n",
      "Calculated velocity: 11.7 m/s\n",
      "Closest object distance: 8.1 meters\n",
      "Calculated velocity: 11.8 m/s\n",
      "Closest object distance: 8.2 meters\n",
      "Calculated velocity: 11.9 m/s\n",
      "Closest object distance: 8.5 meters\n",
      "Calculated velocity: 12.1 m/s\n",
      "Closest object distance: 8.6 meters\n",
      "Calculated velocity: 12.2 m/s\n"
     ]
    },
    {
     "name": "stderr",
     "output_type": "stream",
     "text": [
      "C:\\Users\\Oz/.cache\\torch\\hub\\ultralytics_yolov5_master\\models\\common.py:892: FutureWarning: `torch.cuda.amp.autocast(args...)` is deprecated. Please use `torch.amp.autocast('cuda', args...)` instead.\n",
      "  with amp.autocast(autocast):\n"
     ]
    },
    {
     "name": "stdout",
     "output_type": "stream",
     "text": [
      "Closest object distance: 8.2 meters\n",
      "Calculated velocity: 11.8 m/s\n",
      "Closest object distance: 8.0 meters\n",
      "Calculated velocity: 11.7 m/s\n",
      "Closest object distance: 8.3 meters\n",
      "Calculated velocity: 12.0 m/s\n",
      "Closest object distance: 8.1 meters\n",
      "Calculated velocity: 11.8 m/s\n",
      "Closest object distance: 7.9 meters\n",
      "Calculated velocity: 11.6 m/s\n",
      "Closest object distance: 7.9 meters\n",
      "Calculated velocity: 11.6 m/s\n",
      "Closest object distance: 8.3 meters\n",
      "Calculated velocity: 11.9 m/s\n",
      "Closest object distance: 7.9 meters\n",
      "Calculated velocity: 11.6 m/s\n"
     ]
    },
    {
     "name": "stderr",
     "output_type": "stream",
     "text": [
      "C:\\Users\\Oz/.cache\\torch\\hub\\ultralytics_yolov5_master\\models\\common.py:892: FutureWarning: `torch.cuda.amp.autocast(args...)` is deprecated. Please use `torch.amp.autocast('cuda', args...)` instead.\n",
      "  with amp.autocast(autocast):\n",
      "C:\\Users\\Oz/.cache\\torch\\hub\\ultralytics_yolov5_master\\models\\common.py:892: FutureWarning: `torch.cuda.amp.autocast(args...)` is deprecated. Please use `torch.amp.autocast('cuda', args...)` instead.\n",
      "  with amp.autocast(autocast):\n"
     ]
    },
    {
     "name": "stdout",
     "output_type": "stream",
     "text": [
      "Closest object distance: 8.5 meters\n",
      "Calculated velocity: 12.1 m/s\n",
      "Closest object distance: 8.2 meters\n",
      "Calculated velocity: 11.9 m/s\n",
      "Closest object distance: 7.9 meters\n",
      "Calculated velocity: 11.6 m/s\n",
      "Closest object distance: 8.2 meters\n",
      "Calculated velocity: 11.9 m/s\n",
      "Closest object distance: 8.2 meters\n",
      "Calculated velocity: 11.9 m/s\n",
      "Closest object distance: 8.4 meters\n",
      "Calculated velocity: 12.0 m/s\n",
      "Closest object distance: 7.9 meters\n",
      "Calculated velocity: 11.6 m/s\n",
      "Closest object distance: 8.0 meters\n",
      "Calculated velocity: 11.7 m/s\n",
      "Closest object distance: 8.1 meters\n",
      "Calculated velocity: 11.8 m/s\n",
      "Closest object distance: 8.0 meters\n",
      "Calculated velocity: 11.6 m/s\n",
      "Closest object distance: 8.2 meters\n",
      "Calculated velocity: 11.8 m/s\n",
      "Closest object distance: 8.5 meters\n",
      "Calculated velocity: 12.1 m/s\n",
      "Closest object distance: 8.1 meters\n",
      "Calculated velocity: 11.7 m/s\n",
      "Closest object distance: 8.4 meters\n",
      "Calculated velocity: 12.0 m/s\n",
      "Closest object distance: 8.3 meters\n",
      "Calculated velocity: 12.0 m/s\n",
      "Closest object distance: 8.4 meters\n",
      "Calculated velocity: 12.1 m/s\n"
     ]
    },
    {
     "name": "stderr",
     "output_type": "stream",
     "text": [
      "C:\\Users\\Oz/.cache\\torch\\hub\\ultralytics_yolov5_master\\models\\common.py:892: FutureWarning: `torch.cuda.amp.autocast(args...)` is deprecated. Please use `torch.amp.autocast('cuda', args...)` instead.\n",
      "  with amp.autocast(autocast):\n"
     ]
    },
    {
     "name": "stdout",
     "output_type": "stream",
     "text": [
      "Closest object distance: 8.2 meters\n",
      "Calculated velocity: 11.8 m/s\n",
      "Closest object distance: 8.2 meters\n",
      "Calculated velocity: 11.8 m/s\n",
      "Closest object distance: 8.3 meters\n",
      "Calculated velocity: 12.0 m/s\n",
      "Closest object distance: 8.1 meters\n",
      "Calculated velocity: 11.7 m/s\n",
      "Closest object distance: 9.2 meters\n",
      "Calculated velocity: 12.7 m/s\n",
      "Closest object distance: 8.5 meters\n",
      "Calculated velocity: 12.1 m/s\n",
      "Closest object distance: 8.4 meters\n",
      "Calculated velocity: 12.0 m/s\n",
      "Closest object distance: 8.1 meters\n",
      "Calculated velocity: 11.7 m/s\n"
     ]
    },
    {
     "name": "stderr",
     "output_type": "stream",
     "text": [
      "C:\\Users\\Oz/.cache\\torch\\hub\\ultralytics_yolov5_master\\models\\common.py:892: FutureWarning: `torch.cuda.amp.autocast(args...)` is deprecated. Please use `torch.amp.autocast('cuda', args...)` instead.\n",
      "  with amp.autocast(autocast):\n"
     ]
    },
    {
     "name": "stdout",
     "output_type": "stream",
     "text": [
      "Closest object distance: 8.1 meters\n",
      "Calculated velocity: 11.7 m/s\n",
      "Closest object distance: 8.1 meters\n",
      "Calculated velocity: 11.7 m/s\n",
      "Closest object distance: 8.3 meters\n",
      "Calculated velocity: 11.9 m/s\n",
      "Closest object distance: 8.1 meters\n",
      "Calculated velocity: 11.8 m/s\n",
      "Closest object distance: 8.2 meters\n",
      "Calculated velocity: 11.9 m/s\n",
      "Closest object distance: 8.3 meters\n",
      "Calculated velocity: 12.0 m/s\n",
      "Closest object distance: 7.9 meters\n",
      "Calculated velocity: 11.6 m/s\n",
      "Closest object distance: 8.3 meters\n",
      "Calculated velocity: 11.9 m/s\n"
     ]
    },
    {
     "name": "stderr",
     "output_type": "stream",
     "text": [
      "C:\\Users\\Oz/.cache\\torch\\hub\\ultralytics_yolov5_master\\models\\common.py:892: FutureWarning: `torch.cuda.amp.autocast(args...)` is deprecated. Please use `torch.amp.autocast('cuda', args...)` instead.\n",
      "  with amp.autocast(autocast):\n"
     ]
    },
    {
     "name": "stdout",
     "output_type": "stream",
     "text": [
      "Closest object distance: 8.1 meters\n",
      "Calculated velocity: 11.7 m/s\n",
      "Closest object distance: 8.3 meters\n",
      "Calculated velocity: 12.0 m/s\n",
      "Closest object distance: 9.3 meters\n",
      "Calculated velocity: 12.8 m/s\n",
      "Closest object distance: 7.9 meters\n",
      "Calculated velocity: 11.6 m/s\n",
      "Closest object distance: 8.3 meters\n",
      "Calculated velocity: 11.9 m/s\n",
      "Closest object distance: 8.0 meters\n",
      "Calculated velocity: 11.7 m/s\n",
      "Closest object distance: 8.0 meters\n",
      "Calculated velocity: 11.6 m/s\n",
      "Closest object distance: 8.0 meters\n",
      "Calculated velocity: 11.6 m/s\n"
     ]
    },
    {
     "name": "stderr",
     "output_type": "stream",
     "text": [
      "C:\\Users\\Oz/.cache\\torch\\hub\\ultralytics_yolov5_master\\models\\common.py:892: FutureWarning: `torch.cuda.amp.autocast(args...)` is deprecated. Please use `torch.amp.autocast('cuda', args...)` instead.\n",
      "  with amp.autocast(autocast):\n",
      "C:\\Users\\Oz/.cache\\torch\\hub\\ultralytics_yolov5_master\\models\\common.py:892: FutureWarning: `torch.cuda.amp.autocast(args...)` is deprecated. Please use `torch.amp.autocast('cuda', args...)` instead.\n",
      "  with amp.autocast(autocast):\n"
     ]
    },
    {
     "name": "stdout",
     "output_type": "stream",
     "text": [
      "Closest object distance: 8.4 meters\n",
      "Calculated velocity: 12.0 m/s\n",
      "Closest object distance: 8.0 meters\n",
      "Calculated velocity: 11.7 m/s\n",
      "Closest object distance: 9.0 meters\n",
      "Calculated velocity: 12.5 m/s\n",
      "Closest object distance: 8.2 meters\n",
      "Calculated velocity: 11.8 m/s\n",
      "Closest object distance: 8.5 meters\n",
      "Calculated velocity: 12.1 m/s\n",
      "Closest object distance: 8.0 meters\n",
      "Calculated velocity: 11.7 m/s\n",
      "Closest object distance: 8.2 meters\n",
      "Calculated velocity: 11.8 m/s\n",
      "Closest object distance: 8.0 meters\n",
      "Calculated velocity: 11.7 m/s\n",
      "Closest object distance: 8.1 meters\n",
      "Calculated velocity: 11.8 m/s\n",
      "Closest object distance: 8.7 meters\n",
      "Calculated velocity: 12.3 m/s\n",
      "Closest object distance: 8.1 meters\n",
      "Calculated velocity: 11.7 m/s\n",
      "Closest object distance: 8.1 meters\n",
      "Calculated velocity: 11.7 m/s\n",
      "Closest object distance: 8.1 meters\n",
      "Calculated velocity: 11.7 m/s\n",
      "Closest object distance: 8.1 meters\n",
      "Calculated velocity: 11.8 m/s\n",
      "Closest object distance: 8.0 meters\n",
      "Calculated velocity: 11.7 m/s\n",
      "Closest object distance: 8.0 meters\n",
      "Calculated velocity: 11.7 m/s\n",
      "Closest object distance: 8.6 meters\n",
      "Calculated velocity: 12.2 m/s\n"
     ]
    },
    {
     "name": "stderr",
     "output_type": "stream",
     "text": [
      "C:\\Users\\Oz/.cache\\torch\\hub\\ultralytics_yolov5_master\\models\\common.py:892: FutureWarning: `torch.cuda.amp.autocast(args...)` is deprecated. Please use `torch.amp.autocast('cuda', args...)` instead.\n",
      "  with amp.autocast(autocast):\n"
     ]
    },
    {
     "name": "stdout",
     "output_type": "stream",
     "text": [
      "Closest object distance: 8.1 meters\n",
      "Calculated velocity: 11.7 m/s\n",
      "Closest object distance: 8.4 meters\n",
      "Calculated velocity: 12.0 m/s\n",
      "Closest object distance: 7.9 meters\n",
      "Calculated velocity: 11.6 m/s\n",
      "Closest object distance: 8.1 meters\n",
      "Calculated velocity: 11.8 m/s\n",
      "Closest object distance: 8.4 meters\n",
      "Calculated velocity: 12.0 m/s\n",
      "Closest object distance: 8.4 meters\n",
      "Calculated velocity: 12.0 m/s\n",
      "Closest object distance: 8.0 meters\n",
      "Calculated velocity: 11.7 m/s\n",
      "Closest object distance: 8.3 meters\n",
      "Calculated velocity: 11.9 m/s\n"
     ]
    },
    {
     "name": "stderr",
     "output_type": "stream",
     "text": [
      "C:\\Users\\Oz/.cache\\torch\\hub\\ultralytics_yolov5_master\\models\\common.py:892: FutureWarning: `torch.cuda.amp.autocast(args...)` is deprecated. Please use `torch.amp.autocast('cuda', args...)` instead.\n",
      "  with amp.autocast(autocast):\n"
     ]
    },
    {
     "name": "stdout",
     "output_type": "stream",
     "text": [
      "Closest object distance: 8.5 meters\n",
      "Calculated velocity: 12.1 m/s\n",
      "Closest object distance: 9.0 meters\n",
      "Calculated velocity: 12.5 m/s\n",
      "Closest object distance: 8.1 meters\n",
      "Calculated velocity: 11.8 m/s\n",
      "Closest object distance: 8.2 meters\n",
      "Calculated velocity: 11.8 m/s\n",
      "Closest object distance: 8.1 meters\n",
      "Calculated velocity: 11.7 m/s\n",
      "Closest object distance: 8.6 meters\n",
      "Calculated velocity: 12.2 m/s\n",
      "Closest object distance: 8.4 meters\n",
      "Calculated velocity: 12.0 m/s\n",
      "Closest object distance: 8.5 meters\n",
      "Calculated velocity: 12.1 m/s\n"
     ]
    },
    {
     "name": "stderr",
     "output_type": "stream",
     "text": [
      "C:\\Users\\Oz/.cache\\torch\\hub\\ultralytics_yolov5_master\\models\\common.py:892: FutureWarning: `torch.cuda.amp.autocast(args...)` is deprecated. Please use `torch.amp.autocast('cuda', args...)` instead.\n",
      "  with amp.autocast(autocast):\n"
     ]
    },
    {
     "name": "stdout",
     "output_type": "stream",
     "text": [
      "Closest object distance: 8.3 meters\n",
      "Calculated velocity: 12.0 m/s\n",
      "Closest object distance: 8.2 meters\n",
      "Calculated velocity: 11.8 m/s\n",
      "Closest object distance: 8.0 meters\n",
      "Calculated velocity: 11.7 m/s\n",
      "Closest object distance: 8.1 meters\n",
      "Calculated velocity: 11.8 m/s\n",
      "Closest object distance: 8.0 meters\n",
      "Calculated velocity: 11.6 m/s\n",
      "Closest object distance: 8.2 meters\n",
      "Calculated velocity: 11.9 m/s\n",
      "Closest object distance: 8.0 meters\n",
      "Calculated velocity: 11.7 m/s\n",
      "Closest object distance: 8.0 meters\n",
      "Calculated velocity: 11.7 m/s\n"
     ]
    },
    {
     "name": "stderr",
     "output_type": "stream",
     "text": [
      "C:\\Users\\Oz/.cache\\torch\\hub\\ultralytics_yolov5_master\\models\\common.py:892: FutureWarning: `torch.cuda.amp.autocast(args...)` is deprecated. Please use `torch.amp.autocast('cuda', args...)` instead.\n",
      "  with amp.autocast(autocast):\n"
     ]
    },
    {
     "name": "stdout",
     "output_type": "stream",
     "text": [
      "Closest object distance: 8.2 meters\n",
      "Calculated velocity: 11.8 m/s\n",
      "Closest object distance: 9.0 meters\n",
      "Calculated velocity: 12.5 m/s\n",
      "Closest object distance: 8.6 meters\n",
      "Calculated velocity: 12.2 m/s\n",
      "Closest object distance: 8.0 meters\n",
      "Calculated velocity: 11.6 m/s\n",
      "Closest object distance: 7.9 meters\n",
      "Calculated velocity: 11.6 m/s\n",
      "Closest object distance: 8.0 meters\n",
      "Calculated velocity: 11.7 m/s\n",
      "Closest object distance: 8.4 meters\n",
      "Calculated velocity: 12.1 m/s\n",
      "Closest object distance: 8.1 meters\n",
      "Calculated velocity: 11.8 m/s\n",
      "Closest object distance: 8.1 meters\n",
      "Calculated velocity: 11.7 m/s\n"
     ]
    },
    {
     "name": "stderr",
     "output_type": "stream",
     "text": [
      "C:\\Users\\Oz/.cache\\torch\\hub\\ultralytics_yolov5_master\\models\\common.py:892: FutureWarning: `torch.cuda.amp.autocast(args...)` is deprecated. Please use `torch.amp.autocast('cuda', args...)` instead.\n",
      "  with amp.autocast(autocast):\n",
      "C:\\Users\\Oz/.cache\\torch\\hub\\ultralytics_yolov5_master\\models\\common.py:892: FutureWarning: `torch.cuda.amp.autocast(args...)` is deprecated. Please use `torch.amp.autocast('cuda', args...)` instead.\n",
      "  with amp.autocast(autocast):\n"
     ]
    },
    {
     "name": "stdout",
     "output_type": "stream",
     "text": [
      "Closest object distance: 8.3 meters\n",
      "Calculated velocity: 11.9 m/s\n",
      "Closest object distance: 8.4 meters\n",
      "Calculated velocity: 12.0 m/s\n",
      "Closest object distance: 8.1 meters\n",
      "Calculated velocity: 11.7 m/s\n",
      "Closest object distance: 8.2 meters\n",
      "Calculated velocity: 11.8 m/s\n",
      "Closest object distance: 8.4 meters\n",
      "Calculated velocity: 12.0 m/s\n",
      "Closest object distance: 8.2 meters\n",
      "Calculated velocity: 11.8 m/s\n",
      "Closest object distance: 9.2 meters\n",
      "Calculated velocity: 12.7 m/s\n",
      "Closest object distance: 8.6 meters\n",
      "Calculated velocity: 12.2 m/s\n",
      "Closest object distance: 8.4 meters\n",
      "Calculated velocity: 12.0 m/s\n",
      "Closest object distance: 8.0 meters\n",
      "Calculated velocity: 11.6 m/s\n",
      "Closest object distance: 8.2 meters\n",
      "Calculated velocity: 11.8 m/s\n",
      "Closest object distance: 8.4 meters\n",
      "Calculated velocity: 12.1 m/s\n",
      "Closest object distance: 8.1 meters\n",
      "Calculated velocity: 11.8 m/s\n",
      "Closest object distance: 8.1 meters\n",
      "Calculated velocity: 11.8 m/s\n",
      "Closest object distance: 8.3 meters\n",
      "Calculated velocity: 11.9 m/s\n",
      "Closest object distance: 8.6 meters\n",
      "Calculated velocity: 12.2 m/s\n",
      "Closest object distance: 8.1 meters\n",
      "Calculated velocity: 11.8 m/s\n"
     ]
    },
    {
     "name": "stderr",
     "output_type": "stream",
     "text": [
      "C:\\Users\\Oz/.cache\\torch\\hub\\ultralytics_yolov5_master\\models\\common.py:892: FutureWarning: `torch.cuda.amp.autocast(args...)` is deprecated. Please use `torch.amp.autocast('cuda', args...)` instead.\n",
      "  with amp.autocast(autocast):\n",
      "C:\\Users\\Oz/.cache\\torch\\hub\\ultralytics_yolov5_master\\models\\common.py:892: FutureWarning: `torch.cuda.amp.autocast(args...)` is deprecated. Please use `torch.amp.autocast('cuda', args...)` instead.\n",
      "  with amp.autocast(autocast):\n"
     ]
    },
    {
     "name": "stdout",
     "output_type": "stream",
     "text": [
      "Closest object distance: 8.0 meters\n",
      "Calculated velocity: 11.7 m/s\n",
      "Closest object distance: 8.1 meters\n",
      "Calculated velocity: 11.7 m/s\n",
      "Closest object distance: 8.4 meters\n",
      "Calculated velocity: 12.1 m/s\n",
      "Closest object distance: 8.1 meters\n",
      "Calculated velocity: 11.8 m/s\n",
      "Closest object distance: 8.1 meters\n",
      "Calculated velocity: 11.7 m/s\n",
      "Closest object distance: 8.0 meters\n",
      "Calculated velocity: 11.6 m/s\n",
      "Closest object distance: 8.1 meters\n",
      "Calculated velocity: 11.7 m/s\n",
      "Closest object distance: 8.3 meters\n",
      "Calculated velocity: 11.9 m/s\n",
      "Closest object distance: 8.1 meters\n",
      "Calculated velocity: 11.7 m/s\n",
      "Closest object distance: 8.1 meters\n",
      "Calculated velocity: 11.7 m/s\n",
      "Closest object distance: 8.1 meters\n",
      "Calculated velocity: 11.8 m/s\n",
      "Closest object distance: 8.1 meters\n",
      "Calculated velocity: 11.7 m/s\n",
      "Closest object distance: 7.9 meters\n",
      "Calculated velocity: 11.6 m/s\n",
      "Closest object distance: 8.4 meters\n",
      "Calculated velocity: 12.0 m/s\n",
      "Closest object distance: 8.0 meters\n",
      "Calculated velocity: 11.7 m/s\n"
     ]
    },
    {
     "name": "stderr",
     "output_type": "stream",
     "text": [
      "C:\\Users\\Oz/.cache\\torch\\hub\\ultralytics_yolov5_master\\models\\common.py:892: FutureWarning: `torch.cuda.amp.autocast(args...)` is deprecated. Please use `torch.amp.autocast('cuda', args...)` instead.\n",
      "  with amp.autocast(autocast):\n",
      "C:\\Users\\Oz/.cache\\torch\\hub\\ultralytics_yolov5_master\\models\\common.py:892: FutureWarning: `torch.cuda.amp.autocast(args...)` is deprecated. Please use `torch.amp.autocast('cuda', args...)` instead.\n",
      "  with amp.autocast(autocast):\n"
     ]
    },
    {
     "name": "stdout",
     "output_type": "stream",
     "text": [
      "Closest object distance: 8.3 meters\n",
      "Calculated velocity: 12.0 m/s\n",
      "Closest object distance: 8.2 meters\n",
      "Calculated velocity: 11.9 m/s\n",
      "Closest object distance: 8.3 meters\n",
      "Calculated velocity: 12.0 m/s\n",
      "Closest object distance: 8.1 meters\n",
      "Calculated velocity: 11.8 m/s\n",
      "Closest object distance: 8.9 meters\n",
      "Calculated velocity: 12.5 m/s\n",
      "Closest object distance: 8.3 meters\n",
      "Calculated velocity: 11.9 m/s\n",
      "Closest object distance: 8.2 meters\n",
      "Calculated velocity: 11.8 m/s\n",
      "Closest object distance: 8.7 meters\n",
      "Calculated velocity: 12.3 m/s\n",
      "Closest object distance: 8.9 meters\n",
      "Calculated velocity: 12.5 m/s\n"
     ]
    },
    {
     "name": "stderr",
     "output_type": "stream",
     "text": [
      "C:\\Users\\Oz/.cache\\torch\\hub\\ultralytics_yolov5_master\\models\\common.py:892: FutureWarning: `torch.cuda.amp.autocast(args...)` is deprecated. Please use `torch.amp.autocast('cuda', args...)` instead.\n",
      "  with amp.autocast(autocast):\n"
     ]
    },
    {
     "name": "stdout",
     "output_type": "stream",
     "text": [
      "Closest object distance: 8.1 meters\n",
      "Calculated velocity: 11.8 m/s\n",
      "Closest object distance: 8.3 meters\n",
      "Calculated velocity: 11.9 m/s\n",
      "Closest object distance: 8.1 meters\n",
      "Calculated velocity: 11.8 m/s\n",
      "Closest object distance: 7.9 meters\n",
      "Calculated velocity: 11.6 m/s\n",
      "Closest object distance: 8.3 meters\n",
      "Calculated velocity: 12.0 m/s\n",
      "Closest object distance: 8.5 meters\n",
      "Calculated velocity: 12.1 m/s\n",
      "Closest object distance: 8.2 meters\n",
      "Calculated velocity: 11.8 m/s\n",
      "Closest object distance: 7.9 meters\n",
      "Calculated velocity: 11.6 m/s\n",
      "Closest object distance: 8.4 meters\n",
      "Calculated velocity: 12.0 m/s\n"
     ]
    },
    {
     "name": "stderr",
     "output_type": "stream",
     "text": [
      "C:\\Users\\Oz/.cache\\torch\\hub\\ultralytics_yolov5_master\\models\\common.py:892: FutureWarning: `torch.cuda.amp.autocast(args...)` is deprecated. Please use `torch.amp.autocast('cuda', args...)` instead.\n",
      "  with amp.autocast(autocast):\n"
     ]
    },
    {
     "name": "stdout",
     "output_type": "stream",
     "text": [
      "Closest object distance: 8.5 meters\n",
      "Calculated velocity: 12.1 m/s\n",
      "Closest object distance: 8.8 meters\n",
      "Calculated velocity: 12.3 m/s\n",
      "Closest object distance: 8.8 meters\n",
      "Calculated velocity: 12.4 m/s\n",
      "Closest object distance: 8.0 meters\n",
      "Calculated velocity: 11.6 m/s\n",
      "Closest object distance: 8.4 meters\n",
      "Calculated velocity: 12.0 m/s\n",
      "Closest object distance: 8.2 meters\n",
      "Calculated velocity: 11.8 m/s\n",
      "Closest object distance: 8.6 meters\n",
      "Calculated velocity: 12.2 m/s\n",
      "Closest object distance: 8.1 meters\n",
      "Calculated velocity: 11.8 m/s\n"
     ]
    },
    {
     "name": "stderr",
     "output_type": "stream",
     "text": [
      "C:\\Users\\Oz/.cache\\torch\\hub\\ultralytics_yolov5_master\\models\\common.py:892: FutureWarning: `torch.cuda.amp.autocast(args...)` is deprecated. Please use `torch.amp.autocast('cuda', args...)` instead.\n",
      "  with amp.autocast(autocast):\n"
     ]
    },
    {
     "name": "stdout",
     "output_type": "stream",
     "text": [
      "Closest object distance: 8.1 meters\n",
      "Calculated velocity: 11.8 m/s\n",
      "Closest object distance: 8.2 meters\n",
      "Calculated velocity: 11.9 m/s\n",
      "Closest object distance: 8.2 meters\n",
      "Calculated velocity: 11.8 m/s\n",
      "Closest object distance: 8.1 meters\n",
      "Calculated velocity: 11.7 m/s\n",
      "Closest object distance: 8.6 meters\n",
      "Calculated velocity: 12.2 m/s\n",
      "Closest object distance: 8.0 meters\n",
      "Calculated velocity: 11.6 m/s\n",
      "Closest object distance: 8.2 meters\n",
      "Calculated velocity: 11.8 m/s\n",
      "Closest object distance: 8.9 meters\n",
      "Calculated velocity: 12.4 m/s\n",
      "Closest object distance: 8.2 meters\n",
      "Calculated velocity: 11.9 m/s\n"
     ]
    },
    {
     "name": "stderr",
     "output_type": "stream",
     "text": [
      "C:\\Users\\Oz/.cache\\torch\\hub\\ultralytics_yolov5_master\\models\\common.py:892: FutureWarning: `torch.cuda.amp.autocast(args...)` is deprecated. Please use `torch.amp.autocast('cuda', args...)` instead.\n",
      "  with amp.autocast(autocast):\n"
     ]
    },
    {
     "name": "stdout",
     "output_type": "stream",
     "text": [
      "Closest object distance: 8.6 meters\n",
      "Calculated velocity: 12.2 m/s\n",
      "Closest object distance: 8.9 meters\n",
      "Calculated velocity: 12.4 m/s\n",
      "Closest object distance: 8.9 meters\n",
      "Calculated velocity: 12.4 m/s\n",
      "Closest object distance: 8.1 meters\n",
      "Calculated velocity: 11.8 m/s\n",
      "Closest object distance: 8.1 meters\n",
      "Calculated velocity: 11.7 m/s\n",
      "Closest object distance: 8.7 meters\n",
      "Calculated velocity: 12.3 m/s\n",
      "Closest object distance: 8.1 meters\n",
      "Calculated velocity: 11.7 m/s\n",
      "Closest object distance: 8.2 meters\n",
      "Calculated velocity: 11.8 m/s\n"
     ]
    },
    {
     "name": "stderr",
     "output_type": "stream",
     "text": [
      "C:\\Users\\Oz/.cache\\torch\\hub\\ultralytics_yolov5_master\\models\\common.py:892: FutureWarning: `torch.cuda.amp.autocast(args...)` is deprecated. Please use `torch.amp.autocast('cuda', args...)` instead.\n",
      "  with amp.autocast(autocast):\n"
     ]
    },
    {
     "name": "stdout",
     "output_type": "stream",
     "text": [
      "Closest object distance: 7.9 meters\n",
      "Calculated velocity: 11.5 m/s\n",
      "Closest object distance: 7.9 meters\n",
      "Calculated velocity: 11.6 m/s\n",
      "Closest object distance: 8.6 meters\n",
      "Calculated velocity: 12.2 m/s\n",
      "Closest object distance: 8.3 meters\n",
      "Calculated velocity: 11.9 m/s\n",
      "Closest object distance: 8.2 meters\n",
      "Calculated velocity: 11.8 m/s\n",
      "Closest object distance: 8.2 meters\n",
      "Calculated velocity: 11.9 m/s\n",
      "Closest object distance: 7.9 meters\n",
      "Calculated velocity: 11.6 m/s\n",
      "Closest object distance: 8.2 meters\n",
      "Calculated velocity: 11.9 m/s\n"
     ]
    },
    {
     "name": "stderr",
     "output_type": "stream",
     "text": [
      "C:\\Users\\Oz/.cache\\torch\\hub\\ultralytics_yolov5_master\\models\\common.py:892: FutureWarning: `torch.cuda.amp.autocast(args...)` is deprecated. Please use `torch.amp.autocast('cuda', args...)` instead.\n",
      "  with amp.autocast(autocast):\n"
     ]
    },
    {
     "name": "stdout",
     "output_type": "stream",
     "text": [
      "Closest object distance: 8.1 meters\n",
      "Calculated velocity: 11.7 m/s\n",
      "Closest object distance: 8.1 meters\n",
      "Calculated velocity: 11.8 m/s\n",
      "Closest object distance: 8.3 meters\n",
      "Calculated velocity: 11.9 m/s\n",
      "Closest object distance: 8.1 meters\n",
      "Calculated velocity: 11.7 m/s\n",
      "Closest object distance: 8.3 meters\n",
      "Calculated velocity: 11.9 m/s\n",
      "Closest object distance: 8.3 meters\n",
      "Calculated velocity: 11.9 m/s\n",
      "Closest object distance: 8.4 meters\n",
      "Calculated velocity: 12.0 m/s\n",
      "Closest object distance: 8.2 meters\n",
      "Calculated velocity: 11.9 m/s\n",
      "Closest object distance: 8.3 meters\n",
      "Calculated velocity: 12.0 m/s\n"
     ]
    },
    {
     "name": "stderr",
     "output_type": "stream",
     "text": [
      "C:\\Users\\Oz/.cache\\torch\\hub\\ultralytics_yolov5_master\\models\\common.py:892: FutureWarning: `torch.cuda.amp.autocast(args...)` is deprecated. Please use `torch.amp.autocast('cuda', args...)` instead.\n",
      "  with amp.autocast(autocast):\n"
     ]
    },
    {
     "name": "stdout",
     "output_type": "stream",
     "text": [
      "Closest object distance: 8.6 meters\n",
      "Calculated velocity: 12.2 m/s\n",
      "Closest object distance: 8.2 meters\n",
      "Calculated velocity: 11.9 m/s\n",
      "Closest object distance: 8.2 meters\n",
      "Calculated velocity: 11.8 m/s\n",
      "Closest object distance: 8.4 meters\n",
      "Calculated velocity: 12.0 m/s\n",
      "Closest object distance: 8.3 meters\n",
      "Calculated velocity: 11.9 m/s\n",
      "Closest object distance: 8.0 meters\n",
      "Calculated velocity: 11.7 m/s\n",
      "Closest object distance: 8.1 meters\n",
      "Calculated velocity: 11.7 m/s\n",
      "Closest object distance: 9.7 meters\n",
      "Calculated velocity: 13.0 m/s\n",
      "Closest object distance: 8.2 meters\n",
      "Calculated velocity: 11.9 m/s\n"
     ]
    },
    {
     "name": "stderr",
     "output_type": "stream",
     "text": [
      "C:\\Users\\Oz/.cache\\torch\\hub\\ultralytics_yolov5_master\\models\\common.py:892: FutureWarning: `torch.cuda.amp.autocast(args...)` is deprecated. Please use `torch.amp.autocast('cuda', args...)` instead.\n",
      "  with amp.autocast(autocast):\n"
     ]
    },
    {
     "name": "stdout",
     "output_type": "stream",
     "text": [
      "Closest object distance: 8.2 meters\n",
      "Calculated velocity: 11.9 m/s\n",
      "Closest object distance: 8.4 meters\n",
      "Calculated velocity: 12.1 m/s\n",
      "Closest object distance: 8.2 meters\n",
      "Calculated velocity: 11.9 m/s\n",
      "Closest object distance: 8.0 meters\n",
      "Calculated velocity: 11.6 m/s\n",
      "Closest object distance: 8.1 meters\n",
      "Calculated velocity: 11.8 m/s\n",
      "Closest object distance: 8.3 meters\n",
      "Calculated velocity: 12.0 m/s\n",
      "Closest object distance: 8.4 meters\n",
      "Calculated velocity: 12.0 m/s\n",
      "Closest object distance: 8.0 meters\n",
      "Calculated velocity: 11.6 m/s\n"
     ]
    },
    {
     "name": "stderr",
     "output_type": "stream",
     "text": [
      "C:\\Users\\Oz/.cache\\torch\\hub\\ultralytics_yolov5_master\\models\\common.py:892: FutureWarning: `torch.cuda.amp.autocast(args...)` is deprecated. Please use `torch.amp.autocast('cuda', args...)` instead.\n",
      "  with amp.autocast(autocast):\n"
     ]
    },
    {
     "name": "stdout",
     "output_type": "stream",
     "text": [
      "Closest object distance: 7.9 meters\n",
      "Calculated velocity: 11.6 m/s\n",
      "Closest object distance: 8.6 meters\n",
      "Calculated velocity: 12.2 m/s\n",
      "Closest object distance: 8.4 meters\n",
      "Calculated velocity: 12.0 m/s\n",
      "Closest object distance: 8.4 meters\n",
      "Calculated velocity: 12.1 m/s\n",
      "Closest object distance: 8.4 meters\n",
      "Calculated velocity: 12.0 m/s\n",
      "Closest object distance: 8.4 meters\n",
      "Calculated velocity: 12.0 m/s\n",
      "Closest object distance: 8.0 meters\n",
      "Calculated velocity: 11.6 m/s\n",
      "Closest object distance: 8.5 meters\n",
      "Calculated velocity: 12.1 m/s\n"
     ]
    },
    {
     "name": "stderr",
     "output_type": "stream",
     "text": [
      "C:\\Users\\Oz/.cache\\torch\\hub\\ultralytics_yolov5_master\\models\\common.py:892: FutureWarning: `torch.cuda.amp.autocast(args...)` is deprecated. Please use `torch.amp.autocast('cuda', args...)` instead.\n",
      "  with amp.autocast(autocast):\n",
      "C:\\Users\\Oz/.cache\\torch\\hub\\ultralytics_yolov5_master\\models\\common.py:892: FutureWarning: `torch.cuda.amp.autocast(args...)` is deprecated. Please use `torch.amp.autocast('cuda', args...)` instead.\n",
      "  with amp.autocast(autocast):\n"
     ]
    },
    {
     "name": "stdout",
     "output_type": "stream",
     "text": [
      "Closest object distance: 9.0 meters\n",
      "Calculated velocity: 12.5 m/s\n",
      "Closest object distance: 8.5 meters\n",
      "Calculated velocity: 12.1 m/s\n",
      "Closest object distance: 8.5 meters\n",
      "Calculated velocity: 12.1 m/s\n",
      "Closest object distance: 8.2 meters\n",
      "Calculated velocity: 11.8 m/s\n",
      "Closest object distance: 8.0 meters\n",
      "Calculated velocity: 11.7 m/s\n",
      "Closest object distance: 8.4 meters\n",
      "Calculated velocity: 12.1 m/s\n",
      "Closest object distance: 7.9 meters\n",
      "Calculated velocity: 11.6 m/s\n",
      "Closest object distance: 8.7 meters\n",
      "Calculated velocity: 12.3 m/s\n",
      "Closest object distance: 8.2 meters\n",
      "Calculated velocity: 11.9 m/s\n",
      "Closest object distance: 8.0 meters\n",
      "Calculated velocity: 11.6 m/s\n",
      "Closest object distance: 8.3 meters\n",
      "Calculated velocity: 11.9 m/s\n",
      "Closest object distance: 8.2 meters\n",
      "Calculated velocity: 11.8 m/s\n",
      "Closest object distance: 8.2 meters\n",
      "Calculated velocity: 11.9 m/s\n",
      "Closest object distance: 8.8 meters\n",
      "Calculated velocity: 12.4 m/s\n",
      "Closest object distance: 8.4 meters\n",
      "Calculated velocity: 12.0 m/s\n",
      "Closest object distance: 8.0 meters\n",
      "Calculated velocity: 11.7 m/s\n"
     ]
    },
    {
     "name": "stderr",
     "output_type": "stream",
     "text": [
      "C:\\Users\\Oz/.cache\\torch\\hub\\ultralytics_yolov5_master\\models\\common.py:892: FutureWarning: `torch.cuda.amp.autocast(args...)` is deprecated. Please use `torch.amp.autocast('cuda', args...)` instead.\n",
      "  with amp.autocast(autocast):\n"
     ]
    },
    {
     "name": "stdout",
     "output_type": "stream",
     "text": [
      "Closest object distance: 8.4 meters\n",
      "Calculated velocity: 12.0 m/s\n",
      "Closest object distance: 8.0 meters\n",
      "Calculated velocity: 11.6 m/s\n",
      "Closest object distance: 8.1 meters\n",
      "Calculated velocity: 11.7 m/s\n",
      "Closest object distance: 8.1 meters\n",
      "Calculated velocity: 11.7 m/s\n",
      "Closest object distance: 8.1 meters\n",
      "Calculated velocity: 11.8 m/s\n",
      "Closest object distance: 8.3 meters\n",
      "Calculated velocity: 11.9 m/s\n",
      "Closest object distance: 8.0 meters\n",
      "Calculated velocity: 11.7 m/s\n",
      "Closest object distance: 8.2 meters\n",
      "Calculated velocity: 11.9 m/s\n"
     ]
    },
    {
     "name": "stderr",
     "output_type": "stream",
     "text": [
      "C:\\Users\\Oz/.cache\\torch\\hub\\ultralytics_yolov5_master\\models\\common.py:892: FutureWarning: `torch.cuda.amp.autocast(args...)` is deprecated. Please use `torch.amp.autocast('cuda', args...)` instead.\n",
      "  with amp.autocast(autocast):\n"
     ]
    },
    {
     "name": "stdout",
     "output_type": "stream",
     "text": [
      "Closest object distance: 8.1 meters\n",
      "Calculated velocity: 11.8 m/s\n",
      "Closest object distance: 8.0 meters\n",
      "Calculated velocity: 11.7 m/s\n",
      "Closest object distance: 9.1 meters\n",
      "Calculated velocity: 12.6 m/s\n",
      "Closest object distance: 8.1 meters\n",
      "Calculated velocity: 11.7 m/s\n",
      "Closest object distance: 8.0 meters\n",
      "Calculated velocity: 11.7 m/s\n",
      "Closest object distance: 8.1 meters\n",
      "Calculated velocity: 11.8 m/s\n",
      "Closest object distance: 8.4 meters\n",
      "Calculated velocity: 12.0 m/s\n",
      "Closest object distance: 8.1 meters\n",
      "Calculated velocity: 11.8 m/s\n"
     ]
    },
    {
     "name": "stderr",
     "output_type": "stream",
     "text": [
      "C:\\Users\\Oz/.cache\\torch\\hub\\ultralytics_yolov5_master\\models\\common.py:892: FutureWarning: `torch.cuda.amp.autocast(args...)` is deprecated. Please use `torch.amp.autocast('cuda', args...)` instead.\n",
      "  with amp.autocast(autocast):\n",
      "C:\\Users\\Oz/.cache\\torch\\hub\\ultralytics_yolov5_master\\models\\common.py:892: FutureWarning: `torch.cuda.amp.autocast(args...)` is deprecated. Please use `torch.amp.autocast('cuda', args...)` instead.\n",
      "  with amp.autocast(autocast):\n"
     ]
    },
    {
     "name": "stdout",
     "output_type": "stream",
     "text": [
      "Closest object distance: 8.0 meters\n",
      "Calculated velocity: 11.6 m/s\n",
      "Closest object distance: 7.9 meters\n",
      "Calculated velocity: 11.6 m/s\n",
      "Closest object distance: 8.3 meters\n",
      "Calculated velocity: 11.9 m/s\n",
      "Closest object distance: 8.0 meters\n",
      "Calculated velocity: 11.7 m/s\n",
      "Closest object distance: 8.1 meters\n",
      "Calculated velocity: 11.8 m/s\n",
      "Closest object distance: 8.4 meters\n",
      "Calculated velocity: 12.0 m/s\n",
      "Closest object distance: 8.1 meters\n",
      "Calculated velocity: 11.8 m/s\n",
      "Closest object distance: 8.3 meters\n",
      "Calculated velocity: 12.0 m/s\n",
      "Closest object distance: 8.5 meters\n",
      "Calculated velocity: 12.1 m/s\n",
      "Closest object distance: 8.0 meters\n",
      "Calculated velocity: 11.6 m/s\n",
      "Closest object distance: 8.4 meters\n",
      "Calculated velocity: 12.0 m/s\n",
      "Closest object distance: 8.1 meters\n",
      "Calculated velocity: 11.7 m/s\n",
      "Closest object distance: 8.4 meters\n",
      "Calculated velocity: 12.0 m/s\n",
      "Closest object distance: 8.3 meters\n",
      "Calculated velocity: 11.9 m/s\n",
      "Closest object distance: 8.6 meters\n",
      "Calculated velocity: 12.2 m/s\n",
      "Closest object distance: 8.0 meters\n",
      "Calculated velocity: 11.7 m/s\n"
     ]
    },
    {
     "name": "stderr",
     "output_type": "stream",
     "text": [
      "C:\\Users\\Oz/.cache\\torch\\hub\\ultralytics_yolov5_master\\models\\common.py:892: FutureWarning: `torch.cuda.amp.autocast(args...)` is deprecated. Please use `torch.amp.autocast('cuda', args...)` instead.\n",
      "  with amp.autocast(autocast):\n"
     ]
    },
    {
     "name": "stdout",
     "output_type": "stream",
     "text": [
      "Closest object distance: 8.0 meters\n",
      "Calculated velocity: 11.7 m/s\n",
      "Closest object distance: 8.7 meters\n",
      "Calculated velocity: 12.3 m/s\n",
      "Closest object distance: 8.2 meters\n",
      "Calculated velocity: 11.9 m/s\n",
      "Closest object distance: 8.0 meters\n",
      "Calculated velocity: 11.7 m/s\n",
      "Closest object distance: 8.2 meters\n",
      "Calculated velocity: 11.9 m/s\n",
      "Closest object distance: 8.3 meters\n",
      "Calculated velocity: 11.9 m/s\n",
      "Closest object distance: 8.1 meters\n",
      "Calculated velocity: 11.8 m/s\n",
      "Closest object distance: 8.1 meters\n",
      "Calculated velocity: 11.7 m/s\n"
     ]
    },
    {
     "name": "stderr",
     "output_type": "stream",
     "text": [
      "C:\\Users\\Oz/.cache\\torch\\hub\\ultralytics_yolov5_master\\models\\common.py:892: FutureWarning: `torch.cuda.amp.autocast(args...)` is deprecated. Please use `torch.amp.autocast('cuda', args...)` instead.\n",
      "  with amp.autocast(autocast):\n"
     ]
    },
    {
     "name": "stdout",
     "output_type": "stream",
     "text": [
      "Closest object distance: 8.0 meters\n",
      "Calculated velocity: 11.7 m/s\n",
      "Closest object distance: 7.9 meters\n",
      "Calculated velocity: 11.6 m/s\n",
      "Closest object distance: 8.0 meters\n",
      "Calculated velocity: 11.7 m/s\n",
      "Closest object distance: 8.1 meters\n",
      "Calculated velocity: 11.7 m/s\n",
      "Closest object distance: 8.1 meters\n",
      "Calculated velocity: 11.8 m/s\n",
      "Closest object distance: 8.3 meters\n",
      "Calculated velocity: 11.9 m/s\n",
      "Closest object distance: 8.2 meters\n",
      "Calculated velocity: 11.8 m/s\n",
      "Closest object distance: 9.1 meters\n",
      "Calculated velocity: 12.6 m/s\n"
     ]
    },
    {
     "name": "stderr",
     "output_type": "stream",
     "text": [
      "C:\\Users\\Oz/.cache\\torch\\hub\\ultralytics_yolov5_master\\models\\common.py:892: FutureWarning: `torch.cuda.amp.autocast(args...)` is deprecated. Please use `torch.amp.autocast('cuda', args...)` instead.\n",
      "  with amp.autocast(autocast):\n"
     ]
    },
    {
     "name": "stdout",
     "output_type": "stream",
     "text": [
      "Closest object distance: 8.3 meters\n",
      "Calculated velocity: 11.9 m/s\n",
      "Closest object distance: 8.2 meters\n",
      "Calculated velocity: 11.8 m/s\n",
      "Closest object distance: 8.5 meters\n",
      "Calculated velocity: 12.1 m/s\n",
      "Closest object distance: 8.0 meters\n",
      "Calculated velocity: 11.7 m/s\n",
      "Closest object distance: 8.3 meters\n",
      "Calculated velocity: 11.9 m/s\n",
      "Closest object distance: 8.3 meters\n",
      "Calculated velocity: 12.0 m/s\n",
      "Closest object distance: 8.4 meters\n",
      "Calculated velocity: 12.0 m/s\n",
      "Closest object distance: 8.8 meters\n",
      "Calculated velocity: 12.4 m/s\n"
     ]
    },
    {
     "name": "stderr",
     "output_type": "stream",
     "text": [
      "C:\\Users\\Oz/.cache\\torch\\hub\\ultralytics_yolov5_master\\models\\common.py:892: FutureWarning: `torch.cuda.amp.autocast(args...)` is deprecated. Please use `torch.amp.autocast('cuda', args...)` instead.\n",
      "  with amp.autocast(autocast):\n",
      "C:\\Users\\Oz/.cache\\torch\\hub\\ultralytics_yolov5_master\\models\\common.py:892: FutureWarning: `torch.cuda.amp.autocast(args...)` is deprecated. Please use `torch.amp.autocast('cuda', args...)` instead.\n",
      "  with amp.autocast(autocast):\n"
     ]
    },
    {
     "name": "stdout",
     "output_type": "stream",
     "text": [
      "Closest object distance: 8.1 meters\n",
      "Calculated velocity: 11.8 m/s\n",
      "Closest object distance: 8.9 meters\n",
      "Calculated velocity: 12.4 m/s\n",
      "Closest object distance: 8.0 meters\n",
      "Calculated velocity: 11.7 m/s\n",
      "Closest object distance: 8.2 meters\n",
      "Calculated velocity: 11.9 m/s\n",
      "Closest object distance: 8.1 meters\n",
      "Calculated velocity: 11.7 m/s\n",
      "Closest object distance: 8.1 meters\n",
      "Calculated velocity: 11.8 m/s\n",
      "Closest object distance: 8.1 meters\n",
      "Calculated velocity: 11.7 m/s\n",
      "Closest object distance: 8.0 meters\n",
      "Calculated velocity: 11.6 m/s\n",
      "Closest object distance: 8.3 meters\n",
      "Calculated velocity: 11.9 m/s\n",
      "Closest object distance: 8.1 meters\n",
      "Calculated velocity: 11.7 m/s\n",
      "Closest object distance: 8.0 meters\n",
      "Calculated velocity: 11.6 m/s\n",
      "Closest object distance: 8.1 meters\n",
      "Calculated velocity: 11.7 m/s\n",
      "Closest object distance: 8.3 meters\n",
      "Calculated velocity: 11.9 m/s\n",
      "Closest object distance: 8.1 meters\n",
      "Calculated velocity: 11.7 m/s\n",
      "Closest object distance: 8.1 meters\n",
      "Calculated velocity: 11.8 m/s\n"
     ]
    },
    {
     "name": "stderr",
     "output_type": "stream",
     "text": [
      "C:\\Users\\Oz/.cache\\torch\\hub\\ultralytics_yolov5_master\\models\\common.py:892: FutureWarning: `torch.cuda.amp.autocast(args...)` is deprecated. Please use `torch.amp.autocast('cuda', args...)` instead.\n",
      "  with amp.autocast(autocast):\n"
     ]
    },
    {
     "name": "stdout",
     "output_type": "stream",
     "text": [
      "Closest object distance: 8.4 meters\n",
      "Calculated velocity: 12.0 m/s\n",
      "Closest object distance: 8.2 meters\n",
      "Calculated velocity: 11.9 m/s\n",
      "Closest object distance: 8.4 meters\n",
      "Calculated velocity: 12.0 m/s\n",
      "Closest object distance: 8.2 meters\n",
      "Calculated velocity: 11.8 m/s\n",
      "Closest object distance: 8.0 meters\n",
      "Calculated velocity: 11.7 m/s\n",
      "Closest object distance: 8.0 meters\n",
      "Calculated velocity: 11.6 m/s\n",
      "Closest object distance: 8.0 meters\n",
      "Calculated velocity: 11.6 m/s\n",
      "Closest object distance: 8.6 meters\n",
      "Calculated velocity: 12.2 m/s\n"
     ]
    },
    {
     "name": "stderr",
     "output_type": "stream",
     "text": [
      "C:\\Users\\Oz/.cache\\torch\\hub\\ultralytics_yolov5_master\\models\\common.py:892: FutureWarning: `torch.cuda.amp.autocast(args...)` is deprecated. Please use `torch.amp.autocast('cuda', args...)` instead.\n",
      "  with amp.autocast(autocast):\n"
     ]
    },
    {
     "name": "stdout",
     "output_type": "stream",
     "text": [
      "Closest object distance: 8.5 meters\n",
      "Calculated velocity: 12.1 m/s\n",
      "Closest object distance: 9.3 meters\n",
      "Calculated velocity: 12.8 m/s\n",
      "Closest object distance: 8.2 meters\n",
      "Calculated velocity: 11.9 m/s\n",
      "Closest object distance: 8.0 meters\n",
      "Calculated velocity: 11.6 m/s\n",
      "Closest object distance: 8.7 meters\n",
      "Calculated velocity: 12.3 m/s\n",
      "Closest object distance: 8.1 meters\n",
      "Calculated velocity: 11.7 m/s\n",
      "Closest object distance: 8.1 meters\n",
      "Calculated velocity: 11.7 m/s\n",
      "Closest object distance: 8.0 meters\n",
      "Calculated velocity: 11.6 m/s\n"
     ]
    },
    {
     "name": "stderr",
     "output_type": "stream",
     "text": [
      "C:\\Users\\Oz/.cache\\torch\\hub\\ultralytics_yolov5_master\\models\\common.py:892: FutureWarning: `torch.cuda.amp.autocast(args...)` is deprecated. Please use `torch.amp.autocast('cuda', args...)` instead.\n",
      "  with amp.autocast(autocast):\n",
      "C:\\Users\\Oz/.cache\\torch\\hub\\ultralytics_yolov5_master\\models\\common.py:892: FutureWarning: `torch.cuda.amp.autocast(args...)` is deprecated. Please use `torch.amp.autocast('cuda', args...)` instead.\n",
      "  with amp.autocast(autocast):\n"
     ]
    },
    {
     "name": "stdout",
     "output_type": "stream",
     "text": [
      "Closest object distance: 8.0 meters\n",
      "Calculated velocity: 11.7 m/s\n",
      "Closest object distance: 8.2 meters\n",
      "Calculated velocity: 11.8 m/s\n",
      "Closest object distance: 8.4 meters\n",
      "Calculated velocity: 12.0 m/s\n",
      "Closest object distance: 8.5 meters\n",
      "Calculated velocity: 12.2 m/s\n",
      "Closest object distance: 8.6 meters\n",
      "Calculated velocity: 12.2 m/s\n",
      "Closest object distance: 9.0 meters\n",
      "Calculated velocity: 12.5 m/s\n",
      "Closest object distance: 8.4 meters\n",
      "Calculated velocity: 12.0 m/s\n",
      "Closest object distance: 8.1 meters\n",
      "Calculated velocity: 11.8 m/s\n",
      "Closest object distance: 8.0 meters\n",
      "Calculated velocity: 11.7 m/s\n",
      "Closest object distance: 8.3 meters\n",
      "Calculated velocity: 12.0 m/s\n",
      "Closest object distance: 8.2 meters\n",
      "Calculated velocity: 11.9 m/s\n",
      "Closest object distance: 8.0 meters\n",
      "Calculated velocity: 11.6 m/s\n",
      "Closest object distance: 8.6 meters\n",
      "Calculated velocity: 12.2 m/s\n",
      "Closest object distance: 8.2 meters\n",
      "Calculated velocity: 11.9 m/s\n",
      "Closest object distance: 8.0 meters\n",
      "Calculated velocity: 11.6 m/s\n",
      "Closest object distance: 8.0 meters\n",
      "Calculated velocity: 11.7 m/s\n"
     ]
    },
    {
     "name": "stderr",
     "output_type": "stream",
     "text": [
      "C:\\Users\\Oz/.cache\\torch\\hub\\ultralytics_yolov5_master\\models\\common.py:892: FutureWarning: `torch.cuda.amp.autocast(args...)` is deprecated. Please use `torch.amp.autocast('cuda', args...)` instead.\n",
      "  with amp.autocast(autocast):\n",
      "C:\\Users\\Oz/.cache\\torch\\hub\\ultralytics_yolov5_master\\models\\common.py:892: FutureWarning: `torch.cuda.amp.autocast(args...)` is deprecated. Please use `torch.amp.autocast('cuda', args...)` instead.\n",
      "  with amp.autocast(autocast):\n"
     ]
    },
    {
     "name": "stdout",
     "output_type": "stream",
     "text": [
      "Closest object distance: 8.1 meters\n",
      "Calculated velocity: 11.8 m/s\n",
      "Closest object distance: 8.9 meters\n",
      "Calculated velocity: 12.4 m/s\n",
      "Closest object distance: 8.3 meters\n",
      "Calculated velocity: 11.9 m/s\n",
      "Closest object distance: 7.9 meters\n",
      "Calculated velocity: 11.6 m/s\n",
      "Closest object distance: 9.6 meters\n",
      "Calculated velocity: 12.9 m/s\n",
      "Closest object distance: 8.6 meters\n",
      "Calculated velocity: 12.2 m/s\n",
      "Closest object distance: 8.0 meters\n",
      "Calculated velocity: 11.7 m/s\n",
      "Closest object distance: 8.1 meters\n",
      "Calculated velocity: 11.8 m/s\n",
      "Closest object distance: 8.1 meters\n",
      "Calculated velocity: 11.8 m/s\n",
      "Closest object distance: 8.1 meters\n",
      "Calculated velocity: 11.7 m/s\n",
      "Closest object distance: 8.2 meters\n",
      "Calculated velocity: 11.8 m/s\n",
      "Closest object distance: 8.5 meters\n",
      "Calculated velocity: 12.1 m/s\n",
      "Closest object distance: 8.4 meters\n",
      "Calculated velocity: 12.0 m/s\n",
      "Closest object distance: 8.2 meters\n",
      "Calculated velocity: 11.8 m/s\n",
      "Closest object distance: 8.2 meters\n",
      "Calculated velocity: 11.9 m/s\n"
     ]
    },
    {
     "name": "stderr",
     "output_type": "stream",
     "text": [
      "C:\\Users\\Oz/.cache\\torch\\hub\\ultralytics_yolov5_master\\models\\common.py:892: FutureWarning: `torch.cuda.amp.autocast(args...)` is deprecated. Please use `torch.amp.autocast('cuda', args...)` instead.\n",
      "  with amp.autocast(autocast):\n",
      "C:\\Users\\Oz/.cache\\torch\\hub\\ultralytics_yolov5_master\\models\\common.py:892: FutureWarning: `torch.cuda.amp.autocast(args...)` is deprecated. Please use `torch.amp.autocast('cuda', args...)` instead.\n",
      "  with amp.autocast(autocast):\n"
     ]
    },
    {
     "name": "stdout",
     "output_type": "stream",
     "text": [
      "Closest object distance: 8.4 meters\n",
      "Calculated velocity: 12.0 m/s\n",
      "Closest object distance: 8.1 meters\n",
      "Calculated velocity: 11.8 m/s\n",
      "Closest object distance: 8.2 meters\n",
      "Calculated velocity: 11.8 m/s\n",
      "Closest object distance: 7.9 meters\n",
      "Calculated velocity: 11.6 m/s\n",
      "Closest object distance: 8.0 meters\n",
      "Calculated velocity: 11.6 m/s\n",
      "Closest object distance: 8.5 meters\n",
      "Calculated velocity: 12.1 m/s\n",
      "Closest object distance: 8.1 meters\n",
      "Calculated velocity: 11.8 m/s\n",
      "Closest object distance: 8.1 meters\n",
      "Calculated velocity: 11.8 m/s\n",
      "Closest object distance: 8.0 meters\n",
      "Calculated velocity: 11.7 m/s\n",
      "Closest object distance: 8.1 meters\n",
      "Calculated velocity: 11.7 m/s\n",
      "Closest object distance: 8.1 meters\n",
      "Calculated velocity: 11.8 m/s\n",
      "Closest object distance: 8.7 meters\n",
      "Calculated velocity: 12.3 m/s\n",
      "Closest object distance: 8.0 meters\n",
      "Calculated velocity: 11.6 m/s\n",
      "Closest object distance: 8.0 meters\n",
      "Calculated velocity: 11.7 m/s\n",
      "Closest object distance: 8.1 meters\n",
      "Calculated velocity: 11.7 m/s\n",
      "Closest object distance: 8.2 meters\n",
      "Calculated velocity: 11.9 m/s\n"
     ]
    },
    {
     "name": "stderr",
     "output_type": "stream",
     "text": [
      "C:\\Users\\Oz/.cache\\torch\\hub\\ultralytics_yolov5_master\\models\\common.py:892: FutureWarning: `torch.cuda.amp.autocast(args...)` is deprecated. Please use `torch.amp.autocast('cuda', args...)` instead.\n",
      "  with amp.autocast(autocast):\n"
     ]
    },
    {
     "name": "stdout",
     "output_type": "stream",
     "text": [
      "Closest object distance: 8.6 meters\n",
      "Calculated velocity: 12.2 m/s\n",
      "Closest object distance: 8.4 meters\n",
      "Calculated velocity: 12.1 m/s\n",
      "Closest object distance: 8.9 meters\n",
      "Calculated velocity: 12.4 m/s\n",
      "Closest object distance: 8.1 meters\n",
      "Calculated velocity: 11.7 m/s\n",
      "Closest object distance: 8.7 meters\n",
      "Calculated velocity: 12.3 m/s\n",
      "Closest object distance: 8.0 meters\n",
      "Calculated velocity: 11.7 m/s\n",
      "Closest object distance: 8.0 meters\n",
      "Calculated velocity: 11.7 m/s\n",
      "Closest object distance: 8.5 meters\n",
      "Calculated velocity: 12.1 m/s\n"
     ]
    },
    {
     "name": "stderr",
     "output_type": "stream",
     "text": [
      "C:\\Users\\Oz/.cache\\torch\\hub\\ultralytics_yolov5_master\\models\\common.py:892: FutureWarning: `torch.cuda.amp.autocast(args...)` is deprecated. Please use `torch.amp.autocast('cuda', args...)` instead.\n",
      "  with amp.autocast(autocast):\n"
     ]
    },
    {
     "name": "stdout",
     "output_type": "stream",
     "text": [
      "Closest object distance: 8.6 meters\n",
      "Calculated velocity: 12.2 m/s\n",
      "Closest object distance: 8.7 meters\n",
      "Calculated velocity: 12.3 m/s\n",
      "Closest object distance: 8.0 meters\n",
      "Calculated velocity: 11.7 m/s\n",
      "Closest object distance: 8.1 meters\n",
      "Calculated velocity: 11.7 m/s\n",
      "Closest object distance: 8.1 meters\n",
      "Calculated velocity: 11.8 m/s\n",
      "Closest object distance: 8.1 meters\n",
      "Calculated velocity: 11.8 m/s\n",
      "Closest object distance: 8.2 meters\n",
      "Calculated velocity: 11.9 m/s\n",
      "Closest object distance: 8.3 meters\n",
      "Calculated velocity: 11.9 m/s\n"
     ]
    },
    {
     "name": "stderr",
     "output_type": "stream",
     "text": [
      "C:\\Users\\Oz/.cache\\torch\\hub\\ultralytics_yolov5_master\\models\\common.py:892: FutureWarning: `torch.cuda.amp.autocast(args...)` is deprecated. Please use `torch.amp.autocast('cuda', args...)` instead.\n",
      "  with amp.autocast(autocast):\n"
     ]
    },
    {
     "name": "stdout",
     "output_type": "stream",
     "text": [
      "Closest object distance: 8.3 meters\n",
      "Calculated velocity: 12.0 m/s\n",
      "Closest object distance: 8.2 meters\n",
      "Calculated velocity: 11.9 m/s\n",
      "Closest object distance: 8.4 meters\n",
      "Calculated velocity: 12.1 m/s\n",
      "Closest object distance: 8.0 meters\n",
      "Calculated velocity: 11.7 m/s\n",
      "Closest object distance: 9.0 meters\n",
      "Calculated velocity: 12.5 m/s\n",
      "Closest object distance: 8.3 meters\n",
      "Calculated velocity: 11.9 m/s\n",
      "Closest object distance: 8.5 meters\n",
      "Calculated velocity: 12.1 m/s\n",
      "Closest object distance: 8.4 meters\n",
      "Calculated velocity: 12.0 m/s\n"
     ]
    },
    {
     "name": "stderr",
     "output_type": "stream",
     "text": [
      "C:\\Users\\Oz/.cache\\torch\\hub\\ultralytics_yolov5_master\\models\\common.py:892: FutureWarning: `torch.cuda.amp.autocast(args...)` is deprecated. Please use `torch.amp.autocast('cuda', args...)` instead.\n",
      "  with amp.autocast(autocast):\n"
     ]
    },
    {
     "name": "stdout",
     "output_type": "stream",
     "text": [
      "Closest object distance: 8.3 meters\n",
      "Calculated velocity: 12.0 m/s\n",
      "Closest object distance: 8.2 meters\n",
      "Calculated velocity: 11.9 m/s\n",
      "Closest object distance: 8.4 meters\n",
      "Calculated velocity: 12.0 m/s\n",
      "Closest object distance: 8.6 meters\n",
      "Calculated velocity: 12.2 m/s\n",
      "Closest object distance: 8.7 meters\n",
      "Calculated velocity: 12.3 m/s\n",
      "Closest object distance: 8.1 meters\n",
      "Calculated velocity: 11.8 m/s\n",
      "Closest object distance: 8.1 meters\n",
      "Calculated velocity: 11.7 m/s\n",
      "Closest object distance: 8.1 meters\n",
      "Calculated velocity: 11.7 m/s\n"
     ]
    },
    {
     "name": "stderr",
     "output_type": "stream",
     "text": [
      "C:\\Users\\Oz/.cache\\torch\\hub\\ultralytics_yolov5_master\\models\\common.py:892: FutureWarning: `torch.cuda.amp.autocast(args...)` is deprecated. Please use `torch.amp.autocast('cuda', args...)` instead.\n",
      "  with amp.autocast(autocast):\n",
      "C:\\Users\\Oz/.cache\\torch\\hub\\ultralytics_yolov5_master\\models\\common.py:892: FutureWarning: `torch.cuda.amp.autocast(args...)` is deprecated. Please use `torch.amp.autocast('cuda', args...)` instead.\n",
      "  with amp.autocast(autocast):\n"
     ]
    },
    {
     "name": "stdout",
     "output_type": "stream",
     "text": [
      "Closest object distance: 8.1 meters\n",
      "Calculated velocity: 11.7 m/s\n",
      "Closest object distance: 8.7 meters\n",
      "Calculated velocity: 12.3 m/s\n",
      "Closest object distance: 8.0 meters\n",
      "Calculated velocity: 11.7 m/s\n",
      "Closest object distance: 8.3 meters\n",
      "Calculated velocity: 11.9 m/s\n",
      "Closest object distance: 8.4 meters\n",
      "Calculated velocity: 12.0 m/s\n",
      "Closest object distance: 8.3 meters\n",
      "Calculated velocity: 11.9 m/s\n",
      "Closest object distance: 8.1 meters\n",
      "Calculated velocity: 11.7 m/s\n",
      "Closest object distance: 8.1 meters\n",
      "Calculated velocity: 11.8 m/s\n",
      "Closest object distance: 8.3 meters\n",
      "Calculated velocity: 11.9 m/s\n",
      "Closest object distance: 8.2 meters\n",
      "Calculated velocity: 11.8 m/s\n",
      "Closest object distance: 8.6 meters\n",
      "Calculated velocity: 12.2 m/s\n",
      "Closest object distance: 8.6 meters\n",
      "Calculated velocity: 12.2 m/s\n",
      "Closest object distance: 8.7 meters\n",
      "Calculated velocity: 12.3 m/s\n",
      "Closest object distance: 8.6 meters\n",
      "Calculated velocity: 12.2 m/s\n",
      "Closest object distance: 8.1 meters\n",
      "Calculated velocity: 11.8 m/s\n",
      "Closest object distance: 8.4 meters\n",
      "Calculated velocity: 12.1 m/s\n"
     ]
    },
    {
     "name": "stderr",
     "output_type": "stream",
     "text": [
      "C:\\Users\\Oz/.cache\\torch\\hub\\ultralytics_yolov5_master\\models\\common.py:892: FutureWarning: `torch.cuda.amp.autocast(args...)` is deprecated. Please use `torch.amp.autocast('cuda', args...)` instead.\n",
      "  with amp.autocast(autocast):\n"
     ]
    },
    {
     "name": "stdout",
     "output_type": "stream",
     "text": [
      "Closest object distance: 8.5 meters\n",
      "Calculated velocity: 12.1 m/s\n",
      "Closest object distance: 8.4 meters\n",
      "Calculated velocity: 12.0 m/s\n",
      "Closest object distance: 8.5 meters\n",
      "Calculated velocity: 12.1 m/s\n",
      "Closest object distance: 8.3 meters\n",
      "Calculated velocity: 11.9 m/s\n",
      "Closest object distance: 8.4 meters\n",
      "Calculated velocity: 12.0 m/s\n",
      "Closest object distance: 9.0 meters\n",
      "Calculated velocity: 12.5 m/s\n",
      "Closest object distance: 8.4 meters\n",
      "Calculated velocity: 12.1 m/s\n",
      "Closest object distance: 8.4 meters\n",
      "Calculated velocity: 12.0 m/s\n"
     ]
    },
    {
     "name": "stderr",
     "output_type": "stream",
     "text": [
      "C:\\Users\\Oz/.cache\\torch\\hub\\ultralytics_yolov5_master\\models\\common.py:892: FutureWarning: `torch.cuda.amp.autocast(args...)` is deprecated. Please use `torch.amp.autocast('cuda', args...)` instead.\n",
      "  with amp.autocast(autocast):\n"
     ]
    },
    {
     "name": "stdout",
     "output_type": "stream",
     "text": [
      "Closest object distance: 8.1 meters\n",
      "Calculated velocity: 11.8 m/s\n",
      "Closest object distance: 8.1 meters\n",
      "Calculated velocity: 11.7 m/s\n",
      "Closest object distance: 8.1 meters\n",
      "Calculated velocity: 11.8 m/s\n",
      "Closest object distance: 8.4 meters\n",
      "Calculated velocity: 12.0 m/s\n",
      "Closest object distance: 7.9 meters\n",
      "Calculated velocity: 11.6 m/s\n",
      "Closest object distance: 7.9 meters\n",
      "Calculated velocity: 11.6 m/s\n",
      "Closest object distance: 8.1 meters\n",
      "Calculated velocity: 11.8 m/s\n",
      "Closest object distance: 8.2 meters\n",
      "Calculated velocity: 11.8 m/s\n"
     ]
    },
    {
     "name": "stderr",
     "output_type": "stream",
     "text": [
      "C:\\Users\\Oz/.cache\\torch\\hub\\ultralytics_yolov5_master\\models\\common.py:892: FutureWarning: `torch.cuda.amp.autocast(args...)` is deprecated. Please use `torch.amp.autocast('cuda', args...)` instead.\n",
      "  with amp.autocast(autocast):\n"
     ]
    },
    {
     "name": "stdout",
     "output_type": "stream",
     "text": [
      "Closest object distance: 8.4 meters\n",
      "Calculated velocity: 12.0 m/s\n",
      "Closest object distance: 8.3 meters\n",
      "Calculated velocity: 11.9 m/s\n",
      "Closest object distance: 7.9 meters\n",
      "Calculated velocity: 11.6 m/s\n",
      "Closest object distance: 8.2 meters\n",
      "Calculated velocity: 11.8 m/s\n",
      "Closest object distance: 8.0 meters\n",
      "Calculated velocity: 11.7 m/s\n",
      "Closest object distance: 8.0 meters\n",
      "Calculated velocity: 11.6 m/s\n",
      "Closest object distance: 8.1 meters\n",
      "Calculated velocity: 11.8 m/s\n",
      "Closest object distance: 9.1 meters\n",
      "Calculated velocity: 12.6 m/s\n"
     ]
    },
    {
     "name": "stderr",
     "output_type": "stream",
     "text": [
      "C:\\Users\\Oz/.cache\\torch\\hub\\ultralytics_yolov5_master\\models\\common.py:892: FutureWarning: `torch.cuda.amp.autocast(args...)` is deprecated. Please use `torch.amp.autocast('cuda', args...)` instead.\n",
      "  with amp.autocast(autocast):\n",
      "C:\\Users\\Oz/.cache\\torch\\hub\\ultralytics_yolov5_master\\models\\common.py:892: FutureWarning: `torch.cuda.amp.autocast(args...)` is deprecated. Please use `torch.amp.autocast('cuda', args...)` instead.\n",
      "  with amp.autocast(autocast):\n"
     ]
    },
    {
     "name": "stdout",
     "output_type": "stream",
     "text": [
      "Closest object distance: 8.3 meters\n",
      "Calculated velocity: 12.0 m/s\n",
      "Closest object distance: 8.0 meters\n",
      "Calculated velocity: 11.7 m/s\n",
      "Closest object distance: 8.2 meters\n",
      "Calculated velocity: 11.8 m/s\n",
      "Closest object distance: 9.0 meters\n",
      "Calculated velocity: 12.5 m/s\n",
      "Closest object distance: 8.0 meters\n",
      "Calculated velocity: 11.6 m/s\n",
      "Closest object distance: 8.0 meters\n",
      "Calculated velocity: 11.7 m/s\n",
      "Closest object distance: 8.0 meters\n",
      "Calculated velocity: 11.7 m/s\n",
      "Closest object distance: 7.9 meters\n",
      "Calculated velocity: 11.6 m/s\n",
      "Closest object distance: 7.8 meters\n",
      "Calculated velocity: 11.5 m/s\n",
      "Closest object distance: 7.9 meters\n",
      "Calculated velocity: 11.6 m/s\n",
      "Closest object distance: 8.0 meters\n",
      "Calculated velocity: 11.6 m/s\n",
      "Closest object distance: 8.6 meters\n",
      "Calculated velocity: 12.2 m/s\n",
      "Closest object distance: 8.2 meters\n",
      "Calculated velocity: 11.8 m/s\n",
      "Closest object distance: 7.9 meters\n",
      "Calculated velocity: 11.6 m/s\n"
     ]
    },
    {
     "name": "stderr",
     "output_type": "stream",
     "text": [
      "C:\\Users\\Oz/.cache\\torch\\hub\\ultralytics_yolov5_master\\models\\common.py:892: FutureWarning: `torch.cuda.amp.autocast(args...)` is deprecated. Please use `torch.amp.autocast('cuda', args...)` instead.\n",
      "  with amp.autocast(autocast):\n"
     ]
    },
    {
     "name": "stdout",
     "output_type": "stream",
     "text": [
      "Closest object distance: 8.2 meters\n",
      "Calculated velocity: 11.9 m/s\n",
      "Closest object distance: 7.9 meters\n",
      "Calculated velocity: 11.6 m/s\n",
      "Closest object distance: 8.2 meters\n",
      "Calculated velocity: 11.9 m/s\n",
      "Closest object distance: 8.5 meters\n",
      "Calculated velocity: 12.1 m/s\n",
      "Closest object distance: 8.6 meters\n",
      "Calculated velocity: 12.2 m/s\n",
      "Closest object distance: 8.7 meters\n",
      "Calculated velocity: 12.3 m/s\n",
      "Closest object distance: 7.9 meters\n",
      "Calculated velocity: 11.6 m/s\n",
      "Closest object distance: 8.7 meters\n",
      "Calculated velocity: 12.3 m/s\n"
     ]
    },
    {
     "name": "stderr",
     "output_type": "stream",
     "text": [
      "C:\\Users\\Oz/.cache\\torch\\hub\\ultralytics_yolov5_master\\models\\common.py:892: FutureWarning: `torch.cuda.amp.autocast(args...)` is deprecated. Please use `torch.amp.autocast('cuda', args...)` instead.\n",
      "  with amp.autocast(autocast):\n"
     ]
    },
    {
     "name": "stdout",
     "output_type": "stream",
     "text": [
      "Closest object distance: 8.1 meters\n",
      "Calculated velocity: 11.8 m/s\n",
      "Closest object distance: 8.0 meters\n",
      "Calculated velocity: 11.7 m/s\n",
      "Closest object distance: 8.1 meters\n",
      "Calculated velocity: 11.7 m/s\n",
      "Closest object distance: 9.0 meters\n",
      "Calculated velocity: 12.5 m/s\n",
      "Closest object distance: 8.3 meters\n",
      "Calculated velocity: 11.9 m/s\n",
      "Closest object distance: 8.4 meters\n",
      "Calculated velocity: 12.1 m/s\n",
      "Closest object distance: 8.3 meters\n",
      "Calculated velocity: 12.0 m/s\n",
      "Closest object distance: 8.2 meters\n",
      "Calculated velocity: 11.8 m/s\n"
     ]
    },
    {
     "name": "stderr",
     "output_type": "stream",
     "text": [
      "C:\\Users\\Oz/.cache\\torch\\hub\\ultralytics_yolov5_master\\models\\common.py:892: FutureWarning: `torch.cuda.amp.autocast(args...)` is deprecated. Please use `torch.amp.autocast('cuda', args...)` instead.\n",
      "  with amp.autocast(autocast):\n"
     ]
    },
    {
     "name": "stdout",
     "output_type": "stream",
     "text": [
      "Closest object distance: 8.1 meters\n",
      "Calculated velocity: 11.7 m/s\n",
      "Closest object distance: 8.0 meters\n",
      "Calculated velocity: 11.7 m/s\n",
      "Closest object distance: 8.0 meters\n",
      "Calculated velocity: 11.6 m/s\n",
      "Closest object distance: 8.3 meters\n",
      "Calculated velocity: 11.9 m/s\n",
      "Closest object distance: 8.2 meters\n",
      "Calculated velocity: 11.8 m/s\n",
      "Closest object distance: 8.0 meters\n",
      "Calculated velocity: 11.6 m/s\n",
      "Closest object distance: 8.1 meters\n",
      "Calculated velocity: 11.8 m/s\n",
      "Closest object distance: 8.1 meters\n",
      "Calculated velocity: 11.7 m/s\n"
     ]
    },
    {
     "name": "stderr",
     "output_type": "stream",
     "text": [
      "C:\\Users\\Oz/.cache\\torch\\hub\\ultralytics_yolov5_master\\models\\common.py:892: FutureWarning: `torch.cuda.amp.autocast(args...)` is deprecated. Please use `torch.amp.autocast('cuda', args...)` instead.\n",
      "  with amp.autocast(autocast):\n",
      "C:\\Users\\Oz/.cache\\torch\\hub\\ultralytics_yolov5_master\\models\\common.py:892: FutureWarning: `torch.cuda.amp.autocast(args...)` is deprecated. Please use `torch.amp.autocast('cuda', args...)` instead.\n",
      "  with amp.autocast(autocast):\n"
     ]
    },
    {
     "name": "stdout",
     "output_type": "stream",
     "text": [
      "Closest object distance: 8.6 meters\n",
      "Calculated velocity: 12.2 m/s\n",
      "Closest object distance: 8.0 meters\n",
      "Calculated velocity: 11.7 m/s\n",
      "Closest object distance: 8.2 meters\n",
      "Calculated velocity: 11.8 m/s\n",
      "Closest object distance: 8.3 meters\n",
      "Calculated velocity: 11.9 m/s\n",
      "Closest object distance: 8.0 meters\n",
      "Calculated velocity: 11.6 m/s\n",
      "Closest object distance: 8.1 meters\n",
      "Calculated velocity: 11.7 m/s\n",
      "Closest object distance: 8.0 meters\n",
      "Calculated velocity: 11.7 m/s\n",
      "Closest object distance: 8.1 meters\n",
      "Calculated velocity: 11.8 m/s\n",
      "Closest object distance: 8.4 meters\n",
      "Calculated velocity: 12.0 m/s\n",
      "Closest object distance: 8.1 meters\n",
      "Calculated velocity: 11.8 m/s\n",
      "Closest object distance: 7.8 meters\n",
      "Calculated velocity: 11.5 m/s\n",
      "Closest object distance: 8.5 meters\n",
      "Calculated velocity: 12.1 m/s\n",
      "Closest object distance: 8.1 meters\n",
      "Calculated velocity: 11.8 m/s\n",
      "Closest object distance: 8.0 meters\n",
      "Calculated velocity: 11.6 m/s\n",
      "Closest object distance: 8.1 meters\n",
      "Calculated velocity: 11.8 m/s\n"
     ]
    },
    {
     "name": "stderr",
     "output_type": "stream",
     "text": [
      "C:\\Users\\Oz/.cache\\torch\\hub\\ultralytics_yolov5_master\\models\\common.py:892: FutureWarning: `torch.cuda.amp.autocast(args...)` is deprecated. Please use `torch.amp.autocast('cuda', args...)` instead.\n",
      "  with amp.autocast(autocast):\n"
     ]
    },
    {
     "name": "stdout",
     "output_type": "stream",
     "text": [
      "Closest object distance: 8.3 meters\n",
      "Calculated velocity: 11.9 m/s\n",
      "Closest object distance: 7.9 meters\n",
      "Calculated velocity: 11.6 m/s\n",
      "Closest object distance: 7.9 meters\n",
      "Calculated velocity: 11.6 m/s\n",
      "Closest object distance: 8.1 meters\n",
      "Calculated velocity: 11.8 m/s\n",
      "Closest object distance: 8.2 meters\n",
      "Calculated velocity: 11.9 m/s\n",
      "Closest object distance: 8.3 meters\n",
      "Calculated velocity: 11.9 m/s\n",
      "Closest object distance: 8.5 meters\n",
      "Calculated velocity: 12.1 m/s\n",
      "Closest object distance: 7.8 meters\n",
      "Calculated velocity: 11.5 m/s\n"
     ]
    },
    {
     "name": "stderr",
     "output_type": "stream",
     "text": [
      "C:\\Users\\Oz/.cache\\torch\\hub\\ultralytics_yolov5_master\\models\\common.py:892: FutureWarning: `torch.cuda.amp.autocast(args...)` is deprecated. Please use `torch.amp.autocast('cuda', args...)` instead.\n",
      "  with amp.autocast(autocast):\n"
     ]
    },
    {
     "name": "stdout",
     "output_type": "stream",
     "text": [
      "Closest object distance: 8.3 meters\n",
      "Calculated velocity: 12.0 m/s\n",
      "Closest object distance: 7.9 meters\n",
      "Calculated velocity: 11.6 m/s\n",
      "Closest object distance: 8.1 meters\n",
      "Calculated velocity: 11.7 m/s\n",
      "Closest object distance: 8.1 meters\n",
      "Calculated velocity: 11.7 m/s\n",
      "Closest object distance: 8.9 meters\n",
      "Calculated velocity: 12.4 m/s\n",
      "Closest object distance: 8.5 meters\n",
      "Calculated velocity: 12.1 m/s\n",
      "Closest object distance: 8.1 meters\n",
      "Calculated velocity: 11.8 m/s\n",
      "Closest object distance: 8.9 meters\n",
      "Calculated velocity: 12.4 m/s\n",
      "Closest object distance: 8.3 meters\n",
      "Calculated velocity: 11.9 m/s\n"
     ]
    },
    {
     "name": "stderr",
     "output_type": "stream",
     "text": [
      "C:\\Users\\Oz/.cache\\torch\\hub\\ultralytics_yolov5_master\\models\\common.py:892: FutureWarning: `torch.cuda.amp.autocast(args...)` is deprecated. Please use `torch.amp.autocast('cuda', args...)` instead.\n",
      "  with amp.autocast(autocast):\n",
      "C:\\Users\\Oz/.cache\\torch\\hub\\ultralytics_yolov5_master\\models\\common.py:892: FutureWarning: `torch.cuda.amp.autocast(args...)` is deprecated. Please use `torch.amp.autocast('cuda', args...)` instead.\n",
      "  with amp.autocast(autocast):\n"
     ]
    },
    {
     "name": "stdout",
     "output_type": "stream",
     "text": [
      "Closest object distance: 8.2 meters\n",
      "Calculated velocity: 11.8 m/s\n",
      "Closest object distance: 8.3 meters\n",
      "Calculated velocity: 12.0 m/s\n",
      "Closest object distance: 8.2 meters\n",
      "Calculated velocity: 11.9 m/s\n",
      "Closest object distance: 8.4 meters\n",
      "Calculated velocity: 12.0 m/s\n",
      "Closest object distance: 8.3 meters\n",
      "Calculated velocity: 12.0 m/s\n",
      "Closest object distance: 8.3 meters\n",
      "Calculated velocity: 11.9 m/s\n",
      "Closest object distance: 9.9 meters\n",
      "Calculated velocity: 13.1 m/s\n",
      "Closest object distance: 8.3 meters\n",
      "Calculated velocity: 12.0 m/s\n",
      "Closest object distance: 8.3 meters\n",
      "Calculated velocity: 11.9 m/s\n",
      "Closest object distance: 8.7 meters\n",
      "Calculated velocity: 12.3 m/s\n",
      "Closest object distance: 8.9 meters\n",
      "Calculated velocity: 12.4 m/s\n",
      "Closest object distance: 8.9 meters\n",
      "Calculated velocity: 12.5 m/s\n",
      "Closest object distance: 8.5 meters\n",
      "Calculated velocity: 12.1 m/s\n",
      "Closest object distance: 8.5 meters\n",
      "Calculated velocity: 12.1 m/s\n",
      "Closest object distance: 8.4 meters\n",
      "Calculated velocity: 12.1 m/s\n",
      "Closest object distance: 8.0 meters\n",
      "Calculated velocity: 11.6 m/s\n",
      "Closest object distance: 8.1 meters\n",
      "Calculated velocity: 11.7 m/s\n"
     ]
    },
    {
     "name": "stderr",
     "output_type": "stream",
     "text": [
      "C:\\Users\\Oz/.cache\\torch\\hub\\ultralytics_yolov5_master\\models\\common.py:892: FutureWarning: `torch.cuda.amp.autocast(args...)` is deprecated. Please use `torch.amp.autocast('cuda', args...)` instead.\n",
      "  with amp.autocast(autocast):\n"
     ]
    },
    {
     "name": "stdout",
     "output_type": "stream",
     "text": [
      "Closest object distance: 8.1 meters\n",
      "Calculated velocity: 11.7 m/s\n",
      "Closest object distance: 8.7 meters\n",
      "Calculated velocity: 12.3 m/s\n",
      "Closest object distance: 8.1 meters\n",
      "Calculated velocity: 11.8 m/s\n",
      "Closest object distance: 8.5 meters\n",
      "Calculated velocity: 12.1 m/s\n",
      "Closest object distance: 8.7 meters\n",
      "Calculated velocity: 12.3 m/s\n",
      "Closest object distance: 8.5 meters\n",
      "Calculated velocity: 12.1 m/s\n",
      "Closest object distance: 8.0 meters\n",
      "Calculated velocity: 11.6 m/s\n",
      "Closest object distance: 8.2 meters\n",
      "Calculated velocity: 11.8 m/s\n"
     ]
    },
    {
     "name": "stderr",
     "output_type": "stream",
     "text": [
      "C:\\Users\\Oz/.cache\\torch\\hub\\ultralytics_yolov5_master\\models\\common.py:892: FutureWarning: `torch.cuda.amp.autocast(args...)` is deprecated. Please use `torch.amp.autocast('cuda', args...)` instead.\n",
      "  with amp.autocast(autocast):\n"
     ]
    },
    {
     "name": "stdout",
     "output_type": "stream",
     "text": [
      "Closest object distance: 7.9 meters\n",
      "Calculated velocity: 11.6 m/s\n",
      "Closest object distance: 8.3 meters\n",
      "Calculated velocity: 11.9 m/s\n",
      "Closest object distance: 8.5 meters\n",
      "Calculated velocity: 12.1 m/s\n",
      "Closest object distance: 8.0 meters\n",
      "Calculated velocity: 11.6 m/s\n",
      "Closest object distance: 8.1 meters\n",
      "Calculated velocity: 11.7 m/s\n",
      "Closest object distance: 8.1 meters\n",
      "Calculated velocity: 11.8 m/s\n",
      "Closest object distance: 8.1 meters\n",
      "Calculated velocity: 11.7 m/s\n",
      "Closest object distance: 8.2 meters\n",
      "Calculated velocity: 11.8 m/s\n"
     ]
    },
    {
     "name": "stderr",
     "output_type": "stream",
     "text": [
      "C:\\Users\\Oz/.cache\\torch\\hub\\ultralytics_yolov5_master\\models\\common.py:892: FutureWarning: `torch.cuda.amp.autocast(args...)` is deprecated. Please use `torch.amp.autocast('cuda', args...)` instead.\n",
      "  with amp.autocast(autocast):\n"
     ]
    },
    {
     "name": "stdout",
     "output_type": "stream",
     "text": [
      "Closest object distance: 8.2 meters\n",
      "Calculated velocity: 11.9 m/s\n",
      "Closest object distance: 8.2 meters\n",
      "Calculated velocity: 11.8 m/s\n",
      "Closest object distance: 8.3 meters\n",
      "Calculated velocity: 11.9 m/s\n",
      "Closest object distance: 8.1 meters\n",
      "Calculated velocity: 11.8 m/s\n",
      "Closest object distance: 8.0 meters\n",
      "Calculated velocity: 11.7 m/s\n",
      "Closest object distance: 8.3 meters\n",
      "Calculated velocity: 11.9 m/s\n",
      "Closest object distance: 8.0 meters\n",
      "Calculated velocity: 11.6 m/s\n",
      "Closest object distance: 8.5 meters\n",
      "Calculated velocity: 12.1 m/s\n"
     ]
    },
    {
     "name": "stderr",
     "output_type": "stream",
     "text": [
      "C:\\Users\\Oz/.cache\\torch\\hub\\ultralytics_yolov5_master\\models\\common.py:892: FutureWarning: `torch.cuda.amp.autocast(args...)` is deprecated. Please use `torch.amp.autocast('cuda', args...)` instead.\n",
      "  with amp.autocast(autocast):\n"
     ]
    },
    {
     "name": "stdout",
     "output_type": "stream",
     "text": [
      "Closest object distance: 8.1 meters\n",
      "Calculated velocity: 11.7 m/s\n",
      "Closest object distance: 8.4 meters\n",
      "Calculated velocity: 12.1 m/s\n",
      "Closest object distance: 8.1 meters\n",
      "Calculated velocity: 11.7 m/s\n",
      "Closest object distance: 8.5 meters\n",
      "Calculated velocity: 12.1 m/s\n",
      "Closest object distance: 7.9 meters\n",
      "Calculated velocity: 11.6 m/s\n",
      "Closest object distance: 8.2 meters\n",
      "Calculated velocity: 11.8 m/s\n",
      "Closest object distance: 8.4 meters\n",
      "Calculated velocity: 12.0 m/s\n",
      "Closest object distance: 8.6 meters\n",
      "Calculated velocity: 12.2 m/s\n"
     ]
    },
    {
     "name": "stderr",
     "output_type": "stream",
     "text": [
      "C:\\Users\\Oz/.cache\\torch\\hub\\ultralytics_yolov5_master\\models\\common.py:892: FutureWarning: `torch.cuda.amp.autocast(args...)` is deprecated. Please use `torch.amp.autocast('cuda', args...)` instead.\n",
      "  with amp.autocast(autocast):\n"
     ]
    },
    {
     "name": "stdout",
     "output_type": "stream",
     "text": [
      "Closest object distance: 8.7 meters\n",
      "Calculated velocity: 12.3 m/s\n",
      "Closest object distance: 8.3 meters\n",
      "Calculated velocity: 12.0 m/s\n",
      "Closest object distance: 8.0 meters\n",
      "Calculated velocity: 11.7 m/s\n",
      "Closest object distance: 8.3 meters\n",
      "Calculated velocity: 11.9 m/s\n",
      "Closest object distance: 8.3 meters\n",
      "Calculated velocity: 11.9 m/s\n",
      "Closest object distance: 7.9 meters\n",
      "Calculated velocity: 11.6 m/s\n",
      "Closest object distance: 8.0 meters\n",
      "Calculated velocity: 11.6 m/s\n",
      "Closest object distance: 8.0 meters\n",
      "Calculated velocity: 11.7 m/s\n",
      "Closest object distance: 8.2 meters\n",
      "Calculated velocity: 11.8 m/s\n"
     ]
    },
    {
     "name": "stderr",
     "output_type": "stream",
     "text": [
      "C:\\Users\\Oz/.cache\\torch\\hub\\ultralytics_yolov5_master\\models\\common.py:892: FutureWarning: `torch.cuda.amp.autocast(args...)` is deprecated. Please use `torch.amp.autocast('cuda', args...)` instead.\n",
      "  with amp.autocast(autocast):\n"
     ]
    },
    {
     "name": "stdout",
     "output_type": "stream",
     "text": [
      "Closest object distance: 8.3 meters\n",
      "Calculated velocity: 11.9 m/s\n",
      "Closest object distance: 8.6 meters\n",
      "Calculated velocity: 12.2 m/s\n",
      "Closest object distance: 8.3 meters\n",
      "Calculated velocity: 11.9 m/s\n",
      "Closest object distance: 8.8 meters\n",
      "Calculated velocity: 12.4 m/s\n",
      "Closest object distance: 8.3 meters\n",
      "Calculated velocity: 11.9 m/s\n",
      "Closest object distance: 7.9 meters\n",
      "Calculated velocity: 11.6 m/s\n",
      "Closest object distance: 7.9 meters\n",
      "Calculated velocity: 11.6 m/s\n",
      "Closest object distance: 8.5 meters\n",
      "Calculated velocity: 12.1 m/s\n"
     ]
    },
    {
     "name": "stderr",
     "output_type": "stream",
     "text": [
      "C:\\Users\\Oz/.cache\\torch\\hub\\ultralytics_yolov5_master\\models\\common.py:892: FutureWarning: `torch.cuda.amp.autocast(args...)` is deprecated. Please use `torch.amp.autocast('cuda', args...)` instead.\n",
      "  with amp.autocast(autocast):\n",
      "C:\\Users\\Oz/.cache\\torch\\hub\\ultralytics_yolov5_master\\models\\common.py:892: FutureWarning: `torch.cuda.amp.autocast(args...)` is deprecated. Please use `torch.amp.autocast('cuda', args...)` instead.\n",
      "  with amp.autocast(autocast):\n"
     ]
    },
    {
     "name": "stdout",
     "output_type": "stream",
     "text": [
      "Closest object distance: 8.3 meters\n",
      "Calculated velocity: 11.9 m/s\n",
      "Closest object distance: 8.2 meters\n",
      "Calculated velocity: 11.9 m/s\n",
      "Closest object distance: 8.1 meters\n",
      "Calculated velocity: 11.8 m/s\n",
      "Closest object distance: 8.3 meters\n",
      "Calculated velocity: 11.9 m/s\n",
      "Closest object distance: 8.8 meters\n",
      "Calculated velocity: 12.4 m/s\n",
      "Closest object distance: 8.0 meters\n",
      "Calculated velocity: 11.7 m/s\n",
      "Closest object distance: 8.5 meters\n",
      "Calculated velocity: 12.1 m/s\n",
      "Closest object distance: 8.1 meters\n",
      "Calculated velocity: 11.7 m/s\n"
     ]
    },
    {
     "name": "stderr",
     "output_type": "stream",
     "text": [
      "C:\\Users\\Oz/.cache\\torch\\hub\\ultralytics_yolov5_master\\models\\common.py:892: FutureWarning: `torch.cuda.amp.autocast(args...)` is deprecated. Please use `torch.amp.autocast('cuda', args...)` instead.\n",
      "  with amp.autocast(autocast):\n"
     ]
    },
    {
     "name": "stdout",
     "output_type": "stream",
     "text": [
      "Closest object distance: 8.6 meters\n",
      "Calculated velocity: 12.2 m/s\n",
      "Closest object distance: 8.9 meters\n",
      "Calculated velocity: 12.5 m/s\n",
      "Closest object distance: 8.7 meters\n",
      "Calculated velocity: 12.3 m/s\n",
      "Closest object distance: 8.0 meters\n",
      "Calculated velocity: 11.7 m/s\n",
      "Closest object distance: 9.1 meters\n",
      "Calculated velocity: 12.6 m/s\n",
      "Closest object distance: 8.0 meters\n",
      "Calculated velocity: 11.6 m/s\n",
      "Closest object distance: 8.4 meters\n",
      "Calculated velocity: 12.0 m/s\n",
      "Closest object distance: 8.2 meters\n",
      "Calculated velocity: 11.9 m/s\n"
     ]
    },
    {
     "name": "stderr",
     "output_type": "stream",
     "text": [
      "C:\\Users\\Oz/.cache\\torch\\hub\\ultralytics_yolov5_master\\models\\common.py:892: FutureWarning: `torch.cuda.amp.autocast(args...)` is deprecated. Please use `torch.amp.autocast('cuda', args...)` instead.\n",
      "  with amp.autocast(autocast):\n",
      "C:\\Users\\Oz/.cache\\torch\\hub\\ultralytics_yolov5_master\\models\\common.py:892: FutureWarning: `torch.cuda.amp.autocast(args...)` is deprecated. Please use `torch.amp.autocast('cuda', args...)` instead.\n",
      "  with amp.autocast(autocast):\n"
     ]
    },
    {
     "name": "stdout",
     "output_type": "stream",
     "text": [
      "Closest object distance: 8.6 meters\n",
      "Calculated velocity: 12.2 m/s\n",
      "Closest object distance: 8.0 meters\n",
      "Calculated velocity: 11.7 m/s\n",
      "Closest object distance: 8.2 meters\n",
      "Calculated velocity: 11.8 m/s\n",
      "Closest object distance: 8.4 meters\n",
      "Calculated velocity: 12.0 m/s\n",
      "Closest object distance: 9.2 meters\n",
      "Calculated velocity: 12.6 m/s\n",
      "Closest object distance: 8.7 meters\n",
      "Calculated velocity: 12.3 m/s\n",
      "Closest object distance: 8.1 meters\n",
      "Calculated velocity: 11.8 m/s\n",
      "Closest object distance: 7.9 meters\n",
      "Calculated velocity: 11.6 m/s\n",
      "Closest object distance: 8.7 meters\n",
      "Calculated velocity: 12.3 m/s\n",
      "Closest object distance: 8.4 meters\n",
      "Calculated velocity: 12.1 m/s\n",
      "Closest object distance: 8.1 meters\n",
      "Calculated velocity: 11.8 m/s\n",
      "Closest object distance: 8.2 meters\n",
      "Calculated velocity: 11.9 m/s\n",
      "Closest object distance: 8.7 meters\n",
      "Calculated velocity: 12.3 m/s\n",
      "Closest object distance: 8.6 meters\n",
      "Calculated velocity: 12.2 m/s\n",
      "Closest object distance: 8.9 meters\n",
      "Calculated velocity: 12.4 m/s\n",
      "Closest object distance: 8.6 meters\n",
      "Calculated velocity: 12.2 m/s\n"
     ]
    },
    {
     "name": "stderr",
     "output_type": "stream",
     "text": [
      "C:\\Users\\Oz/.cache\\torch\\hub\\ultralytics_yolov5_master\\models\\common.py:892: FutureWarning: `torch.cuda.amp.autocast(args...)` is deprecated. Please use `torch.amp.autocast('cuda', args...)` instead.\n",
      "  with amp.autocast(autocast):\n"
     ]
    },
    {
     "name": "stdout",
     "output_type": "stream",
     "text": [
      "Closest object distance: 8.2 meters\n",
      "Calculated velocity: 11.8 m/s\n",
      "Closest object distance: 8.4 meters\n",
      "Calculated velocity: 12.0 m/s\n",
      "Closest object distance: 8.2 meters\n",
      "Calculated velocity: 11.9 m/s\n",
      "Closest object distance: 8.1 meters\n",
      "Calculated velocity: 11.7 m/s\n",
      "Closest object distance: 7.9 meters\n",
      "Calculated velocity: 11.6 m/s\n",
      "Closest object distance: 8.0 meters\n",
      "Calculated velocity: 11.6 m/s\n",
      "Closest object distance: 8.2 meters\n",
      "Calculated velocity: 11.9 m/s\n",
      "Closest object distance: 8.9 meters\n",
      "Calculated velocity: 12.5 m/s\n"
     ]
    },
    {
     "name": "stderr",
     "output_type": "stream",
     "text": [
      "C:\\Users\\Oz/.cache\\torch\\hub\\ultralytics_yolov5_master\\models\\common.py:892: FutureWarning: `torch.cuda.amp.autocast(args...)` is deprecated. Please use `torch.amp.autocast('cuda', args...)` instead.\n",
      "  with amp.autocast(autocast):\n"
     ]
    },
    {
     "name": "stdout",
     "output_type": "stream",
     "text": [
      "Closest object distance: 8.0 meters\n",
      "Calculated velocity: 11.7 m/s\n",
      "Closest object distance: 8.2 meters\n",
      "Calculated velocity: 11.9 m/s\n",
      "Closest object distance: 8.5 meters\n",
      "Calculated velocity: 12.1 m/s\n",
      "Closest object distance: 8.4 meters\n",
      "Calculated velocity: 12.0 m/s\n",
      "Closest object distance: 8.3 meters\n",
      "Calculated velocity: 12.0 m/s\n",
      "Closest object distance: 9.3 meters\n",
      "Calculated velocity: 12.7 m/s\n",
      "Closest object distance: 8.4 meters\n",
      "Calculated velocity: 12.0 m/s\n",
      "Closest object distance: 8.1 meters\n",
      "Calculated velocity: 11.8 m/s\n",
      "Closest object distance: 8.8 meters\n",
      "Calculated velocity: 12.4 m/s\n"
     ]
    },
    {
     "name": "stderr",
     "output_type": "stream",
     "text": [
      "C:\\Users\\Oz/.cache\\torch\\hub\\ultralytics_yolov5_master\\models\\common.py:892: FutureWarning: `torch.cuda.amp.autocast(args...)` is deprecated. Please use `torch.amp.autocast('cuda', args...)` instead.\n",
      "  with amp.autocast(autocast):\n"
     ]
    },
    {
     "name": "stdout",
     "output_type": "stream",
     "text": [
      "Closest object distance: 9.0 meters\n",
      "Calculated velocity: 12.5 m/s\n",
      "Closest object distance: 8.1 meters\n",
      "Calculated velocity: 11.8 m/s\n",
      "Closest object distance: 7.9 meters\n",
      "Calculated velocity: 11.6 m/s\n",
      "Closest object distance: 8.0 meters\n",
      "Calculated velocity: 11.7 m/s\n",
      "Closest object distance: 8.1 meters\n",
      "Calculated velocity: 11.7 m/s\n",
      "Closest object distance: 8.2 meters\n",
      "Calculated velocity: 11.8 m/s\n",
      "Closest object distance: 8.1 meters\n",
      "Calculated velocity: 11.7 m/s\n",
      "Closest object distance: 8.2 meters\n",
      "Calculated velocity: 11.8 m/s\n"
     ]
    },
    {
     "name": "stderr",
     "output_type": "stream",
     "text": [
      "C:\\Users\\Oz/.cache\\torch\\hub\\ultralytics_yolov5_master\\models\\common.py:892: FutureWarning: `torch.cuda.amp.autocast(args...)` is deprecated. Please use `torch.amp.autocast('cuda', args...)` instead.\n",
      "  with amp.autocast(autocast):\n"
     ]
    },
    {
     "name": "stdout",
     "output_type": "stream",
     "text": [
      "Closest object distance: 8.0 meters\n",
      "Calculated velocity: 11.7 m/s\n",
      "Closest object distance: 8.9 meters\n",
      "Calculated velocity: 12.5 m/s\n",
      "Closest object distance: 8.4 meters\n",
      "Calculated velocity: 12.0 m/s\n",
      "Closest object distance: 8.1 meters\n",
      "Calculated velocity: 11.8 m/s\n",
      "Closest object distance: 8.4 meters\n",
      "Calculated velocity: 12.0 m/s\n",
      "Closest object distance: 8.2 meters\n",
      "Calculated velocity: 11.8 m/s\n",
      "Closest object distance: 8.3 meters\n",
      "Calculated velocity: 11.9 m/s\n"
     ]
    },
    {
     "name": "stderr",
     "output_type": "stream",
     "text": [
      "C:\\Users\\Oz/.cache\\torch\\hub\\ultralytics_yolov5_master\\models\\common.py:892: FutureWarning: `torch.cuda.amp.autocast(args...)` is deprecated. Please use `torch.amp.autocast('cuda', args...)` instead.\n",
      "  with amp.autocast(autocast):\n"
     ]
    },
    {
     "name": "stdout",
     "output_type": "stream",
     "text": [
      "Closest object distance: 8.4 meters\n",
      "Calculated velocity: 12.0 m/s\n",
      "Closest object distance: 8.4 meters\n",
      "Calculated velocity: 12.1 m/s\n",
      "Closest object distance: 8.4 meters\n",
      "Calculated velocity: 12.0 m/s\n",
      "Closest object distance: 8.2 meters\n",
      "Calculated velocity: 11.8 m/s\n",
      "Closest object distance: 8.8 meters\n",
      "Calculated velocity: 12.3 m/s\n",
      "Closest object distance: 8.0 meters\n",
      "Calculated velocity: 11.7 m/s\n",
      "Closest object distance: 8.1 meters\n",
      "Calculated velocity: 11.7 m/s\n",
      "Closest object distance: 8.6 meters\n",
      "Calculated velocity: 12.2 m/s\n"
     ]
    },
    {
     "name": "stderr",
     "output_type": "stream",
     "text": [
      "C:\\Users\\Oz/.cache\\torch\\hub\\ultralytics_yolov5_master\\models\\common.py:892: FutureWarning: `torch.cuda.amp.autocast(args...)` is deprecated. Please use `torch.amp.autocast('cuda', args...)` instead.\n",
      "  with amp.autocast(autocast):\n"
     ]
    },
    {
     "name": "stdout",
     "output_type": "stream",
     "text": [
      "Closest object distance: 8.0 meters\n",
      "Calculated velocity: 11.6 m/s\n",
      "Closest object distance: 8.3 meters\n",
      "Calculated velocity: 11.9 m/s\n",
      "Closest object distance: 8.2 meters\n",
      "Calculated velocity: 11.9 m/s\n",
      "Closest object distance: 8.7 meters\n",
      "Calculated velocity: 12.3 m/s\n",
      "Closest object distance: 8.1 meters\n",
      "Calculated velocity: 11.7 m/s\n",
      "Closest object distance: 8.1 meters\n",
      "Calculated velocity: 11.7 m/s\n",
      "Closest object distance: 8.0 meters\n",
      "Calculated velocity: 11.7 m/s\n",
      "Closest object distance: 8.4 meters\n",
      "Calculated velocity: 12.0 m/s\n",
      "Closest object distance: 8.0 meters\n",
      "Calculated velocity: 11.7 m/s\n",
      "Closest object distance: 8.4 meters\n",
      "Calculated velocity: 12.1 m/s\n",
      "Closest object distance: 8.6 meters\n",
      "Calculated velocity: 12.2 m/s\n",
      "Closest object distance: 8.1 meters\n",
      "Calculated velocity: 11.8 m/s\n",
      "Closest object distance: 8.2 meters\n",
      "Calculated velocity: 11.9 m/s\n",
      "Closest object distance: 8.2 meters\n",
      "Calculated velocity: 11.8 m/s\n",
      "Closest object distance: 8.2 meters\n",
      "Calculated velocity: 11.8 m/s\n",
      "Closest object distance: 8.1 meters\n",
      "Calculated velocity: 11.8 m/s\n",
      "Closest object distance: 8.2 meters\n",
      "Calculated velocity: 11.9 m/s\n",
      "Closest object distance: 8.2 meters\n",
      "Calculated velocity: 11.8 m/s\n"
     ]
    },
    {
     "name": "stderr",
     "output_type": "stream",
     "text": [
      "C:\\Users\\Oz/.cache\\torch\\hub\\ultralytics_yolov5_master\\models\\common.py:892: FutureWarning: `torch.cuda.amp.autocast(args...)` is deprecated. Please use `torch.amp.autocast('cuda', args...)` instead.\n",
      "  with amp.autocast(autocast):\n",
      "C:\\Users\\Oz/.cache\\torch\\hub\\ultralytics_yolov5_master\\models\\common.py:892: FutureWarning: `torch.cuda.amp.autocast(args...)` is deprecated. Please use `torch.amp.autocast('cuda', args...)` instead.\n",
      "  with amp.autocast(autocast):\n"
     ]
    },
    {
     "name": "stdout",
     "output_type": "stream",
     "text": [
      "Closest object distance: 8.7 meters\n",
      "Calculated velocity: 12.3 m/s\n",
      "Closest object distance: 8.3 meters\n",
      "Calculated velocity: 11.9 m/s\n",
      "Closest object distance: 8.3 meters\n",
      "Calculated velocity: 11.9 m/s\n",
      "Closest object distance: 8.2 meters\n",
      "Calculated velocity: 11.9 m/s\n",
      "Closest object distance: 8.6 meters\n",
      "Calculated velocity: 12.2 m/s\n",
      "Closest object distance: 8.3 meters\n",
      "Calculated velocity: 11.9 m/s\n",
      "Closest object distance: 8.1 meters\n",
      "Calculated velocity: 11.7 m/s\n"
     ]
    },
    {
     "name": "stderr",
     "output_type": "stream",
     "text": [
      "C:\\Users\\Oz/.cache\\torch\\hub\\ultralytics_yolov5_master\\models\\common.py:892: FutureWarning: `torch.cuda.amp.autocast(args...)` is deprecated. Please use `torch.amp.autocast('cuda', args...)` instead.\n",
      "  with amp.autocast(autocast):\n"
     ]
    },
    {
     "name": "stdout",
     "output_type": "stream",
     "text": [
      "Closest object distance: 8.0 meters\n",
      "Calculated velocity: 11.6 m/s\n",
      "Closest object distance: 8.2 meters\n",
      "Calculated velocity: 11.8 m/s\n",
      "Closest object distance: 8.1 meters\n",
      "Calculated velocity: 11.8 m/s\n",
      "Closest object distance: 8.6 meters\n",
      "Calculated velocity: 12.2 m/s\n",
      "Closest object distance: 8.1 meters\n",
      "Calculated velocity: 11.8 m/s\n",
      "Closest object distance: 8.0 meters\n",
      "Calculated velocity: 11.7 m/s\n",
      "Closest object distance: 8.5 meters\n",
      "Calculated velocity: 12.1 m/s\n",
      "Closest object distance: 8.5 meters\n",
      "Calculated velocity: 12.1 m/s\n",
      "Closest object distance: 8.7 meters\n",
      "Calculated velocity: 12.3 m/s\n",
      "Closest object distance: 8.8 meters\n",
      "Calculated velocity: 12.4 m/s\n",
      "Closest object distance: 8.4 meters\n",
      "Calculated velocity: 12.0 m/s\n",
      "Closest object distance: 8.1 meters\n",
      "Calculated velocity: 11.7 m/s\n",
      "Closest object distance: 8.2 meters\n",
      "Calculated velocity: 11.9 m/s\n",
      "Closest object distance: 8.8 meters\n",
      "Calculated velocity: 12.4 m/s\n",
      "Closest object distance: 8.4 meters\n",
      "Calculated velocity: 12.0 m/s\n",
      "Closest object distance: 8.2 meters\n",
      "Calculated velocity: 11.8 m/s\n"
     ]
    },
    {
     "name": "stderr",
     "output_type": "stream",
     "text": [
      "C:\\Users\\Oz/.cache\\torch\\hub\\ultralytics_yolov5_master\\models\\common.py:892: FutureWarning: `torch.cuda.amp.autocast(args...)` is deprecated. Please use `torch.amp.autocast('cuda', args...)` instead.\n",
      "  with amp.autocast(autocast):\n",
      "C:\\Users\\Oz/.cache\\torch\\hub\\ultralytics_yolov5_master\\models\\common.py:892: FutureWarning: `torch.cuda.amp.autocast(args...)` is deprecated. Please use `torch.amp.autocast('cuda', args...)` instead.\n",
      "  with amp.autocast(autocast):\n"
     ]
    },
    {
     "name": "stdout",
     "output_type": "stream",
     "text": [
      "Closest object distance: 8.1 meters\n",
      "Calculated velocity: 11.8 m/s\n",
      "Closest object distance: 8.4 meters\n",
      "Calculated velocity: 12.0 m/s\n",
      "Closest object distance: 8.2 meters\n",
      "Calculated velocity: 11.9 m/s\n",
      "Closest object distance: 8.0 meters\n",
      "Calculated velocity: 11.6 m/s\n",
      "Closest object distance: 8.2 meters\n",
      "Calculated velocity: 11.8 m/s\n",
      "Closest object distance: 8.0 meters\n",
      "Calculated velocity: 11.7 m/s\n",
      "Closest object distance: 8.0 meters\n",
      "Calculated velocity: 11.6 m/s\n",
      "Closest object distance: 8.0 meters\n",
      "Calculated velocity: 11.7 m/s\n",
      "Closest object distance: 8.4 meters\n",
      "Calculated velocity: 12.0 m/s\n",
      "Closest object distance: 8.4 meters\n",
      "Calculated velocity: 12.0 m/s\n",
      "Closest object distance: 8.0 meters\n",
      "Calculated velocity: 11.6 m/s\n",
      "Closest object distance: 8.5 meters\n",
      "Calculated velocity: 12.1 m/s\n",
      "Closest object distance: 8.6 meters\n",
      "Calculated velocity: 12.2 m/s\n",
      "Closest object distance: 8.3 meters\n",
      "Calculated velocity: 12.0 m/s\n",
      "Closest object distance: 8.2 meters\n",
      "Calculated velocity: 11.9 m/s\n",
      "Closest object distance: 8.1 meters\n",
      "Calculated velocity: 11.8 m/s\n"
     ]
    },
    {
     "name": "stderr",
     "output_type": "stream",
     "text": [
      "C:\\Users\\Oz/.cache\\torch\\hub\\ultralytics_yolov5_master\\models\\common.py:892: FutureWarning: `torch.cuda.amp.autocast(args...)` is deprecated. Please use `torch.amp.autocast('cuda', args...)` instead.\n",
      "  with amp.autocast(autocast):\n"
     ]
    },
    {
     "name": "stdout",
     "output_type": "stream",
     "text": [
      "Closest object distance: 8.1 meters\n",
      "Calculated velocity: 11.8 m/s\n",
      "Closest object distance: 8.0 meters\n",
      "Calculated velocity: 11.6 m/s\n",
      "Closest object distance: 7.9 meters\n",
      "Calculated velocity: 11.6 m/s\n",
      "Closest object distance: 8.4 meters\n",
      "Calculated velocity: 12.0 m/s\n",
      "Closest object distance: 7.9 meters\n",
      "Calculated velocity: 11.6 m/s\n",
      "Closest object distance: 8.3 meters\n",
      "Calculated velocity: 12.0 m/s\n",
      "Closest object distance: 8.2 meters\n",
      "Calculated velocity: 11.8 m/s\n"
     ]
    },
    {
     "name": "stderr",
     "output_type": "stream",
     "text": [
      "C:\\Users\\Oz/.cache\\torch\\hub\\ultralytics_yolov5_master\\models\\common.py:892: FutureWarning: `torch.cuda.amp.autocast(args...)` is deprecated. Please use `torch.amp.autocast('cuda', args...)` instead.\n",
      "  with amp.autocast(autocast):\n"
     ]
    },
    {
     "name": "stdout",
     "output_type": "stream",
     "text": [
      "Closest object distance: 7.9 meters\n",
      "Calculated velocity: 11.5 m/s\n",
      "Closest object distance: 8.2 meters\n",
      "Calculated velocity: 11.8 m/s\n",
      "Closest object distance: 8.2 meters\n",
      "Calculated velocity: 11.9 m/s\n",
      "Closest object distance: 7.9 meters\n",
      "Calculated velocity: 11.5 m/s\n",
      "Closest object distance: 8.0 meters\n",
      "Calculated velocity: 11.7 m/s\n",
      "Closest object distance: 8.1 meters\n",
      "Calculated velocity: 11.7 m/s\n",
      "Closest object distance: 8.1 meters\n",
      "Calculated velocity: 11.7 m/s\n",
      "Closest object distance: 8.0 meters\n",
      "Calculated velocity: 11.7 m/s\n",
      "Closest object distance: 8.1 meters\n",
      "Calculated velocity: 11.7 m/s\n"
     ]
    },
    {
     "name": "stderr",
     "output_type": "stream",
     "text": [
      "C:\\Users\\Oz/.cache\\torch\\hub\\ultralytics_yolov5_master\\models\\common.py:892: FutureWarning: `torch.cuda.amp.autocast(args...)` is deprecated. Please use `torch.amp.autocast('cuda', args...)` instead.\n",
      "  with amp.autocast(autocast):\n",
      "C:\\Users\\Oz/.cache\\torch\\hub\\ultralytics_yolov5_master\\models\\common.py:892: FutureWarning: `torch.cuda.amp.autocast(args...)` is deprecated. Please use `torch.amp.autocast('cuda', args...)` instead.\n",
      "  with amp.autocast(autocast):\n"
     ]
    },
    {
     "name": "stdout",
     "output_type": "stream",
     "text": [
      "Closest object distance: 8.1 meters\n",
      "Calculated velocity: 11.7 m/s\n",
      "Closest object distance: 8.0 meters\n",
      "Calculated velocity: 11.7 m/s\n",
      "Closest object distance: 8.1 meters\n",
      "Calculated velocity: 11.8 m/s\n",
      "Closest object distance: 8.1 meters\n",
      "Calculated velocity: 11.7 m/s\n",
      "Closest object distance: 8.6 meters\n",
      "Calculated velocity: 12.2 m/s\n",
      "Closest object distance: 8.2 meters\n",
      "Calculated velocity: 11.9 m/s\n",
      "Closest object distance: 8.2 meters\n",
      "Calculated velocity: 11.9 m/s\n",
      "Closest object distance: 8.1 meters\n",
      "Calculated velocity: 11.8 m/s\n"
     ]
    },
    {
     "name": "stderr",
     "output_type": "stream",
     "text": [
      "C:\\Users\\Oz/.cache\\torch\\hub\\ultralytics_yolov5_master\\models\\common.py:892: FutureWarning: `torch.cuda.amp.autocast(args...)` is deprecated. Please use `torch.amp.autocast('cuda', args...)` instead.\n",
      "  with amp.autocast(autocast):\n"
     ]
    },
    {
     "name": "stdout",
     "output_type": "stream",
     "text": [
      "Closest object distance: 8.2 meters\n",
      "Calculated velocity: 11.8 m/s\n",
      "Closest object distance: 8.1 meters\n",
      "Calculated velocity: 11.7 m/s\n",
      "Closest object distance: 8.4 meters\n",
      "Calculated velocity: 12.0 m/s\n",
      "Closest object distance: 8.2 meters\n",
      "Calculated velocity: 11.9 m/s\n",
      "Closest object distance: 8.2 meters\n",
      "Calculated velocity: 11.9 m/s\n",
      "Closest object distance: 8.1 meters\n",
      "Calculated velocity: 11.8 m/s\n",
      "Closest object distance: 8.4 meters\n",
      "Calculated velocity: 12.0 m/s\n",
      "Closest object distance: 8.2 meters\n",
      "Calculated velocity: 11.8 m/s\n"
     ]
    },
    {
     "name": "stderr",
     "output_type": "stream",
     "text": [
      "C:\\Users\\Oz/.cache\\torch\\hub\\ultralytics_yolov5_master\\models\\common.py:892: FutureWarning: `torch.cuda.amp.autocast(args...)` is deprecated. Please use `torch.amp.autocast('cuda', args...)` instead.\n",
      "  with amp.autocast(autocast):\n",
      "C:\\Users\\Oz/.cache\\torch\\hub\\ultralytics_yolov5_master\\models\\common.py:892: FutureWarning: `torch.cuda.amp.autocast(args...)` is deprecated. Please use `torch.amp.autocast('cuda', args...)` instead.\n",
      "  with amp.autocast(autocast):\n"
     ]
    },
    {
     "name": "stdout",
     "output_type": "stream",
     "text": [
      "Closest object distance: 8.4 meters\n",
      "Calculated velocity: 12.0 m/s\n",
      "Closest object distance: 7.9 meters\n",
      "Calculated velocity: 11.6 m/s\n",
      "Closest object distance: 8.4 meters\n",
      "Calculated velocity: 12.1 m/s\n",
      "Closest object distance: 8.2 meters\n",
      "Calculated velocity: 11.9 m/s\n",
      "Closest object distance: 8.1 meters\n",
      "Calculated velocity: 11.7 m/s\n",
      "Closest object distance: 8.2 meters\n",
      "Calculated velocity: 11.9 m/s\n",
      "Closest object distance: 8.4 meters\n",
      "Calculated velocity: 12.0 m/s\n",
      "Closest object distance: 8.6 meters\n",
      "Calculated velocity: 12.2 m/s\n",
      "Closest object distance: 8.1 meters\n",
      "Calculated velocity: 11.7 m/s\n",
      "Closest object distance: 8.3 meters\n",
      "Calculated velocity: 12.0 m/s\n",
      "Closest object distance: 8.2 meters\n",
      "Calculated velocity: 11.8 m/s\n",
      "Closest object distance: 8.3 meters\n",
      "Calculated velocity: 12.0 m/s\n",
      "Closest object distance: 8.3 meters\n",
      "Calculated velocity: 11.9 m/s\n",
      "Closest object distance: 8.2 meters\n",
      "Calculated velocity: 11.8 m/s\n",
      "Closest object distance: 9.1 meters\n",
      "Calculated velocity: 12.6 m/s\n",
      "Closest object distance: 8.3 meters\n",
      "Calculated velocity: 12.0 m/s\n"
     ]
    },
    {
     "name": "stderr",
     "output_type": "stream",
     "text": [
      "C:\\Users\\Oz/.cache\\torch\\hub\\ultralytics_yolov5_master\\models\\common.py:892: FutureWarning: `torch.cuda.amp.autocast(args...)` is deprecated. Please use `torch.amp.autocast('cuda', args...)` instead.\n",
      "  with amp.autocast(autocast):\n",
      "C:\\Users\\Oz/.cache\\torch\\hub\\ultralytics_yolov5_master\\models\\common.py:892: FutureWarning: `torch.cuda.amp.autocast(args...)` is deprecated. Please use `torch.amp.autocast('cuda', args...)` instead.\n",
      "  with amp.autocast(autocast):\n"
     ]
    },
    {
     "name": "stdout",
     "output_type": "stream",
     "text": [
      "Closest object distance: 8.2 meters\n",
      "Calculated velocity: 11.8 m/s\n",
      "Closest object distance: 8.4 meters\n",
      "Calculated velocity: 12.0 m/s\n",
      "Closest object distance: 8.8 meters\n",
      "Calculated velocity: 12.3 m/s\n",
      "Closest object distance: 8.2 meters\n",
      "Calculated velocity: 11.8 m/s\n",
      "Closest object distance: 8.8 meters\n",
      "Calculated velocity: 12.3 m/s\n",
      "Closest object distance: 8.2 meters\n",
      "Calculated velocity: 11.9 m/s\n",
      "Closest object distance: 8.4 meters\n",
      "Calculated velocity: 12.1 m/s\n",
      "Closest object distance: 8.0 meters\n",
      "Calculated velocity: 11.7 m/s\n",
      "Closest object distance: 8.5 meters\n",
      "Calculated velocity: 12.1 m/s\n",
      "Closest object distance: 7.9 meters\n",
      "Calculated velocity: 11.6 m/s\n",
      "Closest object distance: 8.0 meters\n",
      "Calculated velocity: 11.6 m/s\n",
      "Closest object distance: 8.5 meters\n",
      "Calculated velocity: 12.2 m/s\n",
      "Closest object distance: 8.6 meters\n",
      "Calculated velocity: 12.2 m/s\n",
      "Closest object distance: 8.5 meters\n",
      "Calculated velocity: 12.1 m/s\n",
      "Closest object distance: 8.4 meters\n",
      "Calculated velocity: 12.0 m/s\n",
      "Closest object distance: 8.7 meters\n",
      "Calculated velocity: 12.3 m/s\n"
     ]
    },
    {
     "name": "stderr",
     "output_type": "stream",
     "text": [
      "C:\\Users\\Oz/.cache\\torch\\hub\\ultralytics_yolov5_master\\models\\common.py:892: FutureWarning: `torch.cuda.amp.autocast(args...)` is deprecated. Please use `torch.amp.autocast('cuda', args...)` instead.\n",
      "  with amp.autocast(autocast):\n"
     ]
    },
    {
     "name": "stdout",
     "output_type": "stream",
     "text": [
      "Closest object distance: 7.9 meters\n",
      "Calculated velocity: 11.6 m/s\n",
      "Closest object distance: 8.3 meters\n",
      "Calculated velocity: 12.0 m/s\n",
      "Closest object distance: 8.0 meters\n",
      "Calculated velocity: 11.7 m/s\n",
      "Closest object distance: 8.0 meters\n",
      "Calculated velocity: 11.7 m/s\n",
      "Closest object distance: 7.9 meters\n",
      "Calculated velocity: 11.6 m/s\n",
      "Closest object distance: 8.3 meters\n",
      "Calculated velocity: 11.9 m/s\n",
      "Closest object distance: 8.2 meters\n",
      "Calculated velocity: 11.9 m/s\n",
      "Closest object distance: 8.9 meters\n",
      "Calculated velocity: 12.4 m/s\n"
     ]
    },
    {
     "name": "stderr",
     "output_type": "stream",
     "text": [
      "C:\\Users\\Oz/.cache\\torch\\hub\\ultralytics_yolov5_master\\models\\common.py:892: FutureWarning: `torch.cuda.amp.autocast(args...)` is deprecated. Please use `torch.amp.autocast('cuda', args...)` instead.\n",
      "  with amp.autocast(autocast):\n"
     ]
    },
    {
     "name": "stdout",
     "output_type": "stream",
     "text": [
      "Closest object distance: 8.3 meters\n",
      "Calculated velocity: 11.9 m/s\n",
      "Closest object distance: 8.0 meters\n",
      "Calculated velocity: 11.6 m/s\n",
      "Closest object distance: 8.5 meters\n",
      "Calculated velocity: 12.1 m/s\n",
      "Closest object distance: 8.1 meters\n",
      "Calculated velocity: 11.8 m/s\n",
      "Closest object distance: 8.9 meters\n",
      "Calculated velocity: 12.4 m/s\n",
      "Closest object distance: 8.1 meters\n",
      "Calculated velocity: 11.8 m/s\n",
      "Closest object distance: 9.1 meters\n",
      "Calculated velocity: 12.6 m/s\n",
      "Closest object distance: 8.0 meters\n",
      "Calculated velocity: 11.6 m/s\n",
      "Closest object distance: 8.5 meters\n",
      "Calculated velocity: 12.1 m/s\n",
      "Closest object distance: 8.0 meters\n",
      "Calculated velocity: 11.6 m/s\n",
      "Closest object distance: 8.1 meters\n",
      "Calculated velocity: 11.7 m/s\n",
      "Closest object distance: 8.2 meters\n",
      "Calculated velocity: 11.9 m/s\n",
      "Closest object distance: 8.1 meters\n",
      "Calculated velocity: 11.7 m/s\n",
      "Closest object distance: 8.9 meters\n",
      "Calculated velocity: 12.5 m/s\n",
      "Closest object distance: 8.0 meters\n",
      "Calculated velocity: 11.6 m/s\n"
     ]
    },
    {
     "name": "stderr",
     "output_type": "stream",
     "text": [
      "C:\\Users\\Oz/.cache\\torch\\hub\\ultralytics_yolov5_master\\models\\common.py:892: FutureWarning: `torch.cuda.amp.autocast(args...)` is deprecated. Please use `torch.amp.autocast('cuda', args...)` instead.\n",
      "  with amp.autocast(autocast):\n"
     ]
    },
    {
     "name": "stdout",
     "output_type": "stream",
     "text": [
      "Closest object distance: 8.3 meters\n",
      "Calculated velocity: 11.9 m/s\n",
      "Closest object distance: 8.3 meters\n",
      "Calculated velocity: 11.9 m/s\n",
      "Closest object distance: 8.3 meters\n",
      "Calculated velocity: 11.9 m/s\n",
      "Closest object distance: 8.1 meters\n",
      "Calculated velocity: 11.8 m/s\n",
      "Closest object distance: 8.6 meters\n",
      "Calculated velocity: 12.2 m/s\n",
      "Closest object distance: 8.6 meters\n",
      "Calculated velocity: 12.2 m/s\n",
      "Closest object distance: 8.3 meters\n",
      "Calculated velocity: 11.9 m/s\n",
      "Closest object distance: 8.5 meters\n",
      "Calculated velocity: 12.1 m/s\n"
     ]
    },
    {
     "name": "stderr",
     "output_type": "stream",
     "text": [
      "C:\\Users\\Oz/.cache\\torch\\hub\\ultralytics_yolov5_master\\models\\common.py:892: FutureWarning: `torch.cuda.amp.autocast(args...)` is deprecated. Please use `torch.amp.autocast('cuda', args...)` instead.\n",
      "  with amp.autocast(autocast):\n"
     ]
    },
    {
     "name": "stdout",
     "output_type": "stream",
     "text": [
      "Closest object distance: 8.1 meters\n",
      "Calculated velocity: 11.8 m/s\n",
      "Closest object distance: 8.4 meters\n",
      "Calculated velocity: 12.1 m/s\n",
      "Closest object distance: 7.9 meters\n",
      "Calculated velocity: 11.6 m/s\n",
      "Closest object distance: 8.5 meters\n",
      "Calculated velocity: 12.1 m/s\n",
      "Closest object distance: 8.9 meters\n",
      "Calculated velocity: 12.5 m/s\n",
      "Closest object distance: 8.2 meters\n",
      "Calculated velocity: 11.9 m/s\n",
      "Closest object distance: 8.5 meters\n",
      "Calculated velocity: 12.1 m/s\n"
     ]
    },
    {
     "name": "stderr",
     "output_type": "stream",
     "text": [
      "C:\\Users\\Oz/.cache\\torch\\hub\\ultralytics_yolov5_master\\models\\common.py:892: FutureWarning: `torch.cuda.amp.autocast(args...)` is deprecated. Please use `torch.amp.autocast('cuda', args...)` instead.\n",
      "  with amp.autocast(autocast):\n"
     ]
    },
    {
     "name": "stdout",
     "output_type": "stream",
     "text": [
      "Closest object distance: 8.8 meters\n",
      "Calculated velocity: 12.3 m/s\n",
      "Closest object distance: 8.3 meters\n",
      "Calculated velocity: 11.9 m/s\n",
      "Closest object distance: 8.2 meters\n",
      "Calculated velocity: 11.9 m/s\n",
      "Closest object distance: 8.1 meters\n",
      "Calculated velocity: 11.7 m/s\n",
      "Closest object distance: 8.1 meters\n",
      "Calculated velocity: 11.7 m/s\n",
      "Closest object distance: 8.3 meters\n",
      "Calculated velocity: 12.0 m/s\n",
      "Closest object distance: 8.0 meters\n",
      "Calculated velocity: 11.7 m/s\n",
      "Closest object distance: 8.1 meters\n",
      "Calculated velocity: 11.8 m/s\n",
      "Closest object distance: 8.0 meters\n",
      "Calculated velocity: 11.6 m/s\n",
      "Closest object distance: 8.7 meters\n",
      "Calculated velocity: 12.3 m/s\n"
     ]
    },
    {
     "name": "stderr",
     "output_type": "stream",
     "text": [
      "C:\\Users\\Oz/.cache\\torch\\hub\\ultralytics_yolov5_master\\models\\common.py:892: FutureWarning: `torch.cuda.amp.autocast(args...)` is deprecated. Please use `torch.amp.autocast('cuda', args...)` instead.\n",
      "  with amp.autocast(autocast):\n"
     ]
    },
    {
     "name": "stdout",
     "output_type": "stream",
     "text": [
      "Closest object distance: 8.2 meters\n",
      "Calculated velocity: 11.9 m/s\n",
      "Closest object distance: 9.0 meters\n",
      "Calculated velocity: 12.5 m/s\n",
      "Closest object distance: 8.2 meters\n",
      "Calculated velocity: 11.8 m/s\n",
      "Closest object distance: 7.9 meters\n",
      "Calculated velocity: 11.5 m/s\n",
      "Closest object distance: 8.2 meters\n",
      "Calculated velocity: 11.8 m/s\n",
      "Closest object distance: 8.7 meters\n",
      "Calculated velocity: 12.2 m/s\n",
      "Closest object distance: 8.9 meters\n",
      "Calculated velocity: 12.4 m/s\n",
      "Closest object distance: 8.1 meters\n",
      "Calculated velocity: 11.7 m/s\n",
      "Closest object distance: 8.3 meters\n",
      "Calculated velocity: 11.9 m/s\n"
     ]
    },
    {
     "name": "stderr",
     "output_type": "stream",
     "text": [
      "C:\\Users\\Oz/.cache\\torch\\hub\\ultralytics_yolov5_master\\models\\common.py:892: FutureWarning: `torch.cuda.amp.autocast(args...)` is deprecated. Please use `torch.amp.autocast('cuda', args...)` instead.\n",
      "  with amp.autocast(autocast):\n"
     ]
    },
    {
     "name": "stdout",
     "output_type": "stream",
     "text": [
      "Closest object distance: 8.4 meters\n",
      "Calculated velocity: 12.0 m/s\n",
      "Closest object distance: 8.0 meters\n",
      "Calculated velocity: 11.6 m/s\n",
      "Closest object distance: 8.5 meters\n",
      "Calculated velocity: 12.1 m/s\n",
      "Closest object distance: 8.4 meters\n",
      "Calculated velocity: 12.0 m/s\n",
      "Closest object distance: 8.0 meters\n",
      "Calculated velocity: 11.6 m/s\n",
      "Closest object distance: 8.3 meters\n",
      "Calculated velocity: 11.9 m/s\n",
      "Closest object distance: 8.5 meters\n",
      "Calculated velocity: 12.1 m/s\n",
      "Closest object distance: 8.0 meters\n",
      "Calculated velocity: 11.6 m/s\n"
     ]
    },
    {
     "name": "stderr",
     "output_type": "stream",
     "text": [
      "C:\\Users\\Oz/.cache\\torch\\hub\\ultralytics_yolov5_master\\models\\common.py:892: FutureWarning: `torch.cuda.amp.autocast(args...)` is deprecated. Please use `torch.amp.autocast('cuda', args...)` instead.\n",
      "  with amp.autocast(autocast):\n",
      "C:\\Users\\Oz/.cache\\torch\\hub\\ultralytics_yolov5_master\\models\\common.py:892: FutureWarning: `torch.cuda.amp.autocast(args...)` is deprecated. Please use `torch.amp.autocast('cuda', args...)` instead.\n",
      "  with amp.autocast(autocast):\n"
     ]
    },
    {
     "name": "stdout",
     "output_type": "stream",
     "text": [
      "Closest object distance: 8.9 meters\n",
      "Calculated velocity: 12.4 m/s\n",
      "Closest object distance: 8.0 meters\n",
      "Calculated velocity: 11.7 m/s\n",
      "Closest object distance: 8.1 meters\n",
      "Calculated velocity: 11.8 m/s\n",
      "Closest object distance: 8.2 meters\n",
      "Calculated velocity: 11.8 m/s\n",
      "Closest object distance: 8.5 meters\n",
      "Calculated velocity: 12.1 m/s\n",
      "Closest object distance: 8.0 meters\n",
      "Calculated velocity: 11.7 m/s\n",
      "Closest object distance: 8.4 meters\n",
      "Calculated velocity: 12.0 m/s\n",
      "Closest object distance: 9.2 meters\n",
      "Calculated velocity: 12.6 m/s\n"
     ]
    },
    {
     "name": "stderr",
     "output_type": "stream",
     "text": [
      "C:\\Users\\Oz/.cache\\torch\\hub\\ultralytics_yolov5_master\\models\\common.py:892: FutureWarning: `torch.cuda.amp.autocast(args...)` is deprecated. Please use `torch.amp.autocast('cuda', args...)` instead.\n",
      "  with amp.autocast(autocast):\n"
     ]
    },
    {
     "name": "stdout",
     "output_type": "stream",
     "text": [
      "Closest object distance: 8.2 meters\n",
      "Calculated velocity: 11.9 m/s\n",
      "Closest object distance: 8.3 meters\n",
      "Calculated velocity: 12.0 m/s\n",
      "Closest object distance: 8.4 meters\n",
      "Calculated velocity: 12.1 m/s\n",
      "Closest object distance: 8.2 meters\n",
      "Calculated velocity: 11.8 m/s\n",
      "Closest object distance: 9.1 meters\n",
      "Calculated velocity: 12.6 m/s\n",
      "Closest object distance: 8.6 meters\n",
      "Calculated velocity: 12.2 m/s\n",
      "Closest object distance: 8.8 meters\n",
      "Calculated velocity: 12.3 m/s\n",
      "Closest object distance: 8.4 meters\n",
      "Calculated velocity: 12.0 m/s\n",
      "Closest object distance: 8.2 meters\n",
      "Calculated velocity: 11.9 m/s\n",
      "Closest object distance: 8.1 meters\n",
      "Calculated velocity: 11.8 m/s\n",
      "Closest object distance: 8.1 meters\n",
      "Calculated velocity: 11.7 m/s\n",
      "Closest object distance: 8.1 meters\n",
      "Calculated velocity: 11.7 m/s\n",
      "Closest object distance: 8.1 meters\n",
      "Calculated velocity: 11.8 m/s\n",
      "Closest object distance: 8.1 meters\n",
      "Calculated velocity: 11.7 m/s\n",
      "Closest object distance: 8.6 meters\n",
      "Calculated velocity: 12.2 m/s\n",
      "Closest object distance: 8.2 meters\n",
      "Calculated velocity: 11.8 m/s\n"
     ]
    },
    {
     "name": "stderr",
     "output_type": "stream",
     "text": [
      "C:\\Users\\Oz/.cache\\torch\\hub\\ultralytics_yolov5_master\\models\\common.py:892: FutureWarning: `torch.cuda.amp.autocast(args...)` is deprecated. Please use `torch.amp.autocast('cuda', args...)` instead.\n",
      "  with amp.autocast(autocast):\n",
      "C:\\Users\\Oz/.cache\\torch\\hub\\ultralytics_yolov5_master\\models\\common.py:892: FutureWarning: `torch.cuda.amp.autocast(args...)` is deprecated. Please use `torch.amp.autocast('cuda', args...)` instead.\n",
      "  with amp.autocast(autocast):\n"
     ]
    },
    {
     "name": "stdout",
     "output_type": "stream",
     "text": [
      "Closest object distance: 8.3 meters\n",
      "Calculated velocity: 11.9 m/s\n",
      "Closest object distance: 8.0 meters\n",
      "Calculated velocity: 11.6 m/s\n",
      "Closest object distance: 7.9 meters\n",
      "Calculated velocity: 11.6 m/s\n",
      "Closest object distance: 7.9 meters\n",
      "Calculated velocity: 11.6 m/s\n",
      "Closest object distance: 8.7 meters\n",
      "Calculated velocity: 12.3 m/s\n",
      "Closest object distance: 8.0 meters\n",
      "Calculated velocity: 11.6 m/s\n",
      "Closest object distance: 8.3 meters\n",
      "Calculated velocity: 12.0 m/s\n"
     ]
    },
    {
     "name": "stderr",
     "output_type": "stream",
     "text": [
      "C:\\Users\\Oz/.cache\\torch\\hub\\ultralytics_yolov5_master\\models\\common.py:892: FutureWarning: `torch.cuda.amp.autocast(args...)` is deprecated. Please use `torch.amp.autocast('cuda', args...)` instead.\n",
      "  with amp.autocast(autocast):\n"
     ]
    },
    {
     "name": "stdout",
     "output_type": "stream",
     "text": [
      "Closest object distance: 8.5 meters\n",
      "Calculated velocity: 12.1 m/s\n",
      "Closest object distance: 7.9 meters\n",
      "Calculated velocity: 11.5 m/s\n",
      "Closest object distance: 8.0 meters\n",
      "Calculated velocity: 11.7 m/s\n",
      "Closest object distance: 9.3 meters\n",
      "Calculated velocity: 12.7 m/s\n",
      "Closest object distance: 8.9 meters\n",
      "Calculated velocity: 12.5 m/s\n",
      "Closest object distance: 8.3 meters\n",
      "Calculated velocity: 12.0 m/s\n",
      "Closest object distance: 8.4 meters\n",
      "Calculated velocity: 12.0 m/s\n"
     ]
    },
    {
     "name": "stderr",
     "output_type": "stream",
     "text": [
      "C:\\Users\\Oz/.cache\\torch\\hub\\ultralytics_yolov5_master\\models\\common.py:892: FutureWarning: `torch.cuda.amp.autocast(args...)` is deprecated. Please use `torch.amp.autocast('cuda', args...)` instead.\n",
      "  with amp.autocast(autocast):\n"
     ]
    },
    {
     "name": "stdout",
     "output_type": "stream",
     "text": [
      "Closest object distance: 8.7 meters\n",
      "Calculated velocity: 12.3 m/s\n",
      "Closest object distance: 8.0 meters\n",
      "Calculated velocity: 11.6 m/s\n",
      "Closest object distance: 8.4 meters\n",
      "Calculated velocity: 12.1 m/s\n",
      "Closest object distance: 8.2 meters\n",
      "Calculated velocity: 11.9 m/s\n",
      "Closest object distance: 8.1 meters\n",
      "Calculated velocity: 11.8 m/s\n",
      "Closest object distance: 8.4 meters\n",
      "Calculated velocity: 12.0 m/s\n",
      "Closest object distance: 8.3 meters\n",
      "Calculated velocity: 11.9 m/s\n",
      "Closest object distance: 8.5 meters\n",
      "Calculated velocity: 12.1 m/s\n",
      "Closest object distance: 8.0 meters\n",
      "Calculated velocity: 11.7 m/s\n",
      "Closest object distance: 8.3 meters\n",
      "Calculated velocity: 11.9 m/s\n",
      "Closest object distance: 8.2 meters\n",
      "Calculated velocity: 11.9 m/s\n",
      "Closest object distance: 8.1 meters\n",
      "Calculated velocity: 11.8 m/s\n",
      "Closest object distance: 8.5 meters\n",
      "Calculated velocity: 12.1 m/s\n",
      "Closest object distance: 8.5 meters\n",
      "Calculated velocity: 12.2 m/s\n",
      "Closest object distance: 8.4 meters\n",
      "Calculated velocity: 12.0 m/s\n"
     ]
    },
    {
     "name": "stderr",
     "output_type": "stream",
     "text": [
      "C:\\Users\\Oz/.cache\\torch\\hub\\ultralytics_yolov5_master\\models\\common.py:892: FutureWarning: `torch.cuda.amp.autocast(args...)` is deprecated. Please use `torch.amp.autocast('cuda', args...)` instead.\n",
      "  with amp.autocast(autocast):\n"
     ]
    },
    {
     "name": "stdout",
     "output_type": "stream",
     "text": [
      "Closest object distance: 8.7 meters\n",
      "Calculated velocity: 12.3 m/s\n",
      "Closest object distance: 7.9 meters\n",
      "Calculated velocity: 11.6 m/s\n",
      "Closest object distance: 8.4 meters\n",
      "Calculated velocity: 12.0 m/s\n",
      "Closest object distance: 8.2 meters\n",
      "Calculated velocity: 11.9 m/s\n",
      "Closest object distance: 8.4 meters\n",
      "Calculated velocity: 12.1 m/s\n",
      "Closest object distance: 8.2 meters\n",
      "Calculated velocity: 11.8 m/s\n",
      "Closest object distance: 8.7 meters\n",
      "Calculated velocity: 12.3 m/s\n",
      "Closest object distance: 8.1 meters\n",
      "Calculated velocity: 11.7 m/s\n"
     ]
    },
    {
     "name": "stderr",
     "output_type": "stream",
     "text": [
      "C:\\Users\\Oz/.cache\\torch\\hub\\ultralytics_yolov5_master\\models\\common.py:892: FutureWarning: `torch.cuda.amp.autocast(args...)` is deprecated. Please use `torch.amp.autocast('cuda', args...)` instead.\n",
      "  with amp.autocast(autocast):\n"
     ]
    },
    {
     "name": "stdout",
     "output_type": "stream",
     "text": [
      "Closest object distance: 8.0 meters\n",
      "Calculated velocity: 11.7 m/s\n",
      "Closest object distance: 8.2 meters\n",
      "Calculated velocity: 11.9 m/s\n",
      "Closest object distance: 8.3 meters\n",
      "Calculated velocity: 11.9 m/s\n",
      "Closest object distance: 8.7 meters\n",
      "Calculated velocity: 12.3 m/s\n",
      "Closest object distance: 8.4 meters\n",
      "Calculated velocity: 12.0 m/s\n",
      "Closest object distance: 7.9 meters\n",
      "Calculated velocity: 11.6 m/s\n",
      "Closest object distance: 8.2 meters\n",
      "Calculated velocity: 11.9 m/s\n",
      "Closest object distance: 8.0 meters\n",
      "Calculated velocity: 11.7 m/s\n"
     ]
    },
    {
     "name": "stderr",
     "output_type": "stream",
     "text": [
      "C:\\Users\\Oz/.cache\\torch\\hub\\ultralytics_yolov5_master\\models\\common.py:892: FutureWarning: `torch.cuda.amp.autocast(args...)` is deprecated. Please use `torch.amp.autocast('cuda', args...)` instead.\n",
      "  with amp.autocast(autocast):\n"
     ]
    },
    {
     "name": "stdout",
     "output_type": "stream",
     "text": [
      "Closest object distance: 8.0 meters\n",
      "Calculated velocity: 11.7 m/s\n",
      "Closest object distance: 8.2 meters\n",
      "Calculated velocity: 11.8 m/s\n",
      "Closest object distance: 8.4 meters\n",
      "Calculated velocity: 12.1 m/s\n",
      "Closest object distance: 8.2 meters\n",
      "Calculated velocity: 11.8 m/s\n",
      "Closest object distance: 8.0 meters\n",
      "Calculated velocity: 11.7 m/s\n",
      "Closest object distance: 9.1 meters\n",
      "Calculated velocity: 12.6 m/s\n",
      "Closest object distance: 8.2 meters\n",
      "Calculated velocity: 11.9 m/s\n"
     ]
    },
    {
     "name": "stderr",
     "output_type": "stream",
     "text": [
      "C:\\Users\\Oz/.cache\\torch\\hub\\ultralytics_yolov5_master\\models\\common.py:892: FutureWarning: `torch.cuda.amp.autocast(args...)` is deprecated. Please use `torch.amp.autocast('cuda', args...)` instead.\n",
      "  with amp.autocast(autocast):\n"
     ]
    },
    {
     "name": "stdout",
     "output_type": "stream",
     "text": [
      "Closest object distance: 8.0 meters\n",
      "Calculated velocity: 11.6 m/s\n",
      "Closest object distance: 8.3 meters\n",
      "Calculated velocity: 11.9 m/s\n",
      "Closest object distance: 8.6 meters\n",
      "Calculated velocity: 12.2 m/s\n",
      "Closest object distance: 8.1 meters\n",
      "Calculated velocity: 11.7 m/s\n",
      "Closest object distance: 8.0 meters\n",
      "Calculated velocity: 11.7 m/s\n",
      "Closest object distance: 8.1 meters\n",
      "Calculated velocity: 11.7 m/s\n",
      "Closest object distance: 8.0 meters\n",
      "Calculated velocity: 11.6 m/s\n",
      "Closest object distance: 8.0 meters\n",
      "Calculated velocity: 11.6 m/s\n"
     ]
    },
    {
     "name": "stderr",
     "output_type": "stream",
     "text": [
      "C:\\Users\\Oz/.cache\\torch\\hub\\ultralytics_yolov5_master\\models\\common.py:892: FutureWarning: `torch.cuda.amp.autocast(args...)` is deprecated. Please use `torch.amp.autocast('cuda', args...)` instead.\n",
      "  with amp.autocast(autocast):\n"
     ]
    },
    {
     "name": "stdout",
     "output_type": "stream",
     "text": [
      "Closest object distance: 8.2 meters\n",
      "Calculated velocity: 11.8 m/s\n",
      "Closest object distance: 8.2 meters\n",
      "Calculated velocity: 11.9 m/s\n",
      "Closest object distance: 8.1 meters\n",
      "Calculated velocity: 11.8 m/s\n",
      "Closest object distance: 8.0 meters\n",
      "Calculated velocity: 11.7 m/s\n",
      "Closest object distance: 8.0 meters\n",
      "Calculated velocity: 11.7 m/s\n",
      "Closest object distance: 8.1 meters\n",
      "Calculated velocity: 11.8 m/s\n",
      "Closest object distance: 8.3 meters\n",
      "Calculated velocity: 11.9 m/s\n",
      "Closest object distance: 8.0 meters\n",
      "Calculated velocity: 11.7 m/s\n"
     ]
    },
    {
     "name": "stderr",
     "output_type": "stream",
     "text": [
      "C:\\Users\\Oz/.cache\\torch\\hub\\ultralytics_yolov5_master\\models\\common.py:892: FutureWarning: `torch.cuda.amp.autocast(args...)` is deprecated. Please use `torch.amp.autocast('cuda', args...)` instead.\n",
      "  with amp.autocast(autocast):\n"
     ]
    },
    {
     "name": "stdout",
     "output_type": "stream",
     "text": [
      "Closest object distance: 8.2 meters\n",
      "Calculated velocity: 11.9 m/s\n",
      "Closest object distance: 8.4 meters\n",
      "Calculated velocity: 12.0 m/s\n",
      "Closest object distance: 8.1 meters\n",
      "Calculated velocity: 11.7 m/s\n",
      "Closest object distance: 8.0 meters\n",
      "Calculated velocity: 11.6 m/s\n",
      "Closest object distance: 8.1 meters\n",
      "Calculated velocity: 11.7 m/s\n",
      "Closest object distance: 8.3 meters\n",
      "Calculated velocity: 11.9 m/s\n",
      "Closest object distance: 8.1 meters\n",
      "Calculated velocity: 11.8 m/s\n"
     ]
    },
    {
     "name": "stderr",
     "output_type": "stream",
     "text": [
      "C:\\Users\\Oz/.cache\\torch\\hub\\ultralytics_yolov5_master\\models\\common.py:892: FutureWarning: `torch.cuda.amp.autocast(args...)` is deprecated. Please use `torch.amp.autocast('cuda', args...)` instead.\n",
      "  with amp.autocast(autocast):\n"
     ]
    },
    {
     "name": "stdout",
     "output_type": "stream",
     "text": [
      "Closest object distance: 8.0 meters\n",
      "Calculated velocity: 11.7 m/s\n",
      "Closest object distance: 8.5 meters\n",
      "Calculated velocity: 12.1 m/s\n",
      "Closest object distance: 8.0 meters\n",
      "Calculated velocity: 11.7 m/s\n",
      "Closest object distance: 8.2 meters\n",
      "Calculated velocity: 11.9 m/s\n",
      "Closest object distance: 8.0 meters\n",
      "Calculated velocity: 11.7 m/s\n",
      "Closest object distance: 8.1 meters\n",
      "Calculated velocity: 11.8 m/s\n",
      "Closest object distance: 7.9 meters\n",
      "Calculated velocity: 11.6 m/s\n",
      "Closest object distance: 8.2 meters\n",
      "Calculated velocity: 11.8 m/s\n"
     ]
    },
    {
     "name": "stderr",
     "output_type": "stream",
     "text": [
      "C:\\Users\\Oz/.cache\\torch\\hub\\ultralytics_yolov5_master\\models\\common.py:892: FutureWarning: `torch.cuda.amp.autocast(args...)` is deprecated. Please use `torch.amp.autocast('cuda', args...)` instead.\n",
      "  with amp.autocast(autocast):\n"
     ]
    },
    {
     "name": "stdout",
     "output_type": "stream",
     "text": [
      "Closest object distance: 8.0 meters\n",
      "Calculated velocity: 11.7 m/s\n",
      "Closest object distance: 8.4 meters\n",
      "Calculated velocity: 12.0 m/s\n",
      "Closest object distance: 8.8 meters\n",
      "Calculated velocity: 12.4 m/s\n",
      "Closest object distance: 8.4 meters\n",
      "Calculated velocity: 12.0 m/s\n",
      "Closest object distance: 8.1 meters\n",
      "Calculated velocity: 11.8 m/s\n",
      "Closest object distance: 9.4 meters\n",
      "Calculated velocity: 12.8 m/s\n",
      "Closest object distance: 8.3 meters\n",
      "Calculated velocity: 12.0 m/s\n",
      "Closest object distance: 8.1 meters\n",
      "Calculated velocity: 11.7 m/s\n"
     ]
    },
    {
     "name": "stderr",
     "output_type": "stream",
     "text": [
      "C:\\Users\\Oz/.cache\\torch\\hub\\ultralytics_yolov5_master\\models\\common.py:892: FutureWarning: `torch.cuda.amp.autocast(args...)` is deprecated. Please use `torch.amp.autocast('cuda', args...)` instead.\n",
      "  with amp.autocast(autocast):\n"
     ]
    },
    {
     "name": "stdout",
     "output_type": "stream",
     "text": [
      "Closest object distance: 8.0 meters\n",
      "Calculated velocity: 11.7 m/s\n",
      "Closest object distance: 8.2 meters\n",
      "Calculated velocity: 11.9 m/s\n",
      "Closest object distance: 8.4 meters\n",
      "Calculated velocity: 12.0 m/s\n",
      "Closest object distance: 8.4 meters\n",
      "Calculated velocity: 12.0 m/s\n",
      "Closest object distance: 8.0 meters\n",
      "Calculated velocity: 11.7 m/s\n",
      "Closest object distance: 8.5 meters\n",
      "Calculated velocity: 12.1 m/s\n"
     ]
    },
    {
     "name": "stderr",
     "output_type": "stream",
     "text": [
      "C:\\Users\\Oz/.cache\\torch\\hub\\ultralytics_yolov5_master\\models\\common.py:892: FutureWarning: `torch.cuda.amp.autocast(args...)` is deprecated. Please use `torch.amp.autocast('cuda', args...)` instead.\n",
      "  with amp.autocast(autocast):\n"
     ]
    },
    {
     "name": "stdout",
     "output_type": "stream",
     "text": [
      "Closest object distance: 8.4 meters\n",
      "Calculated velocity: 12.0 m/s\n",
      "Closest object distance: 8.4 meters\n",
      "Calculated velocity: 12.0 m/s\n",
      "Closest object distance: 8.1 meters\n",
      "Calculated velocity: 11.7 m/s\n",
      "Closest object distance: 8.7 meters\n",
      "Calculated velocity: 12.3 m/s\n",
      "Closest object distance: 7.9 meters\n",
      "Calculated velocity: 11.6 m/s\n",
      "Closest object distance: 9.4 meters\n",
      "Calculated velocity: 12.8 m/s\n",
      "Closest object distance: 8.4 meters\n",
      "Calculated velocity: 12.0 m/s\n",
      "Closest object distance: 8.0 meters\n",
      "Calculated velocity: 11.6 m/s\n",
      "Closest object distance: 8.3 meters\n",
      "Calculated velocity: 12.0 m/s\n",
      "Closest object distance: 8.4 meters\n",
      "Calculated velocity: 12.0 m/s\n",
      "Closest object distance: 8.0 meters\n",
      "Calculated velocity: 11.7 m/s\n"
     ]
    },
    {
     "name": "stderr",
     "output_type": "stream",
     "text": [
      "C:\\Users\\Oz/.cache\\torch\\hub\\ultralytics_yolov5_master\\models\\common.py:892: FutureWarning: `torch.cuda.amp.autocast(args...)` is deprecated. Please use `torch.amp.autocast('cuda', args...)` instead.\n",
      "  with amp.autocast(autocast):\n"
     ]
    },
    {
     "name": "stdout",
     "output_type": "stream",
     "text": [
      "Closest object distance: 8.2 meters\n",
      "Calculated velocity: 11.8 m/s\n",
      "Closest object distance: 8.4 meters\n",
      "Calculated velocity: 12.0 m/s\n",
      "Closest object distance: 8.0 meters\n",
      "Calculated velocity: 11.7 m/s\n",
      "Closest object distance: 8.0 meters\n",
      "Calculated velocity: 11.6 m/s\n",
      "Closest object distance: 8.1 meters\n",
      "Calculated velocity: 11.8 m/s\n",
      "Closest object distance: 8.0 meters\n",
      "Calculated velocity: 11.6 m/s\n",
      "Closest object distance: 8.4 meters\n",
      "Calculated velocity: 12.0 m/s\n"
     ]
    },
    {
     "name": "stderr",
     "output_type": "stream",
     "text": [
      "C:\\Users\\Oz/.cache\\torch\\hub\\ultralytics_yolov5_master\\models\\common.py:892: FutureWarning: `torch.cuda.amp.autocast(args...)` is deprecated. Please use `torch.amp.autocast('cuda', args...)` instead.\n",
      "  with amp.autocast(autocast):\n"
     ]
    },
    {
     "name": "stdout",
     "output_type": "stream",
     "text": [
      "Closest object distance: 8.0 meters\n",
      "Calculated velocity: 11.7 m/s\n",
      "Closest object distance: 8.1 meters\n",
      "Calculated velocity: 11.7 m/s\n",
      "Closest object distance: 8.2 meters\n",
      "Calculated velocity: 11.8 m/s\n",
      "Closest object distance: 7.9 meters\n",
      "Calculated velocity: 11.6 m/s\n",
      "Closest object distance: 8.4 meters\n",
      "Calculated velocity: 12.0 m/s\n",
      "Closest object distance: 8.0 meters\n",
      "Calculated velocity: 11.6 m/s\n",
      "Closest object distance: 8.6 meters\n",
      "Calculated velocity: 12.2 m/s\n",
      "Closest object distance: 8.0 meters\n",
      "Calculated velocity: 11.7 m/s\n",
      "Closest object distance: 8.4 meters\n",
      "Calculated velocity: 12.0 m/s\n"
     ]
    },
    {
     "name": "stderr",
     "output_type": "stream",
     "text": [
      "C:\\Users\\Oz/.cache\\torch\\hub\\ultralytics_yolov5_master\\models\\common.py:892: FutureWarning: `torch.cuda.amp.autocast(args...)` is deprecated. Please use `torch.amp.autocast('cuda', args...)` instead.\n",
      "  with amp.autocast(autocast):\n",
      "C:\\Users\\Oz/.cache\\torch\\hub\\ultralytics_yolov5_master\\models\\common.py:892: FutureWarning: `torch.cuda.amp.autocast(args...)` is deprecated. Please use `torch.amp.autocast('cuda', args...)` instead.\n",
      "  with amp.autocast(autocast):\n"
     ]
    },
    {
     "name": "stdout",
     "output_type": "stream",
     "text": [
      "Closest object distance: 8.1 meters\n",
      "Calculated velocity: 11.8 m/s\n",
      "Closest object distance: 8.7 meters\n",
      "Calculated velocity: 12.3 m/s\n",
      "Closest object distance: 8.4 meters\n",
      "Calculated velocity: 12.1 m/s\n",
      "Closest object distance: 8.8 meters\n",
      "Calculated velocity: 12.4 m/s\n",
      "Closest object distance: 8.5 meters\n",
      "Calculated velocity: 12.1 m/s\n",
      "Closest object distance: 8.5 meters\n",
      "Calculated velocity: 12.1 m/s\n",
      "Closest object distance: 8.0 meters\n",
      "Calculated velocity: 11.6 m/s\n",
      "Closest object distance: 8.1 meters\n",
      "Calculated velocity: 11.8 m/s\n",
      "Closest object distance: 8.1 meters\n",
      "Calculated velocity: 11.7 m/s\n",
      "Closest object distance: 9.1 meters\n",
      "Calculated velocity: 12.6 m/s\n",
      "Closest object distance: 8.4 meters\n",
      "Calculated velocity: 12.0 m/s\n",
      "Closest object distance: 8.4 meters\n",
      "Calculated velocity: 12.0 m/s\n",
      "Closest object distance: 8.1 meters\n",
      "Calculated velocity: 11.8 m/s\n",
      "Closest object distance: 8.2 meters\n",
      "Calculated velocity: 11.9 m/s\n"
     ]
    },
    {
     "name": "stderr",
     "output_type": "stream",
     "text": [
      "C:\\Users\\Oz/.cache\\torch\\hub\\ultralytics_yolov5_master\\models\\common.py:892: FutureWarning: `torch.cuda.amp.autocast(args...)` is deprecated. Please use `torch.amp.autocast('cuda', args...)` instead.\n",
      "  with amp.autocast(autocast):\n"
     ]
    },
    {
     "name": "stdout",
     "output_type": "stream",
     "text": [
      "Closest object distance: 8.3 meters\n",
      "Calculated velocity: 12.0 m/s\n",
      "Closest object distance: 8.6 meters\n",
      "Calculated velocity: 12.2 m/s\n",
      "Closest object distance: 8.3 meters\n",
      "Calculated velocity: 11.9 m/s\n",
      "Closest object distance: 8.1 meters\n",
      "Calculated velocity: 11.8 m/s\n",
      "Closest object distance: 8.6 meters\n",
      "Calculated velocity: 12.2 m/s\n",
      "Closest object distance: 8.1 meters\n",
      "Calculated velocity: 11.7 m/s\n",
      "Closest object distance: 8.0 meters\n",
      "Calculated velocity: 11.6 m/s\n",
      "Closest object distance: 7.9 meters\n",
      "Calculated velocity: 11.6 m/s\n",
      "Closest object distance: 8.0 meters\n",
      "Calculated velocity: 11.7 m/s\n"
     ]
    },
    {
     "name": "stderr",
     "output_type": "stream",
     "text": [
      "C:\\Users\\Oz/.cache\\torch\\hub\\ultralytics_yolov5_master\\models\\common.py:892: FutureWarning: `torch.cuda.amp.autocast(args...)` is deprecated. Please use `torch.amp.autocast('cuda', args...)` instead.\n",
      "  with amp.autocast(autocast):\n",
      "C:\\Users\\Oz/.cache\\torch\\hub\\ultralytics_yolov5_master\\models\\common.py:892: FutureWarning: `torch.cuda.amp.autocast(args...)` is deprecated. Please use `torch.amp.autocast('cuda', args...)` instead.\n",
      "  with amp.autocast(autocast):\n"
     ]
    },
    {
     "name": "stdout",
     "output_type": "stream",
     "text": [
      "Closest object distance: 8.8 meters\n",
      "Calculated velocity: 12.3 m/s\n",
      "Closest object distance: 8.2 meters\n",
      "Calculated velocity: 11.9 m/s\n",
      "Closest object distance: 8.3 meters\n",
      "Calculated velocity: 11.9 m/s\n",
      "Closest object distance: 8.0 meters\n",
      "Calculated velocity: 11.6 m/s\n",
      "Closest object distance: 8.0 meters\n",
      "Calculated velocity: 11.7 m/s\n",
      "Closest object distance: 7.9 meters\n",
      "Calculated velocity: 11.6 m/s\n",
      "Closest object distance: 7.9 meters\n",
      "Calculated velocity: 11.6 m/s\n",
      "Closest object distance: 8.4 meters\n",
      "Calculated velocity: 12.0 m/s\n"
     ]
    },
    {
     "name": "stderr",
     "output_type": "stream",
     "text": [
      "C:\\Users\\Oz/.cache\\torch\\hub\\ultralytics_yolov5_master\\models\\common.py:892: FutureWarning: `torch.cuda.amp.autocast(args...)` is deprecated. Please use `torch.amp.autocast('cuda', args...)` instead.\n",
      "  with amp.autocast(autocast):\n"
     ]
    },
    {
     "name": "stdout",
     "output_type": "stream",
     "text": [
      "Closest object distance: 8.2 meters\n",
      "Calculated velocity: 11.9 m/s\n",
      "Closest object distance: 8.4 meters\n",
      "Calculated velocity: 12.0 m/s\n",
      "Closest object distance: 8.1 meters\n",
      "Calculated velocity: 11.7 m/s\n",
      "Closest object distance: 7.9 meters\n",
      "Calculated velocity: 11.6 m/s\n",
      "Closest object distance: 8.5 meters\n",
      "Calculated velocity: 12.1 m/s\n",
      "Closest object distance: 8.3 meters\n",
      "Calculated velocity: 12.0 m/s\n",
      "Closest object distance: 8.6 meters\n",
      "Calculated velocity: 12.2 m/s\n",
      "Closest object distance: 8.0 meters\n",
      "Calculated velocity: 11.7 m/s\n"
     ]
    },
    {
     "name": "stderr",
     "output_type": "stream",
     "text": [
      "C:\\Users\\Oz/.cache\\torch\\hub\\ultralytics_yolov5_master\\models\\common.py:892: FutureWarning: `torch.cuda.amp.autocast(args...)` is deprecated. Please use `torch.amp.autocast('cuda', args...)` instead.\n",
      "  with amp.autocast(autocast):\n"
     ]
    },
    {
     "name": "stdout",
     "output_type": "stream",
     "text": [
      "Closest object distance: 8.0 meters\n",
      "Calculated velocity: 11.6 m/s\n",
      "Closest object distance: 8.2 meters\n",
      "Calculated velocity: 11.8 m/s\n",
      "Closest object distance: 8.1 meters\n",
      "Calculated velocity: 11.8 m/s\n",
      "Closest object distance: 8.4 meters\n",
      "Calculated velocity: 12.0 m/s\n",
      "Closest object distance: 8.0 meters\n",
      "Calculated velocity: 11.6 m/s\n",
      "Closest object distance: 8.1 meters\n",
      "Calculated velocity: 11.7 m/s\n",
      "Closest object distance: 8.7 meters\n",
      "Calculated velocity: 12.3 m/s\n",
      "Closest object distance: 8.0 meters\n",
      "Calculated velocity: 11.6 m/s\n"
     ]
    },
    {
     "name": "stderr",
     "output_type": "stream",
     "text": [
      "C:\\Users\\Oz/.cache\\torch\\hub\\ultralytics_yolov5_master\\models\\common.py:892: FutureWarning: `torch.cuda.amp.autocast(args...)` is deprecated. Please use `torch.amp.autocast('cuda', args...)` instead.\n",
      "  with amp.autocast(autocast):\n"
     ]
    },
    {
     "name": "stdout",
     "output_type": "stream",
     "text": [
      "Closest object distance: 8.7 meters\n",
      "Calculated velocity: 12.3 m/s\n",
      "Closest object distance: 8.0 meters\n",
      "Calculated velocity: 11.6 m/s\n",
      "Closest object distance: 8.3 meters\n",
      "Calculated velocity: 11.9 m/s\n",
      "Closest object distance: 8.3 meters\n",
      "Calculated velocity: 12.0 m/s\n",
      "Closest object distance: 8.2 meters\n",
      "Calculated velocity: 11.9 m/s\n",
      "Closest object distance: 8.9 meters\n",
      "Calculated velocity: 12.5 m/s\n",
      "Closest object distance: 9.0 meters\n",
      "Calculated velocity: 12.5 m/s\n",
      "Closest object distance: 8.2 meters\n",
      "Calculated velocity: 11.8 m/s\n"
     ]
    },
    {
     "name": "stderr",
     "output_type": "stream",
     "text": [
      "C:\\Users\\Oz/.cache\\torch\\hub\\ultralytics_yolov5_master\\models\\common.py:892: FutureWarning: `torch.cuda.amp.autocast(args...)` is deprecated. Please use `torch.amp.autocast('cuda', args...)` instead.\n",
      "  with amp.autocast(autocast):\n"
     ]
    },
    {
     "name": "stdout",
     "output_type": "stream",
     "text": [
      "Closest object distance: 8.3 meters\n",
      "Calculated velocity: 12.0 m/s\n",
      "Closest object distance: 8.3 meters\n",
      "Calculated velocity: 12.0 m/s\n",
      "Closest object distance: 7.9 meters\n",
      "Calculated velocity: 11.6 m/s\n",
      "Closest object distance: 8.6 meters\n",
      "Calculated velocity: 12.2 m/s\n",
      "Closest object distance: 8.0 meters\n",
      "Calculated velocity: 11.7 m/s\n",
      "Closest object distance: 8.0 meters\n",
      "Calculated velocity: 11.7 m/s\n",
      "Closest object distance: 8.0 meters\n",
      "Calculated velocity: 11.6 m/s\n",
      "Closest object distance: 8.2 meters\n",
      "Calculated velocity: 11.9 m/s\n",
      "Closest object distance: 8.2 meters\n",
      "Calculated velocity: 11.8 m/s\n",
      "Closest object distance: 8.3 meters\n",
      "Calculated velocity: 12.0 m/s\n",
      "Closest object distance: 8.4 meters\n",
      "Calculated velocity: 12.1 m/s\n",
      "Closest object distance: 8.7 meters\n",
      "Calculated velocity: 12.3 m/s\n",
      "Closest object distance: 8.3 meters\n",
      "Calculated velocity: 11.9 m/s\n",
      "Closest object distance: 8.1 meters\n",
      "Calculated velocity: 11.8 m/s\n"
     ]
    },
    {
     "name": "stderr",
     "output_type": "stream",
     "text": [
      "C:\\Users\\Oz/.cache\\torch\\hub\\ultralytics_yolov5_master\\models\\common.py:892: FutureWarning: `torch.cuda.amp.autocast(args...)` is deprecated. Please use `torch.amp.autocast('cuda', args...)` instead.\n",
      "  with amp.autocast(autocast):\n"
     ]
    },
    {
     "name": "stdout",
     "output_type": "stream",
     "text": [
      "Closest object distance: 8.3 meters\n",
      "Calculated velocity: 12.0 m/s\n",
      "Closest object distance: 8.0 meters\n",
      "Calculated velocity: 11.6 m/s\n",
      "Closest object distance: 8.9 meters\n",
      "Calculated velocity: 12.4 m/s\n",
      "Closest object distance: 8.0 meters\n",
      "Calculated velocity: 11.6 m/s\n",
      "Closest object distance: 8.5 meters\n",
      "Calculated velocity: 12.1 m/s\n",
      "Closest object distance: 8.7 meters\n",
      "Calculated velocity: 12.3 m/s\n",
      "Closest object distance: 8.2 meters\n",
      "Calculated velocity: 11.9 m/s\n",
      "Closest object distance: 8.3 meters\n",
      "Calculated velocity: 11.9 m/s\n",
      "Closest object distance: 8.0 meters\n",
      "Calculated velocity: 11.6 m/s\n"
     ]
    },
    {
     "name": "stderr",
     "output_type": "stream",
     "text": [
      "C:\\Users\\Oz/.cache\\torch\\hub\\ultralytics_yolov5_master\\models\\common.py:892: FutureWarning: `torch.cuda.amp.autocast(args...)` is deprecated. Please use `torch.amp.autocast('cuda', args...)` instead.\n",
      "  with amp.autocast(autocast):\n",
      "C:\\Users\\Oz/.cache\\torch\\hub\\ultralytics_yolov5_master\\models\\common.py:892: FutureWarning: `torch.cuda.amp.autocast(args...)` is deprecated. Please use `torch.amp.autocast('cuda', args...)` instead.\n",
      "  with amp.autocast(autocast):\n"
     ]
    },
    {
     "name": "stdout",
     "output_type": "stream",
     "text": [
      "Closest object distance: 8.2 meters\n",
      "Calculated velocity: 11.8 m/s\n",
      "Closest object distance: 8.0 meters\n",
      "Calculated velocity: 11.6 m/s\n",
      "Closest object distance: 8.2 meters\n",
      "Calculated velocity: 11.8 m/s\n",
      "Closest object distance: 8.0 meters\n",
      "Calculated velocity: 11.6 m/s\n",
      "Closest object distance: 8.3 meters\n",
      "Calculated velocity: 12.0 m/s\n",
      "Closest object distance: 8.3 meters\n",
      "Calculated velocity: 11.9 m/s\n",
      "Closest object distance: 8.5 meters\n",
      "Calculated velocity: 12.1 m/s\n",
      "Closest object distance: 8.1 meters\n",
      "Calculated velocity: 11.8 m/s\n"
     ]
    },
    {
     "name": "stderr",
     "output_type": "stream",
     "text": [
      "C:\\Users\\Oz/.cache\\torch\\hub\\ultralytics_yolov5_master\\models\\common.py:892: FutureWarning: `torch.cuda.amp.autocast(args...)` is deprecated. Please use `torch.amp.autocast('cuda', args...)` instead.\n",
      "  with amp.autocast(autocast):\n"
     ]
    },
    {
     "name": "stdout",
     "output_type": "stream",
     "text": [
      "Closest object distance: 8.0 meters\n",
      "Calculated velocity: 11.7 m/s\n",
      "Closest object distance: 8.4 meters\n",
      "Calculated velocity: 12.1 m/s\n",
      "Closest object distance: 8.1 meters\n",
      "Calculated velocity: 11.7 m/s\n",
      "Closest object distance: 8.1 meters\n",
      "Calculated velocity: 11.7 m/s\n",
      "Closest object distance: 8.8 meters\n",
      "Calculated velocity: 12.3 m/s\n",
      "Closest object distance: 8.5 meters\n",
      "Calculated velocity: 12.1 m/s\n",
      "Closest object distance: 7.9 meters\n",
      "Calculated velocity: 11.6 m/s\n",
      "Closest object distance: 8.0 meters\n",
      "Calculated velocity: 11.6 m/s\n"
     ]
    },
    {
     "name": "stderr",
     "output_type": "stream",
     "text": [
      "C:\\Users\\Oz/.cache\\torch\\hub\\ultralytics_yolov5_master\\models\\common.py:892: FutureWarning: `torch.cuda.amp.autocast(args...)` is deprecated. Please use `torch.amp.autocast('cuda', args...)` instead.\n",
      "  with amp.autocast(autocast):\n"
     ]
    },
    {
     "name": "stdout",
     "output_type": "stream",
     "text": [
      "Closest object distance: 8.0 meters\n",
      "Calculated velocity: 11.6 m/s\n",
      "Closest object distance: 8.2 meters\n",
      "Calculated velocity: 11.8 m/s\n",
      "Closest object distance: 8.4 meters\n",
      "Calculated velocity: 12.0 m/s\n",
      "Closest object distance: 8.0 meters\n",
      "Calculated velocity: 11.7 m/s\n",
      "Closest object distance: 8.1 meters\n",
      "Calculated velocity: 11.7 m/s\n",
      "Closest object distance: 8.0 meters\n",
      "Calculated velocity: 11.7 m/s\n",
      "Closest object distance: 8.2 meters\n",
      "Calculated velocity: 11.9 m/s\n",
      "Closest object distance: 8.2 meters\n",
      "Calculated velocity: 11.8 m/s\n",
      "Closest object distance: 8.0 meters\n",
      "Calculated velocity: 11.7 m/s\n",
      "Closest object distance: 8.2 meters\n",
      "Calculated velocity: 11.8 m/s\n",
      "Closest object distance: 8.2 meters\n",
      "Calculated velocity: 11.8 m/s\n",
      "Closest object distance: 8.3 meters\n",
      "Calculated velocity: 11.9 m/s\n",
      "Closest object distance: 8.2 meters\n",
      "Calculated velocity: 11.8 m/s\n",
      "Closest object distance: 8.5 meters\n",
      "Calculated velocity: 12.1 m/s\n",
      "Closest object distance: 8.1 meters\n",
      "Calculated velocity: 11.7 m/s\n"
     ]
    },
    {
     "name": "stderr",
     "output_type": "stream",
     "text": [
      "C:\\Users\\Oz/.cache\\torch\\hub\\ultralytics_yolov5_master\\models\\common.py:892: FutureWarning: `torch.cuda.amp.autocast(args...)` is deprecated. Please use `torch.amp.autocast('cuda', args...)` instead.\n",
      "  with amp.autocast(autocast):\n",
      "C:\\Users\\Oz/.cache\\torch\\hub\\ultralytics_yolov5_master\\models\\common.py:892: FutureWarning: `torch.cuda.amp.autocast(args...)` is deprecated. Please use `torch.amp.autocast('cuda', args...)` instead.\n",
      "  with amp.autocast(autocast):\n"
     ]
    },
    {
     "name": "stdout",
     "output_type": "stream",
     "text": [
      "Closest object distance: 8.2 meters\n",
      "Calculated velocity: 11.8 m/s\n",
      "Closest object distance: 8.0 meters\n",
      "Calculated velocity: 11.7 m/s\n",
      "Closest object distance: 8.1 meters\n",
      "Calculated velocity: 11.7 m/s\n",
      "Closest object distance: 8.6 meters\n",
      "Calculated velocity: 12.2 m/s\n",
      "Closest object distance: 8.0 meters\n",
      "Calculated velocity: 11.6 m/s\n",
      "Closest object distance: 7.9 meters\n",
      "Calculated velocity: 11.6 m/s\n",
      "Closest object distance: 8.2 meters\n",
      "Calculated velocity: 11.9 m/s\n",
      "Closest object distance: 8.3 meters\n",
      "Calculated velocity: 12.0 m/s\n"
     ]
    },
    {
     "name": "stderr",
     "output_type": "stream",
     "text": [
      "C:\\Users\\Oz/.cache\\torch\\hub\\ultralytics_yolov5_master\\models\\common.py:892: FutureWarning: `torch.cuda.amp.autocast(args...)` is deprecated. Please use `torch.amp.autocast('cuda', args...)` instead.\n",
      "  with amp.autocast(autocast):\n"
     ]
    },
    {
     "name": "stdout",
     "output_type": "stream",
     "text": [
      "Closest object distance: 8.4 meters\n",
      "Calculated velocity: 12.0 m/s\n",
      "Closest object distance: 8.0 meters\n",
      "Calculated velocity: 11.7 m/s\n",
      "Closest object distance: 8.7 meters\n",
      "Calculated velocity: 12.2 m/s\n",
      "Closest object distance: 8.5 meters\n",
      "Calculated velocity: 12.1 m/s\n",
      "Closest object distance: 8.2 meters\n",
      "Calculated velocity: 11.9 m/s\n",
      "Closest object distance: 7.9 meters\n",
      "Calculated velocity: 11.6 m/s\n",
      "Closest object distance: 8.3 meters\n",
      "Calculated velocity: 11.9 m/s\n",
      "Closest object distance: 8.4 meters\n",
      "Calculated velocity: 12.0 m/s\n"
     ]
    },
    {
     "name": "stderr",
     "output_type": "stream",
     "text": [
      "C:\\Users\\Oz/.cache\\torch\\hub\\ultralytics_yolov5_master\\models\\common.py:892: FutureWarning: `torch.cuda.amp.autocast(args...)` is deprecated. Please use `torch.amp.autocast('cuda', args...)` instead.\n",
      "  with amp.autocast(autocast):\n"
     ]
    },
    {
     "name": "stdout",
     "output_type": "stream",
     "text": [
      "Closest object distance: 8.4 meters\n",
      "Calculated velocity: 12.0 m/s\n",
      "Closest object distance: 8.0 meters\n",
      "Calculated velocity: 11.7 m/s\n",
      "Closest object distance: 8.3 meters\n",
      "Calculated velocity: 11.9 m/s\n",
      "Closest object distance: 8.0 meters\n",
      "Calculated velocity: 11.7 m/s\n",
      "Closest object distance: 8.2 meters\n",
      "Calculated velocity: 11.9 m/s\n",
      "Closest object distance: 8.4 meters\n",
      "Calculated velocity: 12.1 m/s\n",
      "Closest object distance: 8.3 meters\n",
      "Calculated velocity: 12.0 m/s\n",
      "Closest object distance: 8.3 meters\n",
      "Calculated velocity: 11.9 m/s\n"
     ]
    },
    {
     "name": "stderr",
     "output_type": "stream",
     "text": [
      "C:\\Users\\Oz/.cache\\torch\\hub\\ultralytics_yolov5_master\\models\\common.py:892: FutureWarning: `torch.cuda.amp.autocast(args...)` is deprecated. Please use `torch.amp.autocast('cuda', args...)` instead.\n",
      "  with amp.autocast(autocast):\n"
     ]
    },
    {
     "name": "stdout",
     "output_type": "stream",
     "text": [
      "Closest object distance: 8.2 meters\n",
      "Calculated velocity: 11.8 m/s\n",
      "Closest object distance: 8.0 meters\n",
      "Calculated velocity: 11.7 m/s\n",
      "Closest object distance: 8.3 meters\n",
      "Calculated velocity: 11.9 m/s\n",
      "Closest object distance: 8.1 meters\n",
      "Calculated velocity: 11.7 m/s\n",
      "Closest object distance: 8.0 meters\n",
      "Calculated velocity: 11.6 m/s\n",
      "Closest object distance: 8.2 meters\n",
      "Calculated velocity: 11.9 m/s\n",
      "Closest object distance: 8.2 meters\n",
      "Calculated velocity: 11.9 m/s\n",
      "Closest object distance: 8.4 meters\n",
      "Calculated velocity: 12.0 m/s\n"
     ]
    },
    {
     "name": "stderr",
     "output_type": "stream",
     "text": [
      "C:\\Users\\Oz/.cache\\torch\\hub\\ultralytics_yolov5_master\\models\\common.py:892: FutureWarning: `torch.cuda.amp.autocast(args...)` is deprecated. Please use `torch.amp.autocast('cuda', args...)` instead.\n",
      "  with amp.autocast(autocast):\n"
     ]
    },
    {
     "name": "stdout",
     "output_type": "stream",
     "text": [
      "Closest object distance: 8.5 meters\n",
      "Calculated velocity: 12.2 m/s\n",
      "Closest object distance: 8.1 meters\n",
      "Calculated velocity: 11.8 m/s\n",
      "Closest object distance: 8.4 meters\n",
      "Calculated velocity: 12.1 m/s\n",
      "Closest object distance: 8.1 meters\n",
      "Calculated velocity: 11.8 m/s\n",
      "Closest object distance: 8.6 meters\n",
      "Calculated velocity: 12.2 m/s\n",
      "Closest object distance: 8.0 meters\n",
      "Calculated velocity: 11.6 m/s\n",
      "Closest object distance: 8.1 meters\n",
      "Calculated velocity: 11.7 m/s\n",
      "Closest object distance: 8.0 meters\n",
      "Calculated velocity: 11.7 m/s\n",
      "Closest object distance: 8.0 meters\n",
      "Calculated velocity: 11.6 m/s\n"
     ]
    },
    {
     "name": "stderr",
     "output_type": "stream",
     "text": [
      "C:\\Users\\Oz/.cache\\torch\\hub\\ultralytics_yolov5_master\\models\\common.py:892: FutureWarning: `torch.cuda.amp.autocast(args...)` is deprecated. Please use `torch.amp.autocast('cuda', args...)` instead.\n",
      "  with amp.autocast(autocast):\n"
     ]
    },
    {
     "name": "stdout",
     "output_type": "stream",
     "text": [
      "Closest object distance: 8.0 meters\n",
      "Calculated velocity: 11.7 m/s\n",
      "Closest object distance: 8.3 meters\n",
      "Calculated velocity: 11.9 m/s\n",
      "Closest object distance: 8.1 meters\n",
      "Calculated velocity: 11.8 m/s\n",
      "Closest object distance: 8.3 meters\n",
      "Calculated velocity: 12.0 m/s\n",
      "Closest object distance: 8.4 meters\n",
      "Calculated velocity: 12.0 m/s\n",
      "Closest object distance: 8.4 meters\n",
      "Calculated velocity: 12.0 m/s\n",
      "Closest object distance: 8.5 meters\n",
      "Calculated velocity: 12.1 m/s\n",
      "Closest object distance: 8.6 meters\n",
      "Calculated velocity: 12.2 m/s\n",
      "Closest object distance: 8.4 meters\n",
      "Calculated velocity: 12.1 m/s\n",
      "Closest object distance: 8.1 meters\n",
      "Calculated velocity: 11.8 m/s\n",
      "Closest object distance: 8.1 meters\n",
      "Calculated velocity: 11.8 m/s\n",
      "Closest object distance: 8.0 meters\n",
      "Calculated velocity: 11.7 m/s\n",
      "Closest object distance: 8.2 meters\n",
      "Calculated velocity: 11.8 m/s\n",
      "Closest object distance: 8.5 meters\n",
      "Calculated velocity: 12.1 m/s\n",
      "Closest object distance: 8.1 meters\n",
      "Calculated velocity: 11.8 m/s\n",
      "Closest object distance: 8.5 meters\n",
      "Calculated velocity: 12.1 m/s\n"
     ]
    },
    {
     "name": "stderr",
     "output_type": "stream",
     "text": [
      "C:\\Users\\Oz/.cache\\torch\\hub\\ultralytics_yolov5_master\\models\\common.py:892: FutureWarning: `torch.cuda.amp.autocast(args...)` is deprecated. Please use `torch.amp.autocast('cuda', args...)` instead.\n",
      "  with amp.autocast(autocast):\n"
     ]
    },
    {
     "name": "stdout",
     "output_type": "stream",
     "text": [
      "Closest object distance: 8.1 meters\n",
      "Calculated velocity: 11.7 m/s\n",
      "Closest object distance: 8.6 meters\n",
      "Calculated velocity: 12.2 m/s\n",
      "Closest object distance: 8.4 meters\n",
      "Calculated velocity: 12.0 m/s\n",
      "Closest object distance: 8.1 meters\n",
      "Calculated velocity: 11.8 m/s\n",
      "Closest object distance: 8.5 meters\n",
      "Calculated velocity: 12.1 m/s\n",
      "Closest object distance: 8.6 meters\n",
      "Calculated velocity: 12.2 m/s\n",
      "Closest object distance: 8.0 meters\n",
      "Calculated velocity: 11.7 m/s\n",
      "Closest object distance: 8.2 meters\n",
      "Calculated velocity: 11.9 m/s\n"
     ]
    },
    {
     "name": "stderr",
     "output_type": "stream",
     "text": [
      "C:\\Users\\Oz/.cache\\torch\\hub\\ultralytics_yolov5_master\\models\\common.py:892: FutureWarning: `torch.cuda.amp.autocast(args...)` is deprecated. Please use `torch.amp.autocast('cuda', args...)` instead.\n",
      "  with amp.autocast(autocast):\n"
     ]
    },
    {
     "name": "stdout",
     "output_type": "stream",
     "text": [
      "Closest object distance: 8.3 meters\n",
      "Calculated velocity: 12.0 m/s\n",
      "Closest object distance: 8.1 meters\n",
      "Calculated velocity: 11.8 m/s\n",
      "Closest object distance: 8.0 meters\n",
      "Calculated velocity: 11.7 m/s\n",
      "Closest object distance: 8.1 meters\n",
      "Calculated velocity: 11.8 m/s\n",
      "Closest object distance: 7.9 meters\n",
      "Calculated velocity: 11.6 m/s\n",
      "Closest object distance: 8.2 meters\n",
      "Calculated velocity: 11.8 m/s\n",
      "Closest object distance: 8.0 meters\n",
      "Calculated velocity: 11.6 m/s\n",
      "Closest object distance: 8.7 meters\n",
      "Calculated velocity: 12.3 m/s\n"
     ]
    },
    {
     "name": "stderr",
     "output_type": "stream",
     "text": [
      "C:\\Users\\Oz/.cache\\torch\\hub\\ultralytics_yolov5_master\\models\\common.py:892: FutureWarning: `torch.cuda.amp.autocast(args...)` is deprecated. Please use `torch.amp.autocast('cuda', args...)` instead.\n",
      "  with amp.autocast(autocast):\n"
     ]
    },
    {
     "name": "stdout",
     "output_type": "stream",
     "text": [
      "Closest object distance: 8.0 meters\n",
      "Calculated velocity: 11.7 m/s\n",
      "Closest object distance: 8.1 meters\n",
      "Calculated velocity: 11.8 m/s\n",
      "Closest object distance: 8.1 meters\n",
      "Calculated velocity: 11.7 m/s\n",
      "Closest object distance: 8.2 meters\n",
      "Calculated velocity: 11.8 m/s\n",
      "Closest object distance: 8.1 meters\n",
      "Calculated velocity: 11.8 m/s\n",
      "Closest object distance: 8.3 meters\n",
      "Calculated velocity: 11.9 m/s\n",
      "Closest object distance: 8.1 meters\n",
      "Calculated velocity: 11.7 m/s\n"
     ]
    },
    {
     "name": "stderr",
     "output_type": "stream",
     "text": [
      "C:\\Users\\Oz/.cache\\torch\\hub\\ultralytics_yolov5_master\\models\\common.py:892: FutureWarning: `torch.cuda.amp.autocast(args...)` is deprecated. Please use `torch.amp.autocast('cuda', args...)` instead.\n",
      "  with amp.autocast(autocast):\n"
     ]
    },
    {
     "name": "stdout",
     "output_type": "stream",
     "text": [
      "Closest object distance: 8.5 meters\n",
      "Calculated velocity: 12.1 m/s\n",
      "Closest object distance: 8.0 meters\n",
      "Calculated velocity: 11.6 m/s\n",
      "Closest object distance: 8.1 meters\n",
      "Calculated velocity: 11.8 m/s\n",
      "Closest object distance: 8.1 meters\n",
      "Calculated velocity: 11.7 m/s\n",
      "Closest object distance: 8.3 meters\n",
      "Calculated velocity: 12.0 m/s\n",
      "Closest object distance: 7.9 meters\n",
      "Calculated velocity: 11.6 m/s\n",
      "Closest object distance: 7.9 meters\n",
      "Calculated velocity: 11.6 m/s\n",
      "Closest object distance: 8.2 meters\n",
      "Calculated velocity: 11.9 m/s\n",
      "Closest object distance: 8.6 meters\n",
      "Calculated velocity: 12.2 m/s\n"
     ]
    },
    {
     "name": "stderr",
     "output_type": "stream",
     "text": [
      "C:\\Users\\Oz/.cache\\torch\\hub\\ultralytics_yolov5_master\\models\\common.py:892: FutureWarning: `torch.cuda.amp.autocast(args...)` is deprecated. Please use `torch.amp.autocast('cuda', args...)` instead.\n",
      "  with amp.autocast(autocast):\n",
      "C:\\Users\\Oz/.cache\\torch\\hub\\ultralytics_yolov5_master\\models\\common.py:892: FutureWarning: `torch.cuda.amp.autocast(args...)` is deprecated. Please use `torch.amp.autocast('cuda', args...)` instead.\n",
      "  with amp.autocast(autocast):\n"
     ]
    },
    {
     "name": "stdout",
     "output_type": "stream",
     "text": [
      "Closest object distance: 7.9 meters\n",
      "Calculated velocity: 11.6 m/s\n",
      "Closest object distance: 8.1 meters\n",
      "Calculated velocity: 11.8 m/s\n",
      "Closest object distance: 8.4 meters\n",
      "Calculated velocity: 12.1 m/s\n",
      "Closest object distance: 8.4 meters\n",
      "Calculated velocity: 12.1 m/s\n",
      "Closest object distance: 8.0 meters\n",
      "Calculated velocity: 11.7 m/s\n",
      "Closest object distance: 8.4 meters\n",
      "Calculated velocity: 12.0 m/s\n",
      "Closest object distance: 8.3 meters\n",
      "Calculated velocity: 12.0 m/s\n",
      "Closest object distance: 8.6 meters\n",
      "Calculated velocity: 12.2 m/s\n",
      "Closest object distance: 8.0 meters\n",
      "Calculated velocity: 11.7 m/s\n",
      "Closest object distance: 8.3 meters\n",
      "Calculated velocity: 11.9 m/s\n",
      "Closest object distance: 8.1 meters\n",
      "Calculated velocity: 11.7 m/s\n",
      "Closest object distance: 8.2 meters\n",
      "Calculated velocity: 11.9 m/s\n",
      "Closest object distance: 8.2 meters\n",
      "Calculated velocity: 11.8 m/s\n",
      "Closest object distance: 8.0 meters\n",
      "Calculated velocity: 11.6 m/s\n",
      "Closest object distance: 8.2 meters\n",
      "Calculated velocity: 11.8 m/s\n",
      "Closest object distance: 8.0 meters\n",
      "Calculated velocity: 11.7 m/s\n"
     ]
    },
    {
     "name": "stderr",
     "output_type": "stream",
     "text": [
      "C:\\Users\\Oz/.cache\\torch\\hub\\ultralytics_yolov5_master\\models\\common.py:892: FutureWarning: `torch.cuda.amp.autocast(args...)` is deprecated. Please use `torch.amp.autocast('cuda', args...)` instead.\n",
      "  with amp.autocast(autocast):\n"
     ]
    },
    {
     "name": "stdout",
     "output_type": "stream",
     "text": [
      "Closest object distance: 8.5 meters\n",
      "Calculated velocity: 12.1 m/s\n",
      "Closest object distance: 8.0 meters\n",
      "Calculated velocity: 11.6 m/s\n",
      "Closest object distance: 8.2 meters\n",
      "Calculated velocity: 11.9 m/s\n",
      "Closest object distance: 8.8 meters\n",
      "Calculated velocity: 12.4 m/s\n",
      "Closest object distance: 8.6 meters\n",
      "Calculated velocity: 12.2 m/s\n",
      "Closest object distance: 8.0 meters\n",
      "Calculated velocity: 11.7 m/s\n",
      "Closest object distance: 8.0 meters\n",
      "Calculated velocity: 11.6 m/s\n",
      "Closest object distance: 8.3 meters\n",
      "Calculated velocity: 11.9 m/s\n"
     ]
    },
    {
     "name": "stderr",
     "output_type": "stream",
     "text": [
      "C:\\Users\\Oz/.cache\\torch\\hub\\ultralytics_yolov5_master\\models\\common.py:892: FutureWarning: `torch.cuda.amp.autocast(args...)` is deprecated. Please use `torch.amp.autocast('cuda', args...)` instead.\n",
      "  with amp.autocast(autocast):\n",
      "C:\\Users\\Oz/.cache\\torch\\hub\\ultralytics_yolov5_master\\models\\common.py:892: FutureWarning: `torch.cuda.amp.autocast(args...)` is deprecated. Please use `torch.amp.autocast('cuda', args...)` instead.\n",
      "  with amp.autocast(autocast):\n"
     ]
    },
    {
     "name": "stdout",
     "output_type": "stream",
     "text": [
      "Closest object distance: 8.1 meters\n",
      "Calculated velocity: 11.8 m/s\n",
      "Closest object distance: 8.1 meters\n",
      "Calculated velocity: 11.8 m/s\n",
      "Closest object distance: 8.5 meters\n",
      "Calculated velocity: 12.1 m/s\n",
      "Closest object distance: 8.2 meters\n",
      "Calculated velocity: 11.8 m/s\n",
      "Closest object distance: 8.2 meters\n",
      "Calculated velocity: 11.9 m/s\n",
      "Closest object distance: 8.6 meters\n",
      "Calculated velocity: 12.2 m/s\n",
      "Closest object distance: 8.1 meters\n",
      "Calculated velocity: 11.7 m/s\n",
      "Closest object distance: 8.6 meters\n",
      "Calculated velocity: 12.2 m/s\n"
     ]
    },
    {
     "name": "stderr",
     "output_type": "stream",
     "text": [
      "C:\\Users\\Oz/.cache\\torch\\hub\\ultralytics_yolov5_master\\models\\common.py:892: FutureWarning: `torch.cuda.amp.autocast(args...)` is deprecated. Please use `torch.amp.autocast('cuda', args...)` instead.\n",
      "  with amp.autocast(autocast):\n"
     ]
    },
    {
     "name": "stdout",
     "output_type": "stream",
     "text": [
      "Closest object distance: 8.2 meters\n",
      "Calculated velocity: 11.8 m/s\n",
      "Closest object distance: 8.4 meters\n",
      "Calculated velocity: 12.0 m/s\n",
      "Closest object distance: 8.0 meters\n",
      "Calculated velocity: 11.7 m/s\n",
      "Closest object distance: 8.2 meters\n",
      "Calculated velocity: 11.8 m/s\n",
      "Closest object distance: 8.3 meters\n",
      "Calculated velocity: 11.9 m/s\n",
      "Closest object distance: 8.6 meters\n",
      "Calculated velocity: 12.2 m/s\n",
      "Closest object distance: 8.5 meters\n",
      "Calculated velocity: 12.2 m/s\n",
      "Closest object distance: 8.6 meters\n",
      "Calculated velocity: 12.2 m/s\n"
     ]
    },
    {
     "name": "stderr",
     "output_type": "stream",
     "text": [
      "C:\\Users\\Oz/.cache\\torch\\hub\\ultralytics_yolov5_master\\models\\common.py:892: FutureWarning: `torch.cuda.amp.autocast(args...)` is deprecated. Please use `torch.amp.autocast('cuda', args...)` instead.\n",
      "  with amp.autocast(autocast):\n"
     ]
    },
    {
     "name": "stdout",
     "output_type": "stream",
     "text": [
      "Closest object distance: 8.1 meters\n",
      "Calculated velocity: 11.7 m/s\n",
      "Closest object distance: 8.2 meters\n",
      "Calculated velocity: 11.9 m/s\n",
      "Closest object distance: 8.4 meters\n",
      "Calculated velocity: 12.0 m/s\n",
      "Closest object distance: 8.1 meters\n",
      "Calculated velocity: 11.8 m/s\n",
      "Closest object distance: 9.4 meters\n",
      "Calculated velocity: 12.8 m/s\n",
      "Closest object distance: 8.0 meters\n",
      "Calculated velocity: 11.6 m/s\n",
      "Closest object distance: 8.5 meters\n",
      "Calculated velocity: 12.1 m/s\n"
     ]
    },
    {
     "name": "stderr",
     "output_type": "stream",
     "text": [
      "C:\\Users\\Oz/.cache\\torch\\hub\\ultralytics_yolov5_master\\models\\common.py:892: FutureWarning: `torch.cuda.amp.autocast(args...)` is deprecated. Please use `torch.amp.autocast('cuda', args...)` instead.\n",
      "  with amp.autocast(autocast):\n"
     ]
    },
    {
     "name": "stdout",
     "output_type": "stream",
     "text": [
      "Closest object distance: 8.0 meters\n",
      "Calculated velocity: 11.7 m/s\n",
      "Closest object distance: 8.1 meters\n",
      "Calculated velocity: 11.8 m/s\n",
      "Closest object distance: 8.0 meters\n",
      "Calculated velocity: 11.6 m/s\n",
      "Closest object distance: 7.9 meters\n",
      "Calculated velocity: 11.6 m/s\n",
      "Closest object distance: 8.3 meters\n",
      "Calculated velocity: 11.9 m/s\n",
      "Closest object distance: 8.4 meters\n",
      "Calculated velocity: 12.1 m/s\n",
      "Closest object distance: 8.3 meters\n",
      "Calculated velocity: 11.9 m/s\n",
      "Closest object distance: 8.0 meters\n",
      "Calculated velocity: 11.7 m/s\n"
     ]
    },
    {
     "name": "stderr",
     "output_type": "stream",
     "text": [
      "C:\\Users\\Oz/.cache\\torch\\hub\\ultralytics_yolov5_master\\models\\common.py:892: FutureWarning: `torch.cuda.amp.autocast(args...)` is deprecated. Please use `torch.amp.autocast('cuda', args...)` instead.\n",
      "  with amp.autocast(autocast):\n"
     ]
    },
    {
     "name": "stdout",
     "output_type": "stream",
     "text": [
      "Closest object distance: 8.6 meters\n",
      "Calculated velocity: 12.2 m/s\n",
      "Closest object distance: 8.3 meters\n",
      "Calculated velocity: 12.0 m/s\n",
      "Closest object distance: 8.4 meters\n",
      "Calculated velocity: 12.0 m/s\n",
      "Closest object distance: 8.8 meters\n",
      "Calculated velocity: 12.3 m/s\n",
      "Closest object distance: 8.8 meters\n",
      "Calculated velocity: 12.4 m/s\n",
      "Closest object distance: 8.0 meters\n",
      "Calculated velocity: 11.7 m/s\n",
      "Closest object distance: 7.9 meters\n",
      "Calculated velocity: 11.6 m/s\n",
      "Closest object distance: 8.7 meters\n",
      "Calculated velocity: 12.3 m/s\n"
     ]
    },
    {
     "name": "stderr",
     "output_type": "stream",
     "text": [
      "C:\\Users\\Oz/.cache\\torch\\hub\\ultralytics_yolov5_master\\models\\common.py:892: FutureWarning: `torch.cuda.amp.autocast(args...)` is deprecated. Please use `torch.amp.autocast('cuda', args...)` instead.\n",
      "  with amp.autocast(autocast):\n"
     ]
    },
    {
     "name": "stdout",
     "output_type": "stream",
     "text": [
      "Closest object distance: 7.9 meters\n",
      "Calculated velocity: 11.6 m/s\n",
      "Closest object distance: 8.1 meters\n",
      "Calculated velocity: 11.8 m/s\n",
      "Closest object distance: 7.9 meters\n",
      "Calculated velocity: 11.6 m/s\n",
      "Closest object distance: 8.4 meters\n",
      "Calculated velocity: 12.0 m/s\n",
      "Closest object distance: 8.1 meters\n",
      "Calculated velocity: 11.8 m/s\n",
      "Closest object distance: 8.3 meters\n",
      "Calculated velocity: 11.9 m/s\n",
      "Closest object distance: 8.0 meters\n",
      "Calculated velocity: 11.7 m/s\n",
      "Closest object distance: 8.2 meters\n",
      "Calculated velocity: 11.8 m/s\n"
     ]
    },
    {
     "name": "stderr",
     "output_type": "stream",
     "text": [
      "C:\\Users\\Oz/.cache\\torch\\hub\\ultralytics_yolov5_master\\models\\common.py:892: FutureWarning: `torch.cuda.amp.autocast(args...)` is deprecated. Please use `torch.amp.autocast('cuda', args...)` instead.\n",
      "  with amp.autocast(autocast):\n"
     ]
    },
    {
     "name": "stdout",
     "output_type": "stream",
     "text": [
      "Closest object distance: 8.4 meters\n",
      "Calculated velocity: 12.1 m/s\n",
      "Closest object distance: 8.0 meters\n",
      "Calculated velocity: 11.7 m/s\n",
      "Closest object distance: 8.3 meters\n",
      "Calculated velocity: 11.9 m/s\n",
      "Closest object distance: 8.0 meters\n",
      "Calculated velocity: 11.7 m/s\n",
      "Closest object distance: 8.5 meters\n",
      "Calculated velocity: 12.1 m/s\n",
      "Closest object distance: 8.3 meters\n",
      "Calculated velocity: 11.9 m/s\n",
      "Closest object distance: 8.0 meters\n",
      "Calculated velocity: 11.7 m/s\n",
      "Closest object distance: 8.2 meters\n",
      "Calculated velocity: 11.9 m/s\n",
      "Closest object distance: 8.0 meters\n",
      "Calculated velocity: 11.6 m/s\n",
      "Closest object distance: 8.1 meters\n",
      "Calculated velocity: 11.8 m/s\n",
      "Closest object distance: 7.9 meters\n",
      "Calculated velocity: 11.6 m/s\n",
      "Closest object distance: 8.2 meters\n",
      "Calculated velocity: 11.9 m/s\n",
      "Closest object distance: 8.0 meters\n",
      "Calculated velocity: 11.7 m/s\n",
      "Closest object distance: 7.9 meters\n",
      "Calculated velocity: 11.6 m/s\n",
      "Closest object distance: 8.3 meters\n",
      "Calculated velocity: 11.9 m/s\n"
     ]
    },
    {
     "name": "stderr",
     "output_type": "stream",
     "text": [
      "C:\\Users\\Oz/.cache\\torch\\hub\\ultralytics_yolov5_master\\models\\common.py:892: FutureWarning: `torch.cuda.amp.autocast(args...)` is deprecated. Please use `torch.amp.autocast('cuda', args...)` instead.\n",
      "  with amp.autocast(autocast):\n"
     ]
    },
    {
     "name": "stdout",
     "output_type": "stream",
     "text": [
      "Closest object distance: 9.2 meters\n",
      "Calculated velocity: 12.7 m/s\n",
      "Closest object distance: 8.6 meters\n",
      "Calculated velocity: 12.2 m/s\n",
      "Closest object distance: 8.2 meters\n",
      "Calculated velocity: 11.8 m/s\n",
      "Closest object distance: 8.3 meters\n",
      "Calculated velocity: 11.9 m/s\n",
      "Closest object distance: 7.9 meters\n",
      "Calculated velocity: 11.6 m/s\n",
      "Closest object distance: 8.1 meters\n",
      "Calculated velocity: 11.7 m/s\n",
      "Closest object distance: 8.1 meters\n",
      "Calculated velocity: 11.8 m/s\n",
      "Closest object distance: 8.5 meters\n",
      "Calculated velocity: 12.1 m/s\n"
     ]
    },
    {
     "name": "stderr",
     "output_type": "stream",
     "text": [
      "C:\\Users\\Oz/.cache\\torch\\hub\\ultralytics_yolov5_master\\models\\common.py:892: FutureWarning: `torch.cuda.amp.autocast(args...)` is deprecated. Please use `torch.amp.autocast('cuda', args...)` instead.\n",
      "  with amp.autocast(autocast):\n"
     ]
    },
    {
     "name": "stdout",
     "output_type": "stream",
     "text": [
      "Closest object distance: 8.2 meters\n",
      "Calculated velocity: 11.9 m/s\n",
      "Closest object distance: 8.0 meters\n",
      "Calculated velocity: 11.6 m/s\n",
      "Closest object distance: 8.1 meters\n",
      "Calculated velocity: 11.8 m/s\n",
      "Closest object distance: 8.7 meters\n",
      "Calculated velocity: 12.3 m/s\n",
      "Closest object distance: 8.0 meters\n",
      "Calculated velocity: 11.7 m/s\n",
      "Closest object distance: 8.3 meters\n",
      "Calculated velocity: 12.0 m/s\n",
      "Closest object distance: 8.5 meters\n",
      "Calculated velocity: 12.1 m/s\n",
      "Closest object distance: 8.3 meters\n",
      "Calculated velocity: 12.0 m/s\n"
     ]
    },
    {
     "name": "stderr",
     "output_type": "stream",
     "text": [
      "C:\\Users\\Oz/.cache\\torch\\hub\\ultralytics_yolov5_master\\models\\common.py:892: FutureWarning: `torch.cuda.amp.autocast(args...)` is deprecated. Please use `torch.amp.autocast('cuda', args...)` instead.\n",
      "  with amp.autocast(autocast):\n"
     ]
    },
    {
     "name": "stdout",
     "output_type": "stream",
     "text": [
      "Closest object distance: 8.5 meters\n",
      "Calculated velocity: 12.1 m/s\n",
      "Closest object distance: 8.5 meters\n",
      "Calculated velocity: 12.1 m/s\n",
      "Closest object distance: 8.4 meters\n",
      "Calculated velocity: 12.0 m/s\n",
      "Closest object distance: 8.5 meters\n",
      "Calculated velocity: 12.1 m/s\n",
      "Closest object distance: 8.4 meters\n",
      "Calculated velocity: 12.0 m/s\n",
      "Closest object distance: 8.2 meters\n",
      "Calculated velocity: 11.8 m/s\n",
      "Closest object distance: 8.3 meters\n",
      "Calculated velocity: 12.0 m/s\n"
     ]
    },
    {
     "name": "stderr",
     "output_type": "stream",
     "text": [
      "C:\\Users\\Oz/.cache\\torch\\hub\\ultralytics_yolov5_master\\models\\common.py:892: FutureWarning: `torch.cuda.amp.autocast(args...)` is deprecated. Please use `torch.amp.autocast('cuda', args...)` instead.\n",
      "  with amp.autocast(autocast):\n"
     ]
    },
    {
     "name": "stdout",
     "output_type": "stream",
     "text": [
      "Closest object distance: 8.0 meters\n",
      "Calculated velocity: 11.6 m/s\n",
      "Closest object distance: 8.3 meters\n",
      "Calculated velocity: 11.9 m/s\n",
      "Closest object distance: 8.3 meters\n",
      "Calculated velocity: 12.0 m/s\n",
      "Closest object distance: 8.0 meters\n",
      "Calculated velocity: 11.7 m/s\n",
      "Closest object distance: 8.6 meters\n",
      "Calculated velocity: 12.2 m/s\n",
      "Closest object distance: 8.2 meters\n",
      "Calculated velocity: 11.9 m/s\n",
      "Closest object distance: 8.1 meters\n",
      "Calculated velocity: 11.7 m/s\n",
      "Closest object distance: 8.5 meters\n",
      "Calculated velocity: 12.1 m/s\n",
      "Closest object distance: 8.4 meters\n",
      "Calculated velocity: 12.0 m/s\n"
     ]
    },
    {
     "name": "stderr",
     "output_type": "stream",
     "text": [
      "C:\\Users\\Oz/.cache\\torch\\hub\\ultralytics_yolov5_master\\models\\common.py:892: FutureWarning: `torch.cuda.amp.autocast(args...)` is deprecated. Please use `torch.amp.autocast('cuda', args...)` instead.\n",
      "  with amp.autocast(autocast):\n"
     ]
    },
    {
     "name": "stdout",
     "output_type": "stream",
     "text": [
      "Closest object distance: 9.0 meters\n",
      "Calculated velocity: 12.5 m/s\n",
      "Closest object distance: 8.5 meters\n",
      "Calculated velocity: 12.1 m/s\n",
      "Closest object distance: 8.7 meters\n",
      "Calculated velocity: 12.3 m/s\n",
      "Closest object distance: 8.0 meters\n",
      "Calculated velocity: 11.7 m/s\n",
      "Closest object distance: 8.7 meters\n",
      "Calculated velocity: 12.3 m/s\n",
      "Closest object distance: 8.1 meters\n",
      "Calculated velocity: 11.7 m/s\n",
      "Closest object distance: 8.4 meters\n",
      "Calculated velocity: 12.0 m/s\n",
      "Closest object distance: 8.1 meters\n",
      "Calculated velocity: 11.7 m/s\n",
      "Closest object distance: 8.4 meters\n",
      "Calculated velocity: 12.0 m/s\n"
     ]
    },
    {
     "name": "stderr",
     "output_type": "stream",
     "text": [
      "C:\\Users\\Oz/.cache\\torch\\hub\\ultralytics_yolov5_master\\models\\common.py:892: FutureWarning: `torch.cuda.amp.autocast(args...)` is deprecated. Please use `torch.amp.autocast('cuda', args...)` instead.\n",
      "  with amp.autocast(autocast):\n",
      "C:\\Users\\Oz/.cache\\torch\\hub\\ultralytics_yolov5_master\\models\\common.py:892: FutureWarning: `torch.cuda.amp.autocast(args...)` is deprecated. Please use `torch.amp.autocast('cuda', args...)` instead.\n",
      "  with amp.autocast(autocast):\n"
     ]
    },
    {
     "name": "stdout",
     "output_type": "stream",
     "text": [
      "Closest object distance: 9.0 meters\n",
      "Calculated velocity: 12.5 m/s\n",
      "Closest object distance: 8.3 meters\n",
      "Calculated velocity: 12.0 m/s\n",
      "Closest object distance: 8.0 meters\n",
      "Calculated velocity: 11.6 m/s\n",
      "Closest object distance: 8.2 meters\n",
      "Calculated velocity: 11.8 m/s\n",
      "Closest object distance: 8.3 meters\n",
      "Calculated velocity: 12.0 m/s\n",
      "Closest object distance: 8.3 meters\n",
      "Calculated velocity: 11.9 m/s\n",
      "Closest object distance: 8.2 meters\n",
      "Calculated velocity: 11.8 m/s\n",
      "Closest object distance: 8.0 meters\n",
      "Calculated velocity: 11.6 m/s\n"
     ]
    },
    {
     "name": "stderr",
     "output_type": "stream",
     "text": [
      "C:\\Users\\Oz/.cache\\torch\\hub\\ultralytics_yolov5_master\\models\\common.py:892: FutureWarning: `torch.cuda.amp.autocast(args...)` is deprecated. Please use `torch.amp.autocast('cuda', args...)` instead.\n",
      "  with amp.autocast(autocast):\n"
     ]
    },
    {
     "name": "stdout",
     "output_type": "stream",
     "text": [
      "Closest object distance: 8.3 meters\n",
      "Calculated velocity: 11.9 m/s\n",
      "Closest object distance: 8.2 meters\n",
      "Calculated velocity: 11.9 m/s\n",
      "Closest object distance: 8.0 meters\n",
      "Calculated velocity: 11.6 m/s\n",
      "Closest object distance: 8.4 meters\n",
      "Calculated velocity: 12.0 m/s\n",
      "Closest object distance: 8.0 meters\n",
      "Calculated velocity: 11.7 m/s\n",
      "Closest object distance: 8.0 meters\n",
      "Calculated velocity: 11.7 m/s\n",
      "Closest object distance: 8.1 meters\n",
      "Calculated velocity: 11.8 m/s\n",
      "Closest object distance: 8.6 meters\n",
      "Calculated velocity: 12.2 m/s\n"
     ]
    },
    {
     "name": "stderr",
     "output_type": "stream",
     "text": [
      "C:\\Users\\Oz/.cache\\torch\\hub\\ultralytics_yolov5_master\\models\\common.py:892: FutureWarning: `torch.cuda.amp.autocast(args...)` is deprecated. Please use `torch.amp.autocast('cuda', args...)` instead.\n",
      "  with amp.autocast(autocast):\n"
     ]
    },
    {
     "name": "stdout",
     "output_type": "stream",
     "text": [
      "Closest object distance: 8.3 meters\n",
      "Calculated velocity: 11.9 m/s\n",
      "Closest object distance: 8.5 meters\n",
      "Calculated velocity: 12.1 m/s\n",
      "Closest object distance: 8.0 meters\n",
      "Calculated velocity: 11.7 m/s\n",
      "Closest object distance: 8.2 meters\n",
      "Calculated velocity: 11.8 m/s\n",
      "Closest object distance: 8.3 meters\n",
      "Calculated velocity: 11.9 m/s\n",
      "Closest object distance: 8.2 meters\n",
      "Calculated velocity: 11.9 m/s\n",
      "Closest object distance: 8.1 meters\n",
      "Calculated velocity: 11.8 m/s\n",
      "Closest object distance: 8.2 meters\n",
      "Calculated velocity: 11.8 m/s\n",
      "Closest object distance: 8.8 meters\n",
      "Calculated velocity: 12.3 m/s\n",
      "Closest object distance: 8.1 meters\n",
      "Calculated velocity: 11.7 m/s\n",
      "Closest object distance: 9.0 meters\n",
      "Calculated velocity: 12.5 m/s\n",
      "Closest object distance: 8.2 meters\n",
      "Calculated velocity: 11.8 m/s\n",
      "Closest object distance: 8.6 meters\n",
      "Calculated velocity: 12.2 m/s\n",
      "Closest object distance: 8.3 meters\n",
      "Calculated velocity: 12.0 m/s\n",
      "Closest object distance: 8.3 meters\n",
      "Calculated velocity: 11.9 m/s\n",
      "Closest object distance: 8.0 meters\n",
      "Calculated velocity: 11.6 m/s\n",
      "Closest object distance: 8.5 meters\n",
      "Calculated velocity: 12.1 m/s\n"
     ]
    },
    {
     "name": "stderr",
     "output_type": "stream",
     "text": [
      "C:\\Users\\Oz/.cache\\torch\\hub\\ultralytics_yolov5_master\\models\\common.py:892: FutureWarning: `torch.cuda.amp.autocast(args...)` is deprecated. Please use `torch.amp.autocast('cuda', args...)` instead.\n",
      "  with amp.autocast(autocast):\n",
      "C:\\Users\\Oz/.cache\\torch\\hub\\ultralytics_yolov5_master\\models\\common.py:892: FutureWarning: `torch.cuda.amp.autocast(args...)` is deprecated. Please use `torch.amp.autocast('cuda', args...)` instead.\n",
      "  with amp.autocast(autocast):\n",
      "C:\\Users\\Oz/.cache\\torch\\hub\\ultralytics_yolov5_master\\models\\common.py:892: FutureWarning: `torch.cuda.amp.autocast(args...)` is deprecated. Please use `torch.amp.autocast('cuda', args...)` instead.\n",
      "  with amp.autocast(autocast):\n"
     ]
    },
    {
     "name": "stdout",
     "output_type": "stream",
     "text": [
      "Closest object distance: 8.0 meters\n",
      "Calculated velocity: 11.6 m/s\n",
      "Closest object distance: 8.0 meters\n",
      "Calculated velocity: 11.7 m/s\n",
      "Closest object distance: 8.0 meters\n",
      "Calculated velocity: 11.7 m/s\n",
      "Closest object distance: 8.6 meters\n",
      "Calculated velocity: 12.2 m/s\n",
      "Closest object distance: 8.6 meters\n",
      "Calculated velocity: 12.2 m/s\n",
      "Closest object distance: 7.9 meters\n",
      "Calculated velocity: 11.6 m/s\n",
      "Closest object distance: 8.1 meters\n",
      "Calculated velocity: 11.7 m/s\n",
      "Closest object distance: 8.4 meters\n",
      "Calculated velocity: 12.1 m/s\n",
      "Closest object distance: 8.1 meters\n",
      "Calculated velocity: 11.8 m/s\n",
      "Closest object distance: 7.9 meters\n",
      "Calculated velocity: 11.6 m/s\n",
      "Closest object distance: 8.7 meters\n",
      "Calculated velocity: 12.3 m/s\n",
      "Closest object distance: 8.0 meters\n",
      "Calculated velocity: 11.7 m/s\n",
      "Closest object distance: 8.0 meters\n",
      "Calculated velocity: 11.6 m/s\n",
      "Closest object distance: 8.2 meters\n",
      "Calculated velocity: 11.8 m/s\n",
      "Closest object distance: 8.1 meters\n",
      "Calculated velocity: 11.8 m/s\n",
      "Closest object distance: 8.5 meters\n",
      "Calculated velocity: 12.1 m/s\n",
      "Closest object distance: 8.3 meters\n",
      "Calculated velocity: 11.9 m/s\n",
      "Closest object distance: 8.1 meters\n",
      "Calculated velocity: 11.8 m/s\n",
      "Closest object distance: 8.1 meters\n",
      "Calculated velocity: 11.8 m/s\n",
      "Closest object distance: 7.9 meters\n",
      "Calculated velocity: 11.6 m/s\n",
      "Closest object distance: 8.3 meters\n",
      "Calculated velocity: 11.9 m/s\n",
      "Closest object distance: 8.3 meters\n",
      "Calculated velocity: 11.9 m/s\n",
      "Closest object distance: 8.1 meters\n",
      "Calculated velocity: 11.7 m/s\n"
     ]
    },
    {
     "name": "stderr",
     "output_type": "stream",
     "text": [
      "C:\\Users\\Oz/.cache\\torch\\hub\\ultralytics_yolov5_master\\models\\common.py:892: FutureWarning: `torch.cuda.amp.autocast(args...)` is deprecated. Please use `torch.amp.autocast('cuda', args...)` instead.\n",
      "  with amp.autocast(autocast):\n"
     ]
    },
    {
     "name": "stdout",
     "output_type": "stream",
     "text": [
      "Closest object distance: 8.1 meters\n",
      "Calculated velocity: 11.8 m/s\n",
      "Closest object distance: 8.1 meters\n",
      "Calculated velocity: 11.8 m/s\n",
      "Closest object distance: 8.4 meters\n",
      "Calculated velocity: 12.1 m/s\n",
      "Closest object distance: 8.2 meters\n",
      "Calculated velocity: 11.9 m/s\n",
      "Closest object distance: 8.0 meters\n",
      "Calculated velocity: 11.7 m/s\n",
      "Closest object distance: 8.0 meters\n",
      "Calculated velocity: 11.7 m/s\n",
      "Closest object distance: 8.3 meters\n",
      "Calculated velocity: 12.0 m/s\n",
      "Closest object distance: 8.6 meters\n",
      "Calculated velocity: 12.2 m/s\n"
     ]
    },
    {
     "name": "stderr",
     "output_type": "stream",
     "text": [
      "C:\\Users\\Oz/.cache\\torch\\hub\\ultralytics_yolov5_master\\models\\common.py:892: FutureWarning: `torch.cuda.amp.autocast(args...)` is deprecated. Please use `torch.amp.autocast('cuda', args...)` instead.\n",
      "  with amp.autocast(autocast):\n"
     ]
    },
    {
     "name": "stdout",
     "output_type": "stream",
     "text": [
      "Closest object distance: 7.9 meters\n",
      "Calculated velocity: 11.6 m/s\n",
      "Closest object distance: 8.0 meters\n",
      "Calculated velocity: 11.6 m/s\n",
      "Closest object distance: 7.9 meters\n",
      "Calculated velocity: 11.6 m/s\n",
      "Closest object distance: 8.0 meters\n",
      "Calculated velocity: 11.7 m/s\n",
      "Closest object distance: 8.3 meters\n",
      "Calculated velocity: 12.0 m/s\n",
      "Closest object distance: 9.0 meters\n",
      "Calculated velocity: 12.5 m/s\n",
      "Closest object distance: 8.3 meters\n",
      "Calculated velocity: 12.0 m/s\n"
     ]
    },
    {
     "name": "stderr",
     "output_type": "stream",
     "text": [
      "C:\\Users\\Oz/.cache\\torch\\hub\\ultralytics_yolov5_master\\models\\common.py:892: FutureWarning: `torch.cuda.amp.autocast(args...)` is deprecated. Please use `torch.amp.autocast('cuda', args...)` instead.\n",
      "  with amp.autocast(autocast):\n"
     ]
    },
    {
     "name": "stdout",
     "output_type": "stream",
     "text": [
      "Closest object distance: 8.2 meters\n",
      "Calculated velocity: 11.8 m/s\n",
      "Closest object distance: 8.5 meters\n",
      "Calculated velocity: 12.2 m/s\n",
      "Closest object distance: 8.1 meters\n",
      "Calculated velocity: 11.8 m/s\n",
      "Closest object distance: 8.3 meters\n",
      "Calculated velocity: 11.9 m/s\n",
      "Closest object distance: 8.5 meters\n",
      "Calculated velocity: 12.1 m/s\n",
      "Closest object distance: 8.1 meters\n",
      "Calculated velocity: 11.7 m/s\n",
      "Closest object distance: 8.5 meters\n",
      "Calculated velocity: 12.1 m/s\n"
     ]
    },
    {
     "name": "stderr",
     "output_type": "stream",
     "text": [
      "C:\\Users\\Oz/.cache\\torch\\hub\\ultralytics_yolov5_master\\models\\common.py:892: FutureWarning: `torch.cuda.amp.autocast(args...)` is deprecated. Please use `torch.amp.autocast('cuda', args...)` instead.\n",
      "  with amp.autocast(autocast):\n"
     ]
    },
    {
     "name": "stdout",
     "output_type": "stream",
     "text": [
      "Closest object distance: 8.0 meters\n",
      "Calculated velocity: 11.7 m/s\n",
      "Closest object distance: 8.2 meters\n",
      "Calculated velocity: 11.8 m/s\n",
      "Closest object distance: 8.2 meters\n",
      "Calculated velocity: 11.9 m/s\n",
      "Closest object distance: 7.9 meters\n",
      "Calculated velocity: 11.6 m/s\n",
      "Closest object distance: 8.0 meters\n",
      "Calculated velocity: 11.6 m/s\n",
      "Closest object distance: 8.2 meters\n",
      "Calculated velocity: 11.8 m/s\n",
      "Closest object distance: 8.1 meters\n",
      "Calculated velocity: 11.7 m/s\n",
      "Closest object distance: 8.1 meters\n",
      "Calculated velocity: 11.7 m/s\n"
     ]
    },
    {
     "name": "stderr",
     "output_type": "stream",
     "text": [
      "C:\\Users\\Oz/.cache\\torch\\hub\\ultralytics_yolov5_master\\models\\common.py:892: FutureWarning: `torch.cuda.amp.autocast(args...)` is deprecated. Please use `torch.amp.autocast('cuda', args...)` instead.\n",
      "  with amp.autocast(autocast):\n"
     ]
    },
    {
     "name": "stdout",
     "output_type": "stream",
     "text": [
      "Closest object distance: 8.2 meters\n",
      "Calculated velocity: 11.9 m/s\n",
      "Closest object distance: 8.3 meters\n",
      "Calculated velocity: 11.9 m/s\n",
      "Closest object distance: 8.0 meters\n",
      "Calculated velocity: 11.7 m/s\n",
      "Closest object distance: 8.0 meters\n",
      "Calculated velocity: 11.7 m/s\n",
      "Closest object distance: 8.1 meters\n",
      "Calculated velocity: 11.8 m/s\n",
      "Closest object distance: 8.5 meters\n",
      "Calculated velocity: 12.1 m/s\n",
      "Closest object distance: 8.1 meters\n",
      "Calculated velocity: 11.8 m/s\n",
      "Closest object distance: 8.7 meters\n",
      "Calculated velocity: 12.3 m/s\n"
     ]
    },
    {
     "name": "stderr",
     "output_type": "stream",
     "text": [
      "C:\\Users\\Oz/.cache\\torch\\hub\\ultralytics_yolov5_master\\models\\common.py:892: FutureWarning: `torch.cuda.amp.autocast(args...)` is deprecated. Please use `torch.amp.autocast('cuda', args...)` instead.\n",
      "  with amp.autocast(autocast):\n",
      "C:\\Users\\Oz/.cache\\torch\\hub\\ultralytics_yolov5_master\\models\\common.py:892: FutureWarning: `torch.cuda.amp.autocast(args...)` is deprecated. Please use `torch.amp.autocast('cuda', args...)` instead.\n",
      "  with amp.autocast(autocast):\n",
      "C:\\Users\\Oz/.cache\\torch\\hub\\ultralytics_yolov5_master\\models\\common.py:892: FutureWarning: `torch.cuda.amp.autocast(args...)` is deprecated. Please use `torch.amp.autocast('cuda', args...)` instead.\n",
      "  with amp.autocast(autocast):\n"
     ]
    },
    {
     "name": "stdout",
     "output_type": "stream",
     "text": [
      "Closest object distance: 8.7 meters\n",
      "Calculated velocity: 12.3 m/s\n",
      "Closest object distance: 8.3 meters\n",
      "Calculated velocity: 11.9 m/s\n",
      "Closest object distance: 8.2 meters\n",
      "Calculated velocity: 11.8 m/s\n",
      "Closest object distance: 8.2 meters\n",
      "Calculated velocity: 11.9 m/s\n",
      "Closest object distance: 8.1 meters\n",
      "Calculated velocity: 11.7 m/s\n",
      "Closest object distance: 8.0 meters\n",
      "Calculated velocity: 11.6 m/s\n",
      "Closest object distance: 8.3 meters\n",
      "Calculated velocity: 11.9 m/s\n",
      "Closest object distance: 8.4 meters\n",
      "Calculated velocity: 12.0 m/s\n",
      "Closest object distance: 8.7 meters\n",
      "Calculated velocity: 12.3 m/s\n",
      "Closest object distance: 8.2 meters\n",
      "Calculated velocity: 11.8 m/s\n",
      "Closest object distance: 8.4 meters\n",
      "Calculated velocity: 12.1 m/s\n",
      "Closest object distance: 8.4 meters\n",
      "Calculated velocity: 12.1 m/s\n",
      "Closest object distance: 8.0 meters\n",
      "Calculated velocity: 11.6 m/s\n",
      "Closest object distance: 7.9 meters\n",
      "Calculated velocity: 11.6 m/s\n"
     ]
    },
    {
     "name": "stderr",
     "output_type": "stream",
     "text": [
      "C:\\Users\\Oz/.cache\\torch\\hub\\ultralytics_yolov5_master\\models\\common.py:892: FutureWarning: `torch.cuda.amp.autocast(args...)` is deprecated. Please use `torch.amp.autocast('cuda', args...)` instead.\n",
      "  with amp.autocast(autocast):\n"
     ]
    },
    {
     "name": "stdout",
     "output_type": "stream",
     "text": [
      "Closest object distance: 7.9 meters\n",
      "Calculated velocity: 11.6 m/s\n",
      "Closest object distance: 8.4 meters\n",
      "Calculated velocity: 12.0 m/s\n",
      "Closest object distance: 8.3 meters\n",
      "Calculated velocity: 12.0 m/s\n",
      "Closest object distance: 8.3 meters\n",
      "Calculated velocity: 11.9 m/s\n",
      "Closest object distance: 8.7 meters\n",
      "Calculated velocity: 12.3 m/s\n",
      "Closest object distance: 8.2 meters\n",
      "Calculated velocity: 11.8 m/s\n",
      "Closest object distance: 8.0 meters\n",
      "Calculated velocity: 11.7 m/s\n",
      "Closest object distance: 8.0 meters\n",
      "Calculated velocity: 11.7 m/s\n",
      "Closest object distance: 8.1 meters\n",
      "Calculated velocity: 11.7 m/s\n",
      "Closest object distance: 8.1 meters\n",
      "Calculated velocity: 11.8 m/s\n",
      "Closest object distance: 8.4 meters\n",
      "Calculated velocity: 12.0 m/s\n",
      "Closest object distance: 8.2 meters\n",
      "Calculated velocity: 11.9 m/s\n",
      "Closest object distance: 8.4 meters\n",
      "Calculated velocity: 12.0 m/s\n",
      "Closest object distance: 8.5 meters\n",
      "Calculated velocity: 12.1 m/s\n",
      "Closest object distance: 9.5 meters\n",
      "Calculated velocity: 12.9 m/s\n",
      "Closest object distance: 8.1 meters\n",
      "Calculated velocity: 11.7 m/s\n"
     ]
    },
    {
     "name": "stderr",
     "output_type": "stream",
     "text": [
      "C:\\Users\\Oz/.cache\\torch\\hub\\ultralytics_yolov5_master\\models\\common.py:892: FutureWarning: `torch.cuda.amp.autocast(args...)` is deprecated. Please use `torch.amp.autocast('cuda', args...)` instead.\n",
      "  with amp.autocast(autocast):\n",
      "C:\\Users\\Oz/.cache\\torch\\hub\\ultralytics_yolov5_master\\models\\common.py:892: FutureWarning: `torch.cuda.amp.autocast(args...)` is deprecated. Please use `torch.amp.autocast('cuda', args...)` instead.\n",
      "  with amp.autocast(autocast):\n"
     ]
    },
    {
     "name": "stdout",
     "output_type": "stream",
     "text": [
      "Closest object distance: 8.5 meters\n",
      "Calculated velocity: 12.1 m/s\n",
      "Closest object distance: 8.6 meters\n",
      "Calculated velocity: 12.2 m/s\n",
      "Closest object distance: 8.1 meters\n",
      "Calculated velocity: 11.7 m/s\n",
      "Closest object distance: 8.7 meters\n",
      "Calculated velocity: 12.3 m/s\n",
      "Closest object distance: 8.1 meters\n",
      "Calculated velocity: 11.7 m/s\n",
      "Closest object distance: 8.1 meters\n",
      "Calculated velocity: 11.7 m/s\n",
      "Closest object distance: 8.4 meters\n",
      "Calculated velocity: 12.1 m/s\n",
      "Closest object distance: 8.0 meters\n",
      "Calculated velocity: 11.7 m/s\n"
     ]
    },
    {
     "name": "stderr",
     "output_type": "stream",
     "text": [
      "C:\\Users\\Oz/.cache\\torch\\hub\\ultralytics_yolov5_master\\models\\common.py:892: FutureWarning: `torch.cuda.amp.autocast(args...)` is deprecated. Please use `torch.amp.autocast('cuda', args...)` instead.\n",
      "  with amp.autocast(autocast):\n"
     ]
    },
    {
     "name": "stdout",
     "output_type": "stream",
     "text": [
      "Closest object distance: 8.2 meters\n",
      "Calculated velocity: 11.9 m/s\n",
      "Closest object distance: 8.3 meters\n",
      "Calculated velocity: 11.9 m/s\n",
      "Closest object distance: 8.0 meters\n",
      "Calculated velocity: 11.7 m/s\n",
      "Closest object distance: 8.3 meters\n",
      "Calculated velocity: 12.0 m/s\n",
      "Closest object distance: 8.2 meters\n",
      "Calculated velocity: 11.8 m/s\n",
      "Closest object distance: 8.1 meters\n",
      "Calculated velocity: 11.8 m/s\n",
      "Closest object distance: 8.2 meters\n",
      "Calculated velocity: 11.8 m/s\n",
      "Closest object distance: 8.4 meters\n",
      "Calculated velocity: 12.1 m/s\n",
      "Closest object distance: 8.0 meters\n",
      "Calculated velocity: 11.6 m/s\n",
      "Closest object distance: 8.0 meters\n",
      "Calculated velocity: 11.7 m/s\n",
      "Closest object distance: 8.0 meters\n",
      "Calculated velocity: 11.7 m/s\n",
      "Closest object distance: 8.2 meters\n",
      "Calculated velocity: 11.9 m/s\n",
      "Closest object distance: 8.3 meters\n",
      "Calculated velocity: 11.9 m/s\n",
      "Closest object distance: 8.0 meters\n",
      "Calculated velocity: 11.7 m/s\n",
      "Closest object distance: 8.3 meters\n",
      "Calculated velocity: 11.9 m/s\n",
      "Closest object distance: 8.0 meters\n",
      "Calculated velocity: 11.7 m/s\n"
     ]
    },
    {
     "name": "stderr",
     "output_type": "stream",
     "text": [
      "C:\\Users\\Oz/.cache\\torch\\hub\\ultralytics_yolov5_master\\models\\common.py:892: FutureWarning: `torch.cuda.amp.autocast(args...)` is deprecated. Please use `torch.amp.autocast('cuda', args...)` instead.\n",
      "  with amp.autocast(autocast):\n",
      "C:\\Users\\Oz/.cache\\torch\\hub\\ultralytics_yolov5_master\\models\\common.py:892: FutureWarning: `torch.cuda.amp.autocast(args...)` is deprecated. Please use `torch.amp.autocast('cuda', args...)` instead.\n",
      "  with amp.autocast(autocast):\n"
     ]
    },
    {
     "name": "stdout",
     "output_type": "stream",
     "text": [
      "Closest object distance: 8.3 meters\n",
      "Calculated velocity: 12.0 m/s\n",
      "Closest object distance: 8.0 meters\n",
      "Calculated velocity: 11.6 m/s\n",
      "Closest object distance: 8.1 meters\n",
      "Calculated velocity: 11.7 m/s\n",
      "Closest object distance: 8.1 meters\n",
      "Calculated velocity: 11.7 m/s\n",
      "Closest object distance: 8.1 meters\n",
      "Calculated velocity: 11.8 m/s\n",
      "Closest object distance: 8.3 meters\n",
      "Calculated velocity: 12.0 m/s\n",
      "Closest object distance: 8.4 meters\n",
      "Calculated velocity: 12.1 m/s\n",
      "Closest object distance: 8.3 meters\n",
      "Calculated velocity: 12.0 m/s\n",
      "Closest object distance: 8.7 meters\n",
      "Calculated velocity: 12.2 m/s\n",
      "Closest object distance: 8.4 meters\n",
      "Calculated velocity: 12.1 m/s\n",
      "Closest object distance: 8.1 meters\n",
      "Calculated velocity: 11.7 m/s\n",
      "Closest object distance: 8.1 meters\n",
      "Calculated velocity: 11.8 m/s\n",
      "Closest object distance: 8.0 meters\n",
      "Calculated velocity: 11.7 m/s\n",
      "Closest object distance: 8.4 meters\n",
      "Calculated velocity: 12.0 m/s\n"
     ]
    },
    {
     "name": "stderr",
     "output_type": "stream",
     "text": [
      "C:\\Users\\Oz/.cache\\torch\\hub\\ultralytics_yolov5_master\\models\\common.py:892: FutureWarning: `torch.cuda.amp.autocast(args...)` is deprecated. Please use `torch.amp.autocast('cuda', args...)` instead.\n",
      "  with amp.autocast(autocast):\n"
     ]
    },
    {
     "name": "stdout",
     "output_type": "stream",
     "text": [
      "Closest object distance: 8.1 meters\n",
      "Calculated velocity: 11.8 m/s\n",
      "Closest object distance: 8.3 meters\n",
      "Calculated velocity: 11.9 m/s\n",
      "Closest object distance: 8.0 meters\n",
      "Calculated velocity: 11.6 m/s\n",
      "Closest object distance: 8.0 meters\n",
      "Calculated velocity: 11.7 m/s\n",
      "Closest object distance: 8.1 meters\n",
      "Calculated velocity: 11.8 m/s\n",
      "Closest object distance: 8.3 meters\n",
      "Calculated velocity: 12.0 m/s\n",
      "Closest object distance: 8.1 meters\n",
      "Calculated velocity: 11.8 m/s\n",
      "Closest object distance: 8.8 meters\n",
      "Calculated velocity: 12.3 m/s\n"
     ]
    },
    {
     "name": "stderr",
     "output_type": "stream",
     "text": [
      "C:\\Users\\Oz/.cache\\torch\\hub\\ultralytics_yolov5_master\\models\\common.py:892: FutureWarning: `torch.cuda.amp.autocast(args...)` is deprecated. Please use `torch.amp.autocast('cuda', args...)` instead.\n",
      "  with amp.autocast(autocast):\n"
     ]
    },
    {
     "name": "stdout",
     "output_type": "stream",
     "text": [
      "Closest object distance: 9.0 meters\n",
      "Calculated velocity: 12.5 m/s\n",
      "Closest object distance: 8.4 meters\n",
      "Calculated velocity: 12.0 m/s\n",
      "Closest object distance: 8.1 meters\n",
      "Calculated velocity: 11.8 m/s\n",
      "Closest object distance: 8.4 meters\n",
      "Calculated velocity: 12.0 m/s\n",
      "Closest object distance: 8.3 meters\n",
      "Calculated velocity: 11.9 m/s\n",
      "Closest object distance: 8.1 meters\n",
      "Calculated velocity: 11.8 m/s\n",
      "Closest object distance: 7.9 meters\n",
      "Calculated velocity: 11.6 m/s\n",
      "Closest object distance: 8.1 meters\n",
      "Calculated velocity: 11.7 m/s\n"
     ]
    },
    {
     "name": "stderr",
     "output_type": "stream",
     "text": [
      "C:\\Users\\Oz/.cache\\torch\\hub\\ultralytics_yolov5_master\\models\\common.py:892: FutureWarning: `torch.cuda.amp.autocast(args...)` is deprecated. Please use `torch.amp.autocast('cuda', args...)` instead.\n",
      "  with amp.autocast(autocast):\n"
     ]
    },
    {
     "name": "stdout",
     "output_type": "stream",
     "text": [
      "Closest object distance: 8.4 meters\n",
      "Calculated velocity: 12.0 m/s\n",
      "Closest object distance: 8.1 meters\n",
      "Calculated velocity: 11.8 m/s\n",
      "Closest object distance: 8.0 meters\n",
      "Calculated velocity: 11.6 m/s\n",
      "Closest object distance: 8.4 meters\n",
      "Calculated velocity: 12.0 m/s\n",
      "Closest object distance: 8.5 meters\n",
      "Calculated velocity: 12.1 m/s\n",
      "Closest object distance: 8.3 meters\n",
      "Calculated velocity: 11.9 m/s\n",
      "Closest object distance: 8.2 meters\n",
      "Calculated velocity: 11.9 m/s\n",
      "Closest object distance: 8.4 meters\n",
      "Calculated velocity: 12.1 m/s\n"
     ]
    },
    {
     "name": "stderr",
     "output_type": "stream",
     "text": [
      "C:\\Users\\Oz/.cache\\torch\\hub\\ultralytics_yolov5_master\\models\\common.py:892: FutureWarning: `torch.cuda.amp.autocast(args...)` is deprecated. Please use `torch.amp.autocast('cuda', args...)` instead.\n",
      "  with amp.autocast(autocast):\n",
      "C:\\Users\\Oz/.cache\\torch\\hub\\ultralytics_yolov5_master\\models\\common.py:892: FutureWarning: `torch.cuda.amp.autocast(args...)` is deprecated. Please use `torch.amp.autocast('cuda', args...)` instead.\n",
      "  with amp.autocast(autocast):\n"
     ]
    },
    {
     "name": "stdout",
     "output_type": "stream",
     "text": [
      "Closest object distance: 8.2 meters\n",
      "Calculated velocity: 11.8 m/s\n",
      "Closest object distance: 8.1 meters\n",
      "Calculated velocity: 11.7 m/s\n",
      "Closest object distance: 7.9 meters\n",
      "Calculated velocity: 11.6 m/s\n",
      "Closest object distance: 8.1 meters\n",
      "Calculated velocity: 11.7 m/s\n",
      "Closest object distance: 8.4 meters\n",
      "Calculated velocity: 12.0 m/s\n",
      "Closest object distance: 8.5 meters\n",
      "Calculated velocity: 12.1 m/s\n",
      "Closest object distance: 8.1 meters\n",
      "Calculated velocity: 11.7 m/s\n",
      "Closest object distance: 8.6 meters\n",
      "Calculated velocity: 12.2 m/s\n"
     ]
    },
    {
     "name": "stderr",
     "output_type": "stream",
     "text": [
      "C:\\Users\\Oz/.cache\\torch\\hub\\ultralytics_yolov5_master\\models\\common.py:892: FutureWarning: `torch.cuda.amp.autocast(args...)` is deprecated. Please use `torch.amp.autocast('cuda', args...)` instead.\n",
      "  with amp.autocast(autocast):\n"
     ]
    },
    {
     "name": "stdout",
     "output_type": "stream",
     "text": [
      "Closest object distance: 8.4 meters\n",
      "Calculated velocity: 12.0 m/s\n",
      "Closest object distance: 8.0 meters\n",
      "Calculated velocity: 11.7 m/s\n",
      "Closest object distance: 7.9 meters\n",
      "Calculated velocity: 11.6 m/s\n",
      "Closest object distance: 8.2 meters\n",
      "Calculated velocity: 11.9 m/s\n",
      "Closest object distance: 9.0 meters\n",
      "Calculated velocity: 12.5 m/s\n",
      "Closest object distance: 8.2 meters\n",
      "Calculated velocity: 11.9 m/s\n",
      "Closest object distance: 8.4 meters\n",
      "Calculated velocity: 12.0 m/s\n",
      "Closest object distance: 8.4 meters\n",
      "Calculated velocity: 12.1 m/s\n",
      "Closest object distance: 8.4 meters\n",
      "Calculated velocity: 12.0 m/s\n",
      "Closest object distance: 8.1 meters\n",
      "Calculated velocity: 11.7 m/s\n",
      "Closest object distance: 8.0 meters\n",
      "Calculated velocity: 11.6 m/s\n",
      "Closest object distance: 8.3 meters\n",
      "Calculated velocity: 12.0 m/s\n",
      "Closest object distance: 7.9 meters\n",
      "Calculated velocity: 11.6 m/s\n"
     ]
    },
    {
     "name": "stderr",
     "output_type": "stream",
     "text": [
      "C:\\Users\\Oz/.cache\\torch\\hub\\ultralytics_yolov5_master\\models\\common.py:892: FutureWarning: `torch.cuda.amp.autocast(args...)` is deprecated. Please use `torch.amp.autocast('cuda', args...)` instead.\n",
      "  with amp.autocast(autocast):\n"
     ]
    },
    {
     "name": "stdout",
     "output_type": "stream",
     "text": [
      "Closest object distance: 8.3 meters\n",
      "Calculated velocity: 12.0 m/s\n",
      "Closest object distance: 8.4 meters\n",
      "Calculated velocity: 12.0 m/s\n"
     ]
    }
   ],
   "source": [
    "#Show lidar and camera outputs & print velocity control and object distance from radar outputs\n",
    "vis = o3d.visualization.Visualizer()\n",
    "vis.create_window(\n",
    "    window_name='Carla Lidar',\n",
    "    width=960,\n",
    "    height=540,\n",
    "    left=480,\n",
    "    top=270\n",
    ")\n",
    "vis.get_render_option().background_color = [0.05, 0.05, 0.05]\n",
    "vis.get_render_option().point_size = 1\n",
    "vis.get_render_option().show_coordinate_frame = True\n",
    "add_open3d_axis(vis)\n",
    "spectator = world.get_spectator()\n",
    "radar.listen(lambda data: radar_callback(data))\n",
    "while True:\n",
    "    # Accumulate points in combined point cloud\n",
    "    transform = carla.Transform(hero_vehicle.get_transform().transform(carla.Location(x=-4, z=2.5)), hero_vehicle.get_transform().rotation)\n",
    "    spectator.set_transform(transform)\n",
    "    vis.add_geometry(point_list)\n",
    "    vis.update_geometry(point_list)\n",
    "    vis.poll_events()\n",
    "    vis.update_renderer()\n",
    "    frame = camera_data['image']\n",
    "    frame = image_process(frame)\n",
    "    cv2.imshow('RGB Camera',frame)\n",
    "    if cv2.waitKey(1) == ord('q'):\n",
    "        break\n",
    "\n",
    "cv2.destroyAllWindows()\n",
    "camera.stop()\n",
    "camera.destroy()\n",
    "radar.stop()\n",
    "radar.destroy()\n",
    "lidar.stop()\n",
    "lidar.destroy()\n",
    "vis.destroy_window()"
   ]
  },
  {
   "cell_type": "code",
   "execution_count": 9,
   "metadata": {
    "scrolled": true
   },
   "outputs": [
    {
     "name": "stdout",
     "output_type": "stream",
     "text": [
      "Point Cloud before downsampling:  7516339\n",
      "Point Cloud after downsampling:  36041\n"
     ]
    }
   ],
   "source": [
    "# Combine all point clouds into a single large point cloud\n",
    "combined_point_cloud = o3d.geometry.PointCloud()\n",
    "for points in all_route_points:\n",
    "    pc = o3d.geometry.PointCloud()\n",
    "    pc.points = o3d.utility.Vector3dVector(points)\n",
    "    combined_point_cloud += pc\n",
    "    \n",
    "print(\"Point Cloud before downsampling: \",len(combined_point_cloud.points))\n",
    "downsampled_cloud  = combined_point_cloud.voxel_down_sample(voxel_size=0.2)\n",
    "downsampled_cloud = downsampled_cloud.uniform_down_sample(30)\n",
    "downsampled_cloud.estimate_normals(search_param=o3d.geometry.KDTreeSearchParamHybrid(radius=0.1, max_nn=30))\n",
    "cl, ind = downsampled_cloud.remove_statistical_outlier(nb_neighbors=30, std_ratio=1.2)\n",
    "cleaned_cloud = downsampled_cloud.select_by_index(ind)\n",
    "print(\"Point Cloud after downsampling: \",len(cleaned_cloud.points))"
   ]
  },
  {
   "cell_type": "code",
   "execution_count": 10,
   "metadata": {},
   "outputs": [],
   "source": [
    "#Remove all actors\n",
    "remove_all_vehicles(world)\n",
    "remove_all_pedestrians(world)"
   ]
  },
  {
   "cell_type": "code",
   "execution_count": null,
   "metadata": {},
   "outputs": [],
   "source": []
  }
 ],
 "metadata": {
  "kernelspec": {
   "display_name": "Python 3 (ipykernel)",
   "language": "python",
   "name": "python3"
  },
  "language_info": {
   "codemirror_mode": {
    "name": "ipython",
    "version": 3
   },
   "file_extension": ".py",
   "mimetype": "text/x-python",
   "name": "python",
   "nbconvert_exporter": "python",
   "pygments_lexer": "ipython3",
   "version": "3.8.10"
  }
 },
 "nbformat": 4,
 "nbformat_minor": 4
}
